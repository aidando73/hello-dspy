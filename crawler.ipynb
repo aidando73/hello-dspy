{
 "cells": [
  {
   "cell_type": "markdown",
   "metadata": {},
   "source": [
    "```\n",
    "# Install the package\n",
    "pip install -U crawl4ai\n",
    "\n",
    "# Run post-installation setup\n",
    "crawl4ai-setup\n",
    "\n",
    "# Verify your installation\n",
    "crawl4ai-doctor\n",
    "```"
   ]
  },
  {
   "cell_type": "code",
   "execution_count": 7,
   "metadata": {},
   "outputs": [
    {
     "name": "stdout",
     "output_type": "stream",
     "text": [
      "[INIT].... → Crawl4AI 0.5.0.post4\n",
      "[FETCH]... ↓ https://en.wikipedia.org/wiki/December_12... | Status: True | Time: 1.07s\n",
      "[SCRAPE].. ◆ https://en.wikipedia.org/wiki/December_12... | Time: 0.304s\n",
      "[COMPLETE] ● https://en.wikipedia.org/wiki/December_12... | Status: True | Total: 1.38s\n"
     ]
    },
    {
     "name": "stderr",
     "output_type": "stream",
     "text": [
      "/var/folders/nh/48v4vqk50bg3551rcbb00fz40000gn/T/ipykernel_53359/3100583411.py:11: PydanticDeprecatedSince20: The `json` method is deprecated; use `model_dump_json` instead. Deprecated in Pydantic V2.0 to be removed in V3.0. See Pydantic V2 Migration Guide at https://errors.pydantic.dev/2.10/migration/\n",
      "  f.write(result.json())\n"
     ]
    }
   ],
   "source": [
    "import asyncio\n",
    "from crawl4ai import *\n",
    "\n",
    "async def main():\n",
    "    async with AsyncWebCrawler() as crawler:\n",
    "        result = await crawler.arun(\n",
    "            url=\"https://en.wikipedia.org/wiki/December_12\",\n",
    "            question=\"Extract all events\"\n",
    "        )\n",
    "        with open('output.json', 'w') as f:\n",
    "            f.write(result.json())\n",
    "\n",
    "await main()"
   ]
  }
 ],
 "metadata": {
  "kernelspec": {
   "display_name": "Python 3",
   "language": "python",
   "name": "python3"
  },
  "language_info": {
   "codemirror_mode": {
    "name": "ipython",
    "version": 3
   },
   "file_extension": ".py",
   "mimetype": "text/x-python",
   "name": "python",
   "nbconvert_exporter": "python",
   "pygments_lexer": "ipython3",
   "version": "3.10.16"
  }
 },
 "nbformat": 4,
 "nbformat_minor": 2
}
