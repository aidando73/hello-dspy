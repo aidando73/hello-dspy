{
 "cells": [
  {
   "cell_type": "code",
   "execution_count": 1,
   "metadata": {},
   "outputs": [
    {
     "name": "stdout",
     "output_type": "stream",
     "text": [
      "{'status': 'success', 'data': {'reasoning': 'The capital of France is a well-known fact, often taught in geography classes. Paris is not only the capital but also the largest city in France, known for its rich history, culture, and landmarks such as the Eiffel Tower and the Louvre Museum.', 'answer': 'The capital of France is Paris.'}}\n"
     ]
    }
   ],
   "source": [
    "import requests\n",
    "\n",
    "response = requests.post(\n",
    "    \"http://127.0.0.1:8000/predict\",\n",
    "    json={\"text\": \"What is the capital of France?\"}\n",
    ")\n",
    "print(response.json())"
   ]
  },
  {
   "cell_type": "code",
   "execution_count": null,
   "metadata": {},
   "outputs": [],
   "source": []
  }
 ],
 "metadata": {
  "language_info": {
   "name": "python"
  }
 },
 "nbformat": 4,
 "nbformat_minor": 2
}
