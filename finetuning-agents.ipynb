{
 "cells": [
  {
   "cell_type": "code",
   "execution_count": 2,
   "metadata": {},
   "outputs": [
    {
     "data": {
      "text/plain": [
       "<Experiment: artifact_location='mlflow-artifacts:/729233177582918395', creation_time=1741925501903, experiment_id='729233177582918395', last_update_time=1741925501903, lifecycle_stage='active', name='DSPy', tags={}>"
      ]
     },
     "execution_count": 2,
     "metadata": {},
     "output_type": "execute_result"
    }
   ],
   "source": [
    "import mlflow\n",
    "\n",
    "mlflow.set_tracking_uri(\"http://localhost:5000\")\n",
    "mlflow.set_experiment(\"DSPy\")"
   ]
  },
  {
   "cell_type": "code",
   "execution_count": 3,
   "metadata": {},
   "outputs": [
    {
     "name": "stderr",
     "output_type": "stream",
     "text": [
      "/workspace/hello-dspy/env/lib/python3.10/site-packages/tqdm/auto.py:21: TqdmWarning: IProgress not found. Please update jupyter and ipywidgets. See https://ipywidgets.readthedocs.io/en/stable/user_install.html\n",
      "  from .autonotebook import tqdm as notebook_tqdm\n"
     ]
    }
   ],
   "source": [
    "mlflow.dspy.autolog()\n"
   ]
  },
  {
   "cell_type": "code",
   "execution_count": 4,
   "metadata": {},
   "outputs": [],
   "source": [
    "import dspy\n",
    "\n",
    "gpt4o_mini = dspy.LM('gpt-4o-mini-2024-07-18')\n",
    "gpt4o = dspy.LM('openai/gpt-4o')\n",
    "dspy.configure(experimental=True)"
   ]
  },
  {
   "cell_type": "code",
   "execution_count": 5,
   "metadata": {},
   "outputs": [
    {
     "data": {
      "text/plain": [
       "(200, 200)"
      ]
     },
     "execution_count": 5,
     "metadata": {},
     "output_type": "execute_result"
    }
   ],
   "source": [
    "from dspy.datasets.alfworld import AlfWorld\n",
    "\n",
    "alfworld = AlfWorld()\n",
    "trainset, devset = alfworld.trainset[:200], alfworld.devset[-200:]\n",
    "len(trainset), len(devset)"
   ]
  },
  {
   "cell_type": "code",
   "execution_count": 5,
   "metadata": {},
   "outputs": [
    {
     "name": "stderr",
     "output_type": "stream",
     "text": [
      "Process SpawnProcess-6:\n",
      "Traceback (most recent call last):\n",
      "  File \"/workspace/hello-dspy/env/lib/python3.10/site-packages/multiprocess/process.py\", line 314, in _bootstrap\n",
      "    self.run()\n",
      "  File \"/workspace/hello-dspy/env/lib/python3.10/site-packages/multiprocess/process.py\", line 108, in run\n",
      "    self._target(*self._args, **self._kwargs)\n",
      "  File \"/workspace/hello-dspy/env/lib/python3.10/site-packages/dspy/datasets/alfworld/alfworld.py\", line 24, in env_worker\n",
      "    with open(config_path) as f:\n",
      "FileNotFoundError: [Errno 2] No such file or directory: '/workspace/hello-dspy/env/lib/python3.10/site-packages/dspy/datasets/alfworld/base_config.yml'\n",
      "Process SpawnProcess-11:\n",
      "Traceback (most recent call last):\n",
      "  File \"/workspace/hello-dspy/env/lib/python3.10/site-packages/multiprocess/process.py\", line 314, in _bootstrap\n",
      "    self.run()\n",
      "  File \"/workspace/hello-dspy/env/lib/python3.10/site-packages/multiprocess/process.py\", line 108, in run\n",
      "    self._target(*self._args, **self._kwargs)\n",
      "  File \"/workspace/hello-dspy/env/lib/python3.10/site-packages/dspy/datasets/alfworld/alfworld.py\", line 24, in env_worker\n",
      "    with open(config_path) as f:\n",
      "FileNotFoundError: [Errno 2] No such file or directory: '/workspace/hello-dspy/env/lib/python3.10/site-packages/dspy/datasets/alfworld/base_config.yml'\n",
      "Process SpawnProcess-1:\n",
      "Traceback (most recent call last):\n",
      "  File \"/workspace/hello-dspy/env/lib/python3.10/site-packages/multiprocess/process.py\", line 314, in _bootstrap\n",
      "    self.run()\n",
      "  File \"/workspace/hello-dspy/env/lib/python3.10/site-packages/multiprocess/process.py\", line 108, in run\n",
      "    self._target(*self._args, **self._kwargs)\n",
      "  File \"/workspace/hello-dspy/env/lib/python3.10/site-packages/dspy/datasets/alfworld/alfworld.py\", line 24, in env_worker\n",
      "    with open(config_path) as f:\n",
      "FileNotFoundError: [Errno 2] No such file or directory: '/workspace/hello-dspy/env/lib/python3.10/site-packages/dspy/datasets/alfworld/base_config.yml'\n",
      "Process SpawnProcess-2:\n",
      "Traceback (most recent call last):\n",
      "  File \"/workspace/hello-dspy/env/lib/python3.10/site-packages/multiprocess/process.py\", line 314, in _bootstrap\n",
      "    self.run()\n",
      "  File \"/workspace/hello-dspy/env/lib/python3.10/site-packages/multiprocess/process.py\", line 108, in run\n",
      "    self._target(*self._args, **self._kwargs)\n",
      "  File \"/workspace/hello-dspy/env/lib/python3.10/site-packages/dspy/datasets/alfworld/alfworld.py\", line 24, in env_worker\n",
      "    with open(config_path) as f:\n",
      "FileNotFoundError: [Errno 2] No such file or directory: '/workspace/hello-dspy/env/lib/python3.10/site-packages/dspy/datasets/alfworld/base_config.yml'\n",
      "Process SpawnProcess-19:\n",
      "Traceback (most recent call last):\n",
      "  File \"/workspace/hello-dspy/env/lib/python3.10/site-packages/multiprocess/process.py\", line 314, in _bootstrap\n",
      "    self.run()\n",
      "  File \"/workspace/hello-dspy/env/lib/python3.10/site-packages/multiprocess/process.py\", line 108, in run\n",
      "    self._target(*self._args, **self._kwargs)\n",
      "  File \"/workspace/hello-dspy/env/lib/python3.10/site-packages/dspy/datasets/alfworld/alfworld.py\", line 24, in env_worker\n",
      "    with open(config_path) as f:\n",
      "FileNotFoundError: [Errno 2] No such file or directory: '/workspace/hello-dspy/env/lib/python3.10/site-packages/dspy/datasets/alfworld/base_config.yml'\n",
      "Process SpawnProcess-5:\n",
      "Traceback (most recent call last):\n",
      "  File \"/workspace/hello-dspy/env/lib/python3.10/site-packages/multiprocess/process.py\", line 314, in _bootstrap\n",
      "    self.run()\n",
      "  File \"/workspace/hello-dspy/env/lib/python3.10/site-packages/multiprocess/process.py\", line 108, in run\n",
      "    self._target(*self._args, **self._kwargs)\n",
      "  File \"/workspace/hello-dspy/env/lib/python3.10/site-packages/dspy/datasets/alfworld/alfworld.py\", line 24, in env_worker\n",
      "    with open(config_path) as f:\n",
      "FileNotFoundError: [Errno 2] No such file or directory: '/workspace/hello-dspy/env/lib/python3.10/site-packages/dspy/datasets/alfworld/base_config.yml'\n",
      "Process SpawnProcess-13:\n",
      "Traceback (most recent call last):\n",
      "  File \"/workspace/hello-dspy/env/lib/python3.10/site-packages/multiprocess/process.py\", line 314, in _bootstrap\n",
      "    self.run()\n",
      "  File \"/workspace/hello-dspy/env/lib/python3.10/site-packages/multiprocess/process.py\", line 108, in run\n",
      "    self._target(*self._args, **self._kwargs)\n",
      "  File \"/workspace/hello-dspy/env/lib/python3.10/site-packages/dspy/datasets/alfworld/alfworld.py\", line 24, in env_worker\n",
      "    with open(config_path) as f:\n",
      "FileNotFoundError: [Errno 2] No such file or directory: '/workspace/hello-dspy/env/lib/python3.10/site-packages/dspy/datasets/alfworld/base_config.yml'\n",
      "Process SpawnProcess-3:\n",
      "Traceback (most recent call last):\n",
      "  File \"/workspace/hello-dspy/env/lib/python3.10/site-packages/multiprocess/process.py\", line 314, in _bootstrap\n",
      "    self.run()\n",
      "  File \"/workspace/hello-dspy/env/lib/python3.10/site-packages/multiprocess/process.py\", line 108, in run\n",
      "    self._target(*self._args, **self._kwargs)\n",
      "  File \"/workspace/hello-dspy/env/lib/python3.10/site-packages/dspy/datasets/alfworld/alfworld.py\", line 24, in env_worker\n",
      "    with open(config_path) as f:\n",
      "FileNotFoundError: [Errno 2] No such file or directory: '/workspace/hello-dspy/env/lib/python3.10/site-packages/dspy/datasets/alfworld/base_config.yml'\n",
      "Process SpawnProcess-8:\n",
      "Traceback (most recent call last):\n",
      "  File \"/workspace/hello-dspy/env/lib/python3.10/site-packages/multiprocess/process.py\", line 314, in _bootstrap\n",
      "    self.run()\n",
      "  File \"/workspace/hello-dspy/env/lib/python3.10/site-packages/multiprocess/process.py\", line 108, in run\n",
      "    self._target(*self._args, **self._kwargs)\n",
      "  File \"/workspace/hello-dspy/env/lib/python3.10/site-packages/dspy/datasets/alfworld/alfworld.py\", line 24, in env_worker\n",
      "    with open(config_path) as f:\n",
      "FileNotFoundError: [Errno 2] No such file or directory: '/workspace/hello-dspy/env/lib/python3.10/site-packages/dspy/datasets/alfworld/base_config.yml'\n",
      "Process SpawnProcess-18:\n",
      "Traceback (most recent call last):\n",
      "  File \"/workspace/hello-dspy/env/lib/python3.10/site-packages/multiprocess/process.py\", line 314, in _bootstrap\n",
      "    self.run()\n",
      "  File \"/workspace/hello-dspy/env/lib/python3.10/site-packages/multiprocess/process.py\", line 108, in run\n",
      "    self._target(*self._args, **self._kwargs)\n",
      "  File \"/workspace/hello-dspy/env/lib/python3.10/site-packages/dspy/datasets/alfworld/alfworld.py\", line 24, in env_worker\n",
      "    with open(config_path) as f:\n",
      "FileNotFoundError: [Errno 2] No such file or directory: '/workspace/hello-dspy/env/lib/python3.10/site-packages/dspy/datasets/alfworld/base_config.yml'\n",
      "Process SpawnProcess-17:\n",
      "Traceback (most recent call last):\n",
      "  File \"/workspace/hello-dspy/env/lib/python3.10/site-packages/multiprocess/process.py\", line 314, in _bootstrap\n",
      "    self.run()\n",
      "  File \"/workspace/hello-dspy/env/lib/python3.10/site-packages/multiprocess/process.py\", line 108, in run\n",
      "    self._target(*self._args, **self._kwargs)\n",
      "  File \"/workspace/hello-dspy/env/lib/python3.10/site-packages/dspy/datasets/alfworld/alfworld.py\", line 24, in env_worker\n",
      "    with open(config_path) as f:\n",
      "FileNotFoundError: [Errno 2] No such file or directory: '/workspace/hello-dspy/env/lib/python3.10/site-packages/dspy/datasets/alfworld/base_config.yml'\n",
      "Process SpawnProcess-20:\n",
      "Traceback (most recent call last):\n",
      "  File \"/workspace/hello-dspy/env/lib/python3.10/site-packages/multiprocess/process.py\", line 314, in _bootstrap\n",
      "    self.run()\n",
      "  File \"/workspace/hello-dspy/env/lib/python3.10/site-packages/multiprocess/process.py\", line 108, in run\n",
      "    self._target(*self._args, **self._kwargs)\n",
      "  File \"/workspace/hello-dspy/env/lib/python3.10/site-packages/dspy/datasets/alfworld/alfworld.py\", line 24, in env_worker\n",
      "    with open(config_path) as f:\n",
      "FileNotFoundError: [Errno 2] No such file or directory: '/workspace/hello-dspy/env/lib/python3.10/site-packages/dspy/datasets/alfworld/base_config.yml'\n",
      "Process SpawnProcess-9:\n",
      "Traceback (most recent call last):\n",
      "  File \"/workspace/hello-dspy/env/lib/python3.10/site-packages/multiprocess/process.py\", line 314, in _bootstrap\n",
      "    self.run()\n",
      "  File \"/workspace/hello-dspy/env/lib/python3.10/site-packages/multiprocess/process.py\", line 108, in run\n",
      "    self._target(*self._args, **self._kwargs)\n",
      "  File \"/workspace/hello-dspy/env/lib/python3.10/site-packages/dspy/datasets/alfworld/alfworld.py\", line 24, in env_worker\n",
      "    with open(config_path) as f:\n",
      "FileNotFoundError: [Errno 2] No such file or directory: '/workspace/hello-dspy/env/lib/python3.10/site-packages/dspy/datasets/alfworld/base_config.yml'\n",
      "Process SpawnProcess-4:\n",
      "Traceback (most recent call last):\n",
      "  File \"/workspace/hello-dspy/env/lib/python3.10/site-packages/multiprocess/process.py\", line 314, in _bootstrap\n",
      "    self.run()\n",
      "  File \"/workspace/hello-dspy/env/lib/python3.10/site-packages/multiprocess/process.py\", line 108, in run\n",
      "    self._target(*self._args, **self._kwargs)\n",
      "  File \"/workspace/hello-dspy/env/lib/python3.10/site-packages/dspy/datasets/alfworld/alfworld.py\", line 24, in env_worker\n",
      "    with open(config_path) as f:\n",
      "FileNotFoundError: [Errno 2] No such file or directory: '/workspace/hello-dspy/env/lib/python3.10/site-packages/dspy/datasets/alfworld/base_config.yml'\n",
      "Process SpawnProcess-15:\n",
      "Traceback (most recent call last):\n",
      "  File \"/workspace/hello-dspy/env/lib/python3.10/site-packages/multiprocess/process.py\", line 314, in _bootstrap\n",
      "    self.run()\n",
      "  File \"/workspace/hello-dspy/env/lib/python3.10/site-packages/multiprocess/process.py\", line 108, in run\n",
      "    self._target(*self._args, **self._kwargs)\n",
      "  File \"/workspace/hello-dspy/env/lib/python3.10/site-packages/dspy/datasets/alfworld/alfworld.py\", line 24, in env_worker\n",
      "    with open(config_path) as f:\n",
      "FileNotFoundError: [Errno 2] No such file or directory: '/workspace/hello-dspy/env/lib/python3.10/site-packages/dspy/datasets/alfworld/base_config.yml'\n",
      "Process SpawnProcess-16:\n",
      "Traceback (most recent call last):\n",
      "  File \"/workspace/hello-dspy/env/lib/python3.10/site-packages/multiprocess/process.py\", line 314, in _bootstrap\n",
      "    self.run()\n",
      "  File \"/workspace/hello-dspy/env/lib/python3.10/site-packages/multiprocess/process.py\", line 108, in run\n",
      "    self._target(*self._args, **self._kwargs)\n",
      "  File \"/workspace/hello-dspy/env/lib/python3.10/site-packages/dspy/datasets/alfworld/alfworld.py\", line 24, in env_worker\n",
      "    with open(config_path) as f:\n",
      "FileNotFoundError: [Errno 2] No such file or directory: '/workspace/hello-dspy/env/lib/python3.10/site-packages/dspy/datasets/alfworld/base_config.yml'\n",
      "Process SpawnProcess-10:\n",
      "Traceback (most recent call last):\n",
      "  File \"/workspace/hello-dspy/env/lib/python3.10/site-packages/multiprocess/process.py\", line 314, in _bootstrap\n",
      "    self.run()\n",
      "  File \"/workspace/hello-dspy/env/lib/python3.10/site-packages/multiprocess/process.py\", line 108, in run\n",
      "    self._target(*self._args, **self._kwargs)\n",
      "  File \"/workspace/hello-dspy/env/lib/python3.10/site-packages/dspy/datasets/alfworld/alfworld.py\", line 24, in env_worker\n",
      "    with open(config_path) as f:\n",
      "FileNotFoundError: [Errno 2] No such file or directory: '/workspace/hello-dspy/env/lib/python3.10/site-packages/dspy/datasets/alfworld/base_config.yml'\n",
      "Process SpawnProcess-14:\n",
      "Traceback (most recent call last):\n",
      "  File \"/workspace/hello-dspy/env/lib/python3.10/site-packages/multiprocess/process.py\", line 314, in _bootstrap\n",
      "    self.run()\n",
      "  File \"/workspace/hello-dspy/env/lib/python3.10/site-packages/multiprocess/process.py\", line 108, in run\n",
      "    self._target(*self._args, **self._kwargs)\n",
      "  File \"/workspace/hello-dspy/env/lib/python3.10/site-packages/dspy/datasets/alfworld/alfworld.py\", line 24, in env_worker\n",
      "    with open(config_path) as f:\n",
      "FileNotFoundError: [Errno 2] No such file or directory: '/workspace/hello-dspy/env/lib/python3.10/site-packages/dspy/datasets/alfworld/base_config.yml'\n",
      "Process SpawnProcess-7:\n",
      "Traceback (most recent call last):\n",
      "  File \"/workspace/hello-dspy/env/lib/python3.10/site-packages/multiprocess/process.py\", line 314, in _bootstrap\n",
      "    self.run()\n",
      "  File \"/workspace/hello-dspy/env/lib/python3.10/site-packages/multiprocess/process.py\", line 108, in run\n",
      "    self._target(*self._args, **self._kwargs)\n",
      "  File \"/workspace/hello-dspy/env/lib/python3.10/site-packages/dspy/datasets/alfworld/alfworld.py\", line 24, in env_worker\n",
      "    with open(config_path) as f:\n",
      "FileNotFoundError: [Errno 2] No such file or directory: '/workspace/hello-dspy/env/lib/python3.10/site-packages/dspy/datasets/alfworld/base_config.yml'\n",
      "Process SpawnProcess-12:\n",
      "Traceback (most recent call last):\n",
      "  File \"/workspace/hello-dspy/env/lib/python3.10/site-packages/multiprocess/process.py\", line 314, in _bootstrap\n",
      "    self.run()\n",
      "  File \"/workspace/hello-dspy/env/lib/python3.10/site-packages/multiprocess/process.py\", line 108, in run\n",
      "    self._target(*self._args, **self._kwargs)\n",
      "  File \"/workspace/hello-dspy/env/lib/python3.10/site-packages/dspy/datasets/alfworld/alfworld.py\", line 24, in env_worker\n",
      "    with open(config_path) as f:\n",
      "FileNotFoundError: [Errno 2] No such file or directory: '/workspace/hello-dspy/env/lib/python3.10/site-packages/dspy/datasets/alfworld/base_config.yml'\n"
     ]
    },
    {
     "ename": "KeyboardInterrupt",
     "evalue": "",
     "output_type": "error",
     "traceback": [
      "\u001b[0;31m---------------------------------------------------------------------------\u001b[0m",
      "\u001b[0;31mKeyboardInterrupt\u001b[0m                         Traceback (most recent call last)",
      "\u001b[1;32m/workspace/hello-dspy/finetuning-agents.ipynb Cell 5\u001b[0m line \u001b[0;36m4\n\u001b[1;32m      <a href='vscode-notebook-cell://ssh-remote%2B38.80.152.248/workspace/hello-dspy/finetuning-agents.ipynb#W4sdnNjb2RlLXJlbW90ZQ%3D%3D?line=0'>1</a>\u001b[0m example \u001b[39m=\u001b[39m trainset[\u001b[39m0\u001b[39m]\n\u001b[1;32m      <a href='vscode-notebook-cell://ssh-remote%2B38.80.152.248/workspace/hello-dspy/finetuning-agents.ipynb#W4sdnNjb2RlLXJlbW90ZQ%3D%3D?line=2'>3</a>\u001b[0m \u001b[39mwith\u001b[39;00m alfworld\u001b[39m.\u001b[39mPOOL\u001b[39m.\u001b[39msession() \u001b[39mas\u001b[39;00m env:\n\u001b[0;32m----> <a href='vscode-notebook-cell://ssh-remote%2B38.80.152.248/workspace/hello-dspy/finetuning-agents.ipynb#W4sdnNjb2RlLXJlbW90ZQ%3D%3D?line=3'>4</a>\u001b[0m     task, info \u001b[39m=\u001b[39m env\u001b[39m.\u001b[39;49minit(\u001b[39m*\u001b[39;49m\u001b[39m*\u001b[39;49mexample\u001b[39m.\u001b[39;49minputs())\n\u001b[1;32m      <a href='vscode-notebook-cell://ssh-remote%2B38.80.152.248/workspace/hello-dspy/finetuning-agents.ipynb#W4sdnNjb2RlLXJlbW90ZQ%3D%3D?line=5'>6</a>\u001b[0m \u001b[39mprint\u001b[39m(task)\n",
      "File \u001b[0;32m/workspace/hello-dspy/env/lib/python3.10/site-packages/dspy/datasets/alfworld/alfworld.py:127\u001b[0m, in \u001b[0;36m_EnvSession.init\u001b[0;34m(self, idx)\u001b[0m\n\u001b[1;32m    125\u001b[0m \u001b[39mdef\u001b[39;00m\u001b[39m \u001b[39m\u001b[39minit\u001b[39m(\u001b[39mself\u001b[39m, idx):\n\u001b[1;32m    126\u001b[0m     \u001b[39mself\u001b[39m\u001b[39m.\u001b[39minq\u001b[39m.\u001b[39mput((\u001b[39m'\u001b[39m\u001b[39minit\u001b[39m\u001b[39m'\u001b[39m, idx))\n\u001b[0;32m--> 127\u001b[0m     \u001b[39mreturn\u001b[39;00m \u001b[39mself\u001b[39;49m\u001b[39m.\u001b[39;49moutq\u001b[39m.\u001b[39;49mget()\n",
      "File \u001b[0;32m/workspace/hello-dspy/env/lib/python3.10/site-packages/multiprocess/queues.py:106\u001b[0m, in \u001b[0;36mQueue.get\u001b[0;34m(self, block, timeout)\u001b[0m\n\u001b[1;32m    104\u001b[0m \u001b[39mif\u001b[39;00m block \u001b[39mand\u001b[39;00m timeout \u001b[39mis\u001b[39;00m \u001b[39mNone\u001b[39;00m:\n\u001b[1;32m    105\u001b[0m     \u001b[39mwith\u001b[39;00m \u001b[39mself\u001b[39m\u001b[39m.\u001b[39m_rlock:\n\u001b[0;32m--> 106\u001b[0m         res \u001b[39m=\u001b[39m \u001b[39mself\u001b[39;49m\u001b[39m.\u001b[39;49m_recv_bytes()\n\u001b[1;32m    107\u001b[0m     \u001b[39mself\u001b[39m\u001b[39m.\u001b[39m_sem\u001b[39m.\u001b[39mrelease()\n\u001b[1;32m    108\u001b[0m \u001b[39melse\u001b[39;00m:\n",
      "File \u001b[0;32m/workspace/hello-dspy/env/lib/python3.10/site-packages/multiprocess/connection.py:219\u001b[0m, in \u001b[0;36m_ConnectionBase.recv_bytes\u001b[0;34m(self, maxlength)\u001b[0m\n\u001b[1;32m    217\u001b[0m \u001b[39mif\u001b[39;00m maxlength \u001b[39mis\u001b[39;00m \u001b[39mnot\u001b[39;00m \u001b[39mNone\u001b[39;00m \u001b[39mand\u001b[39;00m maxlength \u001b[39m<\u001b[39m \u001b[39m0\u001b[39m:\n\u001b[1;32m    218\u001b[0m     \u001b[39mraise\u001b[39;00m \u001b[39mValueError\u001b[39;00m(\u001b[39m\"\u001b[39m\u001b[39mnegative maxlength\u001b[39m\u001b[39m\"\u001b[39m)\n\u001b[0;32m--> 219\u001b[0m buf \u001b[39m=\u001b[39m \u001b[39mself\u001b[39;49m\u001b[39m.\u001b[39;49m_recv_bytes(maxlength)\n\u001b[1;32m    220\u001b[0m \u001b[39mif\u001b[39;00m buf \u001b[39mis\u001b[39;00m \u001b[39mNone\u001b[39;00m:\n\u001b[1;32m    221\u001b[0m     \u001b[39mself\u001b[39m\u001b[39m.\u001b[39m_bad_message_length()\n",
      "File \u001b[0;32m/workspace/hello-dspy/env/lib/python3.10/site-packages/multiprocess/connection.py:417\u001b[0m, in \u001b[0;36mConnection._recv_bytes\u001b[0;34m(self, maxsize)\u001b[0m\n\u001b[1;32m    416\u001b[0m \u001b[39mdef\u001b[39;00m\u001b[39m \u001b[39m\u001b[39m_recv_bytes\u001b[39m(\u001b[39mself\u001b[39m, maxsize\u001b[39m=\u001b[39m\u001b[39mNone\u001b[39;00m):\n\u001b[0;32m--> 417\u001b[0m     buf \u001b[39m=\u001b[39m \u001b[39mself\u001b[39;49m\u001b[39m.\u001b[39;49m_recv(\u001b[39m4\u001b[39;49m)\n\u001b[1;32m    418\u001b[0m     size, \u001b[39m=\u001b[39m struct\u001b[39m.\u001b[39munpack(\u001b[39m\"\u001b[39m\u001b[39m!i\u001b[39m\u001b[39m\"\u001b[39m, buf\u001b[39m.\u001b[39mgetvalue())\n\u001b[1;32m    419\u001b[0m     \u001b[39mif\u001b[39;00m size \u001b[39m==\u001b[39m \u001b[39m-\u001b[39m\u001b[39m1\u001b[39m:\n",
      "File \u001b[0;32m/workspace/hello-dspy/env/lib/python3.10/site-packages/multiprocess/connection.py:382\u001b[0m, in \u001b[0;36mConnection._recv\u001b[0;34m(self, size, read)\u001b[0m\n\u001b[1;32m    380\u001b[0m remaining \u001b[39m=\u001b[39m size\n\u001b[1;32m    381\u001b[0m \u001b[39mwhile\u001b[39;00m remaining \u001b[39m>\u001b[39m \u001b[39m0\u001b[39m:\n\u001b[0;32m--> 382\u001b[0m     chunk \u001b[39m=\u001b[39m read(handle, remaining)\n\u001b[1;32m    383\u001b[0m     n \u001b[39m=\u001b[39m \u001b[39mlen\u001b[39m(chunk)\n\u001b[1;32m    384\u001b[0m     \u001b[39mif\u001b[39;00m n \u001b[39m==\u001b[39m \u001b[39m0\u001b[39m:\n",
      "\u001b[0;31mKeyboardInterrupt\u001b[0m: "
     ]
    }
   ],
   "source": [
    "example = trainset[0]\n",
    "\n",
    "with alfworld.POOL.session() as env:\n",
    "    task, info = env.init(**example.inputs())\n",
    "\n",
    "print(task)"
   ]
  }
 ],
 "metadata": {
  "language_info": {
   "name": "python"
  }
 },
 "nbformat": 4,
 "nbformat_minor": 2
}
