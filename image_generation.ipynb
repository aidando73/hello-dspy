{
 "cells": [
  {
   "cell_type": "code",
   "execution_count": 5,
   "metadata": {},
   "outputs": [],
   "source": [
    "import dspy\n",
    "\n",
    "from PIL import Image\n",
    "from io import BytesIO\n",
    "import requests\n",
    "import fal_client\n",
    "\n",
    "from dotenv import load_dotenv\n",
    "load_dotenv()\n",
    "\n",
    "# import display\n",
    "from IPython.display import display\n",
    "\n",
    "lm = dspy.LM(model=\"gpt-4o-mini\", temperature=0.5)\n",
    "dspy.settings.configure(lm=lm)"
   ]
  },
  {
   "cell_type": "code",
   "execution_count": 2,
   "metadata": {},
   "outputs": [],
   "source": [
    "def generate_image(prompt):\n",
    "\n",
    "    request_id = fal_client.submit(\n",
    "        \"fal-ai/flux-pro/v1.1-ultra\",\n",
    "        arguments={\n",
    "            \"prompt\": prompt\n",
    "        },\n",
    "    ).request_id\n",
    "\n",
    "    result = fal_client.result(\"fal-ai/flux-pro/v1.1-ultra\", request_id)\n",
    "    url = result[\"images\"][0][\"url\"]\n",
    "\n",
    "    return dspy.Image.from_url(url)\n",
    "\n",
    "def display_image(image):\n",
    "    url = image.url\n",
    "    # download the image\n",
    "    response = requests.get(url)\n",
    "    image = Image.open(BytesIO(response.content))\n",
    "\n",
    "    # display at 25% of original size\n",
    "    display(image.resize((image.width // 4, image.height // 4)))"
   ]
  },
  {
   "cell_type": "code",
   "execution_count": null,
   "metadata": {},
   "outputs": [
    {
     "name": "stdout",
     "output_type": "stream",
     "text": [
      "Iteration 1 of 5\n"
     ]
    }
   ],
   "source": [
    "check_and_revise_prompt = dspy.Predict(\"desired_prompt: str, current_image: dspy.Image, current_prompt:str -> feedback:str, image_strictly_matches_desired_prompt: bool, revised_prompt: str\")\n",
    "\n",
    "initial_prompt = \"A scene that's both peaceful and tense\"\n",
    "current_prompt = initial_prompt\n",
    "\n",
    "max_iter = 5\n",
    "for i in range(max_iter):\n",
    "    print(f\"Iteration {i+1} of {max_iter}\")\n",
    "    current_image = generate_image(current_prompt)\n",
    "    result = check_and_revise_prompt(desired_prompt=initial_prompt, current_image=current_image, current_prompt=current_prompt)\n",
    "    display_image(current_image)\n",
    "    if result.image_strictly_matches_desired_prompt:\n",
    "        break\n",
    "    else:\n",
    "        current_prompt = result.revised_prompt\n",
    "        print(f\"Feedback: {result.feedback}\")\n",
    "        print(f\"Revised prompt: {result.revised_prompt}\")\n",
    "\n",
    "print(f\"Final prompt: {current_prompt}\")"
   ]
  }
 ],
 "metadata": {
  "language_info": {
   "name": "python"
  }
 },
 "nbformat": 4,
 "nbformat_minor": 2
}
