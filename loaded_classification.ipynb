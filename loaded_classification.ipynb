{
 "cells": [
  {
   "cell_type": "code",
   "execution_count": 10,
   "metadata": {},
   "outputs": [
    {
     "data": {
      "text/plain": [
       "'Wars and Conflicts'"
      ]
     },
     "execution_count": 10,
     "metadata": {},
     "output_type": "execute_result"
    }
   ],
   "source": [
    "import dspy\n",
    "from typing import Literal\n",
    "\n",
    "lm = dspy.LM('ollama_chat/llama3.2:1b', api_base='http://localhost:11434')\n",
    "dspy.configure(lm=lm)\n",
    "\n",
    "class Categorize(dspy.Signature):\n",
    "    \"\"\"Classify historic events.\"\"\"\n",
    "\n",
    "    event: str = dspy.InputField()\n",
    "    category: Literal[\n",
    "        \"Wars and Conflicts\",\n",
    "        \"Politics and Governance\",\n",
    "        \"Science and Innovation\",\n",
    "        \"Cultural and Artistic Movements\",\n",
    "        \"Exploration and Discovery\",\n",
    "        \"Economic Events\",\n",
    "        \"Social Movements\",\n",
    "        \"Man-Made Disasters and Accidents\",\n",
    "        \"Natural Disasters and Climate\",\n",
    "        \"Sports and Entertainment\",\n",
    "        \"Famous Personalities and Achievements\"\n",
    "    ] = dspy.OutputField()\n",
    "    confidence: float = dspy.OutputField()\n",
    "\n",
    "loaded_classify = dspy.Predict(Categorize)\n",
    "\n",
    "loaded_classify.load(\"optimized_classify_31_1b.json\")\n",
    "\n",
    "event = \"Indian Grandmaster Gukesh Dommaraju became the undisputed World Chess Champion in a tournament held in Singapore, making him the 18th and the youngest champion in chess history.[33]\"\n",
    "\n",
    "loaded_classify(event=event).category"
   ]
  }
 ],
 "metadata": {
  "kernelspec": {
   "display_name": "Python 3",
   "language": "python",
   "name": "python3"
  },
  "language_info": {
   "codemirror_mode": {
    "name": "ipython",
    "version": 3
   },
   "file_extension": ".py",
   "mimetype": "text/x-python",
   "name": "python",
   "nbconvert_exporter": "python",
   "pygments_lexer": "ipython3",
   "version": "3.10.16"
  }
 },
 "nbformat": 4,
 "nbformat_minor": 2
}
