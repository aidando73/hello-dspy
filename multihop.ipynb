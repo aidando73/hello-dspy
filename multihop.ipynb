{
 "cells": [
  {
   "cell_type": "code",
   "execution_count": 1,
   "metadata": {},
   "outputs": [
    {
     "data": {
      "text/plain": [
       "<Experiment: artifact_location='mlflow-artifacts:/374362034103955121', creation_time=1741686562632, experiment_id='374362034103955121', last_update_time=1741686562632, lifecycle_stage='active', name='DSPy', tags={}>"
      ]
     },
     "execution_count": 1,
     "metadata": {},
     "output_type": "execute_result"
    }
   ],
   "source": [
    "import mlflow\n",
    "\n",
    "mlflow.set_tracking_uri(\"http://localhost:5000\")\n",
    "mlflow.set_experiment(\"DSPy\")"
   ]
  },
  {
   "cell_type": "code",
   "execution_count": 2,
   "metadata": {},
   "outputs": [
    {
     "name": "stderr",
     "output_type": "stream",
     "text": [
      "/Users/aidand/dev/hello-dspy/env/lib/python3.10/site-packages/tqdm/auto.py:21: TqdmWarning: IProgress not found. Please update jupyter and ipywidgets. See https://ipywidgets.readthedocs.io/en/stable/user_install.html\n",
      "  from .autonotebook import tqdm as notebook_tqdm\n"
     ]
    }
   ],
   "source": [
    "mlflow.dspy.autolog()"
   ]
  },
  {
   "cell_type": "code",
   "execution_count": 3,
   "metadata": {},
   "outputs": [],
   "source": [
    "import dspy\n",
    "\n",
    "lm = dspy.LM('fireworks_ai/accounts/fireworks/models/llama-v3p1-8b-instruct', max_tokens=3000)\n",
    "gpt4o = dspy.LM('openai/gpt-4o', max_tokens=3000)\n",
    "\n",
    "dspy.configure(lm=lm)"
   ]
  },
  {
   "cell_type": "code",
   "execution_count": null,
   "metadata": {},
   "outputs": [],
   "source": [
    "%pip install -U bm25s PyStemmer \"jax[cpu]\""
   ]
  },
  {
   "cell_type": "code",
   "execution_count": 2,
   "metadata": {},
   "outputs": [
    {
     "name": "stdout",
     "output_type": "stream",
     "text": [
      "Downloading 'wiki.abstracts.2017.tar.gz'...\n",
      "x wiki.abstracts.2017.jsonl\n"
     ]
    }
   ],
   "source": [
    "from dspy.utils import download\n",
    "\n",
    "download(\"https://huggingface.co/dspy/cache/resolve/main/wiki.abstracts.2017.tar.gz\")\n",
    "!tar -xzvf wiki.abstracts.2017.tar.gz"
   ]
  },
  {
   "cell_type": "code",
   "execution_count": 4,
   "metadata": {},
   "outputs": [
    {
     "data": {
      "text/plain": [
       "5233330"
      ]
     },
     "execution_count": 4,
     "metadata": {},
     "output_type": "execute_result"
    }
   ],
   "source": [
    "import ujson\n",
    "corpus = []\n",
    "\n",
    "with open(\"wiki.abstracts.2017.jsonl\") as f:\n",
    "    for line in f:\n",
    "        line = ujson.loads(line)\n",
    "        corpus.append(f\"{line['title']} | {' '.join(line['text'])}\")\n",
    "\n",
    "len(corpus)"
   ]
  },
  {
   "cell_type": "code",
   "execution_count": 5,
   "metadata": {},
   "outputs": [
    {
     "name": "stderr",
     "output_type": "stream",
     "text": [
      "                                                                                   \r"
     ]
    }
   ],
   "source": [
    "import bm25s\n",
    "import Stemmer\n",
    "\n",
    "stemmer = Stemmer.Stemmer(\"english\")\n",
    "corpus_tokens = bm25s.tokenize(corpus, stopwords=\"en\", stemmer=stemmer)\n",
    "\n",
    "retriever = bm25s.BM25(k1=0.9, b=0.4)\n",
    "retriever.index(corpus_tokens)"
   ]
  },
  {
   "cell_type": "code",
   "execution_count": 6,
   "metadata": {},
   "outputs": [],
   "source": [
    "import random\n",
    "from dspy.datasets import DataLoader\n",
    "\n",
    "kwargs = dict(fields=(\"claim\", \"supporting_facts\", \"hpqa_id\", \"num_hops\"), input_keys=(\"claim\",))\n",
    "hover = DataLoader().from_huggingface(dataset_name=\"hover-nlp/hover\", split=\"train\", trust_remote_code=True, **kwargs)\n",
    "\n",
    "hpqa_ids = set()\n",
    "hover = [\n",
    "    dspy.Example(claim=x.claim, titles=list(set([y[\"key\"] for y in x.supporting_facts]))).with_inputs(\"claim\")\n",
    "    for x in hover\n",
    "    if x[\"num_hops\"] == 3 and x[\"hpqa_id\"] not in hpqa_ids and not hpqa_ids.add(x[\"hpqa_id\"])\n",
    "]\n",
    "\n",
    "random.Random(0).shuffle(hover)\n",
    "trainset, devset, testset = hover[:200], hover[200:500], hover[650:]"
   ]
  },
  {
   "cell_type": "code",
   "execution_count": 7,
   "metadata": {},
   "outputs": [
    {
     "name": "stdout",
     "output_type": "stream",
     "text": [
      "Claim: This director is known for his work on Miss Potter. The Academy of Motion Picture Arts and Sciences presents the award in which he was nominated for his work in \"Babe\".\n",
      "Pages that must be retrieved: ['Chris Noonan', 'Academy Award for Best Director', 'Miss Potter']\n"
     ]
    }
   ],
   "source": [
    "example = trainset[0]\n",
    "\n",
    "print(\"Claim:\", example.claim)\n",
    "print(\"Pages that must be retrieved:\", example.titles)"
   ]
  },
  {
   "cell_type": "code",
   "execution_count": 8,
   "metadata": {},
   "outputs": [],
   "source": [
    "def search(query: str, k: int) -> list[str]:\n",
    "    tokens = bm25s.tokenize(query, stopwords=\"en\", stemmer=stemmer, show_progress=False)\n",
    "    results, scores = retriever.retrieve(tokens, k=k, n_threads=1, show_progress=False)\n",
    "    run = {corpus[doc]: float(score) for doc, score in zip(results[0], scores[0])}\n",
    "    return run"
   ]
  },
  {
   "cell_type": "code",
   "execution_count": 9,
   "metadata": {},
   "outputs": [],
   "source": [
    "class Hop(dspy.Module):\n",
    "    def __init__(self, num_docs=10, num_hops=4):\n",
    "        self.num_docs, self.num_hops = num_docs, num_hops\n",
    "        self.generate_query = dspy.ChainOfThought('claim, notes -> query')\n",
    "        self.append_notes = dspy.ChainOfThought('claim, notes, context -> new_notes: list[str], titles: list[str]')\n",
    "\n",
    "    def forward(self, claim: str) -> list[str]:\n",
    "        notes = []\n",
    "        titles = []\n",
    "\n",
    "        for _ in range(self.num_hops):\n",
    "            query = self.generate_query(claim=claim, notes=notes).query\n",
    "            context = search(query, k=self.num_docs)\n",
    "            prediction = self.append_notes(claim=claim, notes=notes, context=context)\n",
    "            notes.extend(prediction.new_notes)\n",
    "            titles.extend(prediction.titles)\n",
    "        \n",
    "        return dspy.Prediction(notes=notes, titles=list(set(titles)))"
   ]
  },
  {
   "cell_type": "code",
   "execution_count": 10,
   "metadata": {},
   "outputs": [],
   "source": [
    "def top5_recall(example, pred, trace=None):\n",
    "    gold_titles = example.titles\n",
    "    recall = sum(x in pred.titles[:5] for x in gold_titles) / len(gold_titles)\n",
    "\n",
    "    # If we're \"bootstrapping\" for optimization, return True if and only if the recall is perfect.\n",
    "    if trace is not None:\n",
    "        return recall >= 1.0\n",
    "    \n",
    "    # If we're just doing inference, just measure the recall.\n",
    "    return recall\n",
    "\n",
    "evaluate = dspy.Evaluate(devset=devset, metric=top5_recall, num_threads=16, display_progress=True, display_table=5)"
   ]
  },
  {
   "cell_type": "code",
   "execution_count": 11,
   "metadata": {},
   "outputs": [
    {
     "name": "stdout",
     "output_type": "stream",
     "text": [
      "Average Metric: 16.67 / 71 (23.5%):  23%|██▎       | 70/300 [02:13<09:15,  2.42s/it]"
     ]
    },
    {
     "name": "stderr",
     "output_type": "stream",
     "text": [
      "2025/03/13 20:04:48 ERROR dspy.utils.parallelizer: Error for Example({'claim': 'The band that collaborated with Neva Dinova on the album \"One Jug of Wine, Two Vessels\", and Disturbed are both rock bands from America.', 'titles': ['Bright Eyes (band)', 'Disturbed (band)', 'One Jug of Wine, Two Vessels']}) (input_keys={'claim'}): Expected dict_keys(['reasoning', 'new_notes', 'titles']) but got dict_keys(['reasoning', 'new_notes']). Set `provide_traceback=True` for traceback.\n"
     ]
    },
    {
     "name": "stdout",
     "output_type": "stream",
     "text": [
      "Average Metric: 82.33 / 299 (27.5%): 100%|██████████| 300/300 [08:32<00:00,  1.71s/it]"
     ]
    },
    {
     "name": "stderr",
     "output_type": "stream",
     "text": [
      "2025/03/13 20:11:05 INFO dspy.evaluate.evaluate: Average Metric: 82.33333333333334 / 300 (27.4%)\n"
     ]
    },
    {
     "name": "stdout",
     "output_type": "stream",
     "text": [
      "\n"
     ]
    },
    {
     "data": {
      "text/html": [
       "<div>\n",
       "<style scoped>\n",
       "    .dataframe tbody tr th:only-of-type {\n",
       "        vertical-align: middle;\n",
       "    }\n",
       "\n",
       "    .dataframe tbody tr th {\n",
       "        vertical-align: top;\n",
       "    }\n",
       "\n",
       "    .dataframe thead th {\n",
       "        text-align: right;\n",
       "    }\n",
       "</style>\n",
       "<table border=\"1\" class=\"dataframe\">\n",
       "  <thead>\n",
       "    <tr style=\"text-align: right;\">\n",
       "      <th></th>\n",
       "      <th>claim</th>\n",
       "      <th>example_titles</th>\n",
       "      <th>notes</th>\n",
       "      <th>pred_titles</th>\n",
       "      <th>top5_recall</th>\n",
       "      <th>titles</th>\n",
       "    </tr>\n",
       "  </thead>\n",
       "  <tbody>\n",
       "    <tr>\n",
       "      <th>0</th>\n",
       "      <td>Nike football team has had a player endorse the football boot Nike...</td>\n",
       "      <td>[Nike Total 90, Marcus Rashford, Nike Hypervenom]</td>\n",
       "      <td>['The Nike Total 90 range has now been replaced with Nike Hyperven...</td>\n",
       "      <td>['2011 AFC Cup | The 2011 AFC Cup was the 8th edition of the AFC C...</td>\n",
       "      <td>✔️ [0.333]</td>\n",
       "      <td>NaN</td>\n",
       "    </tr>\n",
       "    <tr>\n",
       "      <th>1</th>\n",
       "      <td>Bill Boyd is the chairman of the appliance company that operates t...</td>\n",
       "      <td>[Suncoast Hotel and Casino, Thomas Eje, Boyd Gaming]</td>\n",
       "      <td>['The claim does not match any of the context information provided...</td>\n",
       "      <td>['Portrait of an Unknown Woman', 'The Unknown Warrior', 'Frederick...</td>\n",
       "      <td></td>\n",
       "      <td>NaN</td>\n",
       "    </tr>\n",
       "    <tr>\n",
       "      <th>2</th>\n",
       "      <td>The president of South Korea was born 24 January 1953. The group t...</td>\n",
       "      <td>[Moon Jae-in, Euh Yoon-dae, Presidential Council on Nation Brandin...</td>\n",
       "      <td>['The president of South Korea was born in 1924, not 1953.', 'The ...</td>\n",
       "      <td>['Euh Yoon-Dae', '2000 inter-Korean summit', 'President of South K...</td>\n",
       "      <td></td>\n",
       "      <td>NaN</td>\n",
       "    </tr>\n",
       "    <tr>\n",
       "      <th>3</th>\n",
       "      <td>The movie Khan Kluay was released 2 months before the 2009 movie t...</td>\n",
       "      <td>[Fantastic Mr. Fox (film), Khan Kluay, Jason Schwartzman]</td>\n",
       "      <td>['The movie Khan Kluay was released in 2006', 'Jason Schwartzman c...</td>\n",
       "      <td>['Fantastic Mr Fox (opera)', 'Khan Kluay', 'List of Khan Kluay cha...</td>\n",
       "      <td>✔️ [0.333]</td>\n",
       "      <td>NaN</td>\n",
       "    </tr>\n",
       "    <tr>\n",
       "      <th>4</th>\n",
       "      <td>The director of Finding Dory co-directed the film A Bug's Life.</td>\n",
       "      <td>[Andrew Stanton, Finding Dory, A Bug's Life]</td>\n",
       "      <td>['The director of Finding Dory is Andrew Stanton.', \"Andrew Stanto...</td>\n",
       "      <td>[Finding Dory, Co-director of A Bug's Life, Incorrect Claim, Andre...</td>\n",
       "      <td>✔️ [0.667]</td>\n",
       "      <td>NaN</td>\n",
       "    </tr>\n",
       "  </tbody>\n",
       "</table>\n",
       "</div>"
      ],
      "text/plain": [
       "                                                                   claim  \\\n",
       "0  Nike football team has had a player endorse the football boot Nike...   \n",
       "1  Bill Boyd is the chairman of the appliance company that operates t...   \n",
       "2  The president of South Korea was born 24 January 1953. The group t...   \n",
       "3  The movie Khan Kluay was released 2 months before the 2009 movie t...   \n",
       "4        The director of Finding Dory co-directed the film A Bug's Life.   \n",
       "\n",
       "                                                          example_titles  \\\n",
       "0                      [Nike Total 90, Marcus Rashford, Nike Hypervenom]   \n",
       "1                   [Suncoast Hotel and Casino, Thomas Eje, Boyd Gaming]   \n",
       "2  [Moon Jae-in, Euh Yoon-dae, Presidential Council on Nation Brandin...   \n",
       "3              [Fantastic Mr. Fox (film), Khan Kluay, Jason Schwartzman]   \n",
       "4                           [Andrew Stanton, Finding Dory, A Bug's Life]   \n",
       "\n",
       "                                                                   notes  \\\n",
       "0  ['The Nike Total 90 range has now been replaced with Nike Hyperven...   \n",
       "1  ['The claim does not match any of the context information provided...   \n",
       "2  ['The president of South Korea was born in 1924, not 1953.', 'The ...   \n",
       "3  ['The movie Khan Kluay was released in 2006', 'Jason Schwartzman c...   \n",
       "4  ['The director of Finding Dory is Andrew Stanton.', \"Andrew Stanto...   \n",
       "\n",
       "                                                             pred_titles  \\\n",
       "0  ['2011 AFC Cup | The 2011 AFC Cup was the 8th edition of the AFC C...   \n",
       "1  ['Portrait of an Unknown Woman', 'The Unknown Warrior', 'Frederick...   \n",
       "2  ['Euh Yoon-Dae', '2000 inter-Korean summit', 'President of South K...   \n",
       "3  ['Fantastic Mr Fox (opera)', 'Khan Kluay', 'List of Khan Kluay cha...   \n",
       "4  [Finding Dory, Co-director of A Bug's Life, Incorrect Claim, Andre...   \n",
       "\n",
       "  top5_recall titles  \n",
       "0  ✔️ [0.333]    NaN  \n",
       "1                NaN  \n",
       "2                NaN  \n",
       "3  ✔️ [0.333]    NaN  \n",
       "4  ✔️ [0.667]    NaN  "
      ]
     },
     "metadata": {},
     "output_type": "display_data"
    },
    {
     "data": {
      "text/html": [
       "\n",
       "                <div style='\n",
       "                    text-align: center;\n",
       "                    font-size: 16px;\n",
       "                    font-weight: bold;\n",
       "                    color: #555;\n",
       "                    margin: 10px 0;'>\n",
       "                    ... 295 more rows not displayed ...\n",
       "                </div>\n",
       "                "
      ],
      "text/plain": [
       "<IPython.core.display.HTML object>"
      ]
     },
     "metadata": {},
     "output_type": "display_data"
    },
    {
     "data": {
      "text/plain": [
       "27.44"
      ]
     },
     "execution_count": 11,
     "metadata": {},
     "output_type": "execute_result"
    },
    {
     "data": {
      "text/html": [
       "\n",
       "<div>\n",
       "  <style scoped>\n",
       "  button {\n",
       "    border: none;\n",
       "    border-radius: 4px;\n",
       "    background-color: rgb(34, 114, 180);\n",
       "    font-family: -apple-system, \"system-ui\", \"Segoe UI\", Roboto, \"Helvetica Neue\", Arial;\n",
       "    font-size: 13px;\n",
       "    color: white;\n",
       "    margin-top: 8px;\n",
       "    margin-bottom: 8px;\n",
       "    padding: 8px 16px;\n",
       "    cursor: pointer;\n",
       "  }\n",
       "  button:hover {\n",
       "    background-color: rgb(66, 153, 224);\n",
       "  }\n",
       "  </style>\n",
       "  <button\n",
       "    onclick=\"\n",
       "        const display = this.nextElementSibling.style.display;\n",
       "        const isCollapsed = display === 'none';\n",
       "        this.nextElementSibling.style.display = isCollapsed ? null : 'none';\n",
       "\n",
       "        const verb = isCollapsed ? 'Collapse' : 'Expand';\n",
       "        this.innerText = `${verb} MLflow Trace`;\n",
       "    \"\n",
       "  >Collapse MLflow Trace</button>\n",
       "  <iframe\n",
       "    id=\"trace-renderer\"\n",
       "    style=\"width: 100%; height: 500px; border: none; resize: vertical;\"\n",
       "    src=\"http://localhost:5000/static-files/lib/notebook-trace-renderer/index.html?trace_id=80407866ba0a4527b103664a5bda1e13&amp;experiment_id=374362034103955121&amp;trace_id=0051ffcd06b7490b87e96d1e785cbb50&amp;experiment_id=374362034103955121&amp;trace_id=977a0578e1024e5e9bc541f3d8c5393d&amp;experiment_id=374362034103955121&amp;trace_id=4052462bd5a545c9b6e9a9c9fbb30ac5&amp;experiment_id=374362034103955121&amp;trace_id=755c1fce57e24f338c9ec9214c9e98a4&amp;experiment_id=374362034103955121&amp;trace_id=f025604a97cc46009283a9d655dcf19f&amp;experiment_id=374362034103955121&amp;trace_id=d9f5221d6f4c45e7a2c5be0e9d053bd7&amp;experiment_id=374362034103955121&amp;trace_id=3542bb9b92374d758262c25ca61751c2&amp;experiment_id=374362034103955121&amp;trace_id=29d887d6b9ce4706ad9002c77c68c1ab&amp;experiment_id=374362034103955121&amp;trace_id=e6f7e29a7abb437187603906d0f5b874&amp;experiment_id=374362034103955121&amp;version=2.20.3\"\n",
       "  />\n",
       "</div>\n"
      ],
      "text/plain": [
       "[Trace(request_id=80407866ba0a4527b103664a5bda1e13), Trace(request_id=0051ffcd06b7490b87e96d1e785cbb50), Trace(request_id=977a0578e1024e5e9bc541f3d8c5393d), Trace(request_id=4052462bd5a545c9b6e9a9c9fbb30ac5), Trace(request_id=755c1fce57e24f338c9ec9214c9e98a4), Trace(request_id=f025604a97cc46009283a9d655dcf19f), Trace(request_id=d9f5221d6f4c45e7a2c5be0e9d053bd7), Trace(request_id=3542bb9b92374d758262c25ca61751c2), Trace(request_id=29d887d6b9ce4706ad9002c77c68c1ab), Trace(request_id=e6f7e29a7abb437187603906d0f5b874)]"
      ]
     },
     "metadata": {},
     "output_type": "display_data"
    }
   ],
   "source": [
    "evaluate(Hop())"
   ]
  },
  {
   "cell_type": "code",
   "execution_count": 12,
   "metadata": {},
   "outputs": [
    {
     "name": "stderr",
     "output_type": "stream",
     "text": [
      "2025/03/13 20:11:19 INFO dspy.teleprompt.mipro_optimizer_v2: \n",
      "RUNNING WITH THE FOLLOWING MEDIUM AUTO RUN SETTINGS:\n",
      "num_trials: 25\n",
      "minibatch: True\n",
      "num_candidates: 9\n",
      "valset size: 160\n",
      "\n",
      "2025/03/13 20:11:19 INFO dspy.teleprompt.mipro_optimizer_v2: \n",
      "==> STEP 1: BOOTSTRAP FEWSHOT EXAMPLES <==\n",
      "2025/03/13 20:11:19 INFO dspy.teleprompt.mipro_optimizer_v2: These will be used as few-shot example candidates for our program and for creating instructions.\n",
      "\n",
      "2025/03/13 20:11:19 INFO dspy.teleprompt.mipro_optimizer_v2: Bootstrapping N=9 sets of demonstrations...\n"
     ]
    },
    {
     "name": "stdout",
     "output_type": "stream",
     "text": [
      "Bootstrapping set 1/9\n",
      "Bootstrapping set 2/9\n",
      "Bootstrapping set 3/9\n"
     ]
    },
    {
     "name": "stderr",
     "output_type": "stream",
     "text": [
      " 40%|████      | 16/40 [09:15<13:53, 34.73s/it]\n"
     ]
    },
    {
     "name": "stdout",
     "output_type": "stream",
     "text": [
      "Bootstrapped 4 full traces after 16 examples for up to 1 rounds, amounting to 16 attempts.\n",
      "Bootstrapping set 4/9\n"
     ]
    },
    {
     "name": "stderr",
     "output_type": "stream",
     "text": [
      "  2%|▎         | 1/40 [00:38<25:08, 38.68s/it]\n"
     ]
    },
    {
     "name": "stdout",
     "output_type": "stream",
     "text": [
      "Bootstrapped 1 full traces after 1 examples for up to 1 rounds, amounting to 1 attempts.\n",
      "Bootstrapping set 5/9\n"
     ]
    },
    {
     "name": "stderr",
     "output_type": "stream",
     "text": [
      " 15%|█▌        | 6/40 [02:27<13:55, 24.56s/it]\n"
     ]
    },
    {
     "name": "stdout",
     "output_type": "stream",
     "text": [
      "Bootstrapped 2 full traces after 6 examples for up to 1 rounds, amounting to 6 attempts.\n",
      "Bootstrapping set 6/9\n"
     ]
    },
    {
     "name": "stderr",
     "output_type": "stream",
     "text": [
      "  8%|▊         | 3/40 [01:16<15:38, 25.38s/it]\n"
     ]
    },
    {
     "name": "stdout",
     "output_type": "stream",
     "text": [
      "Bootstrapped 1 full traces after 3 examples for up to 1 rounds, amounting to 3 attempts.\n",
      "Bootstrapping set 7/9\n"
     ]
    },
    {
     "name": "stderr",
     "output_type": "stream",
     "text": [
      " 10%|█         | 4/40 [02:22<21:21, 35.61s/it]\n"
     ]
    },
    {
     "name": "stdout",
     "output_type": "stream",
     "text": [
      "Bootstrapped 2 full traces after 4 examples for up to 1 rounds, amounting to 4 attempts.\n",
      "Bootstrapping set 8/9\n"
     ]
    },
    {
     "name": "stderr",
     "output_type": "stream",
     "text": [
      "  8%|▊         | 3/40 [02:16<28:06, 45.58s/it]\n"
     ]
    },
    {
     "name": "stdout",
     "output_type": "stream",
     "text": [
      "Bootstrapped 2 full traces after 3 examples for up to 1 rounds, amounting to 3 attempts.\n",
      "Bootstrapping set 9/9\n"
     ]
    },
    {
     "name": "stderr",
     "output_type": "stream",
     "text": [
      " 10%|█         | 4/40 [01:34<14:06, 23.52s/it]\n",
      "2025/03/13 20:31:10 INFO dspy.teleprompt.mipro_optimizer_v2: \n",
      "==> STEP 2: PROPOSE INSTRUCTION CANDIDATES <==\n",
      "2025/03/13 20:31:10 INFO dspy.teleprompt.mipro_optimizer_v2: We will use the few-shot examples from the previous step, a generated dataset summary, a summary of the program code, and a randomly selected prompting tip to propose instructions.\n"
     ]
    },
    {
     "name": "stdout",
     "output_type": "stream",
     "text": [
      "Bootstrapped 3 full traces after 4 examples for up to 1 rounds, amounting to 4 attempts.\n"
     ]
    },
    {
     "name": "stderr",
     "output_type": "stream",
     "text": [
      "2025/03/13 20:31:28 INFO dspy.teleprompt.mipro_optimizer_v2: \n",
      "Proposing instructions...\n",
      "\n",
      "2025/03/13 20:35:57 INFO dspy.teleprompt.mipro_optimizer_v2: Proposed Instructions for Predictor 0:\n",
      "\n",
      "2025/03/13 20:35:57 INFO dspy.teleprompt.mipro_optimizer_v2: 0: Given the fields `claim`, `notes`, produce the fields `query`.\n",
      "\n",
      "2025/03/13 20:35:57 INFO dspy.teleprompt.mipro_optimizer_v2: 1: Given an initial `claim` and its associated `notes`, systematically reason through the notes using a \"Chain of Thought\" approach to produce a logical reasoning pathway. This reasoning should clarify the connections and insights derived from the notes, ultimately leading to the formulation of a coherent and precise `query`. The `query` should be designed to guide subsequent searches for additional information or evidence that can further validate or expand upon the initial claim. Ensure that the reasoning is clear and step-by-step, justifying each part of the query to facilitate effective information retrieval in later stages of the fact-checking process.\n",
      "\n",
      "2025/03/13 20:35:57 INFO dspy.teleprompt.mipro_optimizer_v2: 2: Using the provided `claim` and `notes`, develop a reasoned explanation and formulate a search `query` that will aid in verifying or exploring the claim further.\n",
      "\n",
      "2025/03/13 20:35:57 INFO dspy.teleprompt.mipro_optimizer_v2: 3: Analyze the provided `claim` and accompanying `notes` to construct a logical reasoning statement that outlines the necessary steps to verify the claim. Based on this reasoning, formulate a precise `query` that can be used to retrieve additional context or evidence to support or refute the claim. Ensure that the reasoning is thorough and the query is directly aligned with the information needed for verification.\n",
      "\n",
      "2025/03/13 20:35:57 INFO dspy.teleprompt.mipro_optimizer_v2: 4: Given a `claim` and a list of `notes`, generate a logical `reasoning` to analyze the claim step-by-step. Use this reasoning to formulate a `query` that can be used to gather additional context or information necessary to verify the claim.\n",
      "\n",
      "2025/03/13 20:35:57 INFO dspy.teleprompt.mipro_optimizer_v2: 5: Based on the provided `claim` and existing `notes`, generate a logical reasoning process that explains the relationship between the claim and the notes. Then, produce a specific `query` that can be used to search for additional information to further verify or refute the claim.\n",
      "\n",
      "2025/03/13 20:35:57 INFO dspy.teleprompt.mipro_optimizer_v2: 6: For each claim, utilize the provided notes to systematically deduce the necessary information required to verify or expand upon the claim. Begin by analyzing the claim and existing notes, then formulate a precise query that will guide the search for additional relevant information. Your task is to think critically and logically to ensure the query captures the essence of what is needed to support or refute the claim. Produce a clear and concise query that will facilitate the retrieval of pertinent data to enhance the understanding and verification of the claim.\n",
      "\n",
      "2025/03/13 20:35:57 INFO dspy.teleprompt.mipro_optimizer_v2: 7: You are an investigative fact-checker tasked with verifying claims using available notes. Given the fields `claim` and `notes`, think step by step to generate a logical reasoning and formulate a precise `query` that can be used to search for additional information needed to support or refute the claim. Your goal is to construct a query that will yield the most relevant results for fact-checking the claim.\n",
      "\n",
      "2025/03/13 20:35:57 INFO dspy.teleprompt.mipro_optimizer_v2: 8: Given a `claim` and any existing `notes`, generate a logical reasoning process that outlines the steps needed to verify the claim. Use this reasoning to formulate a specific `query` that can be used to search for additional context or information. The reasoning should be detailed, using a step-by-step approach to ensure clarity and precision in forming the query. This process is crucial for setting the groundwork in verifying the claim by providing a structured path to gather pertinent evidence.\n",
      "\n",
      "2025/03/13 20:35:57 INFO dspy.teleprompt.mipro_optimizer_v2: \n",
      "\n",
      "2025/03/13 20:35:57 INFO dspy.teleprompt.mipro_optimizer_v2: Proposed Instructions for Predictor 1:\n",
      "\n",
      "2025/03/13 20:35:57 INFO dspy.teleprompt.mipro_optimizer_v2: 0: Given the fields `claim`, `notes`, `context`, produce the fields `new_notes`, `titles`.\n",
      "\n",
      "2025/03/13 20:35:57 INFO dspy.teleprompt.mipro_optimizer_v2: 1: Imagine you are a fact-checking journalist verifying claims for a major publication. Given the fields `claim`, `notes`, and `context`, your task is to produce the fields `new_notes`, which should include additional insights and verifications related to the claim, and `titles`, which should list unique titles relevant to the claim. Your output will contribute to the publication's reputation for accuracy and reliability. Ensure that you provide a comprehensive reasoning for each claim's verification process, as your findings will be scrutinized by both the editorial team and the public.\n",
      "\n",
      "2025/03/13 20:35:57 INFO dspy.teleprompt.mipro_optimizer_v2: 2: For the given fields `claim`, `notes`, and `context`, generate a logical reasoning process to verify the claim, and produce the fields `new_notes` and `titles` that reflect a deeper understanding and validation of the claim. Ensure that the reasoning is detailed and connects the claim with the context provided, resulting in enriched notes and relevant titles that either support or refute the claim.\n",
      "\n",
      "2025/03/13 20:35:57 INFO dspy.teleprompt.mipro_optimizer_v2: 3: Given a `claim`, `notes`, and `context`, produce a logical `reasoning` that evaluates the claim, and generate `new_notes` that capture relevant findings, along with `titles` that identify key topics or entities involved.\n",
      "\n",
      "2025/03/13 20:35:57 INFO dspy.teleprompt.mipro_optimizer_v2: 4: Analyze the provided `claim`, `notes`, and `context` to generate updated `new_notes` and `titles`. Your task is to evaluate the claim by reasoning through the information step-by-step, appending relevant new notes, and identifying key titles that relate to the claim. Ensure that the output contributes to a comprehensive understanding of the claim's validity.\n",
      "\n",
      "2025/03/13 20:35:57 INFO dspy.teleprompt.mipro_optimizer_v2: 5: Given the inputs of a `claim`, existing `notes`, and a `context` derived from information retrieval, your task is to synthesize these inputs to produce a well-reasoned output. Start by analyzing the `claim` in detail, using the `notes` to gather any pre-existing information that may support or refute the claim. Then, incorporate the `context` to bring in additional evidence that is relevant to the claim. Your goal is to create a coherent `reasoning` narrative that logically explains how the claim is supported or refuted based on the evidence. Additionally, update the `new_notes` to reflect the latest insights gained from the context and ensure they are organized clearly to support the reasoning process. Finally, compile a list of `titles` that are relevant to the claim and context, ensuring they are unique and accurately represent the distilled information. This process will enable the iterative refinement of understanding and validation of the claim.\n",
      "\n",
      "2025/03/13 20:35:57 INFO dspy.teleprompt.mipro_optimizer_v2: 6: Imagine you are an expert fact-checker tasked with verifying the accuracy of a claim that could impact public perception significantly. Given the fields `claim`, `notes`, and `context`, synthesize the provided information to produce `new_notes` and `titles`. Your goal is to ensure that the evidence and context are thoroughly analyzed and logically connected to provide a comprehensive and accurate assessment of the claim.\n",
      "\n",
      "2025/03/13 20:35:57 INFO dspy.teleprompt.mipro_optimizer_v2: 7: Using the provided `claim`, `notes`, and `context`, synthesize the information to generate `new_notes` and `titles`. The `new_notes` should include refined and relevant insights that support or refute the claim, while the `titles` should list key entities or sources that are pertinent to the reasoning process. Ensure that the reasoning is clear and logical, guiding the derivation of `new_notes` and `titles` in a manner that effectively aids in the verification of the claim.\n",
      "\n",
      "2025/03/13 20:35:57 INFO dspy.teleprompt.mipro_optimizer_v2: 8: Analyze the provided `claim` using the existing `notes` and the given `context` to generate logical `reasoning` that supports or refutes the claim. Based on this analysis, produce `new_notes` that update or add to the existing information and compile a list of relevant `titles` that summarize key elements related to the claim. Ensure that the outputs are coherent and reflect a refined understanding of the claim through a structured synthesis of the information provided.\n",
      "\n",
      "2025/03/13 20:35:57 INFO dspy.teleprompt.mipro_optimizer_v2: \n",
      "\n",
      "2025/03/13 20:35:57 INFO dspy.teleprompt.mipro_optimizer_v2: ==> STEP 3: FINDING OPTIMAL PROMPT PARAMETERS <==\n",
      "2025/03/13 20:35:57 INFO dspy.teleprompt.mipro_optimizer_v2: We will evaluate the program over a series of trials with different combinations of instructions and few-shot examples to find the optimal combination using Bayesian Optimization.\n",
      "\n",
      "2025/03/13 20:35:57 INFO dspy.teleprompt.mipro_optimizer_v2: == Trial 1 / 32 - Full Evaluation of Default Program ==\n"
     ]
    },
    {
     "name": "stdout",
     "output_type": "stream",
     "text": [
      "Average Metric: 47.33 / 160 (29.6%): 100%|██████████| 160/160 [04:43<00:00,  1.77s/it]"
     ]
    },
    {
     "name": "stderr",
     "output_type": "stream",
     "text": [
      "2025/03/13 20:40:41 INFO dspy.evaluate.evaluate: Average Metric: 47.33333333333335 / 160 (29.6%)\n",
      "2025/03/13 20:40:41 INFO dspy.teleprompt.mipro_optimizer_v2: Default program score: 29.58\n",
      "\n",
      "/Users/aidand/dev/hello-dspy/env/lib/python3.10/site-packages/optuna/_experimental.py:31: ExperimentalWarning: Argument ``multivariate`` is an experimental feature. The interface can change in the future.\n",
      "  warnings.warn(\n",
      "2025/03/13 20:40:41 INFO dspy.teleprompt.mipro_optimizer_v2: == Trial 2 / 32 - Minibatch ==\n"
     ]
    },
    {
     "name": "stdout",
     "output_type": "stream",
     "text": [
      "\n",
      "Average Metric: 25.67 / 40 (64.2%): 100%|██████████| 40/40 [01:27<00:00,  2.18s/it]"
     ]
    },
    {
     "name": "stderr",
     "output_type": "stream",
     "text": [
      "2025/03/13 20:42:08 INFO dspy.evaluate.evaluate: Average Metric: 25.66666666666666 / 40 (64.2%)\n",
      "2025/03/13 20:42:08 INFO dspy.teleprompt.mipro_optimizer_v2: Score: 64.17 on minibatch of size 40 with parameters ['Predictor 0: Instruction 1', 'Predictor 0: Few-Shot Set 3', 'Predictor 1: Instruction 8', 'Predictor 1: Few-Shot Set 5'].\n",
      "2025/03/13 20:42:08 INFO dspy.teleprompt.mipro_optimizer_v2: Minibatch scores so far: [64.17]\n",
      "2025/03/13 20:42:08 INFO dspy.teleprompt.mipro_optimizer_v2: Full eval scores so far: [29.58]\n",
      "2025/03/13 20:42:08 INFO dspy.teleprompt.mipro_optimizer_v2: Best full score so far: 29.58\n",
      "2025/03/13 20:42:08 INFO dspy.teleprompt.mipro_optimizer_v2: =========================================\n",
      "\n",
      "\n",
      "2025/03/13 20:42:08 INFO dspy.teleprompt.mipro_optimizer_v2: == Trial 3 / 32 - Minibatch ==\n"
     ]
    },
    {
     "name": "stdout",
     "output_type": "stream",
     "text": [
      "\n",
      "Average Metric: 21.67 / 40 (54.2%): 100%|██████████| 40/40 [01:42<00:00,  2.56s/it]"
     ]
    },
    {
     "name": "stderr",
     "output_type": "stream",
     "text": [
      "2025/03/13 20:43:50 INFO dspy.evaluate.evaluate: Average Metric: 21.666666666666668 / 40 (54.2%)\n",
      "2025/03/13 20:43:50 INFO dspy.teleprompt.mipro_optimizer_v2: Score: 54.17 on minibatch of size 40 with parameters ['Predictor 0: Instruction 0', 'Predictor 0: Few-Shot Set 3', 'Predictor 1: Instruction 8', 'Predictor 1: Few-Shot Set 1'].\n",
      "2025/03/13 20:43:50 INFO dspy.teleprompt.mipro_optimizer_v2: Minibatch scores so far: [64.17, 54.17]\n",
      "2025/03/13 20:43:50 INFO dspy.teleprompt.mipro_optimizer_v2: Full eval scores so far: [29.58]\n",
      "2025/03/13 20:43:50 INFO dspy.teleprompt.mipro_optimizer_v2: Best full score so far: 29.58\n",
      "2025/03/13 20:43:50 INFO dspy.teleprompt.mipro_optimizer_v2: =========================================\n",
      "\n",
      "\n",
      "2025/03/13 20:43:50 INFO dspy.teleprompt.mipro_optimizer_v2: == Trial 4 / 32 - Minibatch ==\n"
     ]
    },
    {
     "name": "stdout",
     "output_type": "stream",
     "text": [
      "\n",
      "Average Metric: 26.33 / 40 (65.8%): 100%|██████████| 40/40 [01:32<00:00,  2.30s/it]"
     ]
    },
    {
     "name": "stderr",
     "output_type": "stream",
     "text": [
      "2025/03/13 20:45:22 INFO dspy.evaluate.evaluate: Average Metric: 26.333333333333332 / 40 (65.8%)\n",
      "2025/03/13 20:45:22 INFO dspy.teleprompt.mipro_optimizer_v2: Score: 65.83 on minibatch of size 40 with parameters ['Predictor 0: Instruction 8', 'Predictor 0: Few-Shot Set 2', 'Predictor 1: Instruction 8', 'Predictor 1: Few-Shot Set 3'].\n",
      "2025/03/13 20:45:22 INFO dspy.teleprompt.mipro_optimizer_v2: Minibatch scores so far: [64.17, 54.17, 65.83]\n",
      "2025/03/13 20:45:22 INFO dspy.teleprompt.mipro_optimizer_v2: Full eval scores so far: [29.58]\n",
      "2025/03/13 20:45:22 INFO dspy.teleprompt.mipro_optimizer_v2: Best full score so far: 29.58\n",
      "2025/03/13 20:45:22 INFO dspy.teleprompt.mipro_optimizer_v2: =========================================\n",
      "\n",
      "\n",
      "2025/03/13 20:45:22 INFO dspy.teleprompt.mipro_optimizer_v2: ===== Trial 5 / 32 - Full Evaluation =====\n",
      "2025/03/13 20:45:22 INFO dspy.teleprompt.mipro_optimizer_v2: Doing full eval on next top averaging program (Avg Score: 65.83) from minibatch trials...\n"
     ]
    },
    {
     "name": "stdout",
     "output_type": "stream",
     "text": [
      "\n",
      "Average Metric: 100.00 / 160 (62.5%): 100%|██████████| 160/160 [02:58<00:00,  1.11s/it]"
     ]
    },
    {
     "name": "stderr",
     "output_type": "stream",
     "text": [
      "2025/03/13 20:48:21 INFO dspy.evaluate.evaluate: Average Metric: 100.00000000000003 / 160 (62.5%)\n",
      "2025/03/13 20:48:21 INFO dspy.teleprompt.mipro_optimizer_v2: \u001b[92mNew best full eval score!\u001b[0m Score: 62.5\n",
      "2025/03/13 20:48:21 INFO dspy.teleprompt.mipro_optimizer_v2: Full eval scores so far: [29.58, 62.5]\n",
      "2025/03/13 20:48:21 INFO dspy.teleprompt.mipro_optimizer_v2: Best full score so far: 62.5\n",
      "2025/03/13 20:48:21 INFO dspy.teleprompt.mipro_optimizer_v2: =======================\n",
      "2025/03/13 20:48:21 INFO dspy.teleprompt.mipro_optimizer_v2: \n",
      "\n",
      "2025/03/13 20:48:21 INFO dspy.teleprompt.mipro_optimizer_v2: == Trial 6 / 32 - Minibatch ==\n"
     ]
    },
    {
     "name": "stdout",
     "output_type": "stream",
     "text": [
      "\n",
      "Average Metric: 20.67 / 40 (51.7%): 100%|██████████| 40/40 [01:23<00:00,  2.09s/it]"
     ]
    },
    {
     "name": "stderr",
     "output_type": "stream",
     "text": [
      "2025/03/13 20:49:44 INFO dspy.evaluate.evaluate: Average Metric: 20.666666666666668 / 40 (51.7%)\n",
      "2025/03/13 20:49:44 INFO dspy.teleprompt.mipro_optimizer_v2: Score: 51.67 on minibatch of size 40 with parameters ['Predictor 0: Instruction 5', 'Predictor 0: Few-Shot Set 4', 'Predictor 1: Instruction 3', 'Predictor 1: Few-Shot Set 0'].\n",
      "2025/03/13 20:49:44 INFO dspy.teleprompt.mipro_optimizer_v2: Minibatch scores so far: [64.17, 54.17, 65.83, 51.67]\n",
      "2025/03/13 20:49:44 INFO dspy.teleprompt.mipro_optimizer_v2: Full eval scores so far: [29.58, 62.5]\n",
      "2025/03/13 20:49:44 INFO dspy.teleprompt.mipro_optimizer_v2: Best full score so far: 62.5\n",
      "2025/03/13 20:49:44 INFO dspy.teleprompt.mipro_optimizer_v2: =========================================\n",
      "\n",
      "\n",
      "2025/03/13 20:49:44 INFO dspy.teleprompt.mipro_optimizer_v2: == Trial 7 / 32 - Minibatch ==\n"
     ]
    },
    {
     "name": "stdout",
     "output_type": "stream",
     "text": [
      "\n",
      "Average Metric: 20.33 / 40 (50.8%): 100%|██████████| 40/40 [00:58<00:00,  1.45s/it]"
     ]
    },
    {
     "name": "stderr",
     "output_type": "stream",
     "text": [
      "2025/03/13 20:50:42 INFO dspy.evaluate.evaluate: Average Metric: 20.33333333333333 / 40 (50.8%)\n",
      "2025/03/13 20:50:42 INFO dspy.teleprompt.mipro_optimizer_v2: Score: 50.83 on minibatch of size 40 with parameters ['Predictor 0: Instruction 3', 'Predictor 0: Few-Shot Set 7', 'Predictor 1: Instruction 0', 'Predictor 1: Few-Shot Set 6'].\n",
      "2025/03/13 20:50:42 INFO dspy.teleprompt.mipro_optimizer_v2: Minibatch scores so far: [64.17, 54.17, 65.83, 51.67, 50.83]\n",
      "2025/03/13 20:50:42 INFO dspy.teleprompt.mipro_optimizer_v2: Full eval scores so far: [29.58, 62.5]\n",
      "2025/03/13 20:50:42 INFO dspy.teleprompt.mipro_optimizer_v2: Best full score so far: 62.5\n",
      "2025/03/13 20:50:42 INFO dspy.teleprompt.mipro_optimizer_v2: =========================================\n",
      "\n",
      "\n",
      "2025/03/13 20:50:42 INFO dspy.teleprompt.mipro_optimizer_v2: == Trial 8 / 32 - Minibatch ==\n"
     ]
    },
    {
     "name": "stdout",
     "output_type": "stream",
     "text": [
      "\n",
      "Average Metric: 27.00 / 40 (67.5%): 100%|██████████| 40/40 [01:27<00:00,  2.18s/it]"
     ]
    },
    {
     "name": "stderr",
     "output_type": "stream",
     "text": [
      "2025/03/13 20:52:10 INFO dspy.evaluate.evaluate: Average Metric: 27.000000000000004 / 40 (67.5%)\n",
      "2025/03/13 20:52:10 INFO dspy.teleprompt.mipro_optimizer_v2: Score: 67.5 on minibatch of size 40 with parameters ['Predictor 0: Instruction 4', 'Predictor 0: Few-Shot Set 0', 'Predictor 1: Instruction 7', 'Predictor 1: Few-Shot Set 3'].\n",
      "2025/03/13 20:52:10 INFO dspy.teleprompt.mipro_optimizer_v2: Minibatch scores so far: [64.17, 54.17, 65.83, 51.67, 50.83, 67.5]\n",
      "2025/03/13 20:52:10 INFO dspy.teleprompt.mipro_optimizer_v2: Full eval scores so far: [29.58, 62.5]\n",
      "2025/03/13 20:52:10 INFO dspy.teleprompt.mipro_optimizer_v2: Best full score so far: 62.5\n",
      "2025/03/13 20:52:10 INFO dspy.teleprompt.mipro_optimizer_v2: =========================================\n",
      "\n",
      "\n",
      "2025/03/13 20:52:10 INFO dspy.teleprompt.mipro_optimizer_v2: ===== Trial 9 / 32 - Full Evaluation =====\n",
      "2025/03/13 20:52:10 INFO dspy.teleprompt.mipro_optimizer_v2: Doing full eval on next top averaging program (Avg Score: 67.5) from minibatch trials...\n"
     ]
    },
    {
     "name": "stdout",
     "output_type": "stream",
     "text": [
      "\n",
      "Average Metric: 88.67 / 143 (62.0%):  89%|████████▉ | 142/160 [02:48<00:17,  1.02it/s]"
     ]
    },
    {
     "name": "stderr",
     "output_type": "stream",
     "text": [
      "2025/03/13 20:55:10 ERROR dspy.utils.parallelizer: Error for Example({'claim': 'Fredric March costarred in 1935 Australian drama film that Frances Drake is best know for, with the husband of Elsa Lanchester.', 'titles': ['Les Misérables (1935 film)', 'Frances Drake', 'Charles Laughton']}) (input_keys={'claim'}): Expected dict_keys(['reasoning', 'new_notes', 'titles']) but got dict_keys(['reasoning']). Set `provide_traceback=True` for traceback.\n"
     ]
    },
    {
     "name": "stdout",
     "output_type": "stream",
     "text": [
      "Average Metric: 99.67 / 159 (62.7%): 100%|██████████| 160/160 [03:47<00:00,  1.42s/it]"
     ]
    },
    {
     "name": "stderr",
     "output_type": "stream",
     "text": [
      "2025/03/13 20:55:57 INFO dspy.evaluate.evaluate: Average Metric: 99.66666666666673 / 160 (62.3%)\n",
      "2025/03/13 20:55:57 INFO dspy.teleprompt.mipro_optimizer_v2: Full eval scores so far: [29.58, 62.5, 62.29]\n",
      "2025/03/13 20:55:57 INFO dspy.teleprompt.mipro_optimizer_v2: Best full score so far: 62.5\n",
      "2025/03/13 20:55:57 INFO dspy.teleprompt.mipro_optimizer_v2: =======================\n",
      "2025/03/13 20:55:57 INFO dspy.teleprompt.mipro_optimizer_v2: \n",
      "\n",
      "2025/03/13 20:55:57 INFO dspy.teleprompt.mipro_optimizer_v2: == Trial 10 / 32 - Minibatch ==\n"
     ]
    },
    {
     "name": "stdout",
     "output_type": "stream",
     "text": [
      "\n",
      "Average Metric: 25.00 / 40 (62.5%): 100%|██████████| 40/40 [01:29<00:00,  2.25s/it]"
     ]
    },
    {
     "name": "stderr",
     "output_type": "stream",
     "text": [
      "2025/03/13 20:57:27 INFO dspy.evaluate.evaluate: Average Metric: 25.000000000000004 / 40 (62.5%)\n",
      "2025/03/13 20:57:27 INFO dspy.teleprompt.mipro_optimizer_v2: Score: 62.5 on minibatch of size 40 with parameters ['Predictor 0: Instruction 8', 'Predictor 0: Few-Shot Set 7', 'Predictor 1: Instruction 1', 'Predictor 1: Few-Shot Set 3'].\n",
      "2025/03/13 20:57:27 INFO dspy.teleprompt.mipro_optimizer_v2: Minibatch scores so far: [64.17, 54.17, 65.83, 51.67, 50.83, 67.5, 62.5]\n",
      "2025/03/13 20:57:27 INFO dspy.teleprompt.mipro_optimizer_v2: Full eval scores so far: [29.58, 62.5, 62.29]\n",
      "2025/03/13 20:57:27 INFO dspy.teleprompt.mipro_optimizer_v2: Best full score so far: 62.5\n",
      "2025/03/13 20:57:27 INFO dspy.teleprompt.mipro_optimizer_v2: ==========================================\n",
      "\n",
      "\n",
      "2025/03/13 20:57:27 INFO dspy.teleprompt.mipro_optimizer_v2: == Trial 11 / 32 - Minibatch ==\n"
     ]
    },
    {
     "name": "stdout",
     "output_type": "stream",
     "text": [
      "\n",
      "Average Metric: 27.33 / 40 (68.3%): 100%|██████████| 40/40 [02:11<00:00,  3.28s/it]"
     ]
    },
    {
     "name": "stderr",
     "output_type": "stream",
     "text": [
      "2025/03/13 20:59:38 INFO dspy.evaluate.evaluate: Average Metric: 27.333333333333343 / 40 (68.3%)\n",
      "2025/03/13 20:59:38 INFO dspy.teleprompt.mipro_optimizer_v2: Score: 68.33 on minibatch of size 40 with parameters ['Predictor 0: Instruction 1', 'Predictor 0: Few-Shot Set 0', 'Predictor 1: Instruction 7', 'Predictor 1: Few-Shot Set 3'].\n",
      "2025/03/13 20:59:38 INFO dspy.teleprompt.mipro_optimizer_v2: Minibatch scores so far: [64.17, 54.17, 65.83, 51.67, 50.83, 67.5, 62.5, 68.33]\n",
      "2025/03/13 20:59:38 INFO dspy.teleprompt.mipro_optimizer_v2: Full eval scores so far: [29.58, 62.5, 62.29]\n",
      "2025/03/13 20:59:38 INFO dspy.teleprompt.mipro_optimizer_v2: Best full score so far: 62.5\n",
      "2025/03/13 20:59:38 INFO dspy.teleprompt.mipro_optimizer_v2: ==========================================\n",
      "\n",
      "\n",
      "2025/03/13 20:59:38 INFO dspy.teleprompt.mipro_optimizer_v2: == Trial 12 / 32 - Minibatch ==\n"
     ]
    },
    {
     "name": "stdout",
     "output_type": "stream",
     "text": [
      "\n",
      "Average Metric: 27.00 / 40 (67.5%): 100%|██████████| 40/40 [01:24<00:00,  2.12s/it]"
     ]
    },
    {
     "name": "stderr",
     "output_type": "stream",
     "text": [
      "2025/03/13 21:01:03 INFO dspy.evaluate.evaluate: Average Metric: 27.0 / 40 (67.5%)\n",
      "2025/03/13 21:01:03 INFO dspy.teleprompt.mipro_optimizer_v2: Score: 67.5 on minibatch of size 40 with parameters ['Predictor 0: Instruction 5', 'Predictor 0: Few-Shot Set 5', 'Predictor 1: Instruction 7', 'Predictor 1: Few-Shot Set 3'].\n",
      "2025/03/13 21:01:03 INFO dspy.teleprompt.mipro_optimizer_v2: Minibatch scores so far: [64.17, 54.17, 65.83, 51.67, 50.83, 67.5, 62.5, 68.33, 67.5]\n",
      "2025/03/13 21:01:03 INFO dspy.teleprompt.mipro_optimizer_v2: Full eval scores so far: [29.58, 62.5, 62.29]\n",
      "2025/03/13 21:01:03 INFO dspy.teleprompt.mipro_optimizer_v2: Best full score so far: 62.5\n",
      "2025/03/13 21:01:03 INFO dspy.teleprompt.mipro_optimizer_v2: ==========================================\n",
      "\n",
      "\n",
      "2025/03/13 21:01:03 INFO dspy.teleprompt.mipro_optimizer_v2: ===== Trial 13 / 32 - Full Evaluation =====\n",
      "2025/03/13 21:01:03 INFO dspy.teleprompt.mipro_optimizer_v2: Doing full eval on next top averaging program (Avg Score: 68.33) from minibatch trials...\n"
     ]
    },
    {
     "name": "stdout",
     "output_type": "stream",
     "text": [
      "\n",
      "Average Metric: 103.67 / 160 (64.8%): 100%|██████████| 160/160 [03:52<00:00,  1.45s/it]"
     ]
    },
    {
     "name": "stderr",
     "output_type": "stream",
     "text": [
      "2025/03/13 21:04:55 INFO dspy.evaluate.evaluate: Average Metric: 103.66666666666671 / 160 (64.8%)\n",
      "2025/03/13 21:04:55 INFO dspy.teleprompt.mipro_optimizer_v2: \u001b[92mNew best full eval score!\u001b[0m Score: 64.79\n",
      "2025/03/13 21:04:55 INFO dspy.teleprompt.mipro_optimizer_v2: Full eval scores so far: [29.58, 62.5, 62.29, 64.79]\n",
      "2025/03/13 21:04:55 INFO dspy.teleprompt.mipro_optimizer_v2: Best full score so far: 64.79\n",
      "2025/03/13 21:04:55 INFO dspy.teleprompt.mipro_optimizer_v2: =======================\n",
      "2025/03/13 21:04:55 INFO dspy.teleprompt.mipro_optimizer_v2: \n",
      "\n",
      "2025/03/13 21:04:55 INFO dspy.teleprompt.mipro_optimizer_v2: == Trial 14 / 32 - Minibatch ==\n"
     ]
    },
    {
     "name": "stdout",
     "output_type": "stream",
     "text": [
      "\n",
      "Average Metric: 23.67 / 40 (59.2%): 100%|██████████| 40/40 [01:02<00:00,  1.56s/it]"
     ]
    },
    {
     "name": "stderr",
     "output_type": "stream",
     "text": [
      "2025/03/13 21:05:58 INFO dspy.evaluate.evaluate: Average Metric: 23.666666666666664 / 40 (59.2%)\n",
      "2025/03/13 21:05:58 INFO dspy.teleprompt.mipro_optimizer_v2: Score: 59.17 on minibatch of size 40 with parameters ['Predictor 0: Instruction 4', 'Predictor 0: Few-Shot Set 0', 'Predictor 1: Instruction 2', 'Predictor 1: Few-Shot Set 3'].\n",
      "2025/03/13 21:05:58 INFO dspy.teleprompt.mipro_optimizer_v2: Minibatch scores so far: [64.17, 54.17, 65.83, 51.67, 50.83, 67.5, 62.5, 68.33, 67.5, 59.17]\n",
      "2025/03/13 21:05:58 INFO dspy.teleprompt.mipro_optimizer_v2: Full eval scores so far: [29.58, 62.5, 62.29, 64.79]\n",
      "2025/03/13 21:05:58 INFO dspy.teleprompt.mipro_optimizer_v2: Best full score so far: 64.79\n",
      "2025/03/13 21:05:58 INFO dspy.teleprompt.mipro_optimizer_v2: ==========================================\n",
      "\n",
      "\n",
      "2025/03/13 21:05:58 INFO dspy.teleprompt.mipro_optimizer_v2: == Trial 15 / 32 - Minibatch ==\n"
     ]
    },
    {
     "name": "stdout",
     "output_type": "stream",
     "text": [
      "\n",
      "Average Metric: 25.67 / 40 (64.2%): 100%|██████████| 40/40 [01:13<00:00,  1.85s/it]"
     ]
    },
    {
     "name": "stderr",
     "output_type": "stream",
     "text": [
      "2025/03/13 21:07:12 INFO dspy.evaluate.evaluate: Average Metric: 25.666666666666668 / 40 (64.2%)\n",
      "2025/03/13 21:07:12 INFO dspy.teleprompt.mipro_optimizer_v2: Score: 64.17 on minibatch of size 40 with parameters ['Predictor 0: Instruction 1', 'Predictor 0: Few-Shot Set 0', 'Predictor 1: Instruction 3', 'Predictor 1: Few-Shot Set 4'].\n",
      "2025/03/13 21:07:12 INFO dspy.teleprompt.mipro_optimizer_v2: Minibatch scores so far: [64.17, 54.17, 65.83, 51.67, 50.83, 67.5, 62.5, 68.33, 67.5, 59.17, 64.17]\n",
      "2025/03/13 21:07:12 INFO dspy.teleprompt.mipro_optimizer_v2: Full eval scores so far: [29.58, 62.5, 62.29, 64.79]\n",
      "2025/03/13 21:07:12 INFO dspy.teleprompt.mipro_optimizer_v2: Best full score so far: 64.79\n",
      "2025/03/13 21:07:12 INFO dspy.teleprompt.mipro_optimizer_v2: ==========================================\n",
      "\n",
      "\n",
      "2025/03/13 21:07:12 INFO dspy.teleprompt.mipro_optimizer_v2: == Trial 16 / 32 - Minibatch ==\n"
     ]
    },
    {
     "name": "stdout",
     "output_type": "stream",
     "text": [
      "\n",
      "Average Metric: 21.67 / 40 (54.2%): 100%|██████████| 40/40 [01:34<00:00,  2.36s/it]"
     ]
    },
    {
     "name": "stderr",
     "output_type": "stream",
     "text": [
      "2025/03/13 21:08:46 INFO dspy.evaluate.evaluate: Average Metric: 21.666666666666664 / 40 (54.2%)\n",
      "2025/03/13 21:08:46 INFO dspy.teleprompt.mipro_optimizer_v2: Score: 54.17 on minibatch of size 40 with parameters ['Predictor 0: Instruction 1', 'Predictor 0: Few-Shot Set 0', 'Predictor 1: Instruction 7', 'Predictor 1: Few-Shot Set 6'].\n",
      "2025/03/13 21:08:46 INFO dspy.teleprompt.mipro_optimizer_v2: Minibatch scores so far: [64.17, 54.17, 65.83, 51.67, 50.83, 67.5, 62.5, 68.33, 67.5, 59.17, 64.17, 54.17]\n",
      "2025/03/13 21:08:46 INFO dspy.teleprompt.mipro_optimizer_v2: Full eval scores so far: [29.58, 62.5, 62.29, 64.79]\n",
      "2025/03/13 21:08:46 INFO dspy.teleprompt.mipro_optimizer_v2: Best full score so far: 64.79\n",
      "2025/03/13 21:08:46 INFO dspy.teleprompt.mipro_optimizer_v2: ==========================================\n",
      "\n",
      "\n",
      "2025/03/13 21:08:46 INFO dspy.teleprompt.mipro_optimizer_v2: ===== Trial 17 / 32 - Full Evaluation =====\n",
      "2025/03/13 21:08:46 INFO dspy.teleprompt.mipro_optimizer_v2: Doing full eval on next top averaging program (Avg Score: 67.5) from minibatch trials...\n"
     ]
    },
    {
     "name": "stdout",
     "output_type": "stream",
     "text": [
      "\n",
      "Average Metric: 38.00 / 57 (66.7%):  36%|███▌      | 57/160 [01:11<02:02,  1.19s/it]"
     ]
    },
    {
     "name": "stderr",
     "output_type": "stream",
     "text": [
      "2025/03/13 21:09:58 ERROR dspy.utils.parallelizer: Error for Example({'claim': 'The actress that starred as a parent in Sky High (2005 film) is married to John Travolta. She also starred in a summer 1994 film about a pregnant woman who is stranded at a trading post during the American Civil War.', 'titles': ['Kelly Preston', 'Cheyenne Warrior', 'Sky High (2005 film)']}) (input_keys={'claim'}): Expected dict_keys(['reasoning', 'query']) but got dict_keys(['reasoning']). Set `provide_traceback=True` for traceback.\n"
     ]
    },
    {
     "name": "stdout",
     "output_type": "stream",
     "text": [
      "Average Metric: 104.00 / 159 (65.4%): 100%|██████████| 160/160 [03:42<00:00,  1.39s/it]"
     ]
    },
    {
     "name": "stderr",
     "output_type": "stream",
     "text": [
      "2025/03/13 21:12:29 INFO dspy.evaluate.evaluate: Average Metric: 104.00000000000006 / 160 (65.0%)\n",
      "2025/03/13 21:12:29 INFO dspy.teleprompt.mipro_optimizer_v2: \u001b[92mNew best full eval score!\u001b[0m Score: 65.0\n",
      "2025/03/13 21:12:29 INFO dspy.teleprompt.mipro_optimizer_v2: Full eval scores so far: [29.58, 62.5, 62.29, 64.79, 65.0]\n",
      "2025/03/13 21:12:29 INFO dspy.teleprompt.mipro_optimizer_v2: Best full score so far: 65.0\n",
      "2025/03/13 21:12:29 INFO dspy.teleprompt.mipro_optimizer_v2: =======================\n",
      "2025/03/13 21:12:29 INFO dspy.teleprompt.mipro_optimizer_v2: \n",
      "\n",
      "2025/03/13 21:12:29 INFO dspy.teleprompt.mipro_optimizer_v2: == Trial 18 / 32 - Minibatch ==\n"
     ]
    },
    {
     "name": "stdout",
     "output_type": "stream",
     "text": [
      "\n",
      "Average Metric: 23.00 / 40 (57.5%): 100%|██████████| 40/40 [01:15<00:00,  1.88s/it]"
     ]
    },
    {
     "name": "stderr",
     "output_type": "stream",
     "text": [
      "2025/03/13 21:13:44 INFO dspy.evaluate.evaluate: Average Metric: 23.000000000000004 / 40 (57.5%)\n",
      "2025/03/13 21:13:44 INFO dspy.teleprompt.mipro_optimizer_v2: Score: 57.5 on minibatch of size 40 with parameters ['Predictor 0: Instruction 1', 'Predictor 0: Few-Shot Set 6', 'Predictor 1: Instruction 5', 'Predictor 1: Few-Shot Set 3'].\n",
      "2025/03/13 21:13:44 INFO dspy.teleprompt.mipro_optimizer_v2: Minibatch scores so far: [64.17, 54.17, 65.83, 51.67, 50.83, 67.5, 62.5, 68.33, 67.5, 59.17, 64.17, 54.17, 57.5]\n",
      "2025/03/13 21:13:44 INFO dspy.teleprompt.mipro_optimizer_v2: Full eval scores so far: [29.58, 62.5, 62.29, 64.79, 65.0]\n",
      "2025/03/13 21:13:44 INFO dspy.teleprompt.mipro_optimizer_v2: Best full score so far: 65.0\n",
      "2025/03/13 21:13:44 INFO dspy.teleprompt.mipro_optimizer_v2: ==========================================\n",
      "\n",
      "\n",
      "2025/03/13 21:13:44 INFO dspy.teleprompt.mipro_optimizer_v2: == Trial 19 / 32 - Minibatch ==\n"
     ]
    },
    {
     "name": "stdout",
     "output_type": "stream",
     "text": [
      "\n",
      "Average Metric: 21.67 / 40 (54.2%): 100%|██████████| 40/40 [01:14<00:00,  1.86s/it]"
     ]
    },
    {
     "name": "stderr",
     "output_type": "stream",
     "text": [
      "2025/03/13 21:14:59 INFO dspy.evaluate.evaluate: Average Metric: 21.666666666666668 / 40 (54.2%)\n",
      "2025/03/13 21:14:59 INFO dspy.teleprompt.mipro_optimizer_v2: Score: 54.17 on minibatch of size 40 with parameters ['Predictor 0: Instruction 6', 'Predictor 0: Few-Shot Set 1', 'Predictor 1: Instruction 3', 'Predictor 1: Few-Shot Set 3'].\n",
      "2025/03/13 21:14:59 INFO dspy.teleprompt.mipro_optimizer_v2: Minibatch scores so far: [64.17, 54.17, 65.83, 51.67, 50.83, 67.5, 62.5, 68.33, 67.5, 59.17, 64.17, 54.17, 57.5, 54.17]\n",
      "2025/03/13 21:14:59 INFO dspy.teleprompt.mipro_optimizer_v2: Full eval scores so far: [29.58, 62.5, 62.29, 64.79, 65.0]\n",
      "2025/03/13 21:14:59 INFO dspy.teleprompt.mipro_optimizer_v2: Best full score so far: 65.0\n",
      "2025/03/13 21:14:59 INFO dspy.teleprompt.mipro_optimizer_v2: ==========================================\n",
      "\n",
      "\n",
      "2025/03/13 21:14:59 INFO dspy.teleprompt.mipro_optimizer_v2: == Trial 20 / 32 - Minibatch ==\n"
     ]
    },
    {
     "name": "stdout",
     "output_type": "stream",
     "text": [
      "\n",
      "Average Metric: 25.00 / 40 (62.5%): 100%|██████████| 40/40 [01:20<00:00,  2.01s/it]"
     ]
    },
    {
     "name": "stderr",
     "output_type": "stream",
     "text": [
      "2025/03/13 21:16:19 INFO dspy.evaluate.evaluate: Average Metric: 24.999999999999996 / 40 (62.5%)\n",
      "2025/03/13 21:16:19 INFO dspy.teleprompt.mipro_optimizer_v2: Score: 62.5 on minibatch of size 40 with parameters ['Predictor 0: Instruction 4', 'Predictor 0: Few-Shot Set 3', 'Predictor 1: Instruction 7', 'Predictor 1: Few-Shot Set 3'].\n",
      "2025/03/13 21:16:19 INFO dspy.teleprompt.mipro_optimizer_v2: Minibatch scores so far: [64.17, 54.17, 65.83, 51.67, 50.83, 67.5, 62.5, 68.33, 67.5, 59.17, 64.17, 54.17, 57.5, 54.17, 62.5]\n",
      "2025/03/13 21:16:19 INFO dspy.teleprompt.mipro_optimizer_v2: Full eval scores so far: [29.58, 62.5, 62.29, 64.79, 65.0]\n",
      "2025/03/13 21:16:19 INFO dspy.teleprompt.mipro_optimizer_v2: Best full score so far: 65.0\n",
      "2025/03/13 21:16:19 INFO dspy.teleprompt.mipro_optimizer_v2: ==========================================\n",
      "\n",
      "\n",
      "2025/03/13 21:16:19 INFO dspy.teleprompt.mipro_optimizer_v2: ===== Trial 21 / 32 - Full Evaluation =====\n",
      "2025/03/13 21:16:19 INFO dspy.teleprompt.mipro_optimizer_v2: Doing full eval on next top averaging program (Avg Score: 64.17) from minibatch trials...\n"
     ]
    },
    {
     "name": "stdout",
     "output_type": "stream",
     "text": [
      "\n",
      "Average Metric: 99.33 / 160 (62.1%): 100%|██████████| 160/160 [03:45<00:00,  1.41s/it]"
     ]
    },
    {
     "name": "stderr",
     "output_type": "stream",
     "text": [
      "2025/03/13 21:20:05 INFO dspy.evaluate.evaluate: Average Metric: 99.33333333333339 / 160 (62.1%)\n",
      "2025/03/13 21:20:05 INFO dspy.teleprompt.mipro_optimizer_v2: Full eval scores so far: [29.58, 62.5, 62.29, 64.79, 65.0, 62.08]\n",
      "2025/03/13 21:20:05 INFO dspy.teleprompt.mipro_optimizer_v2: Best full score so far: 65.0\n",
      "2025/03/13 21:20:05 INFO dspy.teleprompt.mipro_optimizer_v2: =======================\n",
      "2025/03/13 21:20:05 INFO dspy.teleprompt.mipro_optimizer_v2: \n",
      "\n",
      "2025/03/13 21:20:05 INFO dspy.teleprompt.mipro_optimizer_v2: == Trial 22 / 32 - Minibatch ==\n"
     ]
    },
    {
     "name": "stdout",
     "output_type": "stream",
     "text": [
      "\n",
      "Average Metric: 22.33 / 40 (55.8%): 100%|██████████| 40/40 [01:30<00:00,  2.26s/it]"
     ]
    },
    {
     "name": "stderr",
     "output_type": "stream",
     "text": [
      "2025/03/13 21:21:35 INFO dspy.evaluate.evaluate: Average Metric: 22.333333333333336 / 40 (55.8%)\n",
      "2025/03/13 21:21:35 INFO dspy.teleprompt.mipro_optimizer_v2: Score: 55.83 on minibatch of size 40 with parameters ['Predictor 0: Instruction 2', 'Predictor 0: Few-Shot Set 0', 'Predictor 1: Instruction 7', 'Predictor 1: Few-Shot Set 1'].\n",
      "2025/03/13 21:21:35 INFO dspy.teleprompt.mipro_optimizer_v2: Minibatch scores so far: [64.17, 54.17, 65.83, 51.67, 50.83, 67.5, 62.5, 68.33, 67.5, 59.17, 64.17, 54.17, 57.5, 54.17, 62.5, 55.83]\n",
      "2025/03/13 21:21:35 INFO dspy.teleprompt.mipro_optimizer_v2: Full eval scores so far: [29.58, 62.5, 62.29, 64.79, 65.0, 62.08]\n",
      "2025/03/13 21:21:35 INFO dspy.teleprompt.mipro_optimizer_v2: Best full score so far: 65.0\n",
      "2025/03/13 21:21:35 INFO dspy.teleprompt.mipro_optimizer_v2: ==========================================\n",
      "\n",
      "\n",
      "2025/03/13 21:21:35 INFO dspy.teleprompt.mipro_optimizer_v2: == Trial 23 / 32 - Minibatch ==\n"
     ]
    },
    {
     "name": "stdout",
     "output_type": "stream",
     "text": [
      "\n",
      "Average Metric: 24.00 / 40 (60.0%): 100%|██████████| 40/40 [01:43<00:00,  2.58s/it]"
     ]
    },
    {
     "name": "stderr",
     "output_type": "stream",
     "text": [
      "2025/03/13 21:23:19 INFO dspy.evaluate.evaluate: Average Metric: 24.000000000000007 / 40 (60.0%)\n",
      "2025/03/13 21:23:19 INFO dspy.teleprompt.mipro_optimizer_v2: Score: 60.0 on minibatch of size 40 with parameters ['Predictor 0: Instruction 5', 'Predictor 0: Few-Shot Set 7', 'Predictor 1: Instruction 7', 'Predictor 1: Few-Shot Set 3'].\n",
      "2025/03/13 21:23:19 INFO dspy.teleprompt.mipro_optimizer_v2: Minibatch scores so far: [64.17, 54.17, 65.83, 51.67, 50.83, 67.5, 62.5, 68.33, 67.5, 59.17, 64.17, 54.17, 57.5, 54.17, 62.5, 55.83, 60.0]\n",
      "2025/03/13 21:23:19 INFO dspy.teleprompt.mipro_optimizer_v2: Full eval scores so far: [29.58, 62.5, 62.29, 64.79, 65.0, 62.08]\n",
      "2025/03/13 21:23:19 INFO dspy.teleprompt.mipro_optimizer_v2: Best full score so far: 65.0\n",
      "2025/03/13 21:23:19 INFO dspy.teleprompt.mipro_optimizer_v2: ==========================================\n",
      "\n",
      "\n",
      "2025/03/13 21:23:19 INFO dspy.teleprompt.mipro_optimizer_v2: == Trial 24 / 32 - Minibatch ==\n"
     ]
    },
    {
     "name": "stdout",
     "output_type": "stream",
     "text": [
      "\n",
      "Average Metric: 26.00 / 40 (65.0%): 100%|██████████| 40/40 [01:41<00:00,  2.54s/it]"
     ]
    },
    {
     "name": "stderr",
     "output_type": "stream",
     "text": [
      "2025/03/13 21:25:00 INFO dspy.evaluate.evaluate: Average Metric: 26.000000000000007 / 40 (65.0%)\n",
      "2025/03/13 21:25:00 INFO dspy.teleprompt.mipro_optimizer_v2: Score: 65.0 on minibatch of size 40 with parameters ['Predictor 0: Instruction 7', 'Predictor 0: Few-Shot Set 5', 'Predictor 1: Instruction 5', 'Predictor 1: Few-Shot Set 3'].\n",
      "2025/03/13 21:25:00 INFO dspy.teleprompt.mipro_optimizer_v2: Minibatch scores so far: [64.17, 54.17, 65.83, 51.67, 50.83, 67.5, 62.5, 68.33, 67.5, 59.17, 64.17, 54.17, 57.5, 54.17, 62.5, 55.83, 60.0, 65.0]\n",
      "2025/03/13 21:25:00 INFO dspy.teleprompt.mipro_optimizer_v2: Full eval scores so far: [29.58, 62.5, 62.29, 64.79, 65.0, 62.08]\n",
      "2025/03/13 21:25:00 INFO dspy.teleprompt.mipro_optimizer_v2: Best full score so far: 65.0\n",
      "2025/03/13 21:25:00 INFO dspy.teleprompt.mipro_optimizer_v2: ==========================================\n",
      "\n",
      "\n",
      "2025/03/13 21:25:00 INFO dspy.teleprompt.mipro_optimizer_v2: ===== Trial 25 / 32 - Full Evaluation =====\n",
      "2025/03/13 21:25:00 INFO dspy.teleprompt.mipro_optimizer_v2: Doing full eval on next top averaging program (Avg Score: 65.0) from minibatch trials...\n"
     ]
    },
    {
     "name": "stdout",
     "output_type": "stream",
     "text": [
      "\n",
      "Average Metric: 95.67 / 160 (59.8%): 100%|██████████| 160/160 [03:34<00:00,  1.34s/it]"
     ]
    },
    {
     "name": "stderr",
     "output_type": "stream",
     "text": [
      "2025/03/13 21:28:35 INFO dspy.evaluate.evaluate: Average Metric: 95.66666666666674 / 160 (59.8%)\n",
      "2025/03/13 21:28:35 INFO dspy.teleprompt.mipro_optimizer_v2: Full eval scores so far: [29.58, 62.5, 62.29, 64.79, 65.0, 62.08, 59.79]\n",
      "2025/03/13 21:28:35 INFO dspy.teleprompt.mipro_optimizer_v2: Best full score so far: 65.0\n",
      "2025/03/13 21:28:35 INFO dspy.teleprompt.mipro_optimizer_v2: =======================\n",
      "2025/03/13 21:28:35 INFO dspy.teleprompt.mipro_optimizer_v2: \n",
      "\n",
      "2025/03/13 21:28:35 INFO dspy.teleprompt.mipro_optimizer_v2: == Trial 26 / 32 - Minibatch ==\n"
     ]
    },
    {
     "name": "stdout",
     "output_type": "stream",
     "text": [
      "\n",
      "Average Metric: 24.67 / 40 (61.7%): 100%|██████████| 40/40 [01:00<00:00,  1.52s/it]"
     ]
    },
    {
     "name": "stderr",
     "output_type": "stream",
     "text": [
      "2025/03/13 21:29:36 INFO dspy.evaluate.evaluate: Average Metric: 24.666666666666664 / 40 (61.7%)\n",
      "2025/03/13 21:29:36 INFO dspy.teleprompt.mipro_optimizer_v2: Score: 61.67 on minibatch of size 40 with parameters ['Predictor 0: Instruction 3', 'Predictor 0: Few-Shot Set 4', 'Predictor 1: Instruction 6', 'Predictor 1: Few-Shot Set 3'].\n",
      "2025/03/13 21:29:36 INFO dspy.teleprompt.mipro_optimizer_v2: Minibatch scores so far: [64.17, 54.17, 65.83, 51.67, 50.83, 67.5, 62.5, 68.33, 67.5, 59.17, 64.17, 54.17, 57.5, 54.17, 62.5, 55.83, 60.0, 65.0, 61.67]\n",
      "2025/03/13 21:29:36 INFO dspy.teleprompt.mipro_optimizer_v2: Full eval scores so far: [29.58, 62.5, 62.29, 64.79, 65.0, 62.08, 59.79]\n",
      "2025/03/13 21:29:36 INFO dspy.teleprompt.mipro_optimizer_v2: Best full score so far: 65.0\n",
      "2025/03/13 21:29:36 INFO dspy.teleprompt.mipro_optimizer_v2: ==========================================\n",
      "\n",
      "\n",
      "2025/03/13 21:29:36 INFO dspy.teleprompt.mipro_optimizer_v2: == Trial 27 / 32 - Minibatch ==\n"
     ]
    },
    {
     "name": "stdout",
     "output_type": "stream",
     "text": [
      "\n",
      "Average Metric: 25.67 / 40 (64.2%): 100%|██████████| 40/40 [01:19<00:00,  1.98s/it]"
     ]
    },
    {
     "name": "stderr",
     "output_type": "stream",
     "text": [
      "2025/03/13 21:30:55 INFO dspy.evaluate.evaluate: Average Metric: 25.666666666666668 / 40 (64.2%)\n",
      "2025/03/13 21:30:55 INFO dspy.teleprompt.mipro_optimizer_v2: Score: 64.17 on minibatch of size 40 with parameters ['Predictor 0: Instruction 4', 'Predictor 0: Few-Shot Set 0', 'Predictor 1: Instruction 7', 'Predictor 1: Few-Shot Set 5'].\n",
      "2025/03/13 21:30:55 INFO dspy.teleprompt.mipro_optimizer_v2: Minibatch scores so far: [64.17, 54.17, 65.83, 51.67, 50.83, 67.5, 62.5, 68.33, 67.5, 59.17, 64.17, 54.17, 57.5, 54.17, 62.5, 55.83, 60.0, 65.0, 61.67, 64.17]\n",
      "2025/03/13 21:30:55 INFO dspy.teleprompt.mipro_optimizer_v2: Full eval scores so far: [29.58, 62.5, 62.29, 64.79, 65.0, 62.08, 59.79]\n",
      "2025/03/13 21:30:55 INFO dspy.teleprompt.mipro_optimizer_v2: Best full score so far: 65.0\n",
      "2025/03/13 21:30:55 INFO dspy.teleprompt.mipro_optimizer_v2: ==========================================\n",
      "\n",
      "\n",
      "2025/03/13 21:30:55 INFO dspy.teleprompt.mipro_optimizer_v2: == Trial 28 / 32 - Minibatch ==\n"
     ]
    },
    {
     "name": "stdout",
     "output_type": "stream",
     "text": [
      "\n",
      "Average Metric: 23.00 / 40 (57.5%): 100%|██████████| 40/40 [00:01<00:00, 36.09it/s]"
     ]
    },
    {
     "name": "stderr",
     "output_type": "stream",
     "text": [
      "2025/03/13 21:30:57 INFO dspy.evaluate.evaluate: Average Metric: 23.000000000000007 / 40 (57.5%)\n",
      "2025/03/13 21:30:57 INFO dspy.teleprompt.mipro_optimizer_v2: Score: 57.5 on minibatch of size 40 with parameters ['Predictor 0: Instruction 1', 'Predictor 0: Few-Shot Set 0', 'Predictor 1: Instruction 7', 'Predictor 1: Few-Shot Set 3'].\n",
      "2025/03/13 21:30:57 INFO dspy.teleprompt.mipro_optimizer_v2: Minibatch scores so far: [64.17, 54.17, 65.83, 51.67, 50.83, 67.5, 62.5, 68.33, 67.5, 59.17, 64.17, 54.17, 57.5, 54.17, 62.5, 55.83, 60.0, 65.0, 61.67, 64.17, 57.5]\n",
      "2025/03/13 21:30:57 INFO dspy.teleprompt.mipro_optimizer_v2: Full eval scores so far: [29.58, 62.5, 62.29, 64.79, 65.0, 62.08, 59.79]\n",
      "2025/03/13 21:30:57 INFO dspy.teleprompt.mipro_optimizer_v2: Best full score so far: 65.0\n",
      "2025/03/13 21:30:57 INFO dspy.teleprompt.mipro_optimizer_v2: ==========================================\n",
      "\n",
      "\n",
      "2025/03/13 21:30:57 INFO dspy.teleprompt.mipro_optimizer_v2: ===== Trial 29 / 32 - Full Evaluation =====\n",
      "2025/03/13 21:30:57 INFO dspy.teleprompt.mipro_optimizer_v2: Doing full eval on next top averaging program (Avg Score: 64.17) from minibatch trials...\n"
     ]
    },
    {
     "name": "stdout",
     "output_type": "stream",
     "text": [
      "\n",
      "Average Metric: 101.67 / 160 (63.5%): 100%|██████████| 160/160 [02:16<00:00,  1.18it/s]"
     ]
    },
    {
     "name": "stderr",
     "output_type": "stream",
     "text": [
      "2025/03/13 21:33:13 INFO dspy.evaluate.evaluate: Average Metric: 101.66666666666674 / 160 (63.5%)\n",
      "2025/03/13 21:33:13 INFO dspy.teleprompt.mipro_optimizer_v2: Full eval scores so far: [29.58, 62.5, 62.29, 64.79, 65.0, 62.08, 59.79, 63.54]\n",
      "2025/03/13 21:33:13 INFO dspy.teleprompt.mipro_optimizer_v2: Best full score so far: 65.0\n",
      "2025/03/13 21:33:13 INFO dspy.teleprompt.mipro_optimizer_v2: =======================\n",
      "2025/03/13 21:33:13 INFO dspy.teleprompt.mipro_optimizer_v2: \n",
      "\n",
      "2025/03/13 21:33:13 INFO dspy.teleprompt.mipro_optimizer_v2: == Trial 30 / 32 - Minibatch ==\n"
     ]
    },
    {
     "name": "stdout",
     "output_type": "stream",
     "text": [
      "\n",
      "Average Metric: 11.33 / 40 (28.3%): 100%|██████████| 40/40 [01:14<00:00,  1.86s/it]"
     ]
    },
    {
     "name": "stderr",
     "output_type": "stream",
     "text": [
      "2025/03/13 21:34:27 INFO dspy.evaluate.evaluate: Average Metric: 11.333333333333336 / 40 (28.3%)\n",
      "2025/03/13 21:34:27 INFO dspy.teleprompt.mipro_optimizer_v2: Score: 28.33 on minibatch of size 40 with parameters ['Predictor 0: Instruction 0', 'Predictor 0: Few-Shot Set 5', 'Predictor 1: Instruction 2', 'Predictor 1: Few-Shot Set 0'].\n",
      "2025/03/13 21:34:27 INFO dspy.teleprompt.mipro_optimizer_v2: Minibatch scores so far: [64.17, 54.17, 65.83, 51.67, 50.83, 67.5, 62.5, 68.33, 67.5, 59.17, 64.17, 54.17, 57.5, 54.17, 62.5, 55.83, 60.0, 65.0, 61.67, 64.17, 57.5, 28.33]\n",
      "2025/03/13 21:34:27 INFO dspy.teleprompt.mipro_optimizer_v2: Full eval scores so far: [29.58, 62.5, 62.29, 64.79, 65.0, 62.08, 59.79, 63.54]\n",
      "2025/03/13 21:34:27 INFO dspy.teleprompt.mipro_optimizer_v2: Best full score so far: 65.0\n",
      "2025/03/13 21:34:27 INFO dspy.teleprompt.mipro_optimizer_v2: ==========================================\n",
      "\n",
      "\n",
      "2025/03/13 21:34:27 INFO dspy.teleprompt.mipro_optimizer_v2: == Trial 31 / 32 - Minibatch ==\n"
     ]
    },
    {
     "name": "stdout",
     "output_type": "stream",
     "text": [
      "\n",
      "Average Metric: 16.67 / 26 (64.1%):  65%|██████▌   | 26/40 [00:59<00:21,  1.57s/it]"
     ]
    },
    {
     "name": "stderr",
     "output_type": "stream",
     "text": [
      "2025/03/13 21:35:27 ERROR dspy.utils.parallelizer: Error for Example({'claim': 'A science fiction Western television show stars an Canadian , director, producer, writer, singer, musician, voice artist and stand-up comedian. Laura Jane Laughlin appeared on this show.', 'titles': ['Legend (TV series)', 'John de Lancie', 'Laura Jane Laughlin']}) (input_keys={'claim'}): Expected dict_keys(['reasoning', 'query']) but got dict_keys(['reasoning']). Set `provide_traceback=True` for traceback.\n"
     ]
    },
    {
     "name": "stdout",
     "output_type": "stream",
     "text": [
      "Average Metric: 25.00 / 39 (64.1%): 100%|██████████| 40/40 [01:27<00:00,  2.18s/it]"
     ]
    },
    {
     "name": "stderr",
     "output_type": "stream",
     "text": [
      "2025/03/13 21:35:54 INFO dspy.evaluate.evaluate: Average Metric: 25.000000000000004 / 40 (62.5%)\n",
      "2025/03/13 21:35:54 INFO dspy.teleprompt.mipro_optimizer_v2: Score: 62.5 on minibatch of size 40 with parameters ['Predictor 0: Instruction 0', 'Predictor 0: Few-Shot Set 6', 'Predictor 1: Instruction 7', 'Predictor 1: Few-Shot Set 3'].\n",
      "2025/03/13 21:35:54 INFO dspy.teleprompt.mipro_optimizer_v2: Minibatch scores so far: [64.17, 54.17, 65.83, 51.67, 50.83, 67.5, 62.5, 68.33, 67.5, 59.17, 64.17, 54.17, 57.5, 54.17, 62.5, 55.83, 60.0, 65.0, 61.67, 64.17, 57.5, 28.33, 62.5]\n",
      "2025/03/13 21:35:54 INFO dspy.teleprompt.mipro_optimizer_v2: Full eval scores so far: [29.58, 62.5, 62.29, 64.79, 65.0, 62.08, 59.79, 63.54]\n",
      "2025/03/13 21:35:54 INFO dspy.teleprompt.mipro_optimizer_v2: Best full score so far: 65.0\n",
      "2025/03/13 21:35:54 INFO dspy.teleprompt.mipro_optimizer_v2: ==========================================\n",
      "\n",
      "\n",
      "2025/03/13 21:35:54 INFO dspy.teleprompt.mipro_optimizer_v2: ===== Trial 32 / 32 - Full Evaluation =====\n",
      "2025/03/13 21:35:54 INFO dspy.teleprompt.mipro_optimizer_v2: Doing full eval on next top averaging program (Avg Score: 64.17) from minibatch trials...\n"
     ]
    },
    {
     "name": "stdout",
     "output_type": "stream",
     "text": [
      "\n",
      "Average Metric: 97.00 / 160 (60.6%): 100%|██████████| 160/160 [03:24<00:00,  1.28s/it]"
     ]
    },
    {
     "name": "stderr",
     "output_type": "stream",
     "text": [
      "2025/03/13 21:39:19 INFO dspy.evaluate.evaluate: Average Metric: 97.00000000000001 / 160 (60.6%)\n",
      "2025/03/13 21:39:19 INFO dspy.teleprompt.mipro_optimizer_v2: Full eval scores so far: [29.58, 62.5, 62.29, 64.79, 65.0, 62.08, 59.79, 63.54, 60.63]\n",
      "2025/03/13 21:39:19 INFO dspy.teleprompt.mipro_optimizer_v2: Best full score so far: 65.0\n",
      "2025/03/13 21:39:19 INFO dspy.teleprompt.mipro_optimizer_v2: =======================\n",
      "2025/03/13 21:39:19 INFO dspy.teleprompt.mipro_optimizer_v2: \n",
      "\n",
      "2025/03/13 21:39:19 INFO dspy.teleprompt.mipro_optimizer_v2: == Trial 33 / 32 - Minibatch ==\n"
     ]
    },
    {
     "name": "stdout",
     "output_type": "stream",
     "text": [
      "\n",
      "Average Metric: 25.00 / 40 (62.5%): 100%|██████████| 40/40 [00:42<00:00,  1.06s/it]"
     ]
    },
    {
     "name": "stderr",
     "output_type": "stream",
     "text": [
      "2025/03/13 21:40:01 INFO dspy.evaluate.evaluate: Average Metric: 24.999999999999996 / 40 (62.5%)\n",
      "2025/03/13 21:40:01 INFO dspy.teleprompt.mipro_optimizer_v2: Score: 62.5 on minibatch of size 40 with parameters ['Predictor 0: Instruction 8', 'Predictor 0: Few-Shot Set 2', 'Predictor 1: Instruction 5', 'Predictor 1: Few-Shot Set 2'].\n",
      "2025/03/13 21:40:01 INFO dspy.teleprompt.mipro_optimizer_v2: Minibatch scores so far: [64.17, 54.17, 65.83, 51.67, 50.83, 67.5, 62.5, 68.33, 67.5, 59.17, 64.17, 54.17, 57.5, 54.17, 62.5, 55.83, 60.0, 65.0, 61.67, 64.17, 57.5, 28.33, 62.5, 62.5]\n",
      "2025/03/13 21:40:01 INFO dspy.teleprompt.mipro_optimizer_v2: Full eval scores so far: [29.58, 62.5, 62.29, 64.79, 65.0, 62.08, 59.79, 63.54, 60.63]\n",
      "2025/03/13 21:40:01 INFO dspy.teleprompt.mipro_optimizer_v2: Best full score so far: 65.0\n",
      "2025/03/13 21:40:01 INFO dspy.teleprompt.mipro_optimizer_v2: ==========================================\n",
      "\n",
      "\n",
      "2025/03/13 21:40:01 INFO dspy.teleprompt.mipro_optimizer_v2: Returning best identified program with score 65.0!\n"
     ]
    },
    {
     "name": "stdout",
     "output_type": "stream",
     "text": [
      "\n"
     ]
    }
   ],
   "source": [
    "models = dict(prompt_model=gpt4o, teacher_settings=dict(lm=gpt4o))\n",
    "tp = dspy.MIPROv2(metric=top5_recall, auto=\"medium\", num_threads=16, **models)\n",
    "\n",
    "kwargs = dict(minibatch_size=40, minibatch_full_eval_steps=4, requires_permission_to_run=False)\n",
    "optimized = tp.compile(Hop(), trainset=trainset, max_bootstrapped_demos=4, max_labeled_demos=4, **kwargs)"
   ]
  },
  {
   "cell_type": "code",
   "execution_count": 14,
   "metadata": {},
   "outputs": [],
   "source": [
    "optimized.save(\"optimized_multihop.json\")"
   ]
  },
  {
   "cell_type": "code",
   "execution_count": 15,
   "metadata": {},
   "outputs": [
    {
     "name": "stdout",
     "output_type": "stream",
     "text": [
      "Average Metric: 201.67 / 300 (67.2%): 100%|██████████| 300/300 [08:34<00:00,  1.71s/it]"
     ]
    },
    {
     "name": "stderr",
     "output_type": "stream",
     "text": [
      "2025/03/13 21:51:32 INFO dspy.evaluate.evaluate: Average Metric: 201.66666666666657 / 300 (67.2%)\n"
     ]
    },
    {
     "name": "stdout",
     "output_type": "stream",
     "text": [
      "\n"
     ]
    },
    {
     "data": {
      "text/html": [
       "<div>\n",
       "<style scoped>\n",
       "    .dataframe tbody tr th:only-of-type {\n",
       "        vertical-align: middle;\n",
       "    }\n",
       "\n",
       "    .dataframe tbody tr th {\n",
       "        vertical-align: top;\n",
       "    }\n",
       "\n",
       "    .dataframe thead th {\n",
       "        text-align: right;\n",
       "    }\n",
       "</style>\n",
       "<table border=\"1\" class=\"dataframe\">\n",
       "  <thead>\n",
       "    <tr style=\"text-align: right;\">\n",
       "      <th></th>\n",
       "      <th>claim</th>\n",
       "      <th>example_titles</th>\n",
       "      <th>notes</th>\n",
       "      <th>pred_titles</th>\n",
       "      <th>top5_recall</th>\n",
       "    </tr>\n",
       "  </thead>\n",
       "  <tbody>\n",
       "    <tr>\n",
       "      <th>0</th>\n",
       "      <td>Nike football team has had a player endorse the football boot Nike...</td>\n",
       "      <td>[Nike Total 90, Marcus Rashford, Nike Hypervenom]</td>\n",
       "      <td>['Nike Total 90 was replaced by Nike Hypervenom.', 'Nike Hyperveno...</td>\n",
       "      <td>[Robert Lewandowski, Kylian Mbappé, Nike Total 90, Marcus Rashford...</td>\n",
       "      <td>✔️ [1.000]</td>\n",
       "    </tr>\n",
       "    <tr>\n",
       "      <th>1</th>\n",
       "      <td>Bill Boyd is the chairman of the appliance company that operates t...</td>\n",
       "      <td>[Suncoast Hotel and Casino, Thomas Eje, Boyd Gaming]</td>\n",
       "      <td>['Bill Boyd is the executive chairman of Boyd Gaming Corporation.'...</td>\n",
       "      <td>[Boyd Gaming Corporation, Thomas Eje, Suncoast Hotel and Casino, B...</td>\n",
       "      <td>✔️ [0.667]</td>\n",
       "    </tr>\n",
       "    <tr>\n",
       "      <th>2</th>\n",
       "      <td>The president of South Korea was born 24 January 1953. The group t...</td>\n",
       "      <td>[Moon Jae-in, Euh Yoon-dae, Presidential Council on Nation Brandin...</td>\n",
       "      <td>['The president of South Korea was born on January 24, 1953.', 'Eu...</td>\n",
       "      <td>[Euh Yoon-Dae, President of South Korea, Moon Jae-in, KB Financial...</td>\n",
       "      <td>✔️ [0.667]</td>\n",
       "    </tr>\n",
       "    <tr>\n",
       "      <th>3</th>\n",
       "      <td>The movie Khan Kluay was released 2 months before the 2009 movie t...</td>\n",
       "      <td>[Fantastic Mr. Fox (film), Khan Kluay, Jason Schwartzman]</td>\n",
       "      <td>['Khan Kluay was released in 2006.', 'Jason Schwartzman collaborat...</td>\n",
       "      <td>[Fantastic Mr. Fox, Khan Kluay, Jason Schwartzman]</td>\n",
       "      <td>✔️ [0.667]</td>\n",
       "    </tr>\n",
       "    <tr>\n",
       "      <th>4</th>\n",
       "      <td>The director of Finding Dory co-directed the film A Bug's Life.</td>\n",
       "      <td>[Andrew Stanton, Finding Dory, A Bug's Life]</td>\n",
       "      <td>['Andrew Stanton directed Finding Dory.', \"Andrew Stanton co-direc...</td>\n",
       "      <td>[Andrew Stanton, Lee Unkrich, Finding Dory, A Bug's Life]</td>\n",
       "      <td>✔️ [1.000]</td>\n",
       "    </tr>\n",
       "  </tbody>\n",
       "</table>\n",
       "</div>"
      ],
      "text/plain": [
       "                                                                   claim  \\\n",
       "0  Nike football team has had a player endorse the football boot Nike...   \n",
       "1  Bill Boyd is the chairman of the appliance company that operates t...   \n",
       "2  The president of South Korea was born 24 January 1953. The group t...   \n",
       "3  The movie Khan Kluay was released 2 months before the 2009 movie t...   \n",
       "4        The director of Finding Dory co-directed the film A Bug's Life.   \n",
       "\n",
       "                                                          example_titles  \\\n",
       "0                      [Nike Total 90, Marcus Rashford, Nike Hypervenom]   \n",
       "1                   [Suncoast Hotel and Casino, Thomas Eje, Boyd Gaming]   \n",
       "2  [Moon Jae-in, Euh Yoon-dae, Presidential Council on Nation Brandin...   \n",
       "3              [Fantastic Mr. Fox (film), Khan Kluay, Jason Schwartzman]   \n",
       "4                           [Andrew Stanton, Finding Dory, A Bug's Life]   \n",
       "\n",
       "                                                                   notes  \\\n",
       "0  ['Nike Total 90 was replaced by Nike Hypervenom.', 'Nike Hyperveno...   \n",
       "1  ['Bill Boyd is the executive chairman of Boyd Gaming Corporation.'...   \n",
       "2  ['The president of South Korea was born on January 24, 1953.', 'Eu...   \n",
       "3  ['Khan Kluay was released in 2006.', 'Jason Schwartzman collaborat...   \n",
       "4  ['Andrew Stanton directed Finding Dory.', \"Andrew Stanton co-direc...   \n",
       "\n",
       "                                                             pred_titles  \\\n",
       "0  [Robert Lewandowski, Kylian Mbappé, Nike Total 90, Marcus Rashford...   \n",
       "1  [Boyd Gaming Corporation, Thomas Eje, Suncoast Hotel and Casino, B...   \n",
       "2  [Euh Yoon-Dae, President of South Korea, Moon Jae-in, KB Financial...   \n",
       "3                     [Fantastic Mr. Fox, Khan Kluay, Jason Schwartzman]   \n",
       "4              [Andrew Stanton, Lee Unkrich, Finding Dory, A Bug's Life]   \n",
       "\n",
       "  top5_recall  \n",
       "0  ✔️ [1.000]  \n",
       "1  ✔️ [0.667]  \n",
       "2  ✔️ [0.667]  \n",
       "3  ✔️ [0.667]  \n",
       "4  ✔️ [1.000]  "
      ]
     },
     "metadata": {},
     "output_type": "display_data"
    },
    {
     "data": {
      "text/html": [
       "\n",
       "                <div style='\n",
       "                    text-align: center;\n",
       "                    font-size: 16px;\n",
       "                    font-weight: bold;\n",
       "                    color: #555;\n",
       "                    margin: 10px 0;'>\n",
       "                    ... 295 more rows not displayed ...\n",
       "                </div>\n",
       "                "
      ],
      "text/plain": [
       "<IPython.core.display.HTML object>"
      ]
     },
     "metadata": {},
     "output_type": "display_data"
    },
    {
     "data": {
      "text/plain": [
       "67.22"
      ]
     },
     "execution_count": 15,
     "metadata": {},
     "output_type": "execute_result"
    },
    {
     "data": {
      "text/html": [
       "\n",
       "<div>\n",
       "  <style scoped>\n",
       "  button {\n",
       "    border: none;\n",
       "    border-radius: 4px;\n",
       "    background-color: rgb(34, 114, 180);\n",
       "    font-family: -apple-system, \"system-ui\", \"Segoe UI\", Roboto, \"Helvetica Neue\", Arial;\n",
       "    font-size: 13px;\n",
       "    color: white;\n",
       "    margin-top: 8px;\n",
       "    margin-bottom: 8px;\n",
       "    padding: 8px 16px;\n",
       "    cursor: pointer;\n",
       "  }\n",
       "  button:hover {\n",
       "    background-color: rgb(66, 153, 224);\n",
       "  }\n",
       "  </style>\n",
       "  <button\n",
       "    onclick=\"\n",
       "        const display = this.nextElementSibling.style.display;\n",
       "        const isCollapsed = display === 'none';\n",
       "        this.nextElementSibling.style.display = isCollapsed ? null : 'none';\n",
       "\n",
       "        const verb = isCollapsed ? 'Collapse' : 'Expand';\n",
       "        this.innerText = `${verb} MLflow Trace`;\n",
       "    \"\n",
       "  >Collapse MLflow Trace</button>\n",
       "  <iframe\n",
       "    id=\"trace-renderer\"\n",
       "    style=\"width: 100%; height: 500px; border: none; resize: vertical;\"\n",
       "    src=\"http://localhost:5000/static-files/lib/notebook-trace-renderer/index.html?trace_id=7bbdc38de8c444cc88513cf28ad79e47&amp;experiment_id=374362034103955121&amp;trace_id=8129bcf4d3e146e3bb001dc6f855b901&amp;experiment_id=374362034103955121&amp;trace_id=aba3e7e6bc5a44cca70afd305d4f811e&amp;experiment_id=374362034103955121&amp;trace_id=e82e31eb46fa4c5f9eb30afa4cca24ee&amp;experiment_id=374362034103955121&amp;trace_id=844bc9b9844e47099da750af79dd8b7c&amp;experiment_id=374362034103955121&amp;trace_id=e4d9a179e74f4a14abf6899574a96453&amp;experiment_id=374362034103955121&amp;trace_id=555b36a23d874e70beb76f3ee1473d98&amp;experiment_id=374362034103955121&amp;trace_id=0f219fc1b9d8419f9213dd07201ce179&amp;experiment_id=374362034103955121&amp;trace_id=b75defb0113e43e49307943a1c9e0a19&amp;experiment_id=374362034103955121&amp;trace_id=57b5a3ce5b824b2f8ce48f0535d971e4&amp;experiment_id=374362034103955121&amp;version=2.20.3\"\n",
       "  />\n",
       "</div>\n"
      ],
      "text/plain": [
       "[Trace(request_id=7bbdc38de8c444cc88513cf28ad79e47), Trace(request_id=8129bcf4d3e146e3bb001dc6f855b901), Trace(request_id=aba3e7e6bc5a44cca70afd305d4f811e), Trace(request_id=e82e31eb46fa4c5f9eb30afa4cca24ee), Trace(request_id=844bc9b9844e47099da750af79dd8b7c), Trace(request_id=e4d9a179e74f4a14abf6899574a96453), Trace(request_id=555b36a23d874e70beb76f3ee1473d98), Trace(request_id=0f219fc1b9d8419f9213dd07201ce179), Trace(request_id=b75defb0113e43e49307943a1c9e0a19), Trace(request_id=57b5a3ce5b824b2f8ce48f0535d971e4)]"
      ]
     },
     "metadata": {},
     "output_type": "display_data"
    }
   ],
   "source": [
    "evaluate(optimized)"
   ]
  },
  {
   "cell_type": "code",
   "execution_count": 19,
   "metadata": {},
   "outputs": [
    {
     "data": {
      "text/plain": [
       "['Tabataba suivi de pawana',\n",
       " 'Up Against It!',\n",
       " 'The Alien',\n",
       " 'The Illusionist',\n",
       " 'Bernard-Marie Koltès',\n",
       " 'In the Solitude of Cotton Fields',\n",
       " 'Faultless disagreement',\n",
       " 'Up Against It',\n",
       " 'The Hook',\n",
       " \"The Kilroys' List\"]"
      ]
     },
     "execution_count": 19,
     "metadata": {},
     "output_type": "execute_result"
    },
    {
     "data": {
      "text/html": [
       "\n",
       "<div>\n",
       "  <style scoped>\n",
       "  button {\n",
       "    border: none;\n",
       "    border-radius: 4px;\n",
       "    background-color: rgb(34, 114, 180);\n",
       "    font-family: -apple-system, \"system-ui\", \"Segoe UI\", Roboto, \"Helvetica Neue\", Arial;\n",
       "    font-size: 13px;\n",
       "    color: white;\n",
       "    margin-top: 8px;\n",
       "    margin-bottom: 8px;\n",
       "    padding: 8px 16px;\n",
       "    cursor: pointer;\n",
       "  }\n",
       "  button:hover {\n",
       "    background-color: rgb(66, 153, 224);\n",
       "  }\n",
       "  </style>\n",
       "  <button\n",
       "    onclick=\"\n",
       "        const display = this.nextElementSibling.style.display;\n",
       "        const isCollapsed = display === 'none';\n",
       "        this.nextElementSibling.style.display = isCollapsed ? null : 'none';\n",
       "\n",
       "        const verb = isCollapsed ? 'Collapse' : 'Expand';\n",
       "        this.innerText = `${verb} MLflow Trace`;\n",
       "    \"\n",
       "  >Collapse MLflow Trace</button>\n",
       "  <iframe\n",
       "    id=\"trace-renderer\"\n",
       "    style=\"width: 100%; height: 500px; border: none; resize: vertical;\"\n",
       "    src=\"http://localhost:5000/static-files/lib/notebook-trace-renderer/index.html?trace_id=754456d5e931401eb0a60c4d1b3b46ca&amp;experiment_id=374362034103955121&amp;version=2.20.3\"\n",
       "  />\n",
       "</div>\n"
      ],
      "text/plain": [
       "Trace(request_id=754456d5e931401eb0a60c4d1b3b46ca)"
      ]
     },
     "metadata": {},
     "output_type": "display_data"
    }
   ],
   "source": [
    "Hop()(claim=\"The author of the 1960s unproduced script written for The Beatles, Up Against It, and Bernard-Marie Koltès are both playwrights.\").titles"
   ]
  },
  {
   "cell_type": "code",
   "execution_count": 20,
   "metadata": {},
   "outputs": [
    {
     "data": {
      "text/plain": [
       "['Joe Orton',\n",
       " 'Bernard-Marie Koltès',\n",
       " 'What the Butler Saw (play)',\n",
       " 'Up Against It']"
      ]
     },
     "execution_count": 20,
     "metadata": {},
     "output_type": "execute_result"
    },
    {
     "data": {
      "text/html": [
       "\n",
       "<div>\n",
       "  <style scoped>\n",
       "  button {\n",
       "    border: none;\n",
       "    border-radius: 4px;\n",
       "    background-color: rgb(34, 114, 180);\n",
       "    font-family: -apple-system, \"system-ui\", \"Segoe UI\", Roboto, \"Helvetica Neue\", Arial;\n",
       "    font-size: 13px;\n",
       "    color: white;\n",
       "    margin-top: 8px;\n",
       "    margin-bottom: 8px;\n",
       "    padding: 8px 16px;\n",
       "    cursor: pointer;\n",
       "  }\n",
       "  button:hover {\n",
       "    background-color: rgb(66, 153, 224);\n",
       "  }\n",
       "  </style>\n",
       "  <button\n",
       "    onclick=\"\n",
       "        const display = this.nextElementSibling.style.display;\n",
       "        const isCollapsed = display === 'none';\n",
       "        this.nextElementSibling.style.display = isCollapsed ? null : 'none';\n",
       "\n",
       "        const verb = isCollapsed ? 'Collapse' : 'Expand';\n",
       "        this.innerText = `${verb} MLflow Trace`;\n",
       "    \"\n",
       "  >Collapse MLflow Trace</button>\n",
       "  <iframe\n",
       "    id=\"trace-renderer\"\n",
       "    style=\"width: 100%; height: 500px; border: none; resize: vertical;\"\n",
       "    src=\"http://localhost:5000/static-files/lib/notebook-trace-renderer/index.html?trace_id=9d0cf60b8ab447d9908223552a7aea83&amp;experiment_id=374362034103955121&amp;version=2.20.3\"\n",
       "  />\n",
       "</div>\n"
      ],
      "text/plain": [
       "Trace(request_id=9d0cf60b8ab447d9908223552a7aea83)"
      ]
     },
     "metadata": {},
     "output_type": "display_data"
    }
   ],
   "source": [
    "optimized(claim=\"The author of the 1960s unproduced script written for The Beatles, Up Against It, and Bernard-Marie Koltès are both playwrights.\").titles"
   ]
  },
  {
   "cell_type": "code",
   "execution_count": 21,
   "metadata": {},
   "outputs": [
    {
     "name": "stdout",
     "output_type": "stream",
     "text": [
      "\n",
      "\n",
      "\n",
      "\n",
      "\u001b[34m[2025-03-13T21:59:46.192830]\u001b[0m\n",
      "\n",
      "\u001b[31mSystem message:\u001b[0m\n",
      "\n",
      "Your input fields are:\n",
      "1. `claim` (str)\n",
      "2. `notes` (str)\n",
      "3. `context` (str)\n",
      "\n",
      "Your output fields are:\n",
      "1. `reasoning` (str)\n",
      "2. `new_notes` (list[str])\n",
      "3. `titles` (list[str])\n",
      "\n",
      "All interactions will be structured in the following way, with the appropriate values filled in.\n",
      "\n",
      "[[ ## claim ## ]]\n",
      "{claim}\n",
      "\n",
      "[[ ## notes ## ]]\n",
      "{notes}\n",
      "\n",
      "[[ ## context ## ]]\n",
      "{context}\n",
      "\n",
      "[[ ## reasoning ## ]]\n",
      "{reasoning}\n",
      "\n",
      "[[ ## new_notes ## ]]\n",
      "{new_notes}        # note: the value you produce must adhere to the JSON schema: {\"type\": \"array\", \"items\": {\"type\": \"string\"}}\n",
      "\n",
      "[[ ## titles ## ]]\n",
      "{titles}        # note: the value you produce must adhere to the JSON schema: {\"type\": \"array\", \"items\": {\"type\": \"string\"}}\n",
      "\n",
      "[[ ## completed ## ]]\n",
      "\n",
      "In adhering to this structure, your objective is: \n",
      "        Using the provided `claim`, `notes`, and `context`, synthesize the information to generate `new_notes` and `titles`. The `new_notes` should include refined and relevant insights that support or refute the claim, while the `titles` should list key entities or sources that are pertinent to the reasoning process. Ensure that the reasoning is clear and logical, guiding the derivation of `new_notes` and `titles` in a manner that effectively aids in the verification of the claim.\n",
      "\n",
      "\n",
      "\u001b[31mUser message:\u001b[0m\n",
      "\n",
      "This is an example of the task, though some input or output fields are not supplied.\n",
      "\n",
      "[[ ## claim ## ]]\n",
      "The director of From the Manger to the Cross also acted in it. The director Denis Villeneuve has won more Those Who Make Revolution Halfway than this director.\n",
      "\n",
      "[[ ## notes ## ]]\n",
      "Not supplied for this particular example. \n",
      "\n",
      "[[ ## context ## ]]\n",
      "Not supplied for this particular example.\n",
      "\n",
      "Respond with the corresponding output fields, starting with the field `[[ ## reasoning ## ]]`, then `[[ ## new_notes ## ]]` (must be formatted as a valid Python list[str]), then `[[ ## titles ## ]]` (must be formatted as a valid Python list[str]), and then ending with the marker for `[[ ## completed ## ]]`.\n",
      "\n",
      "\n",
      "\u001b[31mAssistant message:\u001b[0m\n",
      "\n",
      "[[ ## reasoning ## ]]\n",
      "Not supplied for this particular example. \n",
      "\n",
      "[[ ## new_notes ## ]]\n",
      "Not supplied for this particular example. \n",
      "\n",
      "[[ ## titles ## ]]\n",
      "[\"From the Manger to the Cross\", \"Sidney Olcott\", \"Denis Villeneuve\"]\n",
      "\n",
      "[[ ## completed ## ]]\n",
      "\n",
      "\n",
      "\u001b[31mUser message:\u001b[0m\n",
      "\n",
      "This is an example of the task, though some input or output fields are not supplied.\n",
      "\n",
      "[[ ## claim ## ]]\n",
      "1990 Film that Khiladiyon Ka Khiladi is loosely based on stars this actor who is best known for martial arts action films.\n",
      "\n",
      "[[ ## notes ## ]]\n",
      "Not supplied for this particular example. \n",
      "\n",
      "[[ ## context ## ]]\n",
      "Not supplied for this particular example.\n",
      "\n",
      "Respond with the corresponding output fields, starting with the field `[[ ## reasoning ## ]]`, then `[[ ## new_notes ## ]]` (must be formatted as a valid Python list[str]), then `[[ ## titles ## ]]` (must be formatted as a valid Python list[str]), and then ending with the marker for `[[ ## completed ## ]]`.\n",
      "\n",
      "\n",
      "\u001b[31mAssistant message:\u001b[0m\n",
      "\n",
      "[[ ## reasoning ## ]]\n",
      "Not supplied for this particular example. \n",
      "\n",
      "[[ ## new_notes ## ]]\n",
      "Not supplied for this particular example. \n",
      "\n",
      "[[ ## titles ## ]]\n",
      "[\"Lionheart (1990 film)\", \"Jean-Claude Van Damme\", \"Khiladiyon Ka Khiladi\"]\n",
      "\n",
      "[[ ## completed ## ]]\n",
      "\n",
      "\n",
      "\u001b[31mUser message:\u001b[0m\n",
      "\n",
      "This is an example of the task, though some input or output fields are not supplied.\n",
      "\n",
      "[[ ## claim ## ]]\n",
      "An Greek actor who was a CIA operative in Chuck Versus the A-Team was born in 1974. The actor plays a character in commercials for Old Spice.\n",
      "\n",
      "[[ ## notes ## ]]\n",
      "Not supplied for this particular example. \n",
      "\n",
      "[[ ## context ## ]]\n",
      "Not supplied for this particular example.\n",
      "\n",
      "Respond with the corresponding output fields, starting with the field `[[ ## reasoning ## ]]`, then `[[ ## new_notes ## ]]` (must be formatted as a valid Python list[str]), then `[[ ## titles ## ]]` (must be formatted as a valid Python list[str]), and then ending with the marker for `[[ ## completed ## ]]`.\n",
      "\n",
      "\n",
      "\u001b[31mAssistant message:\u001b[0m\n",
      "\n",
      "[[ ## reasoning ## ]]\n",
      "Not supplied for this particular example. \n",
      "\n",
      "[[ ## new_notes ## ]]\n",
      "Not supplied for this particular example. \n",
      "\n",
      "[[ ## titles ## ]]\n",
      "[\"Isaiah Mustafa\", \"Chuck Versus the A-Team\", \"Make a Smellmitment\"]\n",
      "\n",
      "[[ ## completed ## ]]\n",
      "\n",
      "\n",
      "\u001b[31mUser message:\u001b[0m\n",
      "\n",
      "[[ ## claim ## ]]\n",
      "The director of action movie Batman: Mask of the Phantasm, produced Avengers Assemble that premiered on Disney XD on May 26, 2013.\n",
      "\n",
      "[[ ## notes ## ]]\n",
      "[1] «Eric Radomski and Bruce Timm directed Batman: Mask of the Phantasm.»\n",
      "[2] «Avengers Assemble premiered on Disney XD on May 26, 2013.»\n",
      "[3] «Avengers Assemble was produced by Marvel Animation.»\n",
      "[4] «Eric Radomski and Bruce Timm directed Batman: Mask of the Phantasm.»\n",
      "[5] «Avengers Assemble premiered on Disney XD on May 26, 2013.»\n",
      "[6] «Avengers Assemble was produced by Marvel Animation.»\n",
      "[7] «Eric Radomski and Bruce Timm directed Batman: Mask of the Phantasm.»\n",
      "[8] «Avengers Assemble premiered on Disney XD on May 26, 2013.»\n",
      "[9] «Avengers Assemble was produced by Marvel Animation.»\n",
      "[10] «Eric Radomski is a producer associated with Avengers Assemble.»\n",
      "[11] «Eric Radomski and Bruce Timm directed Batman: Mask of the Phantasm.»\n",
      "[12] «Avengers Assemble premiered on Disney XD on May 26, 2013.»\n",
      "[13] «Avengers Assemble was produced by Marvel Animation.»\n",
      "[14] «Eric Radomski is a producer associated with Avengers Assemble.»\n",
      "\n",
      "[[ ## context ## ]]\n",
      "{\"Eric Radomski | Eric Radomski is a producer most closely linked with Warner Bros.  Animation.  He is perhaps best known as co-creator and co-producer of \\\"\\\".  He has also acted as producer for \\\"Freakazoid! \\\", \\\"Xiaolin Showdown\\\", \\\"Shaggy & Scooby-Doo Get a Clue! \\\", \\\"Ultimate Spider-Man\\\", \\\"Avengers Assemble\\\", \\\"Hulk and the Agents of S.M.A.S.H.\\\" and \\\"Guardians of the Galaxy\\\".\": 19.127614974975586, \"Batman: Mask of the Phantasm | Batman: Mask of the Phantasm (also known as Batman: The Animated Movie) is a 1993 American animated neo-noir superhero mystery film featuring the DC Comics character Batman.  Directed by Eric Radomski and Bruce Timm, it is a cinematic continuation of \\\"\\\".\": 18.941490173339844, \"Batman: The Animated Series | Batman: The Animated Series is an American animated television series based on the DC Comics superhero Batman.  It was developed by Bruce Timm and Eric Radomski.  Produced by Warner Bros.  Animation, it originally aired on Fox Kids from September 5, 1992, to September 15, 1995, with a total of 85 episodes.  For the final fifteen episodes, the series was given the on-screen title The Adventures of Batman & Robin, which was also used for reruns of earlier episodes.  The series eventually spawned a continuation show, \\\"The New Batman Adventures\\\".\": 16.094226837158203, \"Bruce Timm | Bruce Walter Timm (born February 5, 1961) is an American artist, character designer, animator, writer, producer, and actor.  He is best known for his contributions building the modern DC Comics animated franchise, the DC animated universe.\": 11.690523147583008, \"Smart, connected products | Smart, connected products are products, assets and other things embedded with processors, sensors, software and connectivity that allow data to be exchanged between the product and its environment, manufacturer, operator/user, and other products and systems.  Connectivity also enables some capabilities of the product to exist outside the physical device, in what is known as the product cloud.  The data collected from these products can be then analyzed to inform decision-making, enable operational efficiencies and continuously improve the performance of the product.\": 11.263616561889648, \"Avengers Assemble | \\\"Avengers assemble!\\\"  is the rallying cry for the Marvel Comics superhero team the Avengers.\": 10.323777198791504, \"Avengers Assemble (comics) | Avengers Assemble was an ongoing comic book series featuring the Marvel Comics superhero team the Avengers.  Its initial release coincided with the release of the 2012 film \\\"The Avengers\\\".\": 10.2802152633667, \"Product Miniature Company | Product Miniature Company, or known by the acronym PMC, was a company that manufactured pre-assembled plastic promotional models cars, banks and toys in Milwaukee, Wisconsin.  It was started by brothers William Edward \\\"Ed\\\" and Paul Ford in 1946.  Car model production, the company mainstay, ended about 1965.  In 1958 or 1959 the company moved to Pewaukee, west of Milwaukee, and remains there to this day, now producing other plastic promotional products, but not vehicles (Timm 2010 Product Miniature page).\": 10.202466011047363, \"Production of Avengers: Infinity War and the untitled Avengers sequel | Production of Avengers: Infinity War and the untitled Avengers sequel\": 10.155390739440918, \"Avengers Assemble (TV series) | Avengers Assemble is an American animated television series based on the fictional Marvel Comics superhero team known as the Avengers.  Designed to capitalize on the success of the 2012 film, \\\"The Avengers\\\", the series premiered on Disney XD on May 26, 2013, as the successor to \\\"\\\".\": 10.022963523864746}\n",
      "\n",
      "Respond with the corresponding output fields, starting with the field `[[ ## reasoning ## ]]`, then `[[ ## new_notes ## ]]` (must be formatted as a valid Python list[str]), then `[[ ## titles ## ]]` (must be formatted as a valid Python list[str]), and then ending with the marker for `[[ ## completed ## ]]`.\n",
      "\n",
      "\n",
      "\u001b[31mAssistant message:\u001b[0m\n",
      "\n",
      "[[ ## reasoning ## ]]\n",
      "The claim states that the director of \"Batman: Mask of the Phantasm\" also produced \"Avengers Assemble.\" According to the notes, \"Batman: Mask of the Phantasm\" was directed by Eric Radomski and Bruce Timm. The context confirms that Eric Radomski is associated with \"Avengers Assemble\" as a producer. Therefore, the claim is true because Eric Radomski, one of the directors of \"Batman: Mask of the Phantasm,\" was involved in the production of \"Avengers Assemble.\"\n",
      "\n",
      "[[ ## new_notes ## ]]\n",
      "[\"Eric Radomski and Bruce Timm directed Batman: Mask of the Phantasm.\", \"Avengers Assemble premiered on Disney XD on May 26, 2013.\", \"Avengers Assemble was produced by Marvel Animation.\", \"Eric Radomski is a producer associated with Avengers Assemble.\"]\n",
      "\n",
      "[[ ## titles ## ]]\n",
      "[\"Batman: Mask of the Phantasm\", \"Avengers Assemble (TV series)\", \"Eric Radomski\"]\n",
      "\n",
      "[[ ## completed ## ]]\n",
      "\n",
      "\n",
      "\u001b[31mUser message:\u001b[0m\n",
      "\n",
      "[[ ## claim ## ]]\n",
      "The author of the 1960s unproduced script written for The Beatles, Up Against It, and Bernard-Marie Koltès are both playwrights.\n",
      "\n",
      "[[ ## notes ## ]]\n",
      "[1] «Joe Orton was a playwright.»\n",
      "[2] «Bernard-Marie Koltès was a playwright.»\n",
      "[3] «Joe Orton was a playwright.»\n",
      "[4] «Bernard-Marie Koltès was a playwright.»\n",
      "[5] «Joe Orton was a playwright.»\n",
      "[6] «Bernard-Marie Koltès was a playwright.»\n",
      "\n",
      "[[ ## context ## ]]\n",
      "{\"Up Against It | Up Against It is an unproduced script by Joe Orton, written in 1967 for The Beatles at the height of their fame.\": 23.741418838500977, \"The Alien (unproduced film) | The Alien was an unproduced Indian-American science fiction film in development in the late 1960s which was eventually cancelled.  It was to be directed by celebrated Indian filmmaker Satyajit Ray and co-produced by Columbia Pictures.  The script was written by Ray in 1967, loosely based on Bankubabur Bandhu (\\\"Banku Babu's Friend\\\" or \\\"Mr. Banku's Friend\\\"), a Bengali science fiction story he had written in 1962 for \\\"Sandesh\\\", the Ray family magazine, which gained popularity among Bengalis in the early 1960s.  \\\"Bankubabur Bandhu\\\" was eventually adapted into a television film by Satyajit Ray's son Sandip Ray, and a play by the theatre group Swapnasandhani Kaushik Sen, in 2006.\": 14.683004379272461, \"Marsha Albert | Marsha Albert (born 1948) is credited with being the person who jump-started the early 1960s phenomena known as Beatlemania in the United States when as a 15-year-old girl, on 17 December 1963, she introduced for the first time on American radio a song written and recorded by The Beatles titled I Want to Hold Your Hand (the Beatles' best-selling single worldwide), and that Beatles historian and author Bruce Spizer noted, in 2004, by his stating \\\"Marsha Albert's actions forced a major record company to push up the release date of a debut single from an unknown band during the holiday season, a time when record companies traditionally released no new product.\\\"\": 13.23648452758789, \"Up Against It! (Todd Rundgren album) | Up Against It!  is a 1997 album by Todd Rundgren, essentially consisting of Rundgren's song demos for the Off Broadway show that were Written and Recorded by Todd from 1986-88.  The project was inspired by the never-produced Up Against It which was a play originally written by Joe Orton for The Beatles.\": 12.989564895629883, \"Blood and Fire (Star Trek: The Next Generation) | \\\"Blood and Fire\\\" is an episode written by David Gerrold for possible use on \\\"\\\".  The script was commissioned and written, but never actually filmed.  According to Gerrold, some of the production staff, including Rick Berman, had a negative reaction to its positive depiction of an openly gay couple.  Herbert Wright rewrote the script under the name \\\"Blood and Ice\\\", which also was left unproduced.\": 11.980507850646973, \"Cedar Rapids (film) | Cedar Rapids is a 2011 American comedy film directed by Miguel Arteta.  The script, written by Phil Johnston, was included on the 2009 Black List, a Hollywood list of the most popular unproduced screenplays of the year.\": 11.593442916870117, \"The Beatles: The Biography | The Beatles: The Biography is the name of a 2005 biography of the 1960s rock band The Beatles written by Bob Spitz.  It was first published by Little, Brown and Company on November 1, 2005.\": 11.583497047424316, \"The Illusionist (2010 film) | The Illusionist (French: L'Illusionniste ) is a 2010 French-British animated film directed by Sylvain Chomet.  The film is based on an unproduced script written by French mime, director and actor Jacques Tati in 1956.  Controversy surrounds Tati's motivation for the script, which was written as a personal letter to his estranged eldest daughter, Helga Marie-Jeanne Schiel in collaboration with his long-term writing partner Henri Marquet, between writing for the films \\\"Mon Oncle\\\" and \\\"Play Time\\\".\": 11.528532981872559, \"Bobby Florsheim | Robert Florsheim (born December 19, 1969) is an American screenwriter, best known for co-writing \\\"The Passion Of The Ark\\\" with Josh Stolberg, (the basis for the film \\\"Evan Almighty\\\").  Their original script was reported by Daily Variety as the highest priced spec script ever sold by unproduced screenwriters (April, 2004).  In refashioning the script into \\\"Evan Almighty\\\", Universal Studios discarded the script and then hired screenwriter Steve Oedekerk, who received sole writing credit on the finished film.\": 11.23757553100586, \"The Hook (screenplay) | The Hook is an unproduced screenplay by American playwright, Arthur Miller.  It was written in 1947 and was intended to be produced by Columbia Pictures Studio, Hollywood, and to be directed by Elia Kazan.  The screenplay was inspired by the true story of Pete Panto, a young dockworker who stood up against the corrupt Mafia-connected union leadership.  Panto was discovered dead in a pit outside New York eighteen months after his disappearance.  Set in the Red Hook district of Brooklyn, \\\"The Hook\\\" is the story of Marty Ferrara, a longshoreman who is ‘ready to lay down his life, if need be, to secure one thing – his sense of personal dignity.’\": 11.222980499267578}\n",
      "\n",
      "Respond with the corresponding output fields, starting with the field `[[ ## reasoning ## ]]`, then `[[ ## new_notes ## ]]` (must be formatted as a valid Python list[str]), then `[[ ## titles ## ]]` (must be formatted as a valid Python list[str]), and then ending with the marker for `[[ ## completed ## ]]`.\n",
      "\n",
      "\n",
      "\u001b[31mResponse:\u001b[0m\n",
      "\n",
      "\u001b[32m[[ ## reasoning ## ]]\n",
      "The claim states that the author of the 1960s unproduced script written for The Beatles, \"Up Against It\", and Bernard-Marie Koltès are both playwrights. The notes confirm that Joe Orton was a playwright, and the context also mentions that Bernard-Marie Koltès was a playwright. Therefore, the claim is true because both authors are indeed playwrights.\n",
      "\n",
      "[[ ## new_notes ## ]]\n",
      "[\"Joe Orton was a playwright.\", \"Bernard-Marie Koltès was a playwright.\"]\n",
      "\n",
      "[[ ## titles ## ]]\n",
      "[\"Up Against It\", \"Bernard-Marie Koltès\", \"Joe Orton\"]\n",
      "\n",
      "[[ ## completed ## ]]\u001b[0m\n",
      "\n",
      "\n",
      "\n",
      "\n",
      "\n"
     ]
    }
   ],
   "source": [
    "dspy.inspect_history(n=1)"
   ]
  }
 ],
 "metadata": {
  "kernelspec": {
   "display_name": "Python 3",
   "language": "python",
   "name": "python3"
  },
  "language_info": {
   "codemirror_mode": {
    "name": "ipython",
    "version": 3
   },
   "file_extension": ".py",
   "mimetype": "text/x-python",
   "name": "python",
   "nbconvert_exporter": "python",
   "pygments_lexer": "ipython3",
   "version": "3.10.16"
  }
 },
 "nbformat": 4,
 "nbformat_minor": 2
}
