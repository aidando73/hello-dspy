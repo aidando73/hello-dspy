{
 "cells": [
  {
   "cell_type": "code",
   "execution_count": 2,
   "metadata": {},
   "outputs": [
    {
     "data": {
      "text/plain": [
       "<Experiment: artifact_location='mlflow-artifacts:/374362034103955121', creation_time=1741686562632, experiment_id='374362034103955121', last_update_time=1741686562632, lifecycle_stage='active', name='DSPy', tags={}>"
      ]
     },
     "execution_count": 2,
     "metadata": {},
     "output_type": "execute_result"
    }
   ],
   "source": [
    "import mlflow\n",
    "\n",
    "mlflow.set_tracking_uri(\"http://localhost:5000\")\n",
    "mlflow.set_experiment(\"DSPy\")"
   ]
  },
  {
   "cell_type": "code",
   "execution_count": 3,
   "metadata": {},
   "outputs": [
    {
     "name": "stderr",
     "output_type": "stream",
     "text": [
      "/Users/aidand/dev/hello-dspy/env/lib/python3.10/site-packages/tqdm/auto.py:21: TqdmWarning: IProgress not found. Please update jupyter and ipywidgets. See https://ipywidgets.readthedocs.io/en/stable/user_install.html\n",
      "  from .autonotebook import tqdm as notebook_tqdm\n"
     ]
    }
   ],
   "source": [
    "mlflow.dspy.autolog()"
   ]
  },
  {
   "cell_type": "code",
   "execution_count": 4,
   "metadata": {},
   "outputs": [],
   "source": [
    "import dspy\n",
    "import os\n",
    "from dotenv import load_dotenv\n",
    "from IPython.display import Image, display\n",
    "\n",
    "load_dotenv()\n",
    "\n",
    "lm = dspy.LM('openai/gpt-4o-mini')\n",
    "dspy.configure(lm=lm)"
   ]
  },
  {
   "cell_type": "code",
   "execution_count": 5,
   "metadata": {},
   "outputs": [
    {
     "name": "stdout",
     "output_type": "stream",
     "text": [
      "['The capital of France is Paris.']\n"
     ]
    },
    {
     "data": {
      "text/html": [
       "\n",
       "<div>\n",
       "  <style scoped>\n",
       "  button {\n",
       "    border: none;\n",
       "    border-radius: 4px;\n",
       "    background-color: rgb(34, 114, 180);\n",
       "    font-family: -apple-system, \"system-ui\", \"Segoe UI\", Roboto, \"Helvetica Neue\", Arial;\n",
       "    font-size: 13px;\n",
       "    color: white;\n",
       "    margin-top: 8px;\n",
       "    margin-bottom: 8px;\n",
       "    padding: 8px 16px;\n",
       "    cursor: pointer;\n",
       "  }\n",
       "  button:hover {\n",
       "    background-color: rgb(66, 153, 224);\n",
       "  }\n",
       "  </style>\n",
       "  <button\n",
       "    onclick=\"\n",
       "        const display = this.nextElementSibling.style.display;\n",
       "        const isCollapsed = display === 'none';\n",
       "        this.nextElementSibling.style.display = isCollapsed ? null : 'none';\n",
       "\n",
       "        const verb = isCollapsed ? 'Collapse' : 'Expand';\n",
       "        this.innerText = `${verb} MLflow Trace`;\n",
       "    \"\n",
       "  >Collapse MLflow Trace</button>\n",
       "  <iframe\n",
       "    id=\"trace-renderer\"\n",
       "    style=\"width: 100%; height: 500px; border: none; resize: vertical;\"\n",
       "    src=\"http://localhost:5000/static-files/lib/notebook-trace-renderer/index.html?trace_id=1c6987fd58bb4a2381127fae95d64a82&amp;experiment_id=374362034103955121&amp;version=2.20.3\"\n",
       "  />\n",
       "</div>\n"
      ],
      "text/plain": [
       "Trace(request_id=1c6987fd58bb4a2381127fae95d64a82)"
      ]
     },
     "metadata": {},
     "output_type": "display_data"
    }
   ],
   "source": [
    "response = lm(\"What is the capital of France?\")\n",
    "print(response)"
   ]
  },
  {
   "cell_type": "code",
   "execution_count": 6,
   "metadata": {},
   "outputs": [
    {
     "name": "stdout",
     "output_type": "stream",
     "text": [
      "In Linux, \"high memory\" and \"low memory\" refer to different regions of the system's memory address space, particularly in the context of how the kernel manages memory for processes.\n",
      "\n",
      "- **Low Memory**: This typically refers to the memory that is directly accessible by the kernel and can be used by processes without any special handling. In a 32-bit system, this is usually the first 896 MB of RAM (though this can vary based on the architecture and configuration). Low memory is used for kernel data structures and for user processes that require direct access to memory.\n",
      "\n",
      "- **High Memory**: This refers to memory that is above the addressable range of the kernel in a 32-bit system. Since the kernel can only directly access a limited amount of memory (due to the 4 GB address space limitation), any memory above this limit is considered high memory. Processes can still use this memory, but the kernel must use special mechanisms (like paging) to access it. High memory is more relevant in systems with large amounts of RAM, where the kernel cannot map all of it into its address space.\n",
      "\n",
      "In summary, low memory is directly accessible by the kernel, while high memory requires additional handling for the kernel to access it, especially in 32-bit systems. In 64-bit systems, the distinction is less significant due to the larger addressable memory space.\n",
      "\n",
      "\n",
      "\n",
      "\n",
      "\u001b[34m[2025-03-11T21:10:27.172339]\u001b[0m\n",
      "\n",
      "\u001b[31mSystem message:\u001b[0m\n",
      "\n",
      "Your input fields are:\n",
      "1. `question` (str)\n",
      "\n",
      "Your output fields are:\n",
      "1. `response` (str)\n",
      "\n",
      "All interactions will be structured in the following way, with the appropriate values filled in.\n",
      "\n",
      "[[ ## question ## ]]\n",
      "{question}\n",
      "\n",
      "[[ ## response ## ]]\n",
      "{response}\n",
      "\n",
      "[[ ## completed ## ]]\n",
      "\n",
      "In adhering to this structure, your objective is: \n",
      "        Given the fields `question`, produce the fields `response`.\n",
      "\n",
      "\n",
      "\u001b[31mUser message:\u001b[0m\n",
      "\n",
      "[[ ## question ## ]]\n",
      "what are high memory and low memory on linux?\n",
      "\n",
      "Respond with the corresponding output fields, starting with the field `[[ ## response ## ]]`, and then ending with the marker for `[[ ## completed ## ]]`.\n",
      "\n",
      "\n",
      "\u001b[31mResponse:\u001b[0m\n",
      "\n",
      "\u001b[32m[[ ## response ## ]]\n",
      "In Linux, \"high memory\" and \"low memory\" refer to different regions of the system's memory address space, particularly in the context of how the kernel manages memory for processes.\n",
      "\n",
      "- **Low Memory**: This typically refers to the memory that is directly accessible by the kernel and can be used by processes without any special handling. In a 32-bit system, this is usually the first 896 MB of RAM (though this can vary based on the architecture and configuration). Low memory is used for kernel data structures and for user processes that require direct access to memory.\n",
      "\n",
      "- **High Memory**: This refers to memory that is above the addressable range of the kernel in a 32-bit system. Since the kernel can only directly access a limited amount of memory (due to the 4 GB address space limitation), any memory above this limit is considered high memory. Processes can still use this memory, but the kernel must use special mechanisms (like paging) to access it. High memory is more relevant in systems with large amounts of RAM, where the kernel cannot map all of it into its address space.\n",
      "\n",
      "In summary, low memory is directly accessible by the kernel, while high memory requires additional handling for the kernel to access it, especially in 32-bit systems. In 64-bit systems, the distinction is less significant due to the larger addressable memory space. \n",
      "\n",
      "[[ ## completed ## ]]\u001b[0m\n",
      "\n",
      "\n",
      "\n",
      "\n",
      "\n"
     ]
    },
    {
     "data": {
      "text/html": [
       "\n",
       "<div>\n",
       "  <style scoped>\n",
       "  button {\n",
       "    border: none;\n",
       "    border-radius: 4px;\n",
       "    background-color: rgb(34, 114, 180);\n",
       "    font-family: -apple-system, \"system-ui\", \"Segoe UI\", Roboto, \"Helvetica Neue\", Arial;\n",
       "    font-size: 13px;\n",
       "    color: white;\n",
       "    margin-top: 8px;\n",
       "    margin-bottom: 8px;\n",
       "    padding: 8px 16px;\n",
       "    cursor: pointer;\n",
       "  }\n",
       "  button:hover {\n",
       "    background-color: rgb(66, 153, 224);\n",
       "  }\n",
       "  </style>\n",
       "  <button\n",
       "    onclick=\"\n",
       "        const display = this.nextElementSibling.style.display;\n",
       "        const isCollapsed = display === 'none';\n",
       "        this.nextElementSibling.style.display = isCollapsed ? null : 'none';\n",
       "\n",
       "        const verb = isCollapsed ? 'Collapse' : 'Expand';\n",
       "        this.innerText = `${verb} MLflow Trace`;\n",
       "    \"\n",
       "  >Collapse MLflow Trace</button>\n",
       "  <iframe\n",
       "    id=\"trace-renderer\"\n",
       "    style=\"width: 100%; height: 500px; border: none; resize: vertical;\"\n",
       "    src=\"http://localhost:5000/static-files/lib/notebook-trace-renderer/index.html?trace_id=550a889132af46c9b8ca417da08c2b0c&amp;experiment_id=374362034103955121&amp;version=2.20.3\"\n",
       "  />\n",
       "</div>\n"
      ],
      "text/plain": [
       "Trace(request_id=550a889132af46c9b8ca417da08c2b0c)"
      ]
     },
     "metadata": {},
     "output_type": "display_data"
    }
   ],
   "source": [
    "qa = dspy.Predict('question: str -> response: str')\n",
    "response = qa(question=\"what are high memory and low memory on linux?\")\n",
    "print(response.response)\n",
    "\n",
    "lm.inspect_history(n=1)"
   ]
  },
  {
   "cell_type": "code",
   "execution_count": 7,
   "metadata": {},
   "outputs": [
    {
     "data": {
      "text/plain": [
       "Prediction(\n",
       "    reasoning='The placement of curly braces on their own line is largely a matter of coding style and conventions. In some programming languages and style guides, such as the Allman style, it is common to place opening curly braces on a new line to enhance readability. This can help visually separate blocks of code. In contrast, other styles, like K&R style, place the opening brace on the same line as the control statement, which can save vertical space. Ultimately, whether curly braces should appear on their own line depends on the coding standards being followed in a particular project or organization.',\n",
       "    response=\"Curly braces can appear on their own line depending on the coding style you are following. If you are using a style that emphasizes readability, such as the Allman style, then yes, they should be on their own line. If you are following a more compact style like K&R, then they would typically be on the same line. It's best to adhere to the conventions of the project you are working on.\"\n",
       ")"
      ]
     },
     "execution_count": 7,
     "metadata": {},
     "output_type": "execute_result"
    },
    {
     "data": {
      "text/html": [
       "\n",
       "<div>\n",
       "  <style scoped>\n",
       "  button {\n",
       "    border: none;\n",
       "    border-radius: 4px;\n",
       "    background-color: rgb(34, 114, 180);\n",
       "    font-family: -apple-system, \"system-ui\", \"Segoe UI\", Roboto, \"Helvetica Neue\", Arial;\n",
       "    font-size: 13px;\n",
       "    color: white;\n",
       "    margin-top: 8px;\n",
       "    margin-bottom: 8px;\n",
       "    padding: 8px 16px;\n",
       "    cursor: pointer;\n",
       "  }\n",
       "  button:hover {\n",
       "    background-color: rgb(66, 153, 224);\n",
       "  }\n",
       "  </style>\n",
       "  <button\n",
       "    onclick=\"\n",
       "        const display = this.nextElementSibling.style.display;\n",
       "        const isCollapsed = display === 'none';\n",
       "        this.nextElementSibling.style.display = isCollapsed ? null : 'none';\n",
       "\n",
       "        const verb = isCollapsed ? 'Collapse' : 'Expand';\n",
       "        this.innerText = `${verb} MLflow Trace`;\n",
       "    \"\n",
       "  >Collapse MLflow Trace</button>\n",
       "  <iframe\n",
       "    id=\"trace-renderer\"\n",
       "    style=\"width: 100%; height: 500px; border: none; resize: vertical;\"\n",
       "    src=\"http://localhost:5000/static-files/lib/notebook-trace-renderer/index.html?trace_id=010db365d4a746a19253e1e58fdbb57d&amp;experiment_id=374362034103955121&amp;version=2.20.3\"\n",
       "  />\n",
       "</div>\n"
      ],
      "text/plain": [
       "Trace(request_id=010db365d4a746a19253e1e58fdbb57d)"
      ]
     },
     "metadata": {},
     "output_type": "display_data"
    }
   ],
   "source": [
    "cot = dspy.ChainOfThought('question -> response')\n",
    "cot(question=\"should curly braces appear on their own line?\")"
   ]
  },
  {
   "cell_type": "code",
   "execution_count": 8,
   "metadata": {},
   "outputs": [],
   "source": [
    "import ujson\n",
    "from dspy.utils import download\n",
    "\n",
    "# Download question--answer pairs from the RAG-QA Arena \"Tech\" dataset.\n",
    "download(\"https://huggingface.co/dspy/cache/resolve/main/ragqa_arena_tech_examples.jsonl\")\n",
    "\n",
    "with open(\"ragqa_arena_tech_examples.jsonl\") as f:\n",
    "    data = [ujson.loads(line) for line in f]"
   ]
  },
  {
   "cell_type": "code",
   "execution_count": 9,
   "metadata": {},
   "outputs": [
    {
     "data": {
      "text/plain": [
       "{'question': 'why igp is used in mpls?',\n",
       " 'response': \"An IGP exchanges routing prefixes between gateways/routers.  \\nWithout a routing protocol, you'd have to configure each route on every router and you'd have no dynamic updates when routes change because of link failures. \\nFuthermore, within an MPLS network, an IGP is vital for advertising the internal topology and ensuring connectivity for MP-BGP inside the network.\",\n",
       " 'gold_doc_ids': [2822, 2823]}"
      ]
     },
     "execution_count": 9,
     "metadata": {},
     "output_type": "execute_result"
    }
   ],
   "source": [
    "# Inspect one datapoint.\n",
    "data[0]"
   ]
  },
  {
   "cell_type": "code",
   "execution_count": 10,
   "metadata": {},
   "outputs": [
    {
     "data": {
      "text/plain": [
       "Example({'question': 'why are my text messages coming up as maybe?', 'response': 'This is part of the Proactivity features new with iOS 9: It looks at info in emails to see if anyone with this number sent you an email and if it finds the phone number associated with a contact from your email, it will show you \"Maybe\". \\n\\nHowever, it has been suggested there is a bug in iOS 11.2 that can result in \"Maybe\" being displayed even when \"Find Contacts in Other Apps\" is disabled.', 'gold_doc_ids': [3956, 3957, 8034]}) (input_keys={'question'})"
      ]
     },
     "execution_count": 10,
     "metadata": {},
     "output_type": "execute_result"
    }
   ],
   "source": [
    "data = [dspy.Example(**d).with_inputs('question') for d in data]\n",
    "\n",
    "# Let's pick an `example` here from the data.\n",
    "example = data[2]\n",
    "example"
   ]
  },
  {
   "cell_type": "code",
   "execution_count": 11,
   "metadata": {},
   "outputs": [
    {
     "data": {
      "text/plain": [
       "(200, 300, 500)"
      ]
     },
     "execution_count": 11,
     "metadata": {},
     "output_type": "execute_result"
    }
   ],
   "source": [
    "import random\n",
    "\n",
    "random.Random(0).shuffle(data)\n",
    "trainset, devset, testset = data[:200], data[200:500], data[500:1000]\n",
    "\n",
    "len(trainset), len(devset), len(testset)"
   ]
  },
  {
   "cell_type": "code",
   "execution_count": 12,
   "metadata": {},
   "outputs": [
    {
     "name": "stdout",
     "output_type": "stream",
     "text": [
      "Question: \t why are my text messages coming up as maybe?\n",
      "\n",
      "Gold Response: \t This is part of the Proactivity features new with iOS 9: It looks at info in emails to see if anyone with this number sent you an email and if it finds the phone number associated with a contact from your email, it will show you \"Maybe\". \n",
      "\n",
      "However, it has been suggested there is a bug in iOS 11.2 that can result in \"Maybe\" being displayed even when \"Find Contacts in Other Apps\" is disabled.\n",
      "\n",
      "Predicted Response: \t Your text messages are showing up as \"maybe\" because the recipient's messaging app is unsure about the sender's identity. This can occur if you're not in their contacts or if the app is trying to filter out potential spam. To resolve this, you can ask the recipient to save your number or check their messaging app settings.\n",
      "\n",
      "Semantic F1 Score: 0.33\n"
     ]
    },
    {
     "data": {
      "text/html": [
       "\n",
       "<div>\n",
       "  <style scoped>\n",
       "  button {\n",
       "    border: none;\n",
       "    border-radius: 4px;\n",
       "    background-color: rgb(34, 114, 180);\n",
       "    font-family: -apple-system, \"system-ui\", \"Segoe UI\", Roboto, \"Helvetica Neue\", Arial;\n",
       "    font-size: 13px;\n",
       "    color: white;\n",
       "    margin-top: 8px;\n",
       "    margin-bottom: 8px;\n",
       "    padding: 8px 16px;\n",
       "    cursor: pointer;\n",
       "  }\n",
       "  button:hover {\n",
       "    background-color: rgb(66, 153, 224);\n",
       "  }\n",
       "  </style>\n",
       "  <button\n",
       "    onclick=\"\n",
       "        const display = this.nextElementSibling.style.display;\n",
       "        const isCollapsed = display === 'none';\n",
       "        this.nextElementSibling.style.display = isCollapsed ? null : 'none';\n",
       "\n",
       "        const verb = isCollapsed ? 'Collapse' : 'Expand';\n",
       "        this.innerText = `${verb} MLflow Trace`;\n",
       "    \"\n",
       "  >Collapse MLflow Trace</button>\n",
       "  <iframe\n",
       "    id=\"trace-renderer\"\n",
       "    style=\"width: 100%; height: 500px; border: none; resize: vertical;\"\n",
       "    src=\"http://localhost:5000/static-files/lib/notebook-trace-renderer/index.html?trace_id=41674e0cc334491fa5804516a3af9a9f&amp;experiment_id=374362034103955121&amp;trace_id=e4489feb136c4a078a8b297f6d1cb618&amp;experiment_id=374362034103955121&amp;version=2.20.3\"\n",
       "  />\n",
       "</div>\n"
      ],
      "text/plain": [
       "[Trace(request_id=41674e0cc334491fa5804516a3af9a9f), Trace(request_id=e4489feb136c4a078a8b297f6d1cb618)]"
      ]
     },
     "metadata": {},
     "output_type": "display_data"
    }
   ],
   "source": [
    "from dspy.evaluate import SemanticF1\n",
    "\n",
    "# Instantiate the metric.\n",
    "metric = SemanticF1(decompositional=True)\n",
    "\n",
    "# Produce a prediction from our `cot` module, using the `example` above as input.\n",
    "pred = cot(**example.inputs())\n",
    "\n",
    "# Compute the metric score for the prediction.\n",
    "score = metric(example, pred)\n",
    "\n",
    "print(f\"Question: \\t {example.question}\\n\")\n",
    "print(f\"Gold Response: \\t {example.response}\\n\")\n",
    "print(f\"Predicted Response: \\t {pred.response}\\n\")\n",
    "print(f\"Semantic F1 Score: {score:.2f}\")"
   ]
  },
  {
   "cell_type": "code",
   "execution_count": 13,
   "metadata": {},
   "outputs": [
    {
     "name": "stdout",
     "output_type": "stream",
     "text": [
      "Average Metric: 123.61 / 300 (41.2%): 100%|██████████| 300/300 [02:18<00:00,  2.17it/s]"
     ]
    },
    {
     "name": "stderr",
     "output_type": "stream",
     "text": [
      "2025/03/11 21:16:49 INFO dspy.evaluate.evaluate: Average Metric: 123.61108373468522 / 300 (41.2%)\n"
     ]
    },
    {
     "name": "stdout",
     "output_type": "stream",
     "text": [
      "\n"
     ]
    },
    {
     "data": {
      "text/html": [
       "<div>\n",
       "<style scoped>\n",
       "    .dataframe tbody tr th:only-of-type {\n",
       "        vertical-align: middle;\n",
       "    }\n",
       "\n",
       "    .dataframe tbody tr th {\n",
       "        vertical-align: top;\n",
       "    }\n",
       "\n",
       "    .dataframe thead th {\n",
       "        text-align: right;\n",
       "    }\n",
       "</style>\n",
       "<table border=\"1\" class=\"dataframe\">\n",
       "  <thead>\n",
       "    <tr style=\"text-align: right;\">\n",
       "      <th></th>\n",
       "      <th>question</th>\n",
       "      <th>example_response</th>\n",
       "      <th>gold_doc_ids</th>\n",
       "      <th>reasoning</th>\n",
       "      <th>pred_response</th>\n",
       "      <th>SemanticF1</th>\n",
       "    </tr>\n",
       "  </thead>\n",
       "  <tbody>\n",
       "    <tr>\n",
       "      <th>0</th>\n",
       "      <td>when to use c over c++, and c++ over c?</td>\n",
       "      <td>If you are equally familiar with both C++ and C, it's advisable to...</td>\n",
       "      <td>[733]</td>\n",
       "      <td>C and C++ are both powerful programming languages, but they serve ...</td>\n",
       "      <td>Use C when you need low-level system programming, performance, and...</td>\n",
       "      <td>✔️ [0.286]</td>\n",
       "    </tr>\n",
       "    <tr>\n",
       "      <th>1</th>\n",
       "      <td>should images be stored in a git repository?</td>\n",
       "      <td>One viewpoint expresses that there is no significant downside, esp...</td>\n",
       "      <td>[6253, 6254, 6275, 6278, 8215]</td>\n",
       "      <td>Storing images in a Git repository can be problematic for several ...</td>\n",
       "      <td>No, images should generally not be stored in a Git repository due ...</td>\n",
       "      <td>✔️ [0.286]</td>\n",
       "    </tr>\n",
       "  </tbody>\n",
       "</table>\n",
       "</div>"
      ],
      "text/plain": [
       "                                       question  \\\n",
       "0       when to use c over c++, and c++ over c?   \n",
       "1  should images be stored in a git repository?   \n",
       "\n",
       "                                                        example_response  \\\n",
       "0  If you are equally familiar with both C++ and C, it's advisable to...   \n",
       "1  One viewpoint expresses that there is no significant downside, esp...   \n",
       "\n",
       "                     gold_doc_ids  \\\n",
       "0                           [733]   \n",
       "1  [6253, 6254, 6275, 6278, 8215]   \n",
       "\n",
       "                                                               reasoning  \\\n",
       "0  C and C++ are both powerful programming languages, but they serve ...   \n",
       "1  Storing images in a Git repository can be problematic for several ...   \n",
       "\n",
       "                                                           pred_response  \\\n",
       "0  Use C when you need low-level system programming, performance, and...   \n",
       "1  No, images should generally not be stored in a Git repository due ...   \n",
       "\n",
       "   SemanticF1  \n",
       "0  ✔️ [0.286]  \n",
       "1  ✔️ [0.286]  "
      ]
     },
     "metadata": {},
     "output_type": "display_data"
    },
    {
     "data": {
      "text/html": [
       "\n",
       "                <div style='\n",
       "                    text-align: center;\n",
       "                    font-size: 16px;\n",
       "                    font-weight: bold;\n",
       "                    color: #555;\n",
       "                    margin: 10px 0;'>\n",
       "                    ... 298 more rows not displayed ...\n",
       "                </div>\n",
       "                "
      ],
      "text/plain": [
       "<IPython.core.display.HTML object>"
      ]
     },
     "metadata": {},
     "output_type": "display_data"
    },
    {
     "data": {
      "text/plain": [
       "41.2"
      ]
     },
     "execution_count": 13,
     "metadata": {},
     "output_type": "execute_result"
    },
    {
     "data": {
      "text/html": [
       "\n",
       "<div>\n",
       "  <style scoped>\n",
       "  button {\n",
       "    border: none;\n",
       "    border-radius: 4px;\n",
       "    background-color: rgb(34, 114, 180);\n",
       "    font-family: -apple-system, \"system-ui\", \"Segoe UI\", Roboto, \"Helvetica Neue\", Arial;\n",
       "    font-size: 13px;\n",
       "    color: white;\n",
       "    margin-top: 8px;\n",
       "    margin-bottom: 8px;\n",
       "    padding: 8px 16px;\n",
       "    cursor: pointer;\n",
       "  }\n",
       "  button:hover {\n",
       "    background-color: rgb(66, 153, 224);\n",
       "  }\n",
       "  </style>\n",
       "  <button\n",
       "    onclick=\"\n",
       "        const display = this.nextElementSibling.style.display;\n",
       "        const isCollapsed = display === 'none';\n",
       "        this.nextElementSibling.style.display = isCollapsed ? null : 'none';\n",
       "\n",
       "        const verb = isCollapsed ? 'Collapse' : 'Expand';\n",
       "        this.innerText = `${verb} MLflow Trace`;\n",
       "    \"\n",
       "  >Collapse MLflow Trace</button>\n",
       "  <iframe\n",
       "    id=\"trace-renderer\"\n",
       "    style=\"width: 100%; height: 500px; border: none; resize: vertical;\"\n",
       "    src=\"http://localhost:5000/static-files/lib/notebook-trace-renderer/index.html?trace_id=9c2d54a58a42401090e9c6149e2b1675&amp;experiment_id=374362034103955121&amp;trace_id=e43cdd1ad5be4aa5873ea044e6340d8c&amp;experiment_id=374362034103955121&amp;trace_id=2d5d8c8bdbb2468fafe2794fa67c7d3d&amp;experiment_id=374362034103955121&amp;trace_id=24644b17911e4f5f8608f9eb4c97d29c&amp;experiment_id=374362034103955121&amp;trace_id=d7bca27745f34aa2802bddf7ba73130c&amp;experiment_id=374362034103955121&amp;trace_id=8cd4080d6ce54dcf9bc41a8705aa63bb&amp;experiment_id=374362034103955121&amp;trace_id=3442f5512077413e9f6a0fa2c6ad4fa8&amp;experiment_id=374362034103955121&amp;trace_id=09af4dd6b1374730a787754f42775a34&amp;experiment_id=374362034103955121&amp;trace_id=6215161c12044018a00f80695305639b&amp;experiment_id=374362034103955121&amp;trace_id=d76ec63328904174a60849841c1d3ef4&amp;experiment_id=374362034103955121&amp;version=2.20.3\"\n",
       "  />\n",
       "</div>\n"
      ],
      "text/plain": [
       "[Trace(request_id=9c2d54a58a42401090e9c6149e2b1675), Trace(request_id=e43cdd1ad5be4aa5873ea044e6340d8c), Trace(request_id=2d5d8c8bdbb2468fafe2794fa67c7d3d), Trace(request_id=24644b17911e4f5f8608f9eb4c97d29c), Trace(request_id=d7bca27745f34aa2802bddf7ba73130c), Trace(request_id=8cd4080d6ce54dcf9bc41a8705aa63bb), Trace(request_id=3442f5512077413e9f6a0fa2c6ad4fa8), Trace(request_id=09af4dd6b1374730a787754f42775a34), Trace(request_id=6215161c12044018a00f80695305639b), Trace(request_id=d76ec63328904174a60849841c1d3ef4)]"
      ]
     },
     "metadata": {},
     "output_type": "display_data"
    }
   ],
   "source": [
    "# Define an evaluator that we can re-use.\n",
    "evaluate = dspy.Evaluate(devset=devset, metric=metric, num_threads=24,\n",
    "                         display_progress=True, display_table=2)\n",
    "\n",
    "# Evaluate the Chain-of-Thought program.\n",
    "evaluate(cot)"
   ]
  },
  {
   "cell_type": "code",
   "execution_count": 14,
   "metadata": {},
   "outputs": [
    {
     "name": "stdout",
     "output_type": "stream",
     "text": [
      "Downloading 'ragqa_arena_tech_corpus.jsonl'...\n"
     ]
    }
   ],
   "source": [
    "download(\"https://huggingface.co/dspy/cache/resolve/main/ragqa_arena_tech_corpus.jsonl\")"
   ]
  },
  {
   "cell_type": "code",
   "execution_count": 16,
   "metadata": {},
   "outputs": [
    {
     "name": "stdout",
     "output_type": "stream",
     "text": [
      "Loaded 28436 documents. Will encode them below.\n",
      "Training a 32-byte FAISS index with 337 partitions, based on 28436 x 512-dim embeddings\n"
     ]
    }
   ],
   "source": [
    "max_characters = 6000  # for truncating >99th percentile of documents\n",
    "topk_docs_to_retrieve = 5  # number of documents to retrieve per search query\n",
    "\n",
    "with open(\"ragqa_arena_tech_corpus.jsonl\") as f:\n",
    "    corpus = [ujson.loads(line)['text'][:max_characters] for line in f]\n",
    "    print(f\"Loaded {len(corpus)} documents. Will encode them below.\")\n",
    "\n",
    "embedder = dspy.Embedder('openai/text-embedding-3-small', dimensions=512)\n",
    "search = dspy.retrievers.Embeddings(embedder=embedder, corpus=corpus, k=topk_docs_to_retrieve)"
   ]
  },
  {
   "cell_type": "code",
   "execution_count": 17,
   "metadata": {},
   "outputs": [],
   "source": [
    "class RAG(dspy.Module):\n",
    "    def __init__(self):\n",
    "        self.respond = dspy.ChainOfThought('context, question -> response')\n",
    "\n",
    "    def forward(self, question):\n",
    "        context = search(question).passages\n",
    "        return self.respond(context=context, question=question)"
   ]
  },
  {
   "cell_type": "code",
   "execution_count": 18,
   "metadata": {},
   "outputs": [
    {
     "data": {
      "text/plain": [
       "Prediction(\n",
       "    reasoning=\"High memory and low memory in Linux refer to two distinct segments of the kernel's memory space. Low memory is the portion of memory that the kernel can access directly and is always mapped in the kernel's address space. This allows the kernel to access it without any additional steps. High memory, on the other hand, is not permanently mapped in the kernel's address space, meaning that the kernel must map it temporarily when it needs to access it. This distinction is crucial for managing memory efficiently, especially in a 32-bit architecture where the total addressable memory is limited. The kernel can access low memory directly, while high memory is used for temporary data buffers and requires specific functions (like kmap) to access.\",\n",
       "    response=\"In Linux, low memory refers to the segment of memory that the kernel can access directly and is always mapped in the kernel's address space. High memory, however, is a segment that is not permanently mapped, meaning the kernel must temporarily map it to access it. This distinction is important for memory management, especially in 32-bit systems, where the kernel needs to handle both user-space and kernel-space memory efficiently.\"\n",
       ")"
      ]
     },
     "execution_count": 18,
     "metadata": {},
     "output_type": "execute_result"
    },
    {
     "data": {
      "text/html": [
       "\n",
       "<div>\n",
       "  <style scoped>\n",
       "  button {\n",
       "    border: none;\n",
       "    border-radius: 4px;\n",
       "    background-color: rgb(34, 114, 180);\n",
       "    font-family: -apple-system, \"system-ui\", \"Segoe UI\", Roboto, \"Helvetica Neue\", Arial;\n",
       "    font-size: 13px;\n",
       "    color: white;\n",
       "    margin-top: 8px;\n",
       "    margin-bottom: 8px;\n",
       "    padding: 8px 16px;\n",
       "    cursor: pointer;\n",
       "  }\n",
       "  button:hover {\n",
       "    background-color: rgb(66, 153, 224);\n",
       "  }\n",
       "  </style>\n",
       "  <button\n",
       "    onclick=\"\n",
       "        const display = this.nextElementSibling.style.display;\n",
       "        const isCollapsed = display === 'none';\n",
       "        this.nextElementSibling.style.display = isCollapsed ? null : 'none';\n",
       "\n",
       "        const verb = isCollapsed ? 'Collapse' : 'Expand';\n",
       "        this.innerText = `${verb} MLflow Trace`;\n",
       "    \"\n",
       "  >Collapse MLflow Trace</button>\n",
       "  <iframe\n",
       "    id=\"trace-renderer\"\n",
       "    style=\"width: 100%; height: 500px; border: none; resize: vertical;\"\n",
       "    src=\"http://localhost:5000/static-files/lib/notebook-trace-renderer/index.html?trace_id=347047137f6a4af68c6b6dc8d4602ba5&amp;experiment_id=374362034103955121&amp;version=2.20.3\"\n",
       "  />\n",
       "</div>\n"
      ],
      "text/plain": [
       "Trace(request_id=347047137f6a4af68c6b6dc8d4602ba5)"
      ]
     },
     "metadata": {},
     "output_type": "display_data"
    }
   ],
   "source": [
    "rag = RAG()\n",
    "rag(question=\"what are high memory and low memory on linux?\")"
   ]
  },
  {
   "cell_type": "code",
   "execution_count": 19,
   "metadata": {},
   "outputs": [
    {
     "name": "stdout",
     "output_type": "stream",
     "text": [
      "\n",
      "\n",
      "\n",
      "\n",
      "\u001b[34m[2025-03-11T21:40:37.919814]\u001b[0m\n",
      "\n",
      "\u001b[31mSystem message:\u001b[0m\n",
      "\n",
      "Your input fields are:\n",
      "1. `context` (str)\n",
      "2. `question` (str)\n",
      "\n",
      "Your output fields are:\n",
      "1. `reasoning` (str)\n",
      "2. `response` (str)\n",
      "\n",
      "All interactions will be structured in the following way, with the appropriate values filled in.\n",
      "\n",
      "[[ ## context ## ]]\n",
      "{context}\n",
      "\n",
      "[[ ## question ## ]]\n",
      "{question}\n",
      "\n",
      "[[ ## reasoning ## ]]\n",
      "{reasoning}\n",
      "\n",
      "[[ ## response ## ]]\n",
      "{response}\n",
      "\n",
      "[[ ## completed ## ]]\n",
      "\n",
      "In adhering to this structure, your objective is: \n",
      "        Given the fields `context`, `question`, produce the fields `response`.\n",
      "\n",
      "\n",
      "\u001b[31mUser message:\u001b[0m\n",
      "\n",
      "[[ ## context ## ]]\n",
      "[1] «As far as I remember, High Memory is used for application space and Low Memory for the kernel. Advantage is that (user-space) applications cant access kernel-space memory.»\n",
      "[2] «HIGHMEM is a range of kernels memory space, but it is NOT memory you access but its a place where you put what you want to access. A typical 32bit Linux virtual memory map is like: 0x00000000-0xbfffffff: user process (3GB) 0xc0000000-0xffffffff: kernel space (1GB) (CPU-specific vector and whatsoever are ignored here). Linux splits the 1GB kernel space into 2 pieces, LOWMEM and HIGHMEM. The split varies from installation to installation. If an installation chooses, say, 512MB-512MB for LOW and HIGH mems, the 512MB LOWMEM (0xc0000000-0xdfffffff) is statically mapped at the kernel boot time; usually the first so many bytes of the physical memory is used for this so that virtual and physical addresses in this range have a constant offset of, say, 0xc0000000. On the other hand, the latter 512MB (HIGHMEM) has no static mapping (although you could leave pages semi-permanently mapped there, but you must do so explicitly in your driver code). Instead, pages are temporarily mapped and unmapped here so that virtual and physical addresses in this range have no consistent mapping. Typical uses of HIGHMEM include single-time data buffers.»\n",
      "[3] «This is relevant to the Linux kernel; Im not sure how any Unix kernel handles this. The High Memory is the segment of memory that user-space programs can address. It cannot touch Low Memory. Low Memory is the segment of memory that the Linux kernel can address directly. If the kernel must access High Memory, it has to map it into its own address space first. There was a patch introduced recently that lets you control where the segment is. The tradeoff is that you can take addressable memory away from user space so that the kernel can have more memory that it does not have to map before using. Additional resources: http://tldp.org/HOWTO/KernelAnalysis-HOWTO-7.html http://linux-mm.org/HighMemory»\n",
      "[4] «The first reference to turn to is Linux Device Drivers (available both online and in book form), particularly chapter 15 which has a section on the topic. In an ideal world, every system component would be able to map all the memory it ever needs to access. And this is the case for processes on Linux and most operating systems: a 32-bit process can only access a little less than 2^32 bytes of virtual memory (in fact about 3GB on a typical Linux 32-bit architecture). It gets difficult for the kernel, which needs to be able to map the full memory of the process whose system call its executing, plus the whole physical memory, plus any other memory-mapped hardware device. So when a 32-bit kernel needs to map more than 4GB of memory, it must be compiled with high memory support. High memory is memory which is not permanently mapped in the kernels address space. (Low memory is the opposite: it is always mapped, so you can access it in the kernel simply by dereferencing a pointer.) When you access high memory from kernel code, you need to call kmap first, to obtain a pointer from a page data structure (struct page). Calling kmap works whether the page is in high or low memory. There is also kmap_atomic which has added constraints but is more efficient on multiprocessor machines because it uses finer-grained locking. The pointer obtained through kmap is a resource: it uses up address space. Once youve finished with it, you must call kunmap (or kunmap_atomic) to free that resource; then the pointer is no longer valid, and the contents of the page cant be accessed until you call kmap again.»\n",
      "[5] «Since you dont mention, Im assuming this is on Linux. Any of the following should show you (with root): dmidecode -t memory dmidecode -t 16 lshw -class memory»\n",
      "\n",
      "[[ ## question ## ]]\n",
      "what are high memory and low memory on linux?\n",
      "\n",
      "Respond with the corresponding output fields, starting with the field `[[ ## reasoning ## ]]`, then `[[ ## response ## ]]`, and then ending with the marker for `[[ ## completed ## ]]`.\n",
      "\n",
      "\n",
      "\u001b[31mResponse:\u001b[0m\n",
      "\n",
      "\u001b[32m[[ ## reasoning ## ]]\n",
      "High memory and low memory in Linux refer to two distinct segments of the kernel's memory space. Low memory is the portion of memory that the kernel can access directly and is always mapped in the kernel's address space. This allows the kernel to access it without any additional steps. High memory, on the other hand, is not permanently mapped in the kernel's address space, meaning that the kernel must map it temporarily when it needs to access it. This distinction is crucial for managing memory efficiently, especially in a 32-bit architecture where the total addressable memory is limited. The kernel can access low memory directly, while high memory is used for temporary data buffers and requires specific functions (like kmap) to access.\n",
      "\n",
      "[[ ## response ## ]]\n",
      "In Linux, low memory refers to the segment of memory that the kernel can access directly and is always mapped in the kernel's address space. High memory, however, is a segment that is not permanently mapped, meaning the kernel must temporarily map it to access it. This distinction is important for memory management, especially in 32-bit systems, where the kernel needs to handle both user-space and kernel-space memory efficiently.\n",
      "\n",
      "[[ ## completed ## ]]\u001b[0m\n",
      "\n",
      "\n",
      "\n",
      "\n",
      "\n"
     ]
    }
   ],
   "source": [
    "dspy.inspect_history()"
   ]
  },
  {
   "cell_type": "code",
   "execution_count": 20,
   "metadata": {},
   "outputs": [
    {
     "name": "stdout",
     "output_type": "stream",
     "text": [
      "Average Metric: 95.87 / 175 (54.8%):  58%|█████▊    | 175/300 [01:24<00:47,  2.65it/s]"
     ]
    },
    {
     "name": "stderr",
     "output_type": "stream",
     "text": [
      "2025/03/11 21:43:53 ERROR dspy.utils.parallelizer: Error for Example({'question': 'apples open letter - they cant or wont backdoor ios?', 'response': 'In certain cases involving specific hardware, it has been stated that manipulating the device\\'s firmware is feasible. \\nA data forensics company called Cellebrite has reportedly developed the ability to unlock and access data on various iPhone models, hinting at the existence of a vulnerability they can exploit. \\nThe notion that this manipulation may be actionable has some support, indicated by Apple\\'s own implications in their statements, although they acknowledge the security risks of fulfilling such requests. \\nThere is suspicion over whether Apple will comply with creating a system that bypasses security features due to potential risks and their apparent objection to such demands. \\nApple has a financial motive in portraying the iPhone as unhackable even by the FBI, and may also be attempting to capitalize on anti-government views. \\nThe FBI\\'s request has been described not as seeking a \"backdoor\" but rather an interface to exploit an existing vulnerability, with Apple\\'s refusal to comply not eliminating the underlying security issue.', 'gold_doc_ids': [5268, 5269, 5271, 5275, 5276]}) (input_keys={'question'}): litellm.RateLimitError: RateLimitError: OpenAIException - Error code: 429 - {'error': {'message': 'Rate limit reached for gpt-4o-mini in organization org-iVeCJplfMaAzsC1tlwHrn5Bd on tokens per min (TPM): Limit 200000, Used 199386, Requested 3347. Please try again in 819ms. Visit https://platform.openai.com/account/rate-limits to learn more.', 'type': 'tokens', 'param': None, 'code': 'rate_limit_exceeded'}}. Set `provide_traceback=True` for traceback.\n"
     ]
    },
    {
     "name": "stdout",
     "output_type": "stream",
     "text": [
      "Average Metric: 95.87 / 175 (54.8%):  59%|█████▊    | 176/300 [01:26<02:00,  1.03it/s]"
     ]
    },
    {
     "name": "stderr",
     "output_type": "stream",
     "text": [
      "2025/03/11 21:43:53 ERROR dspy.utils.parallelizer: Error for Example({'question': 'why isnt udp with reliability (implemented at application layer) a substitute of tcp?', 'response': \"Both protocols are designed with certain guarantees and raw TCP has more guarantees than raw UDP.  \\nUDP with reliability can indeed be a substitute for TCP. \\nHowever, in general, TCP is pretty optimal so it's not worth going to all the extra work and adding a (large) chance of adding bugs and security flaws.\", 'gold_doc_ids': [3453, 3455, 3457]}) (input_keys={'question'}): litellm.RateLimitError: RateLimitError: OpenAIException - Error code: 429 - {'error': {'message': 'Rate limit reached for gpt-4o-mini in organization org-iVeCJplfMaAzsC1tlwHrn5Bd on tokens per min (TPM): Limit 200000, Used 199304, Requested 2395. Please try again in 509ms. Visit https://platform.openai.com/account/rate-limits to learn more.', 'type': 'tokens', 'param': None, 'code': 'rate_limit_exceeded'}}. Set `provide_traceback=True` for traceback.\n"
     ]
    },
    {
     "name": "stdout",
     "output_type": "stream",
     "text": [
      "Average Metric: 96.12 / 176 (54.6%):  59%|█████▉    | 178/300 [01:27<01:23,  1.47it/s]"
     ]
    },
    {
     "name": "stderr",
     "output_type": "stream",
     "text": [
      "2025/03/11 21:43:55 ERROR dspy.utils.parallelizer: Error for Example({'question': 'override itunes media keys (play, pause, etc) for spotify?', 'response': 'NoMitsu has created a one-click installer that patches the remote control daemon, the app responsible for managing the media keys. \\nThe app BeardedSpice is does an excellent job and offers a convenient way to ensure your media keys prioritize Spotify, while also working with numerous other media players.', 'gold_doc_ids': [7104, 1433, 3439]}) (input_keys={'question'}): litellm.RateLimitError: RateLimitError: OpenAIException - Error code: 429 - {'error': {'message': 'Rate limit reached for gpt-4o-mini in organization org-iVeCJplfMaAzsC1tlwHrn5Bd on tokens per min (TPM): Limit 200000, Used 198281, Requested 2301. Please try again in 174ms. Visit https://platform.openai.com/account/rate-limits to learn more.', 'type': 'tokens', 'param': None, 'code': 'rate_limit_exceeded'}}. Set `provide_traceback=True` for traceback.\n"
     ]
    },
    {
     "name": "stdout",
     "output_type": "stream",
     "text": [
      "Average Metric: 96.12 / 176 (54.6%):  60%|█████▉    | 179/300 [01:28<01:35,  1.26it/s]"
     ]
    },
    {
     "name": "stderr",
     "output_type": "stream",
     "text": [
      "2025/03/11 21:43:56 ERROR dspy.utils.parallelizer: Error for Example({'question': 'why 2des is not secure?', 'response': 'Two-DES does not provide the expected increase in security due to its susceptibility to certain types of attacks, specifically the \"meet-in-the-middle attack\". \\nDespite employing 112 key bits, 2DES only achieves a security level equivalent to about 257 bits rather than 2112. . \\nConversely, although 3DES uses 168 key bits, it effectively offers a security level of 2112 bits, which is considered sufficiently secure for most applications. \\nThe reason 3DES is preferred to 2DES is that 2DES doesn\\'t actually give that much more security than DES.', 'gold_doc_ids': [8228, 8229]}) (input_keys={'question'}): litellm.RateLimitError: RateLimitError: OpenAIException - Error code: 429 - {'error': {'message': 'Rate limit reached for gpt-4o-mini in organization org-iVeCJplfMaAzsC1tlwHrn5Bd on tokens per min (TPM): Limit 200000, Used 199514, Requested 3078. Please try again in 777ms. Visit https://platform.openai.com/account/rate-limits to learn more.', 'type': 'tokens', 'param': None, 'code': 'rate_limit_exceeded'}}. Set `provide_traceback=True` for traceback.\n"
     ]
    },
    {
     "name": "stdout",
     "output_type": "stream",
     "text": [
      "Average Metric: 97.12 / 178 (54.6%):  60%|██████    | 181/300 [01:30<01:43,  1.15it/s]"
     ]
    },
    {
     "name": "stderr",
     "output_type": "stream",
     "text": [
      "2025/03/11 21:43:57 ERROR dspy.utils.parallelizer: Error for Example({'question': 'how to search for android apps without ads?', 'response': 'You could consider using Yalp or Aurora, a fork of Yalp available on F-droid, which offers multiple search filters to enhance your experience. \\nThe Playsearch website also offers you the option to search for apps with specific criteria without the need to install anything. \\nAppFilter, a new website currently in beta, offers a platform to search for apps applying filters for numerous features and is free to use.', 'gold_doc_ids': [658, 659, 661]}) (input_keys={'question'}): litellm.RateLimitError: RateLimitError: OpenAIException - Error code: 429 - {'error': {'message': 'Rate limit reached for gpt-4o-mini in organization org-iVeCJplfMaAzsC1tlwHrn5Bd on tokens per min (TPM): Limit 200000, Used 199180, Requested 3151. Please try again in 699ms. Visit https://platform.openai.com/account/rate-limits to learn more.', 'type': 'tokens', 'param': None, 'code': 'rate_limit_exceeded'}}. Set `provide_traceback=True` for traceback.\n"
     ]
    },
    {
     "name": "stdout",
     "output_type": "stream",
     "text": [
      "Average Metric: 97.12 / 178 (54.6%):  92%|█████████▏| 277/300 [01:30<00:07,  3.06it/s]"
     ]
    },
    {
     "name": "stderr",
     "output_type": "stream",
     "text": [
      "2025/03/11 21:43:57 WARNING dspy.utils.parallelizer: Execution cancelled due to errors or interruption.\n"
     ]
    },
    {
     "name": "stdout",
     "output_type": "stream",
     "text": [
      "\n"
     ]
    },
    {
     "ename": "Exception",
     "evalue": "Execution cancelled due to errors or interruption.",
     "output_type": "error",
     "traceback": [
      "\u001b[0;31m---------------------------------------------------------------------------\u001b[0m",
      "\u001b[0;31mException\u001b[0m                                 Traceback (most recent call last)",
      "Cell \u001b[0;32mIn[20], line 1\u001b[0m\n\u001b[0;32m----> 1\u001b[0m \u001b[43mevaluate\u001b[49m\u001b[43m(\u001b[49m\u001b[43mRAG\u001b[49m\u001b[43m(\u001b[49m\u001b[43m)\u001b[49m\u001b[43m)\u001b[49m\n",
      "File \u001b[0;32m~/dev/hello-dspy/env/lib/python3.10/site-packages/mlflow/utils/autologging_utils/safety.py:592\u001b[0m, in \u001b[0;36msafe_patch.<locals>.safe_patch_function\u001b[0;34m(*args, **kwargs)\u001b[0m\n\u001b[1;32m    590\u001b[0m     patch_function\u001b[38;5;241m.\u001b[39mcall(call_original, \u001b[38;5;241m*\u001b[39margs, \u001b[38;5;241m*\u001b[39m\u001b[38;5;241m*\u001b[39mkwargs)\n\u001b[1;32m    591\u001b[0m \u001b[38;5;28;01melse\u001b[39;00m:\n\u001b[0;32m--> 592\u001b[0m     \u001b[43mpatch_function\u001b[49m\u001b[43m(\u001b[49m\u001b[43mcall_original\u001b[49m\u001b[43m,\u001b[49m\u001b[43m \u001b[49m\u001b[38;5;241;43m*\u001b[39;49m\u001b[43margs\u001b[49m\u001b[43m,\u001b[49m\u001b[43m \u001b[49m\u001b[38;5;241;43m*\u001b[39;49m\u001b[38;5;241;43m*\u001b[39;49m\u001b[43mkwargs\u001b[49m\u001b[43m)\u001b[49m\n\u001b[1;32m    594\u001b[0m session\u001b[38;5;241m.\u001b[39mstate \u001b[38;5;241m=\u001b[39m \u001b[38;5;124m\"\u001b[39m\u001b[38;5;124msucceeded\u001b[39m\u001b[38;5;124m\"\u001b[39m\n\u001b[1;32m    596\u001b[0m try_log_autologging_event(\n\u001b[1;32m    597\u001b[0m     AutologgingEventLogger\u001b[38;5;241m.\u001b[39mget_logger()\u001b[38;5;241m.\u001b[39mlog_patch_function_success,\n\u001b[1;32m    598\u001b[0m     session,\n\u001b[0;32m   (...)\u001b[0m\n\u001b[1;32m    602\u001b[0m     kwargs,\n\u001b[1;32m    603\u001b[0m )\n",
      "File \u001b[0;32m~/dev/hello-dspy/env/lib/python3.10/site-packages/mlflow/dspy/autolog.py:77\u001b[0m, in \u001b[0;36mautolog.<locals>.trace_disabled_fn\u001b[0;34m(original, self, *args, **kwargs)\u001b[0m\n\u001b[1;32m     72\u001b[0m     \u001b[38;5;28;01mreturn\u001b[39;00m original(\u001b[38;5;28mself\u001b[39m, \u001b[38;5;241m*\u001b[39margs, \u001b[38;5;241m*\u001b[39m\u001b[38;5;241m*\u001b[39mkwargs)\n\u001b[1;32m     74\u001b[0m \u001b[38;5;28;01mif\u001b[39;00m \u001b[38;5;28misinstance\u001b[39m(\u001b[38;5;28mself\u001b[39m, Evaluate) \u001b[38;5;129;01mand\u001b[39;00m get_autologging_config(\n\u001b[1;32m     75\u001b[0m     FLAVOR_NAME, \u001b[38;5;124m\"\u001b[39m\u001b[38;5;124mlog_traces_from_eval\u001b[39m\u001b[38;5;124m\"\u001b[39m\n\u001b[1;32m     76\u001b[0m ):\n\u001b[0;32m---> 77\u001b[0m     \u001b[38;5;28;01mreturn\u001b[39;00m \u001b[43moriginal\u001b[49m\u001b[43m(\u001b[49m\u001b[38;5;28;43mself\u001b[39;49m\u001b[43m,\u001b[49m\u001b[43m \u001b[49m\u001b[38;5;241;43m*\u001b[39;49m\u001b[43margs\u001b[49m\u001b[43m,\u001b[49m\u001b[43m \u001b[49m\u001b[38;5;241;43m*\u001b[39;49m\u001b[38;5;241;43m*\u001b[39;49m\u001b[43mkwargs\u001b[49m\u001b[43m)\u001b[49m\n\u001b[1;32m     79\u001b[0m \u001b[38;5;129m@trace_disabled\u001b[39m\n\u001b[1;32m     80\u001b[0m \u001b[38;5;28;01mdef\u001b[39;00m\u001b[38;5;250m \u001b[39m\u001b[38;5;21m_fn\u001b[39m(\u001b[38;5;28mself\u001b[39m, \u001b[38;5;241m*\u001b[39margs, \u001b[38;5;241m*\u001b[39m\u001b[38;5;241m*\u001b[39mkwargs):\n\u001b[1;32m     81\u001b[0m     \u001b[38;5;28;01mreturn\u001b[39;00m original(\u001b[38;5;28mself\u001b[39m, \u001b[38;5;241m*\u001b[39margs, \u001b[38;5;241m*\u001b[39m\u001b[38;5;241m*\u001b[39mkwargs)\n",
      "File \u001b[0;32m~/dev/hello-dspy/env/lib/python3.10/site-packages/mlflow/utils/autologging_utils/safety.py:573\u001b[0m, in \u001b[0;36msafe_patch.<locals>.safe_patch_function.<locals>.call_original\u001b[0;34m(*og_args, **og_kwargs)\u001b[0m\n\u001b[1;32m    570\u001b[0m         original_result \u001b[38;5;241m=\u001b[39m original(\u001b[38;5;241m*\u001b[39m_og_args, \u001b[38;5;241m*\u001b[39m\u001b[38;5;241m*\u001b[39m_og_kwargs)\n\u001b[1;32m    571\u001b[0m         \u001b[38;5;28;01mreturn\u001b[39;00m original_result\n\u001b[0;32m--> 573\u001b[0m \u001b[38;5;28;01mreturn\u001b[39;00m \u001b[43mcall_original_fn_with_event_logging\u001b[49m\u001b[43m(\u001b[49m\u001b[43m_original_fn\u001b[49m\u001b[43m,\u001b[49m\u001b[43m \u001b[49m\u001b[43mog_args\u001b[49m\u001b[43m,\u001b[49m\u001b[43m \u001b[49m\u001b[43mog_kwargs\u001b[49m\u001b[43m)\u001b[49m\n",
      "File \u001b[0;32m~/dev/hello-dspy/env/lib/python3.10/site-packages/mlflow/utils/autologging_utils/safety.py:508\u001b[0m, in \u001b[0;36msafe_patch.<locals>.safe_patch_function.<locals>.call_original_fn_with_event_logging\u001b[0;34m(original_fn, og_args, og_kwargs)\u001b[0m\n\u001b[1;32m    499\u001b[0m \u001b[38;5;28;01mtry\u001b[39;00m:\n\u001b[1;32m    500\u001b[0m     try_log_autologging_event(\n\u001b[1;32m    501\u001b[0m         AutologgingEventLogger\u001b[38;5;241m.\u001b[39mget_logger()\u001b[38;5;241m.\u001b[39mlog_original_function_start,\n\u001b[1;32m    502\u001b[0m         session,\n\u001b[0;32m   (...)\u001b[0m\n\u001b[1;32m    506\u001b[0m         og_kwargs,\n\u001b[1;32m    507\u001b[0m     )\n\u001b[0;32m--> 508\u001b[0m     original_fn_result \u001b[38;5;241m=\u001b[39m \u001b[43moriginal_fn\u001b[49m\u001b[43m(\u001b[49m\u001b[38;5;241;43m*\u001b[39;49m\u001b[43mog_args\u001b[49m\u001b[43m,\u001b[49m\u001b[43m \u001b[49m\u001b[38;5;241;43m*\u001b[39;49m\u001b[38;5;241;43m*\u001b[39;49m\u001b[43mog_kwargs\u001b[49m\u001b[43m)\u001b[49m\n\u001b[1;32m    510\u001b[0m     try_log_autologging_event(\n\u001b[1;32m    511\u001b[0m         AutologgingEventLogger\u001b[38;5;241m.\u001b[39mget_logger()\u001b[38;5;241m.\u001b[39mlog_original_function_success,\n\u001b[1;32m    512\u001b[0m         session,\n\u001b[0;32m   (...)\u001b[0m\n\u001b[1;32m    516\u001b[0m         og_kwargs,\n\u001b[1;32m    517\u001b[0m     )\n\u001b[1;32m    518\u001b[0m     \u001b[38;5;28;01mreturn\u001b[39;00m original_fn_result\n",
      "File \u001b[0;32m~/dev/hello-dspy/env/lib/python3.10/site-packages/mlflow/utils/autologging_utils/safety.py:570\u001b[0m, in \u001b[0;36msafe_patch.<locals>.safe_patch_function.<locals>.call_original.<locals>._original_fn\u001b[0;34m(*_og_args, **_og_kwargs)\u001b[0m\n\u001b[1;32m    562\u001b[0m \u001b[38;5;66;03m# Show all non-MLflow warnings as normal (i.e. not as event logs)\u001b[39;00m\n\u001b[1;32m    563\u001b[0m \u001b[38;5;66;03m# during original function execution, even if silent mode is enabled\u001b[39;00m\n\u001b[1;32m    564\u001b[0m \u001b[38;5;66;03m# (`silent=True`), since these warnings originate from the ML framework\u001b[39;00m\n\u001b[1;32m    565\u001b[0m \u001b[38;5;66;03m# or one of its dependencies and are likely relevant to the caller\u001b[39;00m\n\u001b[1;32m    566\u001b[0m \u001b[38;5;28;01mwith\u001b[39;00m set_non_mlflow_warnings_behavior_for_current_thread(\n\u001b[1;32m    567\u001b[0m     disable_warnings\u001b[38;5;241m=\u001b[39m\u001b[38;5;28;01mFalse\u001b[39;00m,\n\u001b[1;32m    568\u001b[0m     reroute_warnings\u001b[38;5;241m=\u001b[39m\u001b[38;5;28;01mFalse\u001b[39;00m,\n\u001b[1;32m    569\u001b[0m ):\n\u001b[0;32m--> 570\u001b[0m     original_result \u001b[38;5;241m=\u001b[39m \u001b[43moriginal\u001b[49m\u001b[43m(\u001b[49m\u001b[38;5;241;43m*\u001b[39;49m\u001b[43m_og_args\u001b[49m\u001b[43m,\u001b[49m\u001b[43m \u001b[49m\u001b[38;5;241;43m*\u001b[39;49m\u001b[38;5;241;43m*\u001b[39;49m\u001b[43m_og_kwargs\u001b[49m\u001b[43m)\u001b[49m\n\u001b[1;32m    571\u001b[0m     \u001b[38;5;28;01mreturn\u001b[39;00m original_result\n",
      "File \u001b[0;32m~/dev/hello-dspy/env/lib/python3.10/site-packages/dspy/utils/callback.py:291\u001b[0m, in \u001b[0;36mwith_callbacks.<locals>.wrapper\u001b[0;34m(instance, *args, **kwargs)\u001b[0m\n\u001b[1;32m    289\u001b[0m \u001b[38;5;28;01mexcept\u001b[39;00m \u001b[38;5;167;01mException\u001b[39;00m \u001b[38;5;28;01mas\u001b[39;00m e:\n\u001b[1;32m    290\u001b[0m     exception \u001b[38;5;241m=\u001b[39m e\n\u001b[0;32m--> 291\u001b[0m     \u001b[38;5;28;01mraise\u001b[39;00m exception\n\u001b[1;32m    292\u001b[0m \u001b[38;5;28;01mfinally\u001b[39;00m:\n\u001b[1;32m    293\u001b[0m     \u001b[38;5;66;03m# Execute the end handlers even if the function call raises an exception.\u001b[39;00m\n\u001b[1;32m    294\u001b[0m     ACTIVE_CALL_ID\u001b[38;5;241m.\u001b[39mset(parent_call_id)\n",
      "File \u001b[0;32m~/dev/hello-dspy/env/lib/python3.10/site-packages/dspy/utils/callback.py:287\u001b[0m, in \u001b[0;36mwith_callbacks.<locals>.wrapper\u001b[0;34m(instance, *args, **kwargs)\u001b[0m\n\u001b[1;32m    285\u001b[0m     \u001b[38;5;66;03m# Active ID must be set right before the function is called, not before calling the callbacks.\u001b[39;00m\n\u001b[1;32m    286\u001b[0m     ACTIVE_CALL_ID\u001b[38;5;241m.\u001b[39mset(call_id)\n\u001b[0;32m--> 287\u001b[0m     results \u001b[38;5;241m=\u001b[39m \u001b[43mfn\u001b[49m\u001b[43m(\u001b[49m\u001b[43minstance\u001b[49m\u001b[43m,\u001b[49m\u001b[43m \u001b[49m\u001b[38;5;241;43m*\u001b[39;49m\u001b[43margs\u001b[49m\u001b[43m,\u001b[49m\u001b[43m \u001b[49m\u001b[38;5;241;43m*\u001b[39;49m\u001b[38;5;241;43m*\u001b[39;49m\u001b[43mkwargs\u001b[49m\u001b[43m)\u001b[49m\n\u001b[1;32m    288\u001b[0m     \u001b[38;5;28;01mreturn\u001b[39;00m results\n\u001b[1;32m    289\u001b[0m \u001b[38;5;28;01mexcept\u001b[39;00m \u001b[38;5;167;01mException\u001b[39;00m \u001b[38;5;28;01mas\u001b[39;00m e:\n",
      "File \u001b[0;32m~/dev/hello-dspy/env/lib/python3.10/site-packages/dspy/evaluate/evaluate.py:164\u001b[0m, in \u001b[0;36mEvaluate.__call__\u001b[0;34m(self, program, metric, devset, num_threads, display_progress, display_table, return_all_scores, return_outputs)\u001b[0m\n\u001b[1;32m    160\u001b[0m         program\u001b[38;5;241m.\u001b[39m_suggest_failures \u001b[38;5;241m+\u001b[39m\u001b[38;5;241m=\u001b[39m dspy\u001b[38;5;241m.\u001b[39msettings\u001b[38;5;241m.\u001b[39mget(\u001b[38;5;124m\"\u001b[39m\u001b[38;5;124msuggest_failures\u001b[39m\u001b[38;5;124m\"\u001b[39m)\n\u001b[1;32m    162\u001b[0m     \u001b[38;5;28;01mreturn\u001b[39;00m prediction, score\n\u001b[0;32m--> 164\u001b[0m results \u001b[38;5;241m=\u001b[39m \u001b[43mexecutor\u001b[49m\u001b[38;5;241;43m.\u001b[39;49m\u001b[43mexecute\u001b[49m\u001b[43m(\u001b[49m\u001b[43mprocess_item\u001b[49m\u001b[43m,\u001b[49m\u001b[43m \u001b[49m\u001b[43mdevset\u001b[49m\u001b[43m)\u001b[49m\n\u001b[1;32m    165\u001b[0m \u001b[38;5;28;01massert\u001b[39;00m \u001b[38;5;28mlen\u001b[39m(devset) \u001b[38;5;241m==\u001b[39m \u001b[38;5;28mlen\u001b[39m(results)\n\u001b[1;32m    167\u001b[0m results \u001b[38;5;241m=\u001b[39m [((dspy\u001b[38;5;241m.\u001b[39mPrediction(), \u001b[38;5;28mself\u001b[39m\u001b[38;5;241m.\u001b[39mfailure_score) \u001b[38;5;28;01mif\u001b[39;00m r \u001b[38;5;129;01mis\u001b[39;00m \u001b[38;5;28;01mNone\u001b[39;00m \u001b[38;5;28;01melse\u001b[39;00m r) \u001b[38;5;28;01mfor\u001b[39;00m r \u001b[38;5;129;01min\u001b[39;00m results]\n",
      "File \u001b[0;32m~/dev/hello-dspy/env/lib/python3.10/site-packages/dspy/utils/parallelizer.py:45\u001b[0m, in \u001b[0;36mParallelExecutor.execute\u001b[0;34m(self, function, data)\u001b[0m\n\u001b[1;32m     43\u001b[0m \u001b[38;5;28;01mdef\u001b[39;00m\u001b[38;5;250m \u001b[39m\u001b[38;5;21mexecute\u001b[39m(\u001b[38;5;28mself\u001b[39m, function, data):\n\u001b[1;32m     44\u001b[0m     wrapped \u001b[38;5;241m=\u001b[39m \u001b[38;5;28mself\u001b[39m\u001b[38;5;241m.\u001b[39m_wrap_function(function)\n\u001b[0;32m---> 45\u001b[0m     \u001b[38;5;28;01mreturn\u001b[39;00m \u001b[38;5;28;43mself\u001b[39;49m\u001b[38;5;241;43m.\u001b[39;49m\u001b[43m_execute_parallel\u001b[49m\u001b[43m(\u001b[49m\u001b[43mwrapped\u001b[49m\u001b[43m,\u001b[49m\u001b[43m \u001b[49m\u001b[43mdata\u001b[49m\u001b[43m)\u001b[49m\n",
      "File \u001b[0;32m~/dev/hello-dspy/env/lib/python3.10/site-packages/dspy/utils/parallelizer.py:204\u001b[0m, in \u001b[0;36mParallelExecutor._execute_parallel\u001b[0;34m(self, function, data)\u001b[0m\n\u001b[1;32m    202\u001b[0m \u001b[38;5;28;01mif\u001b[39;00m \u001b[38;5;28mself\u001b[39m\u001b[38;5;241m.\u001b[39mcancel_jobs\u001b[38;5;241m.\u001b[39mis_set():\n\u001b[1;32m    203\u001b[0m     logger\u001b[38;5;241m.\u001b[39mwarning(\u001b[38;5;124m\"\u001b[39m\u001b[38;5;124mExecution cancelled due to errors or interruption.\u001b[39m\u001b[38;5;124m\"\u001b[39m)\n\u001b[0;32m--> 204\u001b[0m     \u001b[38;5;28;01mraise\u001b[39;00m \u001b[38;5;167;01mException\u001b[39;00m(\u001b[38;5;124m\"\u001b[39m\u001b[38;5;124mExecution cancelled due to errors or interruption.\u001b[39m\u001b[38;5;124m\"\u001b[39m)\n\u001b[1;32m    206\u001b[0m \u001b[38;5;28;01mreturn\u001b[39;00m results\n",
      "\u001b[0;31mException\u001b[0m: Execution cancelled due to errors or interruption."
     ]
    },
    {
     "data": {
      "text/html": [
       "\n",
       "<div>\n",
       "  <style scoped>\n",
       "  button {\n",
       "    border: none;\n",
       "    border-radius: 4px;\n",
       "    background-color: rgb(34, 114, 180);\n",
       "    font-family: -apple-system, \"system-ui\", \"Segoe UI\", Roboto, \"Helvetica Neue\", Arial;\n",
       "    font-size: 13px;\n",
       "    color: white;\n",
       "    margin-top: 8px;\n",
       "    margin-bottom: 8px;\n",
       "    padding: 8px 16px;\n",
       "    cursor: pointer;\n",
       "  }\n",
       "  button:hover {\n",
       "    background-color: rgb(66, 153, 224);\n",
       "  }\n",
       "  </style>\n",
       "  <button\n",
       "    onclick=\"\n",
       "        const display = this.nextElementSibling.style.display;\n",
       "        const isCollapsed = display === 'none';\n",
       "        this.nextElementSibling.style.display = isCollapsed ? null : 'none';\n",
       "\n",
       "        const verb = isCollapsed ? 'Collapse' : 'Expand';\n",
       "        this.innerText = `${verb} MLflow Trace`;\n",
       "    \"\n",
       "  >Collapse MLflow Trace</button>\n",
       "  <iframe\n",
       "    id=\"trace-renderer\"\n",
       "    style=\"width: 100%; height: 500px; border: none; resize: vertical;\"\n",
       "    src=\"http://localhost:5000/static-files/lib/notebook-trace-renderer/index.html?trace_id=7abcaa57cc2741bfa36e516c17f0c3dd&amp;experiment_id=374362034103955121&amp;trace_id=879055201af14a4a80b6753edf81d2f6&amp;experiment_id=374362034103955121&amp;trace_id=d6ebbbb2034d41d29f961756a670eb91&amp;experiment_id=374362034103955121&amp;trace_id=02b13a2dff724b07b21aca927fda456b&amp;experiment_id=374362034103955121&amp;trace_id=5a6d4938cd8d4a2ab56840c29f2412d1&amp;experiment_id=374362034103955121&amp;trace_id=e3683724111d4cd2b0c43fb32ff13f0d&amp;experiment_id=374362034103955121&amp;trace_id=2c321709c794473c92a5e23112d3e45c&amp;experiment_id=374362034103955121&amp;trace_id=3b1db06a35a14969add0458d9b0dc3a1&amp;experiment_id=374362034103955121&amp;trace_id=1327755fde9b447a855a717f6af6aa5b&amp;experiment_id=374362034103955121&amp;trace_id=0c5174c3d69f4145b7ff1dc8e2f44459&amp;experiment_id=374362034103955121&amp;version=2.20.3\"\n",
       "  />\n",
       "</div>\n"
      ],
      "text/plain": [
       "[Trace(request_id=7abcaa57cc2741bfa36e516c17f0c3dd), Trace(request_id=879055201af14a4a80b6753edf81d2f6), Trace(request_id=d6ebbbb2034d41d29f961756a670eb91), Trace(request_id=02b13a2dff724b07b21aca927fda456b), Trace(request_id=5a6d4938cd8d4a2ab56840c29f2412d1), Trace(request_id=e3683724111d4cd2b0c43fb32ff13f0d), Trace(request_id=2c321709c794473c92a5e23112d3e45c), Trace(request_id=3b1db06a35a14969add0458d9b0dc3a1), Trace(request_id=1327755fde9b447a855a717f6af6aa5b), Trace(request_id=0c5174c3d69f4145b7ff1dc8e2f44459)]"
      ]
     },
     "metadata": {},
     "output_type": "display_data"
    }
   ],
   "source": [
    "evaluate(RAG())"
   ]
  },
  {
   "cell_type": "code",
   "execution_count": 21,
   "metadata": {},
   "outputs": [
    {
     "name": "stderr",
     "output_type": "stream",
     "text": [
      "2025/03/11 21:45:50 INFO dspy.teleprompt.mipro_optimizer_v2: \n",
      "RUNNING WITH THE FOLLOWING MEDIUM AUTO RUN SETTINGS:\n",
      "num_trials: 25\n",
      "minibatch: True\n",
      "num_candidates: 19\n",
      "valset size: 160\n",
      "\n",
      "2025/03/11 21:45:50 INFO dspy.teleprompt.mipro_optimizer_v2: \n",
      "==> STEP 1: BOOTSTRAP FEWSHOT EXAMPLES <==\n",
      "2025/03/11 21:45:50 INFO dspy.teleprompt.mipro_optimizer_v2: These will be used as few-shot example candidates for our program and for creating instructions.\n",
      "\n",
      "2025/03/11 21:45:50 INFO dspy.teleprompt.mipro_optimizer_v2: Bootstrapping N=19 sets of demonstrations...\n"
     ]
    },
    {
     "name": "stdout",
     "output_type": "stream",
     "text": [
      "Bootstrapping set 1/19\n",
      "Bootstrapping set 2/19\n",
      "Bootstrapping set 3/19\n"
     ]
    },
    {
     "name": "stderr",
     "output_type": "stream",
     "text": [
      " 12%|█▎        | 5/40 [01:01<07:07, 12.23s/it]\n"
     ]
    },
    {
     "name": "stdout",
     "output_type": "stream",
     "text": [
      "Bootstrapped 2 full traces after 5 examples for up to 1 rounds, amounting to 5 attempts.\n",
      "Bootstrapping set 4/19\n"
     ]
    },
    {
     "name": "stderr",
     "output_type": "stream",
     "text": [
      " 15%|█▌        | 6/40 [01:03<06:01, 10.62s/it]\n"
     ]
    },
    {
     "name": "stdout",
     "output_type": "stream",
     "text": [
      "Bootstrapped 1 full traces after 6 examples for up to 1 rounds, amounting to 6 attempts.\n",
      "Bootstrapping set 5/19\n"
     ]
    },
    {
     "name": "stderr",
     "output_type": "stream",
     "text": [
      "  5%|▌         | 2/40 [00:29<09:27, 14.92s/it]\n"
     ]
    },
    {
     "name": "stdout",
     "output_type": "stream",
     "text": [
      "Bootstrapped 1 full traces after 2 examples for up to 1 rounds, amounting to 2 attempts.\n",
      "Bootstrapping set 6/19\n"
     ]
    },
    {
     "name": "stderr",
     "output_type": "stream",
     "text": [
      "  8%|▊         | 3/40 [00:38<08:00, 12.98s/it]\n"
     ]
    },
    {
     "name": "stdout",
     "output_type": "stream",
     "text": [
      "Bootstrapped 1 full traces after 3 examples for up to 1 rounds, amounting to 3 attempts.\n",
      "Bootstrapping set 7/19\n"
     ]
    },
    {
     "name": "stderr",
     "output_type": "stream",
     "text": [
      "  5%|▌         | 2/40 [00:23<07:25, 11.72s/it]\n"
     ]
    },
    {
     "name": "stdout",
     "output_type": "stream",
     "text": [
      "Bootstrapped 1 full traces after 2 examples for up to 1 rounds, amounting to 2 attempts.\n",
      "Bootstrapping set 8/19\n"
     ]
    },
    {
     "name": "stderr",
     "output_type": "stream",
     "text": [
      " 12%|█▎        | 5/40 [00:52<06:07, 10.51s/it]\n"
     ]
    },
    {
     "name": "stdout",
     "output_type": "stream",
     "text": [
      "Bootstrapped 1 full traces after 5 examples for up to 1 rounds, amounting to 5 attempts.\n",
      "Bootstrapping set 9/19\n"
     ]
    },
    {
     "name": "stderr",
     "output_type": "stream",
     "text": [
      "  5%|▌         | 2/40 [00:19<06:17,  9.94s/it]\n"
     ]
    },
    {
     "name": "stdout",
     "output_type": "stream",
     "text": [
      "Bootstrapped 2 full traces after 2 examples for up to 1 rounds, amounting to 2 attempts.\n",
      "Bootstrapping set 10/19\n"
     ]
    },
    {
     "name": "stderr",
     "output_type": "stream",
     "text": [
      "  8%|▊         | 3/40 [00:28<05:52,  9.53s/it]\n"
     ]
    },
    {
     "name": "stdout",
     "output_type": "stream",
     "text": [
      "Bootstrapped 1 full traces after 3 examples for up to 1 rounds, amounting to 3 attempts.\n",
      "Bootstrapping set 11/19\n"
     ]
    },
    {
     "name": "stderr",
     "output_type": "stream",
     "text": [
      " 12%|█▎        | 5/40 [00:50<05:52, 10.06s/it]\n"
     ]
    },
    {
     "name": "stdout",
     "output_type": "stream",
     "text": [
      "Bootstrapped 1 full traces after 5 examples for up to 1 rounds, amounting to 5 attempts.\n",
      "Bootstrapping set 12/19\n"
     ]
    },
    {
     "name": "stderr",
     "output_type": "stream",
     "text": [
      "  8%|▊         | 3/40 [00:33<06:47, 11.02s/it]\n"
     ]
    },
    {
     "name": "stdout",
     "output_type": "stream",
     "text": [
      "Bootstrapped 1 full traces after 3 examples for up to 1 rounds, amounting to 3 attempts.\n",
      "Bootstrapping set 13/19\n"
     ]
    },
    {
     "name": "stderr",
     "output_type": "stream",
     "text": [
      "  8%|▊         | 3/40 [00:26<05:23,  8.75s/it]\n"
     ]
    },
    {
     "name": "stdout",
     "output_type": "stream",
     "text": [
      "Bootstrapped 1 full traces after 3 examples for up to 1 rounds, amounting to 3 attempts.\n",
      "Bootstrapping set 14/19\n"
     ]
    },
    {
     "name": "stderr",
     "output_type": "stream",
     "text": [
      "  2%|▎         | 1/40 [00:11<07:41, 11.82s/it]\n"
     ]
    },
    {
     "name": "stdout",
     "output_type": "stream",
     "text": [
      "Bootstrapped 1 full traces after 1 examples for up to 1 rounds, amounting to 1 attempts.\n",
      "Bootstrapping set 15/19\n"
     ]
    },
    {
     "name": "stderr",
     "output_type": "stream",
     "text": [
      "  2%|▎         | 1/40 [00:12<07:59, 12.29s/it]\n"
     ]
    },
    {
     "name": "stdout",
     "output_type": "stream",
     "text": [
      "Bootstrapped 1 full traces after 1 examples for up to 1 rounds, amounting to 1 attempts.\n",
      "Bootstrapping set 16/19\n"
     ]
    },
    {
     "name": "stderr",
     "output_type": "stream",
     "text": [
      "  5%|▌         | 2/40 [00:18<05:54,  9.33s/it]\n"
     ]
    },
    {
     "name": "stdout",
     "output_type": "stream",
     "text": [
      "Bootstrapped 1 full traces after 2 examples for up to 1 rounds, amounting to 2 attempts.\n",
      "Bootstrapping set 17/19\n"
     ]
    },
    {
     "name": "stderr",
     "output_type": "stream",
     "text": [
      " 10%|█         | 4/40 [00:42<06:22, 10.62s/it]\n"
     ]
    },
    {
     "name": "stdout",
     "output_type": "stream",
     "text": [
      "Bootstrapped 2 full traces after 4 examples for up to 1 rounds, amounting to 4 attempts.\n",
      "Bootstrapping set 18/19\n"
     ]
    },
    {
     "name": "stderr",
     "output_type": "stream",
     "text": [
      "  5%|▌         | 2/40 [00:16<05:07,  8.08s/it]\n"
     ]
    },
    {
     "name": "stdout",
     "output_type": "stream",
     "text": [
      "Bootstrapped 2 full traces after 2 examples for up to 1 rounds, amounting to 2 attempts.\n",
      "Bootstrapping set 19/19\n"
     ]
    },
    {
     "name": "stderr",
     "output_type": "stream",
     "text": [
      "  8%|▊         | 3/40 [00:29<06:01,  9.78s/it]\n",
      "2025/03/11 21:55:08 INFO dspy.teleprompt.mipro_optimizer_v2: \n",
      "==> STEP 2: PROPOSE INSTRUCTION CANDIDATES <==\n",
      "2025/03/11 21:55:08 INFO dspy.teleprompt.mipro_optimizer_v2: We will use the few-shot examples from the previous step, a generated dataset summary, a summary of the program code, and a randomly selected prompting tip to propose instructions.\n"
     ]
    },
    {
     "name": "stdout",
     "output_type": "stream",
     "text": [
      "Bootstrapped 2 full traces after 3 examples for up to 1 rounds, amounting to 3 attempts.\n"
     ]
    },
    {
     "name": "stderr",
     "output_type": "stream",
     "text": [
      "2025/03/11 21:55:24 INFO dspy.teleprompt.mipro_optimizer_v2: \n",
      "Proposing instructions...\n",
      "\n",
      "2025/03/11 21:58:12 INFO dspy.teleprompt.mipro_optimizer_v2: Proposed Instructions for Predictor 0:\n",
      "\n",
      "2025/03/11 21:58:12 INFO dspy.teleprompt.mipro_optimizer_v2: 0: Given the fields `context`, `question`, produce the fields `response`.\n",
      "\n",
      "2025/03/11 21:58:12 INFO dspy.teleprompt.mipro_optimizer_v2: 1: You are an expert technical support agent. Given the fields `context` (which provides detailed information about a specific technical topic) and `question` (which is a user inquiry related to that context), produce a comprehensive and well-reasoned `response`. Make sure to synthesize the information from the context to answer the question accurately and informatively.\n",
      "\n",
      "2025/03/11 21:58:12 INFO dspy.teleprompt.mipro_optimizer_v2: 2: You are a technical support expert. Given the fields `context`, `question`, produce the fields `response` by synthesizing the information in the context to provide a clear and concise answer to the user's question, ensuring that your response is well-reasoned and directly addresses the inquiry.\n",
      "\n",
      "2025/03/11 21:58:12 INFO dspy.teleprompt.mipro_optimizer_v2: 3: Imagine you are a technical support specialist tasked with assisting users who are experiencing issues with their macOS or computing systems. You receive a question from a user who is looking for practical, step-by-step guidance on a specific task. Using the provided context, which includes various user experiences and expert recommendations, generate a detailed response that not only answers the user's query but also explains the reasoning behind the solution. Ensure that the response is clear, structured, and provides actionable steps for the user to follow.\n",
      "\n",
      "2025/03/11 21:58:12 INFO dspy.teleprompt.mipro_optimizer_v2: 4: Given the provided `context` and `question`, analyze the information and generate a comprehensive `response`. Your response should clearly articulate the solution to the question, utilizing the relevant details from the context. Ensure that the reasoning behind the answer is logical and easy to follow, enhancing the reader's understanding of the topic. Aim to produce a well-structured and informative answer that addresses the user's query effectively.\n",
      "\n",
      "2025/03/11 21:58:12 INFO dspy.teleprompt.mipro_optimizer_v2: 5: You are a knowledgeable tech support agent. Given the fields `context` and `question`, provide a detailed and reasoned `response` that clearly addresses the user's inquiry with practical steps or solutions based on the provided context. Ensure that your response is informative and easy to understand for users with moderate to high technological expertise.\n",
      "\n",
      "2025/03/11 21:58:12 INFO dspy.teleprompt.mipro_optimizer_v2: 6: Given the context provided, analyze the question and produce a detailed response that not only answers the question but also includes step-by-step reasoning that clarifies how you arrived at the answer. Ensure that the response is clear, concise, and addresses the user's inquiry effectively.\n",
      "\n",
      "2025/03/11 21:58:12 INFO dspy.teleprompt.mipro_optimizer_v2: 7: Given the `context` that provides detailed information and the `question` that seeks clarification or an answer, synthesize a well-reasoned `response` that accurately addresses the question while integrating relevant information from the context. Ensure that the response is clear, concise, and educational, catering to users with varying levels of technical expertise.\n",
      "\n",
      "2025/03/11 21:58:12 INFO dspy.teleprompt.mipro_optimizer_v2: 8: Using the provided `context` and `question`, generate a detailed response that synthesizes the information from the context. Ensure the response is structured and informative, addressing the question clearly, and includes relevant examples or explanations when applicable.\n",
      "\n",
      "2025/03/11 21:58:12 INFO dspy.teleprompt.mipro_optimizer_v2: 9: Using the provided `context` and `question`, generate a comprehensive `response` that not only answers the question directly but also includes relevant details and explanations that enhance the user's understanding of the topic. Ensure that the response is structured, clear, and informative, catering to users with varying levels of expertise in the subject matter.\n",
      "\n",
      "2025/03/11 21:58:12 INFO dspy.teleprompt.mipro_optimizer_v2: 10: Imagine you are a technical support agent faced with a user who is struggling to understand complex technical issues related to macOS and computing. They have provided you with a detailed context of their problem and a specific question they need help with. Your task is to analyze the context, reason through the information provided, and generate a clear and informative response that addresses the user's question. Be thorough in your reasoning process, as the user is relying on your expertise to make informed decisions regarding their technical challenges. Given the fields `context` and `question`, produce a well-structured `response` that not only answers the question but also enhances the user's understanding of the topic at hand.\n",
      "\n",
      "2025/03/11 21:58:12 INFO dspy.teleprompt.mipro_optimizer_v2: 11: Using the provided `context` and `question`, generate a comprehensive response that outlines a method for reliably detecting code in text or addresses the trustworthiness of privacy-focused search engines like DuckDuckGo. Ensure to incorporate logical reasoning and practical examples to enhance clarity and educational value.\n",
      "\n",
      "2025/03/11 21:58:12 INFO dspy.teleprompt.mipro_optimizer_v2: 12: Using the provided `context` and `question`, analyze the information step-by-step to generate a coherent `response` that addresses the question while maintaining clarity and relevance to the topic discussed.\n",
      "\n",
      "2025/03/11 21:58:12 INFO dspy.teleprompt.mipro_optimizer_v2: 13: In a scenario where a user is experiencing issues with their macOS account pictures not displaying correctly, they urgently need to locate where these images are stored to troubleshoot the problem. Given the fields `context` (which details various storage locations for account pictures in macOS), and `question` (\"Where does macOS store account pictures?\"), produce the field `response` that provides a comprehensive answer detailing the different locations based on the version of macOS, emphasizing the importance of this information for resolving the user's issue.\n",
      "\n",
      "2025/03/11 21:58:12 INFO dspy.teleprompt.mipro_optimizer_v2: 14: In a high-stakes situation where your laptop has been out of your control and you suspect it may have been compromised by military-grade backdoors, you need to ensure your data security. Using the provided context about laptop security and potential backdoors, answer the following question: \"What steps should I take to investigate and secure my laptop from potential military-installed backdoors?\" Your response should detail methods for detecting tampering, monitoring network traffic, and assessing the integrity of the device, while emphasizing the importance of data security in this critical scenario.\n",
      "\n",
      "2025/03/11 21:58:12 INFO dspy.teleprompt.mipro_optimizer_v2: 15: Using the provided `context` and `question`, generate a detailed `response` that includes a step-by-step reasoning process. Ensure that the response is coherent, informative, and addresses the question thoroughly, drawing on the relevant information from the context.\n",
      "\n",
      "2025/03/11 21:58:12 INFO dspy.teleprompt.mipro_optimizer_v2: 16: Given the context about technical issues related to macOS and computing, along with the specific question, generate a detailed response that addresses the inquiry. Ensure the response is coherent, informative, and based on the provided context, highlighting relevant steps or considerations as necessary.\n",
      "\n",
      "2025/03/11 21:58:12 INFO dspy.teleprompt.mipro_optimizer_v2: 17: Using the provided `context` and `question`, generate a detailed and structured response that not only answers the question but also includes a step-by-step reasoning process. Ensure that the response is practical, actionable, and tailored to a technically proficient audience, enhancing their understanding of the topic.\n",
      "\n",
      "2025/03/11 21:58:12 INFO dspy.teleprompt.mipro_optimizer_v2: 18: You are a technical expert providing guidance to users on macOS and computing issues. Given the fields `context` and `question`, produce a detailed and informative `response` that incorporates logical reasoning and step-by-step explanations to clarify the user's query.\n",
      "\n",
      "2025/03/11 21:58:12 INFO dspy.teleprompt.mipro_optimizer_v2: \n",
      "\n",
      "2025/03/11 21:58:12 INFO dspy.teleprompt.mipro_optimizer_v2: ==> STEP 3: FINDING OPTIMAL PROMPT PARAMETERS <==\n",
      "2025/03/11 21:58:12 INFO dspy.teleprompt.mipro_optimizer_v2: We will evaluate the program over a series of trials with different combinations of instructions and few-shot examples to find the optimal combination using Bayesian Optimization.\n",
      "\n",
      "2025/03/11 21:58:12 INFO dspy.teleprompt.mipro_optimizer_v2: == Trial 1 / 28 - Full Evaluation of Default Program ==\n"
     ]
    },
    {
     "name": "stdout",
     "output_type": "stream",
     "text": [
      "Average Metric: 46.20 / 83 (55.7%):  52%|█████▏    | 83/160 [00:40<00:43,  1.76it/s]"
     ]
    },
    {
     "name": "stderr",
     "output_type": "stream",
     "text": [
      "2025/03/11 21:58:52 ERROR dspy.utils.parallelizer: Error for Example({'question': 'are there any famous one-man-army programmers?', 'response': 'Bill Joy is notable for writing vi, among other programs, including csh, rlogin, rsh, and rcp.  \\nChris Sawyer was instrumental in creating RollerCoaster Tycoon, contributing to the game\\'s programming, which included a physics engine, and writing it in assembly language.  \\nOren Eini, also known as Ayende Rahien, is the author behind Rhino Mocks and is known for writing elegant code.  \\nGuido van Rossum created Python.  \\nRichard M. Stallman, often referred to as RMS, created Emacs and gcc and is recognized for maintaining pace with commercial Lisp machine code.  \\nThe first version of Lisp can be attributed to John McCarthy.  \\nJamie Zawinski is associated with one of computer science\\'s most epic stories.  \\nDerek Smart was known for his involvement with Battlecruiser 3000AD and his penchant for flame wars.  \\nSteve Wozniak was essentially Apple\\'s early programming staff.  \\nJohn Carmack created the engines for several iconic games, including the Doom, Wolfenstein and Quake series.  \\nAda Lovelace is celebrated as a pioneering figure in computing history.  \\nKhaled Mardam-Bey is the author of the popular IRC client, mIRC.  \\nThe invention and first implementation of C++ is credited to Bjarne Stroustrup.  \\nJon Van Caneghem single-handedly wrote, designed, and developed the original Might and Magic game, with some assistance for artwork, Dan Bunten created M.U.L.E., Seven Cities of Gold and a variety of other games, and Bill Budge - Created Pinball Construction Set, alongside many other games, from scratch, by himself.  \\nShaun Inman is recognized as a solo developer.  \\nAndrew Braybrook, Archer MacLean, Martin Walker, Jon Hare/Chris Yates, and Stavros Fasoulas are remembered for their individual contributions to Commodore 64 games, often doing everything themselves, including coding, sound, music, and graphics.  \\nLarry Wall is known for creating Perl.  \\nMatthew Smith is credited with writing Manic Miner and Jet Set Willy by himself.  \\nApple Writer was among Paul Lutus\\' creations.  \\nRichard Greenblatt has made significant contributions at the MIT AI Lab, including developing a chess program and Lisp Machine.  \\nWayne Ratliff, the creator behind the dBASE software, coded it in assembler.  \\nNick Bradbury is notable for developing HomeSite, TopStyle, and FeedDemon, paying great attention to user feedback.  \\nHighlights in programming language development include John Backus with Fortran, Stephen Wolfram for the Mathematica package, Tim Berners-Lee - inventor of World Wide Web and Phil Zimmermann - PGP.  \\nChuck Moore achieved recognition for creating Forth, as well as designing microprocessors and securing hardware patents.  \\nSimon Tatham wrote the widely used SSH client, PuTTY.  \\nAnders Hejlsberg is the creator behind Turbo Pascal, Delphi, and C#. \\nCleve Moler is known for originating MATLAB.  \\nBram Cohen\\'s project contributes significantly to internet traffic.  \\nMarkus Frind is the CEO of Plentyoffish.com, which he created alone, and the site generates significant revenue.  \\nJonathan Blow single-handedly developed the game Braid, including its sophisticated audio and particle systems. \\nD.J. Bernstein is remembered for qmail, djbdns, and his legal challenge enabling the publication of cryptography tools on the internet.  \\nCharles Babbage conceptualized the idea of a programmable computer.  \\nPhil Katz developed the important file compression utility PKZip.  \\nGary Kildall created CP/M, an early operating system.  \\nFabrice Bellard is recognized for writing FFmpeg, leading the QEMU project, discovering fast algorithms for calculating pi and FFmpeg and qemu, .  \\nThe hacker dark_alex falls into the one-man-army category.  \\nSlava Pestov created the advanced programming language Factor and developed Jedit at a young age.  \\nJon Tackabury\\'s contributions come from Binary Fortress.  \\nDoug Cutting initiated the creation of Lucene, Nutch, and later Hadoop.  \\nContributions by Eugene Roshal include the FAR file manager, RAR file format, and WinRAR file archiver, while Mark Zuckerberg created Facebook.  \\nRich Hickey authored Clojure.  \\nScawen Roberts, recognized for his work on the game Live for Speed, has been programming it single-handedly for years.  \\nOgre3D, an object-oriented graphics rendering engine, was created by Steve Streeting.  \\nJim Kent\\'s coding efforts were pivotal in the public release of the Human Genome Project\\'s map.  \\nAmong renowned hackers, Eric Corley and Kevin Mitnick are acknowledged.  \\nWayne Venables allegedly wrote Fruitshow forum software in 3 hours.  \\nArthur Whitney developed the \"K\" programming language and implemented a compact SQL engine in it.  \\nThe creators of the Leisure Suit Larry series, SimCity, and Elite are Al Lowe, Will Wright, and David Braben, respectively.  \\njQuery, a popular JavaScript framework, was created by John Resig.  \\nThe original FruityLoops software was developed by Didier Dambrin using Delphi.  \\nSid Meier Co-founded Microprose and wrote Sid Meier\\'s Alpha Centauri, and Sid Meier\\'s Colonization, Sid Meier\\'s Civilization IV.  \\nWalter Bright worked solo on Digital Mars\\' C++ compiler for several years and initiated the D language.  \\nShawn Fanning is the creator behind Napster.  \\nThe creation of the Spring framework is attributable to Rod Johnson.  \\nPeldi Guilizzoni developed Balsamiq, a tool for creating mockups.  \\nNasir Gebelli stands out for his early Apple II games like Gorgon and Space Eggs.  \\nThe near entirety of VIM was written by Bram Moolenaar.  \\nSimon Peyton Jones is known for his research in functional programming and for authoring the Glasgow Haskell Compiler.  \\nWil Shipley\\'s work includes Delicious Library.  \\nJoe Hewitt created Firebug and DOM Inspector.  \\nKernighan, Ritchie, and others like James Clark and Audrey Tang have made notable contributions.  \\nDonald Knuth and Ken Thompson are mentioned for their influence on programming.  \\nKen Silverman developed the Build engine for video games.  \\nJohn Carmack, Dave Cutler, and others like Tim Sweeney are highlighted for major contributions to software and operating systems.  \\nPaul Lutus is acknowledged as the father of Apple Writer.  \\nPeter Blum developed a comprehensive collection of ASP.NET controls.  \\nMatt Mullenweg created influential web development tools like WordPress.  \\nGus Mueller is recognized for his work.  \\nAlan Turing, the father of modern computer science, is mentioned for his contributions.  \\nJordan Mechner programmed the original Prince of Persia games, and the animations were based on his brother\\'s movements.  \\nD. Richard Hipp is known for SQLite and other TCL/TK-related work.  \\nMike Pall wrote LuaJIT, while Julian Seward created bzip2 and Valgrind.  \\nMarkus Persson, also known as Notch, is known for developing Minecraft.  \\nBill Atkinson wrote MacPaint for the original Macintosh.  \\nAgain, Nick Bradbury is acknowledged for creating HomeSite, TopStyle, and FeedDemon.  \\nAvery Lee developed Virtualdub, and Gabest was involved with Media Player Classic.  \\nJeff Minter, long-time video game programmer, created Tempest 3000 in assembler.  \\nAustin Meyer is credited with developing X-Plane.  \\nJustin Frankel created Winamp and Gnutella.  \\nMarkus Persson single-handedly worked on the design, programming, and graphics of Minecraft.  \\nDave Cutler was the father of VMS and NT and significantly contributed to Windows Azure.  \\nEddie Kohler is recognized for the Click modular router.  \\nL. Peter Deutsch is recognized for Ghostscript and other works.  \\nCharles Simonyi (Microsoft Word and Excel),  Joe Armstrong (Erlang) and Bertrand Meyer (Eiffel).  \\nIvan Sutherland\\'s invention of Sketchpad is a significant milestone.  \\nCave Story, a game created by Daisuke Amaya, also known as Pixel, is celebrated.  \\nAllan Odgaard is the author of TextMate.  \\nJeff Atwood is credited with creating the platform used for these discussions.  \\nDan Bricklin, inventor of the electronic spreadsheet, and Richard Bartle, for inventing MUD, are recognized for their pioneering work.  \\nAndrew Tridgell developed rsync & samba.', 'gold_doc_ids': [3638, 3639, 3640, 3641, 3642, 3643, 3644, 3645, 3646, 3648, 3649, 3650, 3651, 3653, 3654, 3655, 3656, 3657, 3659, 3660, 3661, 3662, 3663, 3664, 3665, 3666, 3667, 3669, 3670, 3671, 3672, 3673, 3674, 3676, 3677, 3678, 3680, 3681, 3682, 3683, 3684, 3685, 3686, 3687, 3688, 3689, 3690, 3693, 3694, 3695, 3696, 3697, 3698, 3701, 3702, 3704, 3705, 3706, 3707, 3708, 3709, 3710, 3711, 3712, 3713, 3714, 3715, 3716, 3717, 3718, 3719, 3721, 3722, 3723, 3724, 3725, 3726, 3727, 3728, 3729, 3730, 3731, 3732, 3733, 3735, 3736, 3737, 3738, 3740, 3744]}) (input_keys={'question'}): Expected dict_keys(['reasoning', 'ground_truth_key_ideas', 'system_response_key_ideas', 'discussion', 'recall', 'precision']) but got dict_keys(['reasoning', 'ground_truth_key_ideas']). Set `provide_traceback=True` for traceback.\n"
     ]
    },
    {
     "name": "stdout",
     "output_type": "stream",
     "text": [
      "Average Metric: 89.80 / 159 (56.5%): 100%|██████████| 160/160 [01:21<00:00,  1.97it/s]"
     ]
    },
    {
     "name": "stderr",
     "output_type": "stream",
     "text": [
      "2025/03/11 21:59:33 INFO dspy.evaluate.evaluate: Average Metric: 89.80463743529265 / 160 (56.1%)\n",
      "2025/03/11 21:59:33 INFO dspy.teleprompt.mipro_optimizer_v2: Default program score: 56.13\n",
      "\n",
      "/Users/aidand/dev/hello-dspy/env/lib/python3.10/site-packages/optuna/_experimental.py:31: ExperimentalWarning: Argument ``multivariate`` is an experimental feature. The interface can change in the future.\n",
      "  warnings.warn(\n",
      "2025/03/11 21:59:33 INFO dspy.teleprompt.mipro_optimizer_v2: == Trial 2 / 28 - Minibatch ==\n"
     ]
    },
    {
     "name": "stdout",
     "output_type": "stream",
     "text": [
      "\n",
      "Average Metric: 13.71 / 25 (54.8%): 100%|██████████| 25/25 [00:19<00:00,  1.28it/s]"
     ]
    },
    {
     "name": "stderr",
     "output_type": "stream",
     "text": [
      "2025/03/11 21:59:53 INFO dspy.evaluate.evaluate: Average Metric: 13.711728636155076 / 25 (54.8%)\n",
      "2025/03/11 21:59:53 INFO dspy.teleprompt.mipro_optimizer_v2: Score: 54.85 on minibatch of size 25 with parameters ['Predictor 0: Instruction 12', 'Predictor 0: Few-Shot Set 7'].\n",
      "2025/03/11 21:59:53 INFO dspy.teleprompt.mipro_optimizer_v2: Minibatch scores so far: [54.85]\n",
      "2025/03/11 21:59:53 INFO dspy.teleprompt.mipro_optimizer_v2: Full eval scores so far: [56.13]\n",
      "2025/03/11 21:59:53 INFO dspy.teleprompt.mipro_optimizer_v2: Best full score so far: 56.13\n",
      "2025/03/11 21:59:53 INFO dspy.teleprompt.mipro_optimizer_v2: =========================================\n",
      "\n",
      "\n",
      "2025/03/11 21:59:53 INFO dspy.teleprompt.mipro_optimizer_v2: == Trial 3 / 28 - Minibatch ==\n"
     ]
    },
    {
     "name": "stdout",
     "output_type": "stream",
     "text": [
      "\n",
      "Average Metric: 15.70 / 25 (62.8%): 100%|██████████| 25/25 [01:19<00:00,  3.18s/it]"
     ]
    },
    {
     "name": "stderr",
     "output_type": "stream",
     "text": [
      "2025/03/11 22:01:12 INFO dspy.evaluate.evaluate: Average Metric: 15.695510680063343 / 25 (62.8%)\n",
      "2025/03/11 22:01:12 INFO dspy.teleprompt.mipro_optimizer_v2: Score: 62.78 on minibatch of size 25 with parameters ['Predictor 0: Instruction 10', 'Predictor 0: Few-Shot Set 7'].\n",
      "2025/03/11 22:01:12 INFO dspy.teleprompt.mipro_optimizer_v2: Minibatch scores so far: [54.85, 62.78]\n",
      "2025/03/11 22:01:12 INFO dspy.teleprompt.mipro_optimizer_v2: Full eval scores so far: [56.13]\n",
      "2025/03/11 22:01:12 INFO dspy.teleprompt.mipro_optimizer_v2: Best full score so far: 56.13\n",
      "2025/03/11 22:01:12 INFO dspy.teleprompt.mipro_optimizer_v2: =========================================\n",
      "\n",
      "\n",
      "2025/03/11 22:01:12 INFO dspy.teleprompt.mipro_optimizer_v2: == Trial 4 / 28 - Minibatch ==\n"
     ]
    },
    {
     "name": "stdout",
     "output_type": "stream",
     "text": [
      "\n",
      "Average Metric: 16.17 / 25 (64.7%): 100%|██████████| 25/25 [00:23<00:00,  1.05it/s]"
     ]
    },
    {
     "name": "stderr",
     "output_type": "stream",
     "text": [
      "2025/03/11 22:01:36 INFO dspy.evaluate.evaluate: Average Metric: 16.167429041650053 / 25 (64.7%)\n",
      "2025/03/11 22:01:36 INFO dspy.teleprompt.mipro_optimizer_v2: Score: 64.67 on minibatch of size 25 with parameters ['Predictor 0: Instruction 7', 'Predictor 0: Few-Shot Set 18'].\n",
      "2025/03/11 22:01:36 INFO dspy.teleprompt.mipro_optimizer_v2: Minibatch scores so far: [54.85, 62.78, 64.67]\n",
      "2025/03/11 22:01:36 INFO dspy.teleprompt.mipro_optimizer_v2: Full eval scores so far: [56.13]\n",
      "2025/03/11 22:01:36 INFO dspy.teleprompt.mipro_optimizer_v2: Best full score so far: 56.13\n",
      "2025/03/11 22:01:36 INFO dspy.teleprompt.mipro_optimizer_v2: =========================================\n",
      "\n",
      "\n",
      "2025/03/11 22:01:36 INFO dspy.teleprompt.mipro_optimizer_v2: == Trial 5 / 28 - Minibatch ==\n"
     ]
    },
    {
     "name": "stdout",
     "output_type": "stream",
     "text": [
      "\n",
      "Average Metric: 15.47 / 25 (61.9%): 100%|██████████| 25/25 [00:36<00:00,  1.47s/it]"
     ]
    },
    {
     "name": "stderr",
     "output_type": "stream",
     "text": [
      "2025/03/11 22:02:13 INFO dspy.evaluate.evaluate: Average Metric: 15.467186012785435 / 25 (61.9%)\n",
      "2025/03/11 22:02:13 INFO dspy.teleprompt.mipro_optimizer_v2: Score: 61.87 on minibatch of size 25 with parameters ['Predictor 0: Instruction 15', 'Predictor 0: Few-Shot Set 2'].\n",
      "2025/03/11 22:02:13 INFO dspy.teleprompt.mipro_optimizer_v2: Minibatch scores so far: [54.85, 62.78, 64.67, 61.87]\n",
      "2025/03/11 22:02:13 INFO dspy.teleprompt.mipro_optimizer_v2: Full eval scores so far: [56.13]\n",
      "2025/03/11 22:02:13 INFO dspy.teleprompt.mipro_optimizer_v2: Best full score so far: 56.13\n",
      "2025/03/11 22:02:13 INFO dspy.teleprompt.mipro_optimizer_v2: =========================================\n",
      "\n",
      "\n",
      "2025/03/11 22:02:13 INFO dspy.teleprompt.mipro_optimizer_v2: == Trial 6 / 28 - Minibatch ==\n"
     ]
    },
    {
     "name": "stdout",
     "output_type": "stream",
     "text": [
      "\n",
      "Average Metric: 14.84 / 25 (59.3%): 100%|██████████| 25/25 [00:24<00:00,  1.01it/s]"
     ]
    },
    {
     "name": "stderr",
     "output_type": "stream",
     "text": [
      "2025/03/11 22:02:38 INFO dspy.evaluate.evaluate: Average Metric: 14.83623920870716 / 25 (59.3%)\n",
      "2025/03/11 22:02:38 INFO dspy.teleprompt.mipro_optimizer_v2: Score: 59.34 on minibatch of size 25 with parameters ['Predictor 0: Instruction 8', 'Predictor 0: Few-Shot Set 18'].\n",
      "2025/03/11 22:02:38 INFO dspy.teleprompt.mipro_optimizer_v2: Minibatch scores so far: [54.85, 62.78, 64.67, 61.87, 59.34]\n",
      "2025/03/11 22:02:38 INFO dspy.teleprompt.mipro_optimizer_v2: Full eval scores so far: [56.13]\n",
      "2025/03/11 22:02:38 INFO dspy.teleprompt.mipro_optimizer_v2: Best full score so far: 56.13\n",
      "2025/03/11 22:02:38 INFO dspy.teleprompt.mipro_optimizer_v2: =========================================\n",
      "\n",
      "\n",
      "2025/03/11 22:02:38 INFO dspy.teleprompt.mipro_optimizer_v2: == Trial 7 / 28 - Minibatch ==\n"
     ]
    },
    {
     "name": "stdout",
     "output_type": "stream",
     "text": [
      "\n",
      "Average Metric: 14.64 / 25 (58.6%): 100%|██████████| 25/25 [00:27<00:00,  1.11s/it]"
     ]
    },
    {
     "name": "stderr",
     "output_type": "stream",
     "text": [
      "2025/03/11 22:03:05 INFO dspy.evaluate.evaluate: Average Metric: 14.638857501567125 / 25 (58.6%)\n",
      "2025/03/11 22:03:05 INFO dspy.teleprompt.mipro_optimizer_v2: Score: 58.56 on minibatch of size 25 with parameters ['Predictor 0: Instruction 7', 'Predictor 0: Few-Shot Set 1'].\n",
      "2025/03/11 22:03:05 INFO dspy.teleprompt.mipro_optimizer_v2: Minibatch scores so far: [54.85, 62.78, 64.67, 61.87, 59.34, 58.56]\n",
      "2025/03/11 22:03:05 INFO dspy.teleprompt.mipro_optimizer_v2: Full eval scores so far: [56.13]\n",
      "2025/03/11 22:03:05 INFO dspy.teleprompt.mipro_optimizer_v2: Best full score so far: 56.13\n",
      "2025/03/11 22:03:05 INFO dspy.teleprompt.mipro_optimizer_v2: =========================================\n",
      "\n",
      "\n",
      "2025/03/11 22:03:05 INFO dspy.teleprompt.mipro_optimizer_v2: == Trial 8 / 28 - Minibatch ==\n"
     ]
    },
    {
     "name": "stdout",
     "output_type": "stream",
     "text": [
      "\n",
      "Average Metric: 14.88 / 25 (59.5%): 100%|██████████| 25/25 [00:20<00:00,  1.19it/s]"
     ]
    },
    {
     "name": "stderr",
     "output_type": "stream",
     "text": [
      "2025/03/11 22:03:26 INFO dspy.evaluate.evaluate: Average Metric: 14.883243248831121 / 25 (59.5%)\n",
      "2025/03/11 22:03:26 INFO dspy.teleprompt.mipro_optimizer_v2: Score: 59.53 on minibatch of size 25 with parameters ['Predictor 0: Instruction 7', 'Predictor 0: Few-Shot Set 12'].\n",
      "2025/03/11 22:03:26 INFO dspy.teleprompt.mipro_optimizer_v2: Minibatch scores so far: [54.85, 62.78, 64.67, 61.87, 59.34, 58.56, 59.53]\n",
      "2025/03/11 22:03:26 INFO dspy.teleprompt.mipro_optimizer_v2: Full eval scores so far: [56.13]\n",
      "2025/03/11 22:03:26 INFO dspy.teleprompt.mipro_optimizer_v2: Best full score so far: 56.13\n",
      "2025/03/11 22:03:26 INFO dspy.teleprompt.mipro_optimizer_v2: =========================================\n",
      "\n",
      "\n",
      "2025/03/11 22:03:26 INFO dspy.teleprompt.mipro_optimizer_v2: == Trial 9 / 28 - Minibatch ==\n"
     ]
    },
    {
     "name": "stdout",
     "output_type": "stream",
     "text": [
      "\n",
      "Average Metric: 15.27 / 24 (63.6%):  96%|█████████▌| 24/25 [00:44<00:07,  7.29s/it]"
     ]
    },
    {
     "name": "stderr",
     "output_type": "stream",
     "text": [
      "2025/03/11 22:04:18 ERROR dspy.utils.parallelizer: Error for Example({'question': 'are there any famous one-man-army programmers?', 'response': 'Bill Joy is notable for writing vi, among other programs, including csh, rlogin, rsh, and rcp.  \\nChris Sawyer was instrumental in creating RollerCoaster Tycoon, contributing to the game\\'s programming, which included a physics engine, and writing it in assembly language.  \\nOren Eini, also known as Ayende Rahien, is the author behind Rhino Mocks and is known for writing elegant code.  \\nGuido van Rossum created Python.  \\nRichard M. Stallman, often referred to as RMS, created Emacs and gcc and is recognized for maintaining pace with commercial Lisp machine code.  \\nThe first version of Lisp can be attributed to John McCarthy.  \\nJamie Zawinski is associated with one of computer science\\'s most epic stories.  \\nDerek Smart was known for his involvement with Battlecruiser 3000AD and his penchant for flame wars.  \\nSteve Wozniak was essentially Apple\\'s early programming staff.  \\nJohn Carmack created the engines for several iconic games, including the Doom, Wolfenstein and Quake series.  \\nAda Lovelace is celebrated as a pioneering figure in computing history.  \\nKhaled Mardam-Bey is the author of the popular IRC client, mIRC.  \\nThe invention and first implementation of C++ is credited to Bjarne Stroustrup.  \\nJon Van Caneghem single-handedly wrote, designed, and developed the original Might and Magic game, with some assistance for artwork, Dan Bunten created M.U.L.E., Seven Cities of Gold and a variety of other games, and Bill Budge - Created Pinball Construction Set, alongside many other games, from scratch, by himself.  \\nShaun Inman is recognized as a solo developer.  \\nAndrew Braybrook, Archer MacLean, Martin Walker, Jon Hare/Chris Yates, and Stavros Fasoulas are remembered for their individual contributions to Commodore 64 games, often doing everything themselves, including coding, sound, music, and graphics.  \\nLarry Wall is known for creating Perl.  \\nMatthew Smith is credited with writing Manic Miner and Jet Set Willy by himself.  \\nApple Writer was among Paul Lutus\\' creations.  \\nRichard Greenblatt has made significant contributions at the MIT AI Lab, including developing a chess program and Lisp Machine.  \\nWayne Ratliff, the creator behind the dBASE software, coded it in assembler.  \\nNick Bradbury is notable for developing HomeSite, TopStyle, and FeedDemon, paying great attention to user feedback.  \\nHighlights in programming language development include John Backus with Fortran, Stephen Wolfram for the Mathematica package, Tim Berners-Lee - inventor of World Wide Web and Phil Zimmermann - PGP.  \\nChuck Moore achieved recognition for creating Forth, as well as designing microprocessors and securing hardware patents.  \\nSimon Tatham wrote the widely used SSH client, PuTTY.  \\nAnders Hejlsberg is the creator behind Turbo Pascal, Delphi, and C#. \\nCleve Moler is known for originating MATLAB.  \\nBram Cohen\\'s project contributes significantly to internet traffic.  \\nMarkus Frind is the CEO of Plentyoffish.com, which he created alone, and the site generates significant revenue.  \\nJonathan Blow single-handedly developed the game Braid, including its sophisticated audio and particle systems. \\nD.J. Bernstein is remembered for qmail, djbdns, and his legal challenge enabling the publication of cryptography tools on the internet.  \\nCharles Babbage conceptualized the idea of a programmable computer.  \\nPhil Katz developed the important file compression utility PKZip.  \\nGary Kildall created CP/M, an early operating system.  \\nFabrice Bellard is recognized for writing FFmpeg, leading the QEMU project, discovering fast algorithms for calculating pi and FFmpeg and qemu, .  \\nThe hacker dark_alex falls into the one-man-army category.  \\nSlava Pestov created the advanced programming language Factor and developed Jedit at a young age.  \\nJon Tackabury\\'s contributions come from Binary Fortress.  \\nDoug Cutting initiated the creation of Lucene, Nutch, and later Hadoop.  \\nContributions by Eugene Roshal include the FAR file manager, RAR file format, and WinRAR file archiver, while Mark Zuckerberg created Facebook.  \\nRich Hickey authored Clojure.  \\nScawen Roberts, recognized for his work on the game Live for Speed, has been programming it single-handedly for years.  \\nOgre3D, an object-oriented graphics rendering engine, was created by Steve Streeting.  \\nJim Kent\\'s coding efforts were pivotal in the public release of the Human Genome Project\\'s map.  \\nAmong renowned hackers, Eric Corley and Kevin Mitnick are acknowledged.  \\nWayne Venables allegedly wrote Fruitshow forum software in 3 hours.  \\nArthur Whitney developed the \"K\" programming language and implemented a compact SQL engine in it.  \\nThe creators of the Leisure Suit Larry series, SimCity, and Elite are Al Lowe, Will Wright, and David Braben, respectively.  \\njQuery, a popular JavaScript framework, was created by John Resig.  \\nThe original FruityLoops software was developed by Didier Dambrin using Delphi.  \\nSid Meier Co-founded Microprose and wrote Sid Meier\\'s Alpha Centauri, and Sid Meier\\'s Colonization, Sid Meier\\'s Civilization IV.  \\nWalter Bright worked solo on Digital Mars\\' C++ compiler for several years and initiated the D language.  \\nShawn Fanning is the creator behind Napster.  \\nThe creation of the Spring framework is attributable to Rod Johnson.  \\nPeldi Guilizzoni developed Balsamiq, a tool for creating mockups.  \\nNasir Gebelli stands out for his early Apple II games like Gorgon and Space Eggs.  \\nThe near entirety of VIM was written by Bram Moolenaar.  \\nSimon Peyton Jones is known for his research in functional programming and for authoring the Glasgow Haskell Compiler.  \\nWil Shipley\\'s work includes Delicious Library.  \\nJoe Hewitt created Firebug and DOM Inspector.  \\nKernighan, Ritchie, and others like James Clark and Audrey Tang have made notable contributions.  \\nDonald Knuth and Ken Thompson are mentioned for their influence on programming.  \\nKen Silverman developed the Build engine for video games.  \\nJohn Carmack, Dave Cutler, and others like Tim Sweeney are highlighted for major contributions to software and operating systems.  \\nPaul Lutus is acknowledged as the father of Apple Writer.  \\nPeter Blum developed a comprehensive collection of ASP.NET controls.  \\nMatt Mullenweg created influential web development tools like WordPress.  \\nGus Mueller is recognized for his work.  \\nAlan Turing, the father of modern computer science, is mentioned for his contributions.  \\nJordan Mechner programmed the original Prince of Persia games, and the animations were based on his brother\\'s movements.  \\nD. Richard Hipp is known for SQLite and other TCL/TK-related work.  \\nMike Pall wrote LuaJIT, while Julian Seward created bzip2 and Valgrind.  \\nMarkus Persson, also known as Notch, is known for developing Minecraft.  \\nBill Atkinson wrote MacPaint for the original Macintosh.  \\nAgain, Nick Bradbury is acknowledged for creating HomeSite, TopStyle, and FeedDemon.  \\nAvery Lee developed Virtualdub, and Gabest was involved with Media Player Classic.  \\nJeff Minter, long-time video game programmer, created Tempest 3000 in assembler.  \\nAustin Meyer is credited with developing X-Plane.  \\nJustin Frankel created Winamp and Gnutella.  \\nMarkus Persson single-handedly worked on the design, programming, and graphics of Minecraft.  \\nDave Cutler was the father of VMS and NT and significantly contributed to Windows Azure.  \\nEddie Kohler is recognized for the Click modular router.  \\nL. Peter Deutsch is recognized for Ghostscript and other works.  \\nCharles Simonyi (Microsoft Word and Excel),  Joe Armstrong (Erlang) and Bertrand Meyer (Eiffel).  \\nIvan Sutherland\\'s invention of Sketchpad is a significant milestone.  \\nCave Story, a game created by Daisuke Amaya, also known as Pixel, is celebrated.  \\nAllan Odgaard is the author of TextMate.  \\nJeff Atwood is credited with creating the platform used for these discussions.  \\nDan Bricklin, inventor of the electronic spreadsheet, and Richard Bartle, for inventing MUD, are recognized for their pioneering work.  \\nAndrew Tridgell developed rsync & samba.', 'gold_doc_ids': [3638, 3639, 3640, 3641, 3642, 3643, 3644, 3645, 3646, 3648, 3649, 3650, 3651, 3653, 3654, 3655, 3656, 3657, 3659, 3660, 3661, 3662, 3663, 3664, 3665, 3666, 3667, 3669, 3670, 3671, 3672, 3673, 3674, 3676, 3677, 3678, 3680, 3681, 3682, 3683, 3684, 3685, 3686, 3687, 3688, 3689, 3690, 3693, 3694, 3695, 3696, 3697, 3698, 3701, 3702, 3704, 3705, 3706, 3707, 3708, 3709, 3710, 3711, 3712, 3713, 3714, 3715, 3716, 3717, 3718, 3719, 3721, 3722, 3723, 3724, 3725, 3726, 3727, 3728, 3729, 3730, 3731, 3732, 3733, 3735, 3736, 3737, 3738, 3740, 3744]}) (input_keys={'question'}): Expected dict_keys(['reasoning', 'ground_truth_key_ideas', 'system_response_key_ideas', 'discussion', 'recall', 'precision']) but got dict_keys(['reasoning', 'ground_truth_key_ideas']). Set `provide_traceback=True` for traceback.\n"
     ]
    },
    {
     "name": "stdout",
     "output_type": "stream",
     "text": [
      "Average Metric: 15.27 / 24 (63.6%): 100%|██████████| 25/25 [00:51<00:00,  2.06s/it]"
     ]
    },
    {
     "name": "stderr",
     "output_type": "stream",
     "text": [
      "2025/03/11 22:04:18 INFO dspy.evaluate.evaluate: Average Metric: 15.271497394831991 / 25 (61.1%)\n",
      "2025/03/11 22:04:18 INFO dspy.teleprompt.mipro_optimizer_v2: Score: 61.09 on minibatch of size 25 with parameters ['Predictor 0: Instruction 11', 'Predictor 0: Few-Shot Set 13'].\n",
      "2025/03/11 22:04:18 INFO dspy.teleprompt.mipro_optimizer_v2: Minibatch scores so far: [54.85, 62.78, 64.67, 61.87, 59.34, 58.56, 59.53, 61.09]\n",
      "2025/03/11 22:04:18 INFO dspy.teleprompt.mipro_optimizer_v2: Full eval scores so far: [56.13]\n",
      "2025/03/11 22:04:18 INFO dspy.teleprompt.mipro_optimizer_v2: Best full score so far: 56.13\n",
      "2025/03/11 22:04:18 INFO dspy.teleprompt.mipro_optimizer_v2: =========================================\n",
      "\n",
      "\n",
      "2025/03/11 22:04:18 INFO dspy.teleprompt.mipro_optimizer_v2: == Trial 10 / 28 - Minibatch ==\n"
     ]
    },
    {
     "name": "stdout",
     "output_type": "stream",
     "text": [
      "\n",
      "Average Metric: 14.09 / 25 (56.4%): 100%|██████████| 25/25 [00:26<00:00,  1.06s/it]"
     ]
    },
    {
     "name": "stderr",
     "output_type": "stream",
     "text": [
      "2025/03/11 22:04:44 INFO dspy.evaluate.evaluate: Average Metric: 14.092884408712298 / 25 (56.4%)\n",
      "2025/03/11 22:04:44 INFO dspy.teleprompt.mipro_optimizer_v2: Score: 56.37 on minibatch of size 25 with parameters ['Predictor 0: Instruction 5', 'Predictor 0: Few-Shot Set 4'].\n",
      "2025/03/11 22:04:44 INFO dspy.teleprompt.mipro_optimizer_v2: Minibatch scores so far: [54.85, 62.78, 64.67, 61.87, 59.34, 58.56, 59.53, 61.09, 56.37]\n",
      "2025/03/11 22:04:44 INFO dspy.teleprompt.mipro_optimizer_v2: Full eval scores so far: [56.13]\n",
      "2025/03/11 22:04:44 INFO dspy.teleprompt.mipro_optimizer_v2: Best full score so far: 56.13\n",
      "2025/03/11 22:04:44 INFO dspy.teleprompt.mipro_optimizer_v2: ==========================================\n",
      "\n",
      "\n",
      "2025/03/11 22:04:44 INFO dspy.teleprompt.mipro_optimizer_v2: ===== Trial 11 / 28 - Full Evaluation =====\n",
      "2025/03/11 22:04:44 INFO dspy.teleprompt.mipro_optimizer_v2: Doing full eval on next top averaging program (Avg Score: 64.67) from minibatch trials...\n"
     ]
    },
    {
     "name": "stdout",
     "output_type": "stream",
     "text": [
      "\n",
      "Average Metric: 97.79 / 160 (61.1%): 100%|██████████| 160/160 [01:29<00:00,  1.78it/s]"
     ]
    },
    {
     "name": "stderr",
     "output_type": "stream",
     "text": [
      "2025/03/11 22:06:14 INFO dspy.evaluate.evaluate: Average Metric: 97.79287481178888 / 160 (61.1%)\n",
      "2025/03/11 22:06:14 INFO dspy.teleprompt.mipro_optimizer_v2: \u001b[92mNew best full eval score!\u001b[0m Score: 61.12\n",
      "2025/03/11 22:06:14 INFO dspy.teleprompt.mipro_optimizer_v2: Full eval scores so far: [56.13, 61.12]\n",
      "2025/03/11 22:06:14 INFO dspy.teleprompt.mipro_optimizer_v2: Best full score so far: 61.12\n",
      "2025/03/11 22:06:14 INFO dspy.teleprompt.mipro_optimizer_v2: =======================\n",
      "2025/03/11 22:06:14 INFO dspy.teleprompt.mipro_optimizer_v2: \n",
      "\n",
      "2025/03/11 22:06:14 INFO dspy.teleprompt.mipro_optimizer_v2: == Trial 12 / 28 - Minibatch ==\n"
     ]
    },
    {
     "name": "stdout",
     "output_type": "stream",
     "text": [
      "\n",
      "Average Metric: 15.80 / 25 (63.2%): 100%|██████████| 25/25 [01:18<00:00,  3.15s/it]"
     ]
    },
    {
     "name": "stderr",
     "output_type": "stream",
     "text": [
      "2025/03/11 22:07:33 INFO dspy.evaluate.evaluate: Average Metric: 15.79697364365773 / 25 (63.2%)\n",
      "2025/03/11 22:07:33 INFO dspy.teleprompt.mipro_optimizer_v2: Score: 63.19 on minibatch of size 25 with parameters ['Predictor 0: Instruction 10', 'Predictor 0: Few-Shot Set 8'].\n",
      "2025/03/11 22:07:33 INFO dspy.teleprompt.mipro_optimizer_v2: Minibatch scores so far: [54.85, 62.78, 64.67, 61.87, 59.34, 58.56, 59.53, 61.09, 56.37, 63.19]\n",
      "2025/03/11 22:07:33 INFO dspy.teleprompt.mipro_optimizer_v2: Full eval scores so far: [56.13, 61.12]\n",
      "2025/03/11 22:07:33 INFO dspy.teleprompt.mipro_optimizer_v2: Best full score so far: 61.12\n",
      "2025/03/11 22:07:33 INFO dspy.teleprompt.mipro_optimizer_v2: ==========================================\n",
      "\n",
      "\n",
      "2025/03/11 22:07:33 INFO dspy.teleprompt.mipro_optimizer_v2: == Trial 13 / 28 - Minibatch ==\n"
     ]
    },
    {
     "name": "stdout",
     "output_type": "stream",
     "text": [
      "\n",
      "Average Metric: 14.78 / 25 (59.1%): 100%|██████████| 25/25 [00:24<00:00,  1.01it/s]"
     ]
    },
    {
     "name": "stderr",
     "output_type": "stream",
     "text": [
      "2025/03/11 22:07:58 INFO dspy.evaluate.evaluate: Average Metric: 14.77719197206137 / 25 (59.1%)\n",
      "2025/03/11 22:07:58 INFO dspy.teleprompt.mipro_optimizer_v2: Score: 59.11 on minibatch of size 25 with parameters ['Predictor 0: Instruction 17', 'Predictor 0: Few-Shot Set 8'].\n",
      "2025/03/11 22:07:58 INFO dspy.teleprompt.mipro_optimizer_v2: Minibatch scores so far: [54.85, 62.78, 64.67, 61.87, 59.34, 58.56, 59.53, 61.09, 56.37, 63.19, 59.11]\n",
      "2025/03/11 22:07:58 INFO dspy.teleprompt.mipro_optimizer_v2: Full eval scores so far: [56.13, 61.12]\n",
      "2025/03/11 22:07:58 INFO dspy.teleprompt.mipro_optimizer_v2: Best full score so far: 61.12\n",
      "2025/03/11 22:07:58 INFO dspy.teleprompt.mipro_optimizer_v2: ==========================================\n",
      "\n",
      "\n",
      "2025/03/11 22:07:58 INFO dspy.teleprompt.mipro_optimizer_v2: == Trial 14 / 28 - Minibatch ==\n"
     ]
    },
    {
     "name": "stdout",
     "output_type": "stream",
     "text": [
      "\n",
      "Average Metric: 15.25 / 25 (61.0%): 100%|██████████| 25/25 [00:21<00:00,  1.15it/s]"
     ]
    },
    {
     "name": "stderr",
     "output_type": "stream",
     "text": [
      "2025/03/11 22:08:20 INFO dspy.evaluate.evaluate: Average Metric: 15.253148075549364 / 25 (61.0%)\n",
      "2025/03/11 22:08:20 INFO dspy.teleprompt.mipro_optimizer_v2: Score: 61.01 on minibatch of size 25 with parameters ['Predictor 0: Instruction 13', 'Predictor 0: Few-Shot Set 9'].\n",
      "2025/03/11 22:08:20 INFO dspy.teleprompt.mipro_optimizer_v2: Minibatch scores so far: [54.85, 62.78, 64.67, 61.87, 59.34, 58.56, 59.53, 61.09, 56.37, 63.19, 59.11, 61.01]\n",
      "2025/03/11 22:08:20 INFO dspy.teleprompt.mipro_optimizer_v2: Full eval scores so far: [56.13, 61.12]\n",
      "2025/03/11 22:08:20 INFO dspy.teleprompt.mipro_optimizer_v2: Best full score so far: 61.12\n",
      "2025/03/11 22:08:20 INFO dspy.teleprompt.mipro_optimizer_v2: ==========================================\n",
      "\n",
      "\n",
      "2025/03/11 22:08:20 INFO dspy.teleprompt.mipro_optimizer_v2: == Trial 15 / 28 - Minibatch ==\n"
     ]
    },
    {
     "name": "stdout",
     "output_type": "stream",
     "text": [
      "\n",
      "Average Metric: 14.54 / 25 (58.2%): 100%|██████████| 25/25 [00:20<00:00,  1.22it/s]"
     ]
    },
    {
     "name": "stderr",
     "output_type": "stream",
     "text": [
      "2025/03/11 22:08:40 INFO dspy.evaluate.evaluate: Average Metric: 14.539452172279168 / 25 (58.2%)\n",
      "2025/03/11 22:08:40 INFO dspy.teleprompt.mipro_optimizer_v2: Score: 58.16 on minibatch of size 25 with parameters ['Predictor 0: Instruction 9', 'Predictor 0: Few-Shot Set 18'].\n",
      "2025/03/11 22:08:40 INFO dspy.teleprompt.mipro_optimizer_v2: Minibatch scores so far: [54.85, 62.78, 64.67, 61.87, 59.34, 58.56, 59.53, 61.09, 56.37, 63.19, 59.11, 61.01, 58.16]\n",
      "2025/03/11 22:08:40 INFO dspy.teleprompt.mipro_optimizer_v2: Full eval scores so far: [56.13, 61.12]\n",
      "2025/03/11 22:08:40 INFO dspy.teleprompt.mipro_optimizer_v2: Best full score so far: 61.12\n",
      "2025/03/11 22:08:40 INFO dspy.teleprompt.mipro_optimizer_v2: ==========================================\n",
      "\n",
      "\n",
      "2025/03/11 22:08:40 INFO dspy.teleprompt.mipro_optimizer_v2: == Trial 16 / 28 - Minibatch ==\n"
     ]
    },
    {
     "name": "stdout",
     "output_type": "stream",
     "text": [
      "\n",
      "Average Metric: 14.33 / 25 (57.3%): 100%|██████████| 25/25 [00:19<00:00,  1.29it/s]"
     ]
    },
    {
     "name": "stderr",
     "output_type": "stream",
     "text": [
      "2025/03/11 22:08:59 INFO dspy.evaluate.evaluate: Average Metric: 14.329899837617274 / 25 (57.3%)\n",
      "2025/03/11 22:08:59 INFO dspy.teleprompt.mipro_optimizer_v2: Score: 57.32 on minibatch of size 25 with parameters ['Predictor 0: Instruction 2', 'Predictor 0: Few-Shot Set 8'].\n",
      "2025/03/11 22:08:59 INFO dspy.teleprompt.mipro_optimizer_v2: Minibatch scores so far: [54.85, 62.78, 64.67, 61.87, 59.34, 58.56, 59.53, 61.09, 56.37, 63.19, 59.11, 61.01, 58.16, 57.32]\n",
      "2025/03/11 22:08:59 INFO dspy.teleprompt.mipro_optimizer_v2: Full eval scores so far: [56.13, 61.12]\n",
      "2025/03/11 22:08:59 INFO dspy.teleprompt.mipro_optimizer_v2: Best full score so far: 61.12\n",
      "2025/03/11 22:08:59 INFO dspy.teleprompt.mipro_optimizer_v2: ==========================================\n",
      "\n",
      "\n",
      "2025/03/11 22:09:00 INFO dspy.teleprompt.mipro_optimizer_v2: == Trial 17 / 28 - Minibatch ==\n"
     ]
    },
    {
     "name": "stdout",
     "output_type": "stream",
     "text": [
      "\n",
      "Average Metric: 14.36 / 25 (57.4%): 100%|██████████| 25/25 [01:32<00:00,  3.72s/it]"
     ]
    },
    {
     "name": "stderr",
     "output_type": "stream",
     "text": [
      "2025/03/11 22:10:33 INFO dspy.evaluate.evaluate: Average Metric: 14.361461896335845 / 25 (57.4%)\n",
      "2025/03/11 22:10:33 INFO dspy.teleprompt.mipro_optimizer_v2: Score: 57.45 on minibatch of size 25 with parameters ['Predictor 0: Instruction 10', 'Predictor 0: Few-Shot Set 5'].\n",
      "2025/03/11 22:10:33 INFO dspy.teleprompt.mipro_optimizer_v2: Minibatch scores so far: [54.85, 62.78, 64.67, 61.87, 59.34, 58.56, 59.53, 61.09, 56.37, 63.19, 59.11, 61.01, 58.16, 57.32, 57.45]\n",
      "2025/03/11 22:10:33 INFO dspy.teleprompt.mipro_optimizer_v2: Full eval scores so far: [56.13, 61.12]\n",
      "2025/03/11 22:10:33 INFO dspy.teleprompt.mipro_optimizer_v2: Best full score so far: 61.12\n",
      "2025/03/11 22:10:33 INFO dspy.teleprompt.mipro_optimizer_v2: ==========================================\n",
      "\n",
      "\n",
      "2025/03/11 22:10:33 INFO dspy.teleprompt.mipro_optimizer_v2: == Trial 18 / 28 - Minibatch ==\n"
     ]
    },
    {
     "name": "stdout",
     "output_type": "stream",
     "text": [
      "\n",
      "Average Metric: 16.63 / 25 (66.5%): 100%|██████████| 25/25 [00:08<00:00,  2.90it/s]"
     ]
    },
    {
     "name": "stderr",
     "output_type": "stream",
     "text": [
      "2025/03/11 22:10:41 INFO dspy.evaluate.evaluate: Average Metric: 16.63074181389143 / 25 (66.5%)\n",
      "2025/03/11 22:10:41 INFO dspy.teleprompt.mipro_optimizer_v2: Score: 66.52 on minibatch of size 25 with parameters ['Predictor 0: Instruction 7', 'Predictor 0: Few-Shot Set 18'].\n",
      "2025/03/11 22:10:41 INFO dspy.teleprompt.mipro_optimizer_v2: Minibatch scores so far: [54.85, 62.78, 64.67, 61.87, 59.34, 58.56, 59.53, 61.09, 56.37, 63.19, 59.11, 61.01, 58.16, 57.32, 57.45, 66.52]\n",
      "2025/03/11 22:10:41 INFO dspy.teleprompt.mipro_optimizer_v2: Full eval scores so far: [56.13, 61.12]\n",
      "2025/03/11 22:10:41 INFO dspy.teleprompt.mipro_optimizer_v2: Best full score so far: 61.12\n",
      "2025/03/11 22:10:41 INFO dspy.teleprompt.mipro_optimizer_v2: ==========================================\n",
      "\n",
      "\n",
      "2025/03/11 22:10:41 INFO dspy.teleprompt.mipro_optimizer_v2: == Trial 19 / 28 - Minibatch ==\n"
     ]
    },
    {
     "name": "stdout",
     "output_type": "stream",
     "text": [
      "\n",
      "Average Metric: 15.93 / 25 (63.7%): 100%|██████████| 25/25 [00:22<00:00,  1.12it/s]"
     ]
    },
    {
     "name": "stderr",
     "output_type": "stream",
     "text": [
      "2025/03/11 22:11:04 INFO dspy.evaluate.evaluate: Average Metric: 15.930546299825908 / 25 (63.7%)\n",
      "2025/03/11 22:11:04 INFO dspy.teleprompt.mipro_optimizer_v2: Score: 63.72 on minibatch of size 25 with parameters ['Predictor 0: Instruction 1', 'Predictor 0: Few-Shot Set 6'].\n",
      "2025/03/11 22:11:04 INFO dspy.teleprompt.mipro_optimizer_v2: Minibatch scores so far: [54.85, 62.78, 64.67, 61.87, 59.34, 58.56, 59.53, 61.09, 56.37, 63.19, 59.11, 61.01, 58.16, 57.32, 57.45, 66.52, 63.72]\n",
      "2025/03/11 22:11:04 INFO dspy.teleprompt.mipro_optimizer_v2: Full eval scores so far: [56.13, 61.12]\n",
      "2025/03/11 22:11:04 INFO dspy.teleprompt.mipro_optimizer_v2: Best full score so far: 61.12\n",
      "2025/03/11 22:11:04 INFO dspy.teleprompt.mipro_optimizer_v2: ==========================================\n",
      "\n",
      "\n",
      "2025/03/11 22:11:04 INFO dspy.teleprompt.mipro_optimizer_v2: == Trial 20 / 28 - Minibatch ==\n"
     ]
    },
    {
     "name": "stdout",
     "output_type": "stream",
     "text": [
      "\n",
      "Average Metric: 15.12 / 25 (60.5%): 100%|██████████| 25/25 [00:20<00:00,  1.23it/s]"
     ]
    },
    {
     "name": "stderr",
     "output_type": "stream",
     "text": [
      "2025/03/11 22:11:24 INFO dspy.evaluate.evaluate: Average Metric: 15.115268746478558 / 25 (60.5%)\n",
      "2025/03/11 22:11:24 INFO dspy.teleprompt.mipro_optimizer_v2: Score: 60.46 on minibatch of size 25 with parameters ['Predictor 0: Instruction 18', 'Predictor 0: Few-Shot Set 3'].\n",
      "2025/03/11 22:11:24 INFO dspy.teleprompt.mipro_optimizer_v2: Minibatch scores so far: [54.85, 62.78, 64.67, 61.87, 59.34, 58.56, 59.53, 61.09, 56.37, 63.19, 59.11, 61.01, 58.16, 57.32, 57.45, 66.52, 63.72, 60.46]\n",
      "2025/03/11 22:11:24 INFO dspy.teleprompt.mipro_optimizer_v2: Full eval scores so far: [56.13, 61.12]\n",
      "2025/03/11 22:11:24 INFO dspy.teleprompt.mipro_optimizer_v2: Best full score so far: 61.12\n",
      "2025/03/11 22:11:24 INFO dspy.teleprompt.mipro_optimizer_v2: ==========================================\n",
      "\n",
      "\n",
      "2025/03/11 22:11:24 INFO dspy.teleprompt.mipro_optimizer_v2: ===== Trial 21 / 28 - Full Evaluation =====\n",
      "2025/03/11 22:11:24 INFO dspy.teleprompt.mipro_optimizer_v2: Doing full eval on next top averaging program (Avg Score: 63.72) from minibatch trials...\n"
     ]
    },
    {
     "name": "stdout",
     "output_type": "stream",
     "text": [
      "\n",
      "Average Metric: 97.83 / 160 (61.1%): 100%|██████████| 160/160 [01:18<00:00,  2.03it/s]"
     ]
    },
    {
     "name": "stderr",
     "output_type": "stream",
     "text": [
      "2025/03/11 22:12:43 INFO dspy.evaluate.evaluate: Average Metric: 97.82914508233239 / 160 (61.1%)\n",
      "2025/03/11 22:12:43 INFO dspy.teleprompt.mipro_optimizer_v2: \u001b[92mNew best full eval score!\u001b[0m Score: 61.14\n",
      "2025/03/11 22:12:43 INFO dspy.teleprompt.mipro_optimizer_v2: Full eval scores so far: [56.13, 61.12, 61.14]\n",
      "2025/03/11 22:12:43 INFO dspy.teleprompt.mipro_optimizer_v2: Best full score so far: 61.14\n",
      "2025/03/11 22:12:43 INFO dspy.teleprompt.mipro_optimizer_v2: =======================\n",
      "2025/03/11 22:12:43 INFO dspy.teleprompt.mipro_optimizer_v2: \n",
      "\n",
      "2025/03/11 22:12:43 INFO dspy.teleprompt.mipro_optimizer_v2: == Trial 22 / 28 - Minibatch ==\n"
     ]
    },
    {
     "name": "stdout",
     "output_type": "stream",
     "text": [
      "\n",
      "Average Metric: 16.61 / 25 (66.5%): 100%|██████████| 25/25 [00:01<00:00, 23.95it/s]"
     ]
    },
    {
     "name": "stderr",
     "output_type": "stream",
     "text": [
      "2025/03/11 22:12:44 INFO dspy.evaluate.evaluate: Average Metric: 16.61435917326007 / 25 (66.5%)\n",
      "2025/03/11 22:12:44 INFO dspy.teleprompt.mipro_optimizer_v2: Score: 66.46 on minibatch of size 25 with parameters ['Predictor 0: Instruction 7', 'Predictor 0: Few-Shot Set 18'].\n",
      "2025/03/11 22:12:44 INFO dspy.teleprompt.mipro_optimizer_v2: Minibatch scores so far: [54.85, 62.78, 64.67, 61.87, 59.34, 58.56, 59.53, 61.09, 56.37, 63.19, 59.11, 61.01, 58.16, 57.32, 57.45, 66.52, 63.72, 60.46, 66.46]\n",
      "2025/03/11 22:12:44 INFO dspy.teleprompt.mipro_optimizer_v2: Full eval scores so far: [56.13, 61.12, 61.14]\n",
      "2025/03/11 22:12:44 INFO dspy.teleprompt.mipro_optimizer_v2: Best full score so far: 61.14\n",
      "2025/03/11 22:12:44 INFO dspy.teleprompt.mipro_optimizer_v2: ==========================================\n",
      "\n",
      "\n",
      "2025/03/11 22:12:44 INFO dspy.teleprompt.mipro_optimizer_v2: == Trial 23 / 28 - Minibatch ==\n"
     ]
    },
    {
     "name": "stdout",
     "output_type": "stream",
     "text": [
      "\n",
      "Average Metric: 15.18 / 25 (60.7%): 100%|██████████| 25/25 [00:20<00:00,  1.21it/s]"
     ]
    },
    {
     "name": "stderr",
     "output_type": "stream",
     "text": [
      "2025/03/11 22:13:04 INFO dspy.evaluate.evaluate: Average Metric: 15.181797803956204 / 25 (60.7%)\n",
      "2025/03/11 22:13:04 INFO dspy.teleprompt.mipro_optimizer_v2: Score: 60.73 on minibatch of size 25 with parameters ['Predictor 0: Instruction 16', 'Predictor 0: Few-Shot Set 18'].\n",
      "2025/03/11 22:13:04 INFO dspy.teleprompt.mipro_optimizer_v2: Minibatch scores so far: [54.85, 62.78, 64.67, 61.87, 59.34, 58.56, 59.53, 61.09, 56.37, 63.19, 59.11, 61.01, 58.16, 57.32, 57.45, 66.52, 63.72, 60.46, 66.46, 60.73]\n",
      "2025/03/11 22:13:04 INFO dspy.teleprompt.mipro_optimizer_v2: Full eval scores so far: [56.13, 61.12, 61.14]\n",
      "2025/03/11 22:13:04 INFO dspy.teleprompt.mipro_optimizer_v2: Best full score so far: 61.14\n",
      "2025/03/11 22:13:04 INFO dspy.teleprompt.mipro_optimizer_v2: ==========================================\n",
      "\n",
      "\n",
      "2025/03/11 22:13:04 INFO dspy.teleprompt.mipro_optimizer_v2: == Trial 24 / 28 - Minibatch ==\n"
     ]
    },
    {
     "name": "stdout",
     "output_type": "stream",
     "text": [
      "\n",
      "Average Metric: 14.96 / 25 (59.8%): 100%|██████████| 25/25 [00:22<00:00,  1.13it/s]"
     ]
    },
    {
     "name": "stderr",
     "output_type": "stream",
     "text": [
      "2025/03/11 22:13:27 INFO dspy.evaluate.evaluate: Average Metric: 14.957747537315127 / 25 (59.8%)\n",
      "2025/03/11 22:13:27 INFO dspy.teleprompt.mipro_optimizer_v2: Score: 59.83 on minibatch of size 25 with parameters ['Predictor 0: Instruction 15', 'Predictor 0: Few-Shot Set 18'].\n",
      "2025/03/11 22:13:27 INFO dspy.teleprompt.mipro_optimizer_v2: Minibatch scores so far: [54.85, 62.78, 64.67, 61.87, 59.34, 58.56, 59.53, 61.09, 56.37, 63.19, 59.11, 61.01, 58.16, 57.32, 57.45, 66.52, 63.72, 60.46, 66.46, 60.73, 59.83]\n",
      "2025/03/11 22:13:27 INFO dspy.teleprompt.mipro_optimizer_v2: Full eval scores so far: [56.13, 61.12, 61.14]\n",
      "2025/03/11 22:13:27 INFO dspy.teleprompt.mipro_optimizer_v2: Best full score so far: 61.14\n",
      "2025/03/11 22:13:27 INFO dspy.teleprompt.mipro_optimizer_v2: ==========================================\n",
      "\n",
      "\n",
      "2025/03/11 22:13:27 INFO dspy.teleprompt.mipro_optimizer_v2: == Trial 25 / 28 - Minibatch ==\n"
     ]
    },
    {
     "name": "stdout",
     "output_type": "stream",
     "text": [
      "\n",
      "Average Metric: 14.40 / 25 (57.6%): 100%|██████████| 25/25 [00:22<00:00,  1.12it/s]"
     ]
    },
    {
     "name": "stderr",
     "output_type": "stream",
     "text": [
      "2025/03/11 22:13:49 INFO dspy.evaluate.evaluate: Average Metric: 14.40463462874835 / 25 (57.6%)\n",
      "2025/03/11 22:13:49 INFO dspy.teleprompt.mipro_optimizer_v2: Score: 57.62 on minibatch of size 25 with parameters ['Predictor 0: Instruction 6', 'Predictor 0: Few-Shot Set 14'].\n",
      "2025/03/11 22:13:49 INFO dspy.teleprompt.mipro_optimizer_v2: Minibatch scores so far: [54.85, 62.78, 64.67, 61.87, 59.34, 58.56, 59.53, 61.09, 56.37, 63.19, 59.11, 61.01, 58.16, 57.32, 57.45, 66.52, 63.72, 60.46, 66.46, 60.73, 59.83, 57.62]\n",
      "2025/03/11 22:13:49 INFO dspy.teleprompt.mipro_optimizer_v2: Full eval scores so far: [56.13, 61.12, 61.14]\n",
      "2025/03/11 22:13:49 INFO dspy.teleprompt.mipro_optimizer_v2: Best full score so far: 61.14\n",
      "2025/03/11 22:13:49 INFO dspy.teleprompt.mipro_optimizer_v2: ==========================================\n",
      "\n",
      "\n",
      "2025/03/11 22:13:49 INFO dspy.teleprompt.mipro_optimizer_v2: == Trial 26 / 28 - Minibatch ==\n"
     ]
    },
    {
     "name": "stdout",
     "output_type": "stream",
     "text": [
      "\n",
      "Average Metric: 15.21 / 25 (60.8%): 100%|██████████| 25/25 [00:29<00:00,  1.16s/it]"
     ]
    },
    {
     "name": "stderr",
     "output_type": "stream",
     "text": [
      "2025/03/11 22:14:18 INFO dspy.evaluate.evaluate: Average Metric: 15.207612683736725 / 25 (60.8%)\n",
      "2025/03/11 22:14:18 INFO dspy.teleprompt.mipro_optimizer_v2: Score: 60.83 on minibatch of size 25 with parameters ['Predictor 0: Instruction 7', 'Predictor 0: Few-Shot Set 16'].\n",
      "2025/03/11 22:14:18 INFO dspy.teleprompt.mipro_optimizer_v2: Minibatch scores so far: [54.85, 62.78, 64.67, 61.87, 59.34, 58.56, 59.53, 61.09, 56.37, 63.19, 59.11, 61.01, 58.16, 57.32, 57.45, 66.52, 63.72, 60.46, 66.46, 60.73, 59.83, 57.62, 60.83]\n",
      "2025/03/11 22:14:18 INFO dspy.teleprompt.mipro_optimizer_v2: Full eval scores so far: [56.13, 61.12, 61.14]\n",
      "2025/03/11 22:14:18 INFO dspy.teleprompt.mipro_optimizer_v2: Best full score so far: 61.14\n",
      "2025/03/11 22:14:18 INFO dspy.teleprompt.mipro_optimizer_v2: ==========================================\n",
      "\n",
      "\n",
      "2025/03/11 22:14:18 INFO dspy.teleprompt.mipro_optimizer_v2: == Trial 27 / 28 - Minibatch ==\n"
     ]
    },
    {
     "name": "stdout",
     "output_type": "stream",
     "text": [
      "\n",
      "Average Metric: 16.44 / 25 (65.8%): 100%|██████████| 25/25 [00:01<00:00, 21.82it/s]"
     ]
    },
    {
     "name": "stderr",
     "output_type": "stream",
     "text": [
      "2025/03/11 22:14:19 INFO dspy.evaluate.evaluate: Average Metric: 16.4383194776683 / 25 (65.8%)\n",
      "2025/03/11 22:14:19 INFO dspy.teleprompt.mipro_optimizer_v2: Score: 65.75 on minibatch of size 25 with parameters ['Predictor 0: Instruction 7', 'Predictor 0: Few-Shot Set 18'].\n",
      "2025/03/11 22:14:19 INFO dspy.teleprompt.mipro_optimizer_v2: Minibatch scores so far: [54.85, 62.78, 64.67, 61.87, 59.34, 58.56, 59.53, 61.09, 56.37, 63.19, 59.11, 61.01, 58.16, 57.32, 57.45, 66.52, 63.72, 60.46, 66.46, 60.73, 59.83, 57.62, 60.83, 65.75]\n",
      "2025/03/11 22:14:19 INFO dspy.teleprompt.mipro_optimizer_v2: Full eval scores so far: [56.13, 61.12, 61.14]\n",
      "2025/03/11 22:14:19 INFO dspy.teleprompt.mipro_optimizer_v2: Best full score so far: 61.14\n",
      "2025/03/11 22:14:19 INFO dspy.teleprompt.mipro_optimizer_v2: ==========================================\n",
      "\n",
      "\n",
      "2025/03/11 22:14:19 INFO dspy.teleprompt.mipro_optimizer_v2: ===== Trial 28 / 28 - Full Evaluation =====\n",
      "2025/03/11 22:14:19 INFO dspy.teleprompt.mipro_optimizer_v2: Doing full eval on next top averaging program (Avg Score: 63.19) from minibatch trials...\n"
     ]
    },
    {
     "name": "stdout",
     "output_type": "stream",
     "text": [
      "\n",
      "Average Metric: 98.36 / 160 (61.5%): 100%|██████████| 160/160 [01:27<00:00,  1.82it/s]"
     ]
    },
    {
     "name": "stderr",
     "output_type": "stream",
     "text": [
      "2025/03/11 22:15:47 INFO dspy.evaluate.evaluate: Average Metric: 98.36471488348802 / 160 (61.5%)\n",
      "2025/03/11 22:15:47 INFO dspy.teleprompt.mipro_optimizer_v2: \u001b[92mNew best full eval score!\u001b[0m Score: 61.48\n",
      "2025/03/11 22:15:47 INFO dspy.teleprompt.mipro_optimizer_v2: Full eval scores so far: [56.13, 61.12, 61.14, 61.48]\n",
      "2025/03/11 22:15:47 INFO dspy.teleprompt.mipro_optimizer_v2: Best full score so far: 61.48\n",
      "2025/03/11 22:15:47 INFO dspy.teleprompt.mipro_optimizer_v2: =======================\n",
      "2025/03/11 22:15:47 INFO dspy.teleprompt.mipro_optimizer_v2: \n",
      "\n",
      "2025/03/11 22:15:47 INFO dspy.teleprompt.mipro_optimizer_v2: Returning best identified program with score 61.48!\n"
     ]
    },
    {
     "name": "stdout",
     "output_type": "stream",
     "text": [
      "\n"
     ]
    },
    {
     "data": {
      "text/html": [
       "\n",
       "<div>\n",
       "  <style scoped>\n",
       "  button {\n",
       "    border: none;\n",
       "    border-radius: 4px;\n",
       "    background-color: rgb(34, 114, 180);\n",
       "    font-family: -apple-system, \"system-ui\", \"Segoe UI\", Roboto, \"Helvetica Neue\", Arial;\n",
       "    font-size: 13px;\n",
       "    color: white;\n",
       "    margin-top: 8px;\n",
       "    margin-bottom: 8px;\n",
       "    padding: 8px 16px;\n",
       "    cursor: pointer;\n",
       "  }\n",
       "  button:hover {\n",
       "    background-color: rgb(66, 153, 224);\n",
       "  }\n",
       "  </style>\n",
       "  <button\n",
       "    onclick=\"\n",
       "        const display = this.nextElementSibling.style.display;\n",
       "        const isCollapsed = display === 'none';\n",
       "        this.nextElementSibling.style.display = isCollapsed ? null : 'none';\n",
       "\n",
       "        const verb = isCollapsed ? 'Collapse' : 'Expand';\n",
       "        this.innerText = `${verb} MLflow Trace`;\n",
       "    \"\n",
       "  >Collapse MLflow Trace</button>\n",
       "  <iframe\n",
       "    id=\"trace-renderer\"\n",
       "    style=\"width: 100%; height: 500px; border: none; resize: vertical;\"\n",
       "    src=\"http://localhost:5000/static-files/lib/notebook-trace-renderer/index.html?trace_id=7b442a793d72442e818af8f0d88222fc&amp;experiment_id=374362034103955121&amp;trace_id=7bc861d287274bde8d91d6de93b90809&amp;experiment_id=374362034103955121&amp;trace_id=7a4aac3d04cf40eb802403aa3ecf2a2e&amp;experiment_id=374362034103955121&amp;trace_id=607f21d4530d4cda9758f9b180c3aeb2&amp;experiment_id=374362034103955121&amp;trace_id=f38d7769514840a98873acb99e4c0272&amp;experiment_id=374362034103955121&amp;trace_id=d0a40a8e7224488da66f733fbe39c9c3&amp;experiment_id=374362034103955121&amp;trace_id=462588b1a0864b98bcb52d1e9dd551c0&amp;experiment_id=374362034103955121&amp;trace_id=21fe3f405c884b56aa0017b966948758&amp;experiment_id=374362034103955121&amp;trace_id=8e3e8099f986416284ed8b448ca11f7a&amp;experiment_id=374362034103955121&amp;trace_id=6a60d50aedab407aa1ce1cdb890ddbc9&amp;experiment_id=374362034103955121&amp;version=2.20.3\"\n",
       "  />\n",
       "</div>\n"
      ],
      "text/plain": [
       "[Trace(request_id=7b442a793d72442e818af8f0d88222fc), Trace(request_id=7bc861d287274bde8d91d6de93b90809), Trace(request_id=7a4aac3d04cf40eb802403aa3ecf2a2e), Trace(request_id=607f21d4530d4cda9758f9b180c3aeb2), Trace(request_id=f38d7769514840a98873acb99e4c0272), Trace(request_id=d0a40a8e7224488da66f733fbe39c9c3), Trace(request_id=462588b1a0864b98bcb52d1e9dd551c0), Trace(request_id=21fe3f405c884b56aa0017b966948758), Trace(request_id=8e3e8099f986416284ed8b448ca11f7a), Trace(request_id=6a60d50aedab407aa1ce1cdb890ddbc9)]"
      ]
     },
     "metadata": {},
     "output_type": "display_data"
    }
   ],
   "source": [
    "tp = dspy.MIPROv2(metric=metric, auto=\"medium\", num_threads=24)  # use fewer threads if your rate limit is small\n",
    "\n",
    "optimized_rag = tp.compile(RAG(), trainset=trainset,\n",
    "                           max_bootstrapped_demos=2, max_labeled_demos=2,\n",
    "                           requires_permission_to_run=False)"
   ]
  },
  {
   "cell_type": "code",
   "execution_count": 22,
   "metadata": {},
   "outputs": [
    {
     "name": "stdout",
     "output_type": "stream",
     "text": [
      "You are correct that cmd+tab does not work on hidden or minimized windows. To switch back to a minimized app, you must first switch to another application and let it take focus. This means you cannot directly cycle back to a minimized window using cmd+tab without first selecting a different app.\n"
     ]
    },
    {
     "data": {
      "text/html": [
       "\n",
       "<div>\n",
       "  <style scoped>\n",
       "  button {\n",
       "    border: none;\n",
       "    border-radius: 4px;\n",
       "    background-color: rgb(34, 114, 180);\n",
       "    font-family: -apple-system, \"system-ui\", \"Segoe UI\", Roboto, \"Helvetica Neue\", Arial;\n",
       "    font-size: 13px;\n",
       "    color: white;\n",
       "    margin-top: 8px;\n",
       "    margin-bottom: 8px;\n",
       "    padding: 8px 16px;\n",
       "    cursor: pointer;\n",
       "  }\n",
       "  button:hover {\n",
       "    background-color: rgb(66, 153, 224);\n",
       "  }\n",
       "  </style>\n",
       "  <button\n",
       "    onclick=\"\n",
       "        const display = this.nextElementSibling.style.display;\n",
       "        const isCollapsed = display === 'none';\n",
       "        this.nextElementSibling.style.display = isCollapsed ? null : 'none';\n",
       "\n",
       "        const verb = isCollapsed ? 'Collapse' : 'Expand';\n",
       "        this.innerText = `${verb} MLflow Trace`;\n",
       "    \"\n",
       "  >Collapse MLflow Trace</button>\n",
       "  <iframe\n",
       "    id=\"trace-renderer\"\n",
       "    style=\"width: 100%; height: 500px; border: none; resize: vertical;\"\n",
       "    src=\"http://localhost:5000/static-files/lib/notebook-trace-renderer/index.html?trace_id=8e524e151a08437c84238d1cbe29d68c&amp;experiment_id=374362034103955121&amp;version=2.20.3\"\n",
       "  />\n",
       "</div>\n"
      ],
      "text/plain": [
       "Trace(request_id=8e524e151a08437c84238d1cbe29d68c)"
      ]
     },
     "metadata": {},
     "output_type": "display_data"
    }
   ],
   "source": [
    "baseline = rag(question=\"cmd+tab does not work on hidden or minimized windows\")\n",
    "print(baseline.response)"
   ]
  },
  {
   "cell_type": "code",
   "execution_count": 23,
   "metadata": {},
   "outputs": [
    {
     "name": "stdout",
     "output_type": "stream",
     "text": [
      "The Command + Tab shortcut on macOS is designed to switch between open applications, but it does not activate or bring back minimized windows directly. When you use Command + Tab, it cycles through the applications that are currently open, but if an application is minimized, it will not be restored until you select it from the application switcher.\n",
      "\n",
      "To manage this behavior, you can try the following:\n",
      "\n",
      "1. **Adjust Mission Control Settings**: Go to System Preferences > Mission Control and uncheck the option \"When switching to an application, switch to a Space with open windows for the application.\" This may help in switching applications more effectively.\n",
      "\n",
      "2. **Use Option Key**: When you are cycling through applications with Command + Tab, you can hold the Option key while selecting an application. This allows you to switch focus to another app before returning to a minimized one.\n",
      "\n",
      "3. **Third-Party Applications**: Consider using third-party applications like Witch, which can provide more options for managing minimized windows and switching between applications.\n",
      "\n",
      "These methods can help improve your experience when using Command + Tab and managing minimized windows on your Mac.\n"
     ]
    },
    {
     "data": {
      "text/html": [
       "\n",
       "<div>\n",
       "  <style scoped>\n",
       "  button {\n",
       "    border: none;\n",
       "    border-radius: 4px;\n",
       "    background-color: rgb(34, 114, 180);\n",
       "    font-family: -apple-system, \"system-ui\", \"Segoe UI\", Roboto, \"Helvetica Neue\", Arial;\n",
       "    font-size: 13px;\n",
       "    color: white;\n",
       "    margin-top: 8px;\n",
       "    margin-bottom: 8px;\n",
       "    padding: 8px 16px;\n",
       "    cursor: pointer;\n",
       "  }\n",
       "  button:hover {\n",
       "    background-color: rgb(66, 153, 224);\n",
       "  }\n",
       "  </style>\n",
       "  <button\n",
       "    onclick=\"\n",
       "        const display = this.nextElementSibling.style.display;\n",
       "        const isCollapsed = display === 'none';\n",
       "        this.nextElementSibling.style.display = isCollapsed ? null : 'none';\n",
       "\n",
       "        const verb = isCollapsed ? 'Collapse' : 'Expand';\n",
       "        this.innerText = `${verb} MLflow Trace`;\n",
       "    \"\n",
       "  >Collapse MLflow Trace</button>\n",
       "  <iframe\n",
       "    id=\"trace-renderer\"\n",
       "    style=\"width: 100%; height: 500px; border: none; resize: vertical;\"\n",
       "    src=\"http://localhost:5000/static-files/lib/notebook-trace-renderer/index.html?trace_id=0f61ade5206d4bd6a8a12b2ab7728a84&amp;experiment_id=374362034103955121&amp;version=2.20.3\"\n",
       "  />\n",
       "</div>\n"
      ],
      "text/plain": [
       "Trace(request_id=0f61ade5206d4bd6a8a12b2ab7728a84)"
      ]
     },
     "metadata": {},
     "output_type": "display_data"
    }
   ],
   "source": [
    "pred = optimized_rag(question=\"cmd+tab does not work on hidden or minimized windows\")\n",
    "print(pred.response)"
   ]
  },
  {
   "cell_type": "code",
   "execution_count": 24,
   "metadata": {},
   "outputs": [
    {
     "name": "stdout",
     "output_type": "stream",
     "text": [
      "Average Metric: 189.83 / 300 (63.3%): 100%|██████████| 300/300 [03:29<00:00,  1.43it/s]"
     ]
    },
    {
     "name": "stderr",
     "output_type": "stream",
     "text": [
      "2025/03/11 22:39:09 INFO dspy.evaluate.evaluate: Average Metric: 189.82949313136845 / 300 (63.3%)\n"
     ]
    },
    {
     "name": "stdout",
     "output_type": "stream",
     "text": [
      "\n"
     ]
    },
    {
     "data": {
      "text/html": [
       "<div>\n",
       "<style scoped>\n",
       "    .dataframe tbody tr th:only-of-type {\n",
       "        vertical-align: middle;\n",
       "    }\n",
       "\n",
       "    .dataframe tbody tr th {\n",
       "        vertical-align: top;\n",
       "    }\n",
       "\n",
       "    .dataframe thead th {\n",
       "        text-align: right;\n",
       "    }\n",
       "</style>\n",
       "<table border=\"1\" class=\"dataframe\">\n",
       "  <thead>\n",
       "    <tr style=\"text-align: right;\">\n",
       "      <th></th>\n",
       "      <th>question</th>\n",
       "      <th>example_response</th>\n",
       "      <th>gold_doc_ids</th>\n",
       "      <th>reasoning</th>\n",
       "      <th>pred_response</th>\n",
       "      <th>SemanticF1</th>\n",
       "    </tr>\n",
       "  </thead>\n",
       "  <tbody>\n",
       "    <tr>\n",
       "      <th>0</th>\n",
       "      <td>when to use c over c++, and c++ over c?</td>\n",
       "      <td>If you are equally familiar with both C++ and C, it's advisable to...</td>\n",
       "      <td>[733]</td>\n",
       "      <td>The context provides insights into the strengths and weaknesses of...</td>\n",
       "      <td>You should consider using C over C++ in the following scenarios: 1...</td>\n",
       "      <td>✔️ [0.400]</td>\n",
       "    </tr>\n",
       "    <tr>\n",
       "      <th>1</th>\n",
       "      <td>should images be stored in a git repository?</td>\n",
       "      <td>One viewpoint expresses that there is no significant downside, esp...</td>\n",
       "      <td>[6253, 6254, 6275, 6278, 8215]</td>\n",
       "      <td>The context discusses the pros and cons of storing images in a Git...</td>\n",
       "      <td>Storing images in a Git repository can be problematic due to Git's...</td>\n",
       "      <td>✔️ [0.500]</td>\n",
       "    </tr>\n",
       "  </tbody>\n",
       "</table>\n",
       "</div>"
      ],
      "text/plain": [
       "                                       question  \\\n",
       "0       when to use c over c++, and c++ over c?   \n",
       "1  should images be stored in a git repository?   \n",
       "\n",
       "                                                        example_response  \\\n",
       "0  If you are equally familiar with both C++ and C, it's advisable to...   \n",
       "1  One viewpoint expresses that there is no significant downside, esp...   \n",
       "\n",
       "                     gold_doc_ids  \\\n",
       "0                           [733]   \n",
       "1  [6253, 6254, 6275, 6278, 8215]   \n",
       "\n",
       "                                                               reasoning  \\\n",
       "0  The context provides insights into the strengths and weaknesses of...   \n",
       "1  The context discusses the pros and cons of storing images in a Git...   \n",
       "\n",
       "                                                           pred_response  \\\n",
       "0  You should consider using C over C++ in the following scenarios: 1...   \n",
       "1  Storing images in a Git repository can be problematic due to Git's...   \n",
       "\n",
       "   SemanticF1  \n",
       "0  ✔️ [0.400]  \n",
       "1  ✔️ [0.500]  "
      ]
     },
     "metadata": {},
     "output_type": "display_data"
    },
    {
     "data": {
      "text/html": [
       "\n",
       "                <div style='\n",
       "                    text-align: center;\n",
       "                    font-size: 16px;\n",
       "                    font-weight: bold;\n",
       "                    color: #555;\n",
       "                    margin: 10px 0;'>\n",
       "                    ... 298 more rows not displayed ...\n",
       "                </div>\n",
       "                "
      ],
      "text/plain": [
       "<IPython.core.display.HTML object>"
      ]
     },
     "metadata": {},
     "output_type": "display_data"
    },
    {
     "data": {
      "text/plain": [
       "63.28"
      ]
     },
     "execution_count": 24,
     "metadata": {},
     "output_type": "execute_result"
    },
    {
     "data": {
      "text/html": [
       "\n",
       "<div>\n",
       "  <style scoped>\n",
       "  button {\n",
       "    border: none;\n",
       "    border-radius: 4px;\n",
       "    background-color: rgb(34, 114, 180);\n",
       "    font-family: -apple-system, \"system-ui\", \"Segoe UI\", Roboto, \"Helvetica Neue\", Arial;\n",
       "    font-size: 13px;\n",
       "    color: white;\n",
       "    margin-top: 8px;\n",
       "    margin-bottom: 8px;\n",
       "    padding: 8px 16px;\n",
       "    cursor: pointer;\n",
       "  }\n",
       "  button:hover {\n",
       "    background-color: rgb(66, 153, 224);\n",
       "  }\n",
       "  </style>\n",
       "  <button\n",
       "    onclick=\"\n",
       "        const display = this.nextElementSibling.style.display;\n",
       "        const isCollapsed = display === 'none';\n",
       "        this.nextElementSibling.style.display = isCollapsed ? null : 'none';\n",
       "\n",
       "        const verb = isCollapsed ? 'Collapse' : 'Expand';\n",
       "        this.innerText = `${verb} MLflow Trace`;\n",
       "    \"\n",
       "  >Collapse MLflow Trace</button>\n",
       "  <iframe\n",
       "    id=\"trace-renderer\"\n",
       "    style=\"width: 100%; height: 500px; border: none; resize: vertical;\"\n",
       "    src=\"http://localhost:5000/static-files/lib/notebook-trace-renderer/index.html?trace_id=c7001fee917349989ab5760ab6563db4&amp;experiment_id=374362034103955121&amp;trace_id=d821f71fcf5241a78a19f578f29b363e&amp;experiment_id=374362034103955121&amp;trace_id=f8a7eabd8dd74da7a163278e9c6310ee&amp;experiment_id=374362034103955121&amp;trace_id=7bbd4821d7f74a588e68bb9541aac793&amp;experiment_id=374362034103955121&amp;trace_id=2c86432064434d6ea53f6b7c256e6549&amp;experiment_id=374362034103955121&amp;trace_id=0f7085e0ad6b40d9ac9e47b6c6ebef0f&amp;experiment_id=374362034103955121&amp;trace_id=aaefe55fb63346829a178dbb1743bc3e&amp;experiment_id=374362034103955121&amp;trace_id=978a2be879244d5e98aad70d7df105eb&amp;experiment_id=374362034103955121&amp;trace_id=81bfe5fa24124ab4bd6e094e72c948f0&amp;experiment_id=374362034103955121&amp;trace_id=d37993de729b4d8b9c526b9b3968b49f&amp;experiment_id=374362034103955121&amp;version=2.20.3\"\n",
       "  />\n",
       "</div>\n"
      ],
      "text/plain": [
       "[Trace(request_id=c7001fee917349989ab5760ab6563db4), Trace(request_id=d821f71fcf5241a78a19f578f29b363e), Trace(request_id=f8a7eabd8dd74da7a163278e9c6310ee), Trace(request_id=7bbd4821d7f74a588e68bb9541aac793), Trace(request_id=2c86432064434d6ea53f6b7c256e6549), Trace(request_id=0f7085e0ad6b40d9ac9e47b6c6ebef0f), Trace(request_id=aaefe55fb63346829a178dbb1743bc3e), Trace(request_id=978a2be879244d5e98aad70d7df105eb), Trace(request_id=81bfe5fa24124ab4bd6e094e72c948f0), Trace(request_id=d37993de729b4d8b9c526b9b3968b49f)]"
      ]
     },
     "metadata": {},
     "output_type": "display_data"
    }
   ],
   "source": [
    "evaluate(optimized_rag)"
   ]
  },
  {
   "cell_type": "code",
   "execution_count": 26,
   "metadata": {},
   "outputs": [
    {
     "data": {
      "text/plain": [
       "1.7683434000000022"
      ]
     },
     "execution_count": 26,
     "metadata": {},
     "output_type": "execute_result"
    }
   ],
   "source": [
    "cost = sum([x['cost'] for x in lm.history if x['cost'] is not None])  # in USD, as calculated by LiteLLM for certain providers\n",
    "cost"
   ]
  },
  {
   "cell_type": "code",
   "execution_count": 27,
   "metadata": {},
   "outputs": [
    {
     "data": {
      "text/plain": [
       "Prediction(\n",
       "    reasoning='The context discusses the behavior of the Command + Tab shortcut on macOS, particularly in relation to switching between applications and handling minimized or hidden windows. It explains that Command + Tab allows users to cycle through applications but does not activate minimized windows directly. The context also provides alternative methods and settings adjustments that can help manage application switching more effectively.',\n",
       "    response='The Command + Tab shortcut on macOS is designed to switch between open applications, but it does not activate or bring back minimized windows directly. When you use Command + Tab, it cycles through the applications that are currently open, but if an application is minimized, it will not be restored until you select it from the application switcher.\\n\\nTo manage this behavior, you can try the following:\\n\\n1. **Adjust Mission Control Settings**: Go to System Preferences > Mission Control and uncheck the option \"When switching to an application, switch to a Space with open windows for the application.\" This may help in switching applications more effectively.\\n\\n2. **Use Option Key**: When you are cycling through applications with Command + Tab, you can hold the Option key while selecting an application. This allows you to switch focus to another app before returning to a minimized one.\\n\\n3. **Third-Party Applications**: Consider using third-party applications like Witch, which can provide more options for managing minimized windows and switching between applications.\\n\\nThese methods can help improve your experience when using Command + Tab and managing minimized windows on your Mac.'\n",
       ")"
      ]
     },
     "execution_count": 27,
     "metadata": {},
     "output_type": "execute_result"
    },
    {
     "data": {
      "text/html": [
       "\n",
       "<div>\n",
       "  <style scoped>\n",
       "  button {\n",
       "    border: none;\n",
       "    border-radius: 4px;\n",
       "    background-color: rgb(34, 114, 180);\n",
       "    font-family: -apple-system, \"system-ui\", \"Segoe UI\", Roboto, \"Helvetica Neue\", Arial;\n",
       "    font-size: 13px;\n",
       "    color: white;\n",
       "    margin-top: 8px;\n",
       "    margin-bottom: 8px;\n",
       "    padding: 8px 16px;\n",
       "    cursor: pointer;\n",
       "  }\n",
       "  button:hover {\n",
       "    background-color: rgb(66, 153, 224);\n",
       "  }\n",
       "  </style>\n",
       "  <button\n",
       "    onclick=\"\n",
       "        const display = this.nextElementSibling.style.display;\n",
       "        const isCollapsed = display === 'none';\n",
       "        this.nextElementSibling.style.display = isCollapsed ? null : 'none';\n",
       "\n",
       "        const verb = isCollapsed ? 'Collapse' : 'Expand';\n",
       "        this.innerText = `${verb} MLflow Trace`;\n",
       "    \"\n",
       "  >Collapse MLflow Trace</button>\n",
       "  <iframe\n",
       "    id=\"trace-renderer\"\n",
       "    style=\"width: 100%; height: 500px; border: none; resize: vertical;\"\n",
       "    src=\"http://localhost:5000/static-files/lib/notebook-trace-renderer/index.html?trace_id=e5bc46fbdc544f0a9853f1f83b3d8b8e&amp;experiment_id=374362034103955121&amp;version=2.20.3\"\n",
       "  />\n",
       "</div>\n"
      ],
      "text/plain": [
       "Trace(request_id=e5bc46fbdc544f0a9853f1f83b3d8b8e)"
      ]
     },
     "metadata": {},
     "output_type": "display_data"
    }
   ],
   "source": [
    "optimized_rag.save(\"optimized_rag.json\")\n",
    "\n",
    "loaded_rag = RAG()\n",
    "loaded_rag.load(\"optimized_rag.json\")\n",
    "\n",
    "loaded_rag(question=\"cmd+tab does not work on hidden or minimized windows\")"
   ]
  }
 ],
 "metadata": {
  "kernelspec": {
   "display_name": "Python 3",
   "language": "python",
   "name": "python3"
  },
  "language_info": {
   "codemirror_mode": {
    "name": "ipython",
    "version": 3
   },
   "file_extension": ".py",
   "mimetype": "text/x-python",
   "name": "python",
   "nbconvert_exporter": "python",
   "pygments_lexer": "ipython3",
   "version": "3.10.16"
  }
 },
 "nbformat": 4,
 "nbformat_minor": 2
}
