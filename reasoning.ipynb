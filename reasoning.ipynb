{
 "cells": [
  {
   "cell_type": "code",
   "execution_count": 8,
   "metadata": {},
   "outputs": [
    {
     "data": {
      "text/plain": [
       "<Experiment: artifact_location='mlflow-artifacts:/374362034103955121', creation_time=1741686562632, experiment_id='374362034103955121', last_update_time=1741686562632, lifecycle_stage='active', name='DSPy', tags={}>"
      ]
     },
     "execution_count": 8,
     "metadata": {},
     "output_type": "execute_result"
    }
   ],
   "source": [
    "import mlflow\n",
    "\n",
    "mlflow.set_tracking_uri(\"http://localhost:5000\")\n",
    "mlflow.set_experiment(\"DSPy\")"
   ]
  },
  {
   "cell_type": "code",
   "execution_count": 9,
   "metadata": {},
   "outputs": [],
   "source": [
    "mlflow.dspy.autolog()"
   ]
  },
  {
   "cell_type": "code",
   "execution_count": 1,
   "metadata": {},
   "outputs": [
    {
     "name": "stderr",
     "output_type": "stream",
     "text": [
      "/Users/aidand/dev/hello-dspy/env/lib/python3.10/site-packages/tqdm/auto.py:21: TqdmWarning: IProgress not found. Please update jupyter and ipywidgets. See https://ipywidgets.readthedocs.io/en/stable/user_install.html\n",
      "  from .autonotebook import tqdm as notebook_tqdm\n"
     ]
    }
   ],
   "source": [
    "import dspy\n",
    "\n",
    "gpt4o_mini = dspy.LM('openai/gpt-4o-mini', max_tokens=2000)\n",
    "gpt4o = dspy.LM('openai/gpt-4o', max_tokens=2000)\n",
    "dspy.configure(lm=gpt4o_mini)  # we'll use gpt-4o-mini as the default LM, unless otherwise specified"
   ]
  },
  {
   "cell_type": "code",
   "execution_count": 2,
   "metadata": {},
   "outputs": [
    {
     "name": "stderr",
     "output_type": "stream",
     "text": [
      "Downloading readme: 100%|██████████| 8.41k/8.41k [00:00<00:00, 39.2kB/s]\n",
      "Downloading data: 100%|██████████| 505k/505k [00:00<00:00, 647kB/s]\n",
      "Downloading data: 100%|██████████| 353k/353k [00:00<00:00, 547kB/s]\n",
      "Generating train split: 100%|██████████| 1744/1744 [00:00<00:00, 243107.65 examples/s]\n",
      "Generating test split: 100%|██████████| 1187/1187 [00:00<00:00, 414024.02 examples/s]"
     ]
    },
    {
     "name": "stdout",
     "output_type": "stream",
     "text": [
      "350 350\n"
     ]
    },
    {
     "name": "stderr",
     "output_type": "stream",
     "text": [
      "\n"
     ]
    }
   ],
   "source": [
    "from dspy.datasets import MATH\n",
    "\n",
    "dataset = MATH(subset='algebra')\n",
    "print(len(dataset.train), len(dataset.dev))"
   ]
  },
  {
   "cell_type": "code",
   "execution_count": 3,
   "metadata": {},
   "outputs": [
    {
     "name": "stdout",
     "output_type": "stream",
     "text": [
      "Question: The doctor has told Cal O'Ree that during his ten weeks of working out at the gym, he can expect each week's weight loss to be $1\\%$ of his weight at the end of the previous week. His weight at the beginning of the workouts is $244$ pounds. How many pounds does he expect to weigh at the end of the ten weeks? Express your answer to the nearest whole number.\n",
      "Answer: 221\n"
     ]
    }
   ],
   "source": [
    "example = dataset.train[0]\n",
    "print(\"Question:\", example.question)\n",
    "print(\"Answer:\", example.answer)"
   ]
  },
  {
   "cell_type": "code",
   "execution_count": 10,
   "metadata": {},
   "outputs": [
    {
     "data": {
      "text/plain": [
       "Prediction(\n",
       "    reasoning=\"Cal O'Ree's weight loss each week is $1\\\\%$ of his weight at the end of the previous week. This means that at the end of each week, he will weigh $99\\\\%$ of his weight from the previous week. \\n\\nWe can express this mathematically. If his initial weight is $W_0 = 244$ pounds, then his weight at the end of week $n$ can be calculated using the formula:\\n\\n\\\\[\\nW_n = W_{n-1} \\\\times 0.99\\n\\\\]\\n\\nThis can be simplified to:\\n\\n\\\\[\\nW_n = W_0 \\\\times (0.99)^n\\n\\\\]\\n\\nFor $n = 10$ weeks, we have:\\n\\n\\\\[\\nW_{10} = 244 \\\\times (0.99)^{10}\\n\\\\]\\n\\nNow we calculate $(0.99)^{10}$:\\n\\n\\\\[\\n(0.99)^{10} \\\\approx 0.904382\\n\\\\]\\n\\nNow we can calculate Cal O'Ree's weight after 10 weeks:\\n\\n\\\\[\\nW_{10} \\\\approx 244 \\\\times 0.904382 \\\\approx 220.5\\n\\\\]\\n\\nRounding to the nearest whole number, Cal O'Ree can expect to weigh approximately $221$ pounds at the end of the ten weeks.\",\n",
       "    answer='221'\n",
       ")"
      ]
     },
     "execution_count": 10,
     "metadata": {},
     "output_type": "execute_result"
    },
    {
     "data": {
      "text/html": [
       "\n",
       "<div>\n",
       "  <style scoped>\n",
       "  button {\n",
       "    border: none;\n",
       "    border-radius: 4px;\n",
       "    background-color: rgb(34, 114, 180);\n",
       "    font-family: -apple-system, \"system-ui\", \"Segoe UI\", Roboto, \"Helvetica Neue\", Arial;\n",
       "    font-size: 13px;\n",
       "    color: white;\n",
       "    margin-top: 8px;\n",
       "    margin-bottom: 8px;\n",
       "    padding: 8px 16px;\n",
       "    cursor: pointer;\n",
       "  }\n",
       "  button:hover {\n",
       "    background-color: rgb(66, 153, 224);\n",
       "  }\n",
       "  </style>\n",
       "  <button\n",
       "    onclick=\"\n",
       "        const display = this.nextElementSibling.style.display;\n",
       "        const isCollapsed = display === 'none';\n",
       "        this.nextElementSibling.style.display = isCollapsed ? null : 'none';\n",
       "\n",
       "        const verb = isCollapsed ? 'Collapse' : 'Expand';\n",
       "        this.innerText = `${verb} MLflow Trace`;\n",
       "    \"\n",
       "  >Collapse MLflow Trace</button>\n",
       "  <iframe\n",
       "    id=\"trace-renderer\"\n",
       "    style=\"width: 100%; height: 500px; border: none; resize: vertical;\"\n",
       "    src=\"http://localhost:5000/static-files/lib/notebook-trace-renderer/index.html?trace_id=fe47f1f8059e4ee7888525bf0322b6a2&amp;experiment_id=374362034103955121&amp;version=2.20.3\"\n",
       "  />\n",
       "</div>\n"
      ],
      "text/plain": [
       "Trace(request_id=fe47f1f8059e4ee7888525bf0322b6a2)"
      ]
     },
     "metadata": {},
     "output_type": "display_data"
    }
   ],
   "source": [
    "module = dspy.ChainOfThought(\"question -> answer\")\n",
    "module(question=example.question)"
   ]
  },
  {
   "cell_type": "code",
   "execution_count": 7,
   "metadata": {},
   "outputs": [
    {
     "name": "stdout",
     "output_type": "stream",
     "text": [
      "\n",
      "\n",
      "\n",
      "\n",
      "\u001b[34m[2025-03-13T12:44:05.583790]\u001b[0m\n",
      "\n",
      "\u001b[31mSystem message:\u001b[0m\n",
      "\n",
      "Your input fields are:\n",
      "1. `question` (str)\n",
      "\n",
      "Your output fields are:\n",
      "1. `reasoning` (str)\n",
      "2. `answer` (str)\n",
      "\n",
      "All interactions will be structured in the following way, with the appropriate values filled in.\n",
      "\n",
      "[[ ## question ## ]]\n",
      "{question}\n",
      "\n",
      "[[ ## reasoning ## ]]\n",
      "{reasoning}\n",
      "\n",
      "[[ ## answer ## ]]\n",
      "{answer}\n",
      "\n",
      "[[ ## completed ## ]]\n",
      "\n",
      "In adhering to this structure, your objective is: \n",
      "        Given the fields `question`, produce the fields `answer`.\n",
      "\n",
      "\n",
      "\u001b[31mUser message:\u001b[0m\n",
      "\n",
      "[[ ## question ## ]]\n",
      "The doctor has told Cal O'Ree that during his ten weeks of working out at the gym, he can expect each week's weight loss to be $1\\%$ of his weight at the end of the previous week. His weight at the beginning of the workouts is $244$ pounds. How many pounds does he expect to weigh at the end of the ten weeks? Express your answer to the nearest whole number.\n",
      "\n",
      "Respond with the corresponding output fields, starting with the field `[[ ## reasoning ## ]]`, then `[[ ## answer ## ]]`, and then ending with the marker for `[[ ## completed ## ]]`.\n",
      "\n",
      "\n",
      "\u001b[31mResponse:\u001b[0m\n",
      "\n",
      "\u001b[32m[[ ## reasoning ## ]]\n",
      "Cal O'Ree's weight loss each week is $1\\%$ of his weight at the end of the previous week. This means that at the end of each week, he will weigh $99\\%$ of his weight from the previous week. \n",
      "\n",
      "We can express this mathematically. If his initial weight is $W_0 = 244$ pounds, then his weight at the end of week $n$ can be calculated using the formula:\n",
      "\n",
      "\\[\n",
      "W_n = W_{n-1} \\times 0.99\n",
      "\\]\n",
      "\n",
      "This can be simplified to:\n",
      "\n",
      "\\[\n",
      "W_n = W_0 \\times (0.99)^n\n",
      "\\]\n",
      "\n",
      "For $n = 10$ weeks, we have:\n",
      "\n",
      "\\[\n",
      "W_{10} = 244 \\times (0.99)^{10}\n",
      "\\]\n",
      "\n",
      "Now we calculate $(0.99)^{10}$:\n",
      "\n",
      "\\[\n",
      "(0.99)^{10} \\approx 0.904382\n",
      "\\]\n",
      "\n",
      "Now we can calculate Cal O'Ree's weight after 10 weeks:\n",
      "\n",
      "\\[\n",
      "W_{10} \\approx 244 \\times 0.904382 \\approx 220.5\n",
      "\\]\n",
      "\n",
      "Rounding to the nearest whole number, Cal O'Ree can expect to weigh approximately $221$ pounds at the end of the ten weeks.\n",
      "\n",
      "[[ ## answer ## ]]\n",
      "221\n",
      "\n",
      "[[ ## completed ## ]]\u001b[0m\n",
      "\n",
      "\n",
      "\n",
      "\n",
      "\n"
     ]
    }
   ],
   "source": [
    "dspy.inspect_history(n=1)"
   ]
  },
  {
   "cell_type": "code",
   "execution_count": 11,
   "metadata": {},
   "outputs": [
    {
     "name": "stdout",
     "output_type": "stream",
     "text": [
      "  0%|          | 0/350 [00:00<?, ?it/s]"
     ]
    },
    {
     "name": "stdout",
     "output_type": "stream",
     "text": [
      "Average Metric: 261.00 / 350 (74.6%): 100%|██████████| 350/350 [02:12<00:00,  2.64it/s]"
     ]
    },
    {
     "name": "stderr",
     "output_type": "stream",
     "text": [
      "2025/03/13 12:47:12 INFO dspy.evaluate.evaluate: Average Metric: 261 / 350 (74.6%)\n"
     ]
    },
    {
     "name": "stdout",
     "output_type": "stream",
     "text": [
      "\n"
     ]
    },
    {
     "data": {
      "text/html": [
       "<div>\n",
       "<style scoped>\n",
       "    .dataframe tbody tr th:only-of-type {\n",
       "        vertical-align: middle;\n",
       "    }\n",
       "\n",
       "    .dataframe tbody tr th {\n",
       "        vertical-align: top;\n",
       "    }\n",
       "\n",
       "    .dataframe thead th {\n",
       "        text-align: right;\n",
       "    }\n",
       "</style>\n",
       "<table border=\"1\" class=\"dataframe\">\n",
       "  <thead>\n",
       "    <tr style=\"text-align: right;\">\n",
       "      <th></th>\n",
       "      <th>question</th>\n",
       "      <th>example_reasoning</th>\n",
       "      <th>example_answer</th>\n",
       "      <th>pred_reasoning</th>\n",
       "      <th>pred_answer</th>\n",
       "      <th>method</th>\n",
       "    </tr>\n",
       "  </thead>\n",
       "  <tbody>\n",
       "    <tr>\n",
       "      <th>0</th>\n",
       "      <td>What is the smallest integer value of $c$ such that the function $...</td>\n",
       "      <td>The given function has a domain of all real numbers if and only if...</td>\n",
       "      <td>1</td>\n",
       "      <td>To determine the smallest integer value of \\( c \\) such that the f...</td>\n",
       "      <td>1</td>\n",
       "      <td>✔️ [True]</td>\n",
       "    </tr>\n",
       "    <tr>\n",
       "      <th>1</th>\n",
       "      <td>What is the least value of $x$ that is a solution of $|{-x+3}|=7$?</td>\n",
       "      <td>In order to have $|{-x+3}| = 7$, we must have $-x + 3 = 7$ or $-x ...</td>\n",
       "      <td>-4</td>\n",
       "      <td>To solve the equation \\( |{-x+3}|=7 \\), we need to consider the de...</td>\n",
       "      <td>-4</td>\n",
       "      <td>✔️ [True]</td>\n",
       "    </tr>\n",
       "    <tr>\n",
       "      <th>2</th>\n",
       "      <td>Evaluate $\\left\\lceil -\\frac{7}{4}\\right\\rceil$.</td>\n",
       "      <td>$-\\frac{7}{4}$ is between $-1$ and $-2$, so $\\left\\lceil -\\frac{7}...</td>\n",
       "      <td>-1</td>\n",
       "      <td>To evaluate \\(\\left\\lceil -\\frac{7}{4}\\right\\rceil\\), we first nee...</td>\n",
       "      <td>-1</td>\n",
       "      <td>✔️ [True]</td>\n",
       "    </tr>\n",
       "    <tr>\n",
       "      <th>3</th>\n",
       "      <td>A triangle has vertices at coordinates $(11,1)$, $(2,3)$ and $(3,7...</td>\n",
       "      <td>We must find the distance between each pair of points by using the...</td>\n",
       "      <td>10</td>\n",
       "      <td>To find the length of the longest side of the triangle with vertic...</td>\n",
       "      <td>10</td>\n",
       "      <td>✔️ [True]</td>\n",
       "    </tr>\n",
       "    <tr>\n",
       "      <th>4</th>\n",
       "      <td>Let $f(x) = x + 2$ and $g(x) = 1/f(x)$. What is $g(f(-3))$?</td>\n",
       "      <td>First, we find that $f(-3) = (-3) + 2 = -1$. Then, $$g(f(-3)) = g(...</td>\n",
       "      <td>1</td>\n",
       "      <td>To find \\( g(f(-3)) \\), we first need to evaluate \\( f(-3) \\). The...</td>\n",
       "      <td>1</td>\n",
       "      <td>✔️ [True]</td>\n",
       "    </tr>\n",
       "  </tbody>\n",
       "</table>\n",
       "</div>"
      ],
      "text/plain": [
       "                                                                question  \\\n",
       "0  What is the smallest integer value of $c$ such that the function $...   \n",
       "1     What is the least value of $x$ that is a solution of $|{-x+3}|=7$?   \n",
       "2                       Evaluate $\\left\\lceil -\\frac{7}{4}\\right\\rceil$.   \n",
       "3  A triangle has vertices at coordinates $(11,1)$, $(2,3)$ and $(3,7...   \n",
       "4            Let $f(x) = x + 2$ and $g(x) = 1/f(x)$. What is $g(f(-3))$?   \n",
       "\n",
       "                                                       example_reasoning  \\\n",
       "0  The given function has a domain of all real numbers if and only if...   \n",
       "1  In order to have $|{-x+3}| = 7$, we must have $-x + 3 = 7$ or $-x ...   \n",
       "2  $-\\frac{7}{4}$ is between $-1$ and $-2$, so $\\left\\lceil -\\frac{7}...   \n",
       "3  We must find the distance between each pair of points by using the...   \n",
       "4  First, we find that $f(-3) = (-3) + 2 = -1$. Then, $$g(f(-3)) = g(...   \n",
       "\n",
       "  example_answer  \\\n",
       "0              1   \n",
       "1             -4   \n",
       "2             -1   \n",
       "3             10   \n",
       "4              1   \n",
       "\n",
       "                                                          pred_reasoning  \\\n",
       "0  To determine the smallest integer value of \\( c \\) such that the f...   \n",
       "1  To solve the equation \\( |{-x+3}|=7 \\), we need to consider the de...   \n",
       "2  To evaluate \\(\\left\\lceil -\\frac{7}{4}\\right\\rceil\\), we first nee...   \n",
       "3  To find the length of the longest side of the triangle with vertic...   \n",
       "4  To find \\( g(f(-3)) \\), we first need to evaluate \\( f(-3) \\). The...   \n",
       "\n",
       "  pred_answer     method  \n",
       "0           1  ✔️ [True]  \n",
       "1          -4  ✔️ [True]  \n",
       "2          -1  ✔️ [True]  \n",
       "3          10  ✔️ [True]  \n",
       "4           1  ✔️ [True]  "
      ]
     },
     "metadata": {},
     "output_type": "display_data"
    },
    {
     "data": {
      "text/html": [
       "\n",
       "                <div style='\n",
       "                    text-align: center;\n",
       "                    font-size: 16px;\n",
       "                    font-weight: bold;\n",
       "                    color: #555;\n",
       "                    margin: 10px 0;'>\n",
       "                    ... 345 more rows not displayed ...\n",
       "                </div>\n",
       "                "
      ],
      "text/plain": [
       "<IPython.core.display.HTML object>"
      ]
     },
     "metadata": {},
     "output_type": "display_data"
    },
    {
     "data": {
      "text/plain": [
       "74.57"
      ]
     },
     "execution_count": 11,
     "metadata": {},
     "output_type": "execute_result"
    },
    {
     "data": {
      "text/html": [
       "\n",
       "<div>\n",
       "  <style scoped>\n",
       "  button {\n",
       "    border: none;\n",
       "    border-radius: 4px;\n",
       "    background-color: rgb(34, 114, 180);\n",
       "    font-family: -apple-system, \"system-ui\", \"Segoe UI\", Roboto, \"Helvetica Neue\", Arial;\n",
       "    font-size: 13px;\n",
       "    color: white;\n",
       "    margin-top: 8px;\n",
       "    margin-bottom: 8px;\n",
       "    padding: 8px 16px;\n",
       "    cursor: pointer;\n",
       "  }\n",
       "  button:hover {\n",
       "    background-color: rgb(66, 153, 224);\n",
       "  }\n",
       "  </style>\n",
       "  <button\n",
       "    onclick=\"\n",
       "        const display = this.nextElementSibling.style.display;\n",
       "        const isCollapsed = display === 'none';\n",
       "        this.nextElementSibling.style.display = isCollapsed ? null : 'none';\n",
       "\n",
       "        const verb = isCollapsed ? 'Collapse' : 'Expand';\n",
       "        this.innerText = `${verb} MLflow Trace`;\n",
       "    \"\n",
       "  >Collapse MLflow Trace</button>\n",
       "  <iframe\n",
       "    id=\"trace-renderer\"\n",
       "    style=\"width: 100%; height: 500px; border: none; resize: vertical;\"\n",
       "    src=\"http://localhost:5000/static-files/lib/notebook-trace-renderer/index.html?trace_id=280fe9fba2124f67a5144faaee55ca90&amp;experiment_id=374362034103955121&amp;trace_id=ed5ca26a028841a984314a79aaec3da6&amp;experiment_id=374362034103955121&amp;trace_id=ce9fc3f4520449ebad29a4aa85df76ae&amp;experiment_id=374362034103955121&amp;trace_id=0f55e531d255460ba9c6b27f5fae16be&amp;experiment_id=374362034103955121&amp;trace_id=7d2e458993174dca969782d086d75a69&amp;experiment_id=374362034103955121&amp;trace_id=9acdc44b72b644a398756af3860660c8&amp;experiment_id=374362034103955121&amp;trace_id=460e9381c47d4de9b796cc6dc2d781e3&amp;experiment_id=374362034103955121&amp;trace_id=423cdf11401540b886ebdebf59dc1b55&amp;experiment_id=374362034103955121&amp;trace_id=94b9795590cb42ebbc02ac3b9b27c97d&amp;experiment_id=374362034103955121&amp;trace_id=83aab480f2f142c3ba5e4a00a0df5386&amp;experiment_id=374362034103955121&amp;version=2.20.3\"\n",
       "  />\n",
       "</div>\n"
      ],
      "text/plain": [
       "[Trace(request_id=280fe9fba2124f67a5144faaee55ca90), Trace(request_id=ed5ca26a028841a984314a79aaec3da6), Trace(request_id=ce9fc3f4520449ebad29a4aa85df76ae), Trace(request_id=0f55e531d255460ba9c6b27f5fae16be), Trace(request_id=7d2e458993174dca969782d086d75a69), Trace(request_id=9acdc44b72b644a398756af3860660c8), Trace(request_id=460e9381c47d4de9b796cc6dc2d781e3), Trace(request_id=423cdf11401540b886ebdebf59dc1b55), Trace(request_id=94b9795590cb42ebbc02ac3b9b27c97d), Trace(request_id=83aab480f2f142c3ba5e4a00a0df5386)]"
      ]
     },
     "metadata": {},
     "output_type": "display_data"
    }
   ],
   "source": [
    "THREADS = 24\n",
    "kwargs = dict(num_threads=THREADS, display_progress=True, display_table=5)\n",
    "evaluate = dspy.Evaluate(devset=dataset.dev, metric=dataset.metric, **kwargs)\n",
    "\n",
    "evaluate(module)"
   ]
  },
  {
   "cell_type": "code",
   "execution_count": 12,
   "metadata": {},
   "outputs": [
    {
     "name": "stderr",
     "output_type": "stream",
     "text": [
      "2025/03/13 12:49:28 INFO dspy.teleprompt.mipro_optimizer_v2: \n",
      "RUNNING WITH THE FOLLOWING MEDIUM AUTO RUN SETTINGS:\n",
      "num_trials: 25\n",
      "minibatch: True\n",
      "num_candidates: 19\n",
      "valset size: 280\n",
      "\n",
      "2025/03/13 12:49:28 INFO dspy.teleprompt.mipro_optimizer_v2: \n",
      "==> STEP 1: BOOTSTRAP FEWSHOT EXAMPLES <==\n",
      "2025/03/13 12:49:28 INFO dspy.teleprompt.mipro_optimizer_v2: These will be used as few-shot example candidates for our program and for creating instructions.\n",
      "\n",
      "2025/03/13 12:49:28 INFO dspy.teleprompt.mipro_optimizer_v2: Bootstrapping N=19 sets of demonstrations...\n"
     ]
    },
    {
     "name": "stdout",
     "output_type": "stream",
     "text": [
      "Bootstrapping set 1/19\n",
      "Bootstrapping set 2/19\n",
      "Bootstrapping set 3/19\n"
     ]
    },
    {
     "name": "stderr",
     "output_type": "stream",
     "text": [
      "  7%|▋         | 5/70 [00:37<08:06,  7.48s/it]\n"
     ]
    },
    {
     "name": "stdout",
     "output_type": "stream",
     "text": [
      "Bootstrapped 4 full traces after 5 examples for up to 1 rounds, amounting to 5 attempts.\n",
      "Bootstrapping set 4/19\n"
     ]
    },
    {
     "name": "stderr",
     "output_type": "stream",
     "text": [
      "  6%|▌         | 4/70 [00:16<04:28,  4.07s/it]\n"
     ]
    },
    {
     "name": "stdout",
     "output_type": "stream",
     "text": [
      "Bootstrapped 4 full traces after 4 examples for up to 1 rounds, amounting to 4 attempts.\n",
      "Bootstrapping set 5/19\n"
     ]
    },
    {
     "name": "stderr",
     "output_type": "stream",
     "text": [
      "  6%|▌         | 4/70 [00:34<09:22,  8.53s/it]\n"
     ]
    },
    {
     "name": "stdout",
     "output_type": "stream",
     "text": [
      "Bootstrapped 3 full traces after 4 examples for up to 1 rounds, amounting to 4 attempts.\n",
      "Bootstrapping set 6/19\n"
     ]
    },
    {
     "name": "stderr",
     "output_type": "stream",
     "text": [
      "  6%|▌         | 4/70 [00:25<07:03,  6.42s/it]\n"
     ]
    },
    {
     "name": "stdout",
     "output_type": "stream",
     "text": [
      "Bootstrapped 4 full traces after 4 examples for up to 1 rounds, amounting to 4 attempts.\n",
      "Bootstrapping set 7/19\n"
     ]
    },
    {
     "name": "stderr",
     "output_type": "stream",
     "text": [
      "  7%|▋         | 5/70 [00:24<05:21,  4.95s/it]\n"
     ]
    },
    {
     "name": "stdout",
     "output_type": "stream",
     "text": [
      "Bootstrapped 4 full traces after 5 examples for up to 1 rounds, amounting to 5 attempts.\n",
      "Bootstrapping set 8/19\n"
     ]
    },
    {
     "name": "stderr",
     "output_type": "stream",
     "text": [
      "  1%|▏         | 1/70 [00:03<04:18,  3.75s/it]\n"
     ]
    },
    {
     "name": "stdout",
     "output_type": "stream",
     "text": [
      "Bootstrapped 1 full traces after 1 examples for up to 1 rounds, amounting to 1 attempts.\n",
      "Bootstrapping set 9/19\n"
     ]
    },
    {
     "name": "stderr",
     "output_type": "stream",
     "text": [
      "  3%|▎         | 2/70 [00:15<08:42,  7.69s/it]\n"
     ]
    },
    {
     "name": "stdout",
     "output_type": "stream",
     "text": [
      "Bootstrapped 2 full traces after 2 examples for up to 1 rounds, amounting to 2 attempts.\n",
      "Bootstrapping set 10/19\n"
     ]
    },
    {
     "name": "stderr",
     "output_type": "stream",
     "text": [
      "  6%|▌         | 4/70 [00:28<07:54,  7.19s/it]\n"
     ]
    },
    {
     "name": "stdout",
     "output_type": "stream",
     "text": [
      "Bootstrapped 3 full traces after 4 examples for up to 1 rounds, amounting to 4 attempts.\n",
      "Bootstrapping set 11/19\n"
     ]
    },
    {
     "name": "stderr",
     "output_type": "stream",
     "text": [
      "  1%|▏         | 1/70 [00:04<05:17,  4.60s/it]\n"
     ]
    },
    {
     "name": "stdout",
     "output_type": "stream",
     "text": [
      "Bootstrapped 1 full traces after 1 examples for up to 1 rounds, amounting to 1 attempts.\n",
      "Bootstrapping set 12/19\n"
     ]
    },
    {
     "name": "stderr",
     "output_type": "stream",
     "text": [
      "  4%|▍         | 3/70 [00:17<06:25,  5.75s/it]\n"
     ]
    },
    {
     "name": "stdout",
     "output_type": "stream",
     "text": [
      "Bootstrapped 2 full traces after 3 examples for up to 1 rounds, amounting to 3 attempts.\n",
      "Bootstrapping set 13/19\n"
     ]
    },
    {
     "name": "stderr",
     "output_type": "stream",
     "text": [
      "  1%|▏         | 1/70 [00:08<09:35,  8.34s/it]\n"
     ]
    },
    {
     "name": "stdout",
     "output_type": "stream",
     "text": [
      "Bootstrapped 1 full traces after 1 examples for up to 1 rounds, amounting to 1 attempts.\n",
      "Bootstrapping set 14/19\n"
     ]
    },
    {
     "name": "stderr",
     "output_type": "stream",
     "text": [
      "  7%|▋         | 5/70 [00:26<05:46,  5.33s/it]\n"
     ]
    },
    {
     "name": "stdout",
     "output_type": "stream",
     "text": [
      "Bootstrapped 4 full traces after 5 examples for up to 1 rounds, amounting to 5 attempts.\n",
      "Bootstrapping set 15/19\n"
     ]
    },
    {
     "name": "stderr",
     "output_type": "stream",
     "text": [
      "  1%|▏         | 1/70 [00:04<05:28,  4.76s/it]\n"
     ]
    },
    {
     "name": "stdout",
     "output_type": "stream",
     "text": [
      "Bootstrapped 1 full traces after 1 examples for up to 1 rounds, amounting to 1 attempts.\n",
      "Bootstrapping set 16/19\n"
     ]
    },
    {
     "name": "stderr",
     "output_type": "stream",
     "text": [
      "  3%|▎         | 2/70 [00:08<04:43,  4.18s/it]\n"
     ]
    },
    {
     "name": "stdout",
     "output_type": "stream",
     "text": [
      "Bootstrapped 2 full traces after 2 examples for up to 1 rounds, amounting to 2 attempts.\n",
      "Bootstrapping set 17/19\n"
     ]
    },
    {
     "name": "stderr",
     "output_type": "stream",
     "text": [
      "  1%|▏         | 1/70 [00:10<11:34, 10.07s/it]\n"
     ]
    },
    {
     "name": "stdout",
     "output_type": "stream",
     "text": [
      "Bootstrapped 1 full traces after 1 examples for up to 1 rounds, amounting to 1 attempts.\n",
      "Bootstrapping set 18/19\n"
     ]
    },
    {
     "name": "stderr",
     "output_type": "stream",
     "text": [
      "  1%|▏         | 1/70 [00:07<09:10,  7.98s/it]\n"
     ]
    },
    {
     "name": "stdout",
     "output_type": "stream",
     "text": [
      "Bootstrapped 1 full traces after 1 examples for up to 1 rounds, amounting to 1 attempts.\n",
      "Bootstrapping set 19/19\n"
     ]
    },
    {
     "name": "stderr",
     "output_type": "stream",
     "text": [
      "  3%|▎         | 2/70 [00:20<11:51, 10.47s/it]\n",
      "2025/03/13 12:54:23 INFO dspy.teleprompt.mipro_optimizer_v2: \n",
      "==> STEP 2: PROPOSE INSTRUCTION CANDIDATES <==\n",
      "2025/03/13 12:54:23 INFO dspy.teleprompt.mipro_optimizer_v2: We will use the few-shot examples from the previous step, a generated dataset summary, a summary of the program code, and a randomly selected prompting tip to propose instructions.\n"
     ]
    },
    {
     "name": "stdout",
     "output_type": "stream",
     "text": [
      "Bootstrapped 1 full traces after 2 examples for up to 1 rounds, amounting to 2 attempts.\n"
     ]
    },
    {
     "name": "stderr",
     "output_type": "stream",
     "text": [
      "2025/03/13 12:54:50 INFO dspy.teleprompt.mipro_optimizer_v2: \n",
      "Proposing instructions...\n",
      "\n",
      "2025/03/13 12:57:10 INFO dspy.teleprompt.mipro_optimizer_v2: Proposed Instructions for Predictor 0:\n",
      "\n",
      "2025/03/13 12:57:10 INFO dspy.teleprompt.mipro_optimizer_v2: 0: Given the fields `question`, produce the fields `answer`.\n",
      "\n",
      "2025/03/13 12:57:10 INFO dspy.teleprompt.mipro_optimizer_v2: 1: You are a mathematics tutor. Given the field `question`, provide a detailed step-by-step reasoning that leads to the final `answer`. Ensure that your reasoning is clear and educational, guiding the user through the problem-solving process.\n",
      "\n",
      "2025/03/13 12:57:10 INFO dspy.teleprompt.mipro_optimizer_v2: 2: Analyze the provided `question` and generate a detailed `reasoning` process that explains how to arrive at the `answer`. Ensure that the reasoning is structured step-by-step, demonstrating the logical deductions made throughout the problem-solving process. Finally, provide the final `answer` based on the reasoning.\n",
      "\n",
      "2025/03/13 12:57:10 INFO dspy.teleprompt.mipro_optimizer_v2: 3: You are a mathematics tutor. Given the question provided, analyze the mathematical concepts involved and produce a detailed step-by-step reasoning process along with the final answer.\n",
      "\n",
      "2025/03/13 12:57:10 INFO dspy.teleprompt.mipro_optimizer_v2: 4: Using the provided `question`, systematically analyze the problem and generate a detailed `reasoning` process that leads to the final `answer`. Ensure that each step is clearly articulated and logically follows from the previous one, ultimately culminating in a succinct conclusion that resolves the question posed.\n",
      "\n",
      "2025/03/13 12:57:10 INFO dspy.teleprompt.mipro_optimizer_v2: 5: Given the mathematical `question`, provide a detailed `reasoning` process step-by-step, followed by the final `answer` to the problem.\n",
      "\n",
      "2025/03/13 12:57:10 INFO dspy.teleprompt.mipro_optimizer_v2: 6: In a high-stakes mathematical competition, you are presented with a challenging problem that requires not only the correct answer but also a comprehensive explanation of your reasoning process. Given the mathematical `question`, your task is to carefully analyze the problem, break it down into logical steps, and provide both a detailed `reasoning` and the final `answer`. Ensure that your explanation is clear and methodical, allowing anyone reviewing your solution to understand how you arrived at the conclusion.\n",
      "\n",
      "2025/03/13 12:57:10 INFO dspy.teleprompt.mipro_optimizer_v2: 7: Given a mathematical question, provide a detailed reasoning process that breaks down the solution step-by-step, applying relevant mathematical principles and formulas. Finally, present the correct answer to the question in a clear and concise manner.\n",
      "\n",
      "2025/03/13 12:57:10 INFO dspy.teleprompt.mipro_optimizer_v2: 8: Using the provided `question`, generate a detailed response that includes both the `reasoning` behind the solution and the final `answer`. Ensure that the explanation is clear and structured, guiding the user through each step of the mathematical process.\n",
      "\n",
      "2025/03/13 12:57:10 INFO dspy.teleprompt.mipro_optimizer_v2: 9: Using the input field `question`, please generate a detailed reasoning process that systematically addresses the mathematical problem presented. Ensure that the reasoning articulates each step taken to arrive at the solution, culminating in a clear and concise final answer in the `answer` field. The output should not only provide the answer but also enhance understanding by explaining the logic and calculations involved in the problem-solving process.\n",
      "\n",
      "2025/03/13 12:57:10 INFO dspy.teleprompt.mipro_optimizer_v2: 10: Imagine you are a mathematician tasked with solving critical real-world problems for a major corporation. Your job is to analyze complex mathematical questions and provide clear, step-by-step reasoning along with precise answers. Given the following mathematical question, produce a detailed reasoning process and the final answer. \n",
      "\n",
      "Question: {question}\n",
      "\n",
      "Ensure that your reasoning is thorough, demonstrating how you arrived at the answer.\n",
      "\n",
      "2025/03/13 12:57:10 INFO dspy.teleprompt.mipro_optimizer_v2: 11: Imagine you are a mathematician tasked with solving complex real-world problems that require deep reasoning and careful analysis. Your goal is to take the given mathematical question and provide a thorough, step-by-step explanation of your thought process, ultimately leading to a clear and concise answer. Given the question, produce a detailed reasoning output followed by the final answer.\n",
      "\n",
      "2025/03/13 12:57:10 INFO dspy.teleprompt.mipro_optimizer_v2: 12: Given the mathematical question provided, analyze it step by step to formulate a logical reasoning process and derive the final answer. Clearly outline the thought process, calculations, and any relevant mathematical principles used in arriving at the solution.\n",
      "\n",
      "2025/03/13 12:57:10 INFO dspy.teleprompt.mipro_optimizer_v2: 13: Imagine you are a mathematician solving critical problems that could impact a major project. You have a complex mathematical question in front of you that needs to be addressed urgently. Using the `question` provided, please generate a detailed `reasoning` process that breaks down the solution step-by-step, and provide the final `answer`. Make sure to explain your thought process clearly so that others can follow your reasoning.\n",
      "\n",
      "2025/03/13 12:57:10 INFO dspy.teleprompt.mipro_optimizer_v2: 14: You are a mathematics tutor. Given the field `question`, provide a detailed step-by-step `reasoning` process that leads to the final `answer`. Ensure your reasoning is clear and structured to help the learner understand each part of the solution.\n",
      "\n",
      "2025/03/13 12:57:10 INFO dspy.teleprompt.mipro_optimizer_v2: 15: Given the mathematical problem stated in the `question`, provide a detailed step-by-step reasoning process and the final answer in the `answer` field.\n",
      "\n",
      "2025/03/13 12:57:10 INFO dspy.teleprompt.mipro_optimizer_v2: 16: Given the mathematical problem described in the `question`, provide a detailed step-by-step reasoning process and the final answer. Ensure that the reasoning clearly explains the application of relevant mathematical principles and calculations leading to the answer.\n",
      "\n",
      "2025/03/13 12:57:10 INFO dspy.teleprompt.mipro_optimizer_v2: 17: You are a mathematics tutor. Given the field `question`, carefully analyze the problem and produce the fields `reasoning` and `answer`. In the `reasoning` section, explain your thought process step by step to arrive at the final `answer`.\n",
      "\n",
      "2025/03/13 12:57:10 INFO dspy.teleprompt.mipro_optimizer_v2: 18: Using the provided `question`, break down the problem into logical steps and provide a detailed reasoning process leading to the final `answer`. Ensure that each step is clearly articulated to enhance understanding of the mathematical principles involved.\n",
      "\n",
      "2025/03/13 12:57:10 INFO dspy.teleprompt.mipro_optimizer_v2: \n",
      "\n",
      "2025/03/13 12:57:10 INFO dspy.teleprompt.mipro_optimizer_v2: ==> STEP 3: FINDING OPTIMAL PROMPT PARAMETERS <==\n",
      "2025/03/13 12:57:10 INFO dspy.teleprompt.mipro_optimizer_v2: We will evaluate the program over a series of trials with different combinations of instructions and few-shot examples to find the optimal combination using Bayesian Optimization.\n",
      "\n",
      "2025/03/13 12:57:10 INFO dspy.teleprompt.mipro_optimizer_v2: == Trial 1 / 28 - Full Evaluation of Default Program ==\n"
     ]
    },
    {
     "name": "stdout",
     "output_type": "stream",
     "text": [
      "Average Metric: 192.00 / 280 (68.6%): 100%|██████████| 280/280 [01:26<00:00,  3.23it/s]"
     ]
    },
    {
     "name": "stderr",
     "output_type": "stream",
     "text": [
      "2025/03/13 12:58:36 INFO dspy.evaluate.evaluate: Average Metric: 192 / 280 (68.6%)\n",
      "2025/03/13 12:58:36 INFO dspy.teleprompt.mipro_optimizer_v2: Default program score: 68.57\n",
      "\n",
      "/Users/aidand/dev/hello-dspy/env/lib/python3.10/site-packages/optuna/_experimental.py:31: ExperimentalWarning: Argument ``multivariate`` is an experimental feature. The interface can change in the future.\n",
      "  warnings.warn(\n",
      "2025/03/13 12:58:36 INFO dspy.teleprompt.mipro_optimizer_v2: == Trial 2 / 28 - Minibatch ==\n"
     ]
    },
    {
     "name": "stdout",
     "output_type": "stream",
     "text": [
      "\n",
      "Average Metric: 21.00 / 25 (84.0%): 100%|██████████| 25/25 [00:39<00:00,  1.58s/it] "
     ]
    },
    {
     "name": "stderr",
     "output_type": "stream",
     "text": [
      "2025/03/13 12:59:16 INFO dspy.evaluate.evaluate: Average Metric: 21 / 25 (84.0%)\n",
      "2025/03/13 12:59:16 INFO dspy.teleprompt.mipro_optimizer_v2: Score: 84.0 on minibatch of size 25 with parameters ['Predictor 0: Instruction 12', 'Predictor 0: Few-Shot Set 7'].\n",
      "2025/03/13 12:59:16 INFO dspy.teleprompt.mipro_optimizer_v2: Minibatch scores so far: [84.0]\n",
      "2025/03/13 12:59:16 INFO dspy.teleprompt.mipro_optimizer_v2: Full eval scores so far: [68.57]\n",
      "2025/03/13 12:59:16 INFO dspy.teleprompt.mipro_optimizer_v2: Best full score so far: 68.57\n",
      "2025/03/13 12:59:16 INFO dspy.teleprompt.mipro_optimizer_v2: =========================================\n",
      "\n",
      "\n",
      "2025/03/13 12:59:16 INFO dspy.teleprompt.mipro_optimizer_v2: == Trial 3 / 28 - Minibatch ==\n"
     ]
    },
    {
     "name": "stdout",
     "output_type": "stream",
     "text": [
      "\n",
      "Average Metric: 21.00 / 25 (84.0%): 100%|██████████| 25/25 [00:12<00:00,  1.98it/s]"
     ]
    },
    {
     "name": "stderr",
     "output_type": "stream",
     "text": [
      "2025/03/13 12:59:29 INFO dspy.evaluate.evaluate: Average Metric: 21 / 25 (84.0%)\n",
      "2025/03/13 12:59:29 INFO dspy.teleprompt.mipro_optimizer_v2: Score: 84.0 on minibatch of size 25 with parameters ['Predictor 0: Instruction 10', 'Predictor 0: Few-Shot Set 7'].\n",
      "2025/03/13 12:59:29 INFO dspy.teleprompt.mipro_optimizer_v2: Minibatch scores so far: [84.0, 84.0]\n",
      "2025/03/13 12:59:29 INFO dspy.teleprompt.mipro_optimizer_v2: Full eval scores so far: [68.57]\n",
      "2025/03/13 12:59:29 INFO dspy.teleprompt.mipro_optimizer_v2: Best full score so far: 68.57\n",
      "2025/03/13 12:59:29 INFO dspy.teleprompt.mipro_optimizer_v2: =========================================\n",
      "\n",
      "\n",
      "2025/03/13 12:59:29 INFO dspy.teleprompt.mipro_optimizer_v2: == Trial 4 / 28 - Minibatch ==\n"
     ]
    },
    {
     "name": "stdout",
     "output_type": "stream",
     "text": [
      "\n",
      "Average Metric: 21.00 / 25 (84.0%): 100%|██████████| 25/25 [00:15<00:00,  1.62it/s]"
     ]
    },
    {
     "name": "stderr",
     "output_type": "stream",
     "text": [
      "2025/03/13 12:59:44 INFO dspy.evaluate.evaluate: Average Metric: 21 / 25 (84.0%)\n",
      "2025/03/13 12:59:44 INFO dspy.teleprompt.mipro_optimizer_v2: Score: 84.0 on minibatch of size 25 with parameters ['Predictor 0: Instruction 7', 'Predictor 0: Few-Shot Set 18'].\n",
      "2025/03/13 12:59:44 INFO dspy.teleprompt.mipro_optimizer_v2: Minibatch scores so far: [84.0, 84.0, 84.0]\n",
      "2025/03/13 12:59:44 INFO dspy.teleprompt.mipro_optimizer_v2: Full eval scores so far: [68.57]\n",
      "2025/03/13 12:59:44 INFO dspy.teleprompt.mipro_optimizer_v2: Best full score so far: 68.57\n",
      "2025/03/13 12:59:44 INFO dspy.teleprompt.mipro_optimizer_v2: =========================================\n",
      "\n",
      "\n",
      "2025/03/13 12:59:44 INFO dspy.teleprompt.mipro_optimizer_v2: == Trial 5 / 28 - Minibatch ==\n"
     ]
    },
    {
     "name": "stdout",
     "output_type": "stream",
     "text": [
      "\n",
      "Average Metric: 22.00 / 25 (88.0%): 100%|██████████| 25/25 [00:10<00:00,  2.41it/s] "
     ]
    },
    {
     "name": "stderr",
     "output_type": "stream",
     "text": [
      "2025/03/13 12:59:55 INFO dspy.evaluate.evaluate: Average Metric: 22 / 25 (88.0%)\n",
      "2025/03/13 12:59:55 INFO dspy.teleprompt.mipro_optimizer_v2: Score: 88.0 on minibatch of size 25 with parameters ['Predictor 0: Instruction 15', 'Predictor 0: Few-Shot Set 2'].\n",
      "2025/03/13 12:59:55 INFO dspy.teleprompt.mipro_optimizer_v2: Minibatch scores so far: [84.0, 84.0, 84.0, 88.0]\n",
      "2025/03/13 12:59:55 INFO dspy.teleprompt.mipro_optimizer_v2: Full eval scores so far: [68.57]\n",
      "2025/03/13 12:59:55 INFO dspy.teleprompt.mipro_optimizer_v2: Best full score so far: 68.57\n",
      "2025/03/13 12:59:55 INFO dspy.teleprompt.mipro_optimizer_v2: =========================================\n",
      "\n",
      "\n",
      "2025/03/13 12:59:55 INFO dspy.teleprompt.mipro_optimizer_v2: == Trial 6 / 28 - Minibatch ==\n"
     ]
    },
    {
     "name": "stdout",
     "output_type": "stream",
     "text": [
      "\n",
      "Average Metric: 25.00 / 25 (100.0%): 100%|██████████| 25/25 [00:10<00:00,  2.43it/s]"
     ]
    },
    {
     "name": "stderr",
     "output_type": "stream",
     "text": [
      "2025/03/13 13:00:05 INFO dspy.evaluate.evaluate: Average Metric: 25 / 25 (100.0%)\n",
      "2025/03/13 13:00:05 INFO dspy.teleprompt.mipro_optimizer_v2: Score: 100.0 on minibatch of size 25 with parameters ['Predictor 0: Instruction 8', 'Predictor 0: Few-Shot Set 18'].\n",
      "2025/03/13 13:00:05 INFO dspy.teleprompt.mipro_optimizer_v2: Minibatch scores so far: [84.0, 84.0, 84.0, 88.0, 100.0]\n",
      "2025/03/13 13:00:05 INFO dspy.teleprompt.mipro_optimizer_v2: Full eval scores so far: [68.57]\n",
      "2025/03/13 13:00:05 INFO dspy.teleprompt.mipro_optimizer_v2: Best full score so far: 68.57\n",
      "2025/03/13 13:00:05 INFO dspy.teleprompt.mipro_optimizer_v2: =========================================\n",
      "\n",
      "\n",
      "2025/03/13 13:00:05 INFO dspy.teleprompt.mipro_optimizer_v2: == Trial 7 / 28 - Minibatch ==\n"
     ]
    },
    {
     "name": "stdout",
     "output_type": "stream",
     "text": [
      "\n",
      "Average Metric: 19.00 / 25 (76.0%): 100%|██████████| 25/25 [00:21<00:00,  1.18it/s]"
     ]
    },
    {
     "name": "stderr",
     "output_type": "stream",
     "text": [
      "2025/03/13 13:00:26 INFO dspy.evaluate.evaluate: Average Metric: 19 / 25 (76.0%)\n",
      "2025/03/13 13:00:26 INFO dspy.teleprompt.mipro_optimizer_v2: Score: 76.0 on minibatch of size 25 with parameters ['Predictor 0: Instruction 7', 'Predictor 0: Few-Shot Set 1'].\n",
      "2025/03/13 13:00:26 INFO dspy.teleprompt.mipro_optimizer_v2: Minibatch scores so far: [84.0, 84.0, 84.0, 88.0, 100.0, 76.0]\n",
      "2025/03/13 13:00:26 INFO dspy.teleprompt.mipro_optimizer_v2: Full eval scores so far: [68.57]\n",
      "2025/03/13 13:00:26 INFO dspy.teleprompt.mipro_optimizer_v2: Best full score so far: 68.57\n",
      "2025/03/13 13:00:26 INFO dspy.teleprompt.mipro_optimizer_v2: =========================================\n",
      "\n",
      "\n",
      "2025/03/13 13:00:26 INFO dspy.teleprompt.mipro_optimizer_v2: == Trial 8 / 28 - Minibatch ==\n"
     ]
    },
    {
     "name": "stdout",
     "output_type": "stream",
     "text": [
      "\n",
      "Average Metric: 19.00 / 25 (76.0%): 100%|██████████| 25/25 [00:14<00:00,  1.72it/s]"
     ]
    },
    {
     "name": "stderr",
     "output_type": "stream",
     "text": [
      "2025/03/13 13:00:41 INFO dspy.evaluate.evaluate: Average Metric: 19 / 25 (76.0%)\n",
      "2025/03/13 13:00:41 INFO dspy.teleprompt.mipro_optimizer_v2: Score: 76.0 on minibatch of size 25 with parameters ['Predictor 0: Instruction 7', 'Predictor 0: Few-Shot Set 12'].\n",
      "2025/03/13 13:00:41 INFO dspy.teleprompt.mipro_optimizer_v2: Minibatch scores so far: [84.0, 84.0, 84.0, 88.0, 100.0, 76.0, 76.0]\n",
      "2025/03/13 13:00:41 INFO dspy.teleprompt.mipro_optimizer_v2: Full eval scores so far: [68.57]\n",
      "2025/03/13 13:00:41 INFO dspy.teleprompt.mipro_optimizer_v2: Best full score so far: 68.57\n",
      "2025/03/13 13:00:41 INFO dspy.teleprompt.mipro_optimizer_v2: =========================================\n",
      "\n",
      "\n",
      "2025/03/13 13:00:41 INFO dspy.teleprompt.mipro_optimizer_v2: == Trial 9 / 28 - Minibatch ==\n"
     ]
    },
    {
     "name": "stdout",
     "output_type": "stream",
     "text": [
      "\n",
      "Average Metric: 21.00 / 25 (84.0%): 100%|██████████| 25/25 [00:20<00:00,  1.25it/s]"
     ]
    },
    {
     "name": "stderr",
     "output_type": "stream",
     "text": [
      "2025/03/13 13:01:01 INFO dspy.evaluate.evaluate: Average Metric: 21 / 25 (84.0%)\n",
      "2025/03/13 13:01:01 INFO dspy.teleprompt.mipro_optimizer_v2: Score: 84.0 on minibatch of size 25 with parameters ['Predictor 0: Instruction 11', 'Predictor 0: Few-Shot Set 13'].\n",
      "2025/03/13 13:01:01 INFO dspy.teleprompt.mipro_optimizer_v2: Minibatch scores so far: [84.0, 84.0, 84.0, 88.0, 100.0, 76.0, 76.0, 84.0]\n",
      "2025/03/13 13:01:01 INFO dspy.teleprompt.mipro_optimizer_v2: Full eval scores so far: [68.57]\n",
      "2025/03/13 13:01:01 INFO dspy.teleprompt.mipro_optimizer_v2: Best full score so far: 68.57\n",
      "2025/03/13 13:01:01 INFO dspy.teleprompt.mipro_optimizer_v2: =========================================\n",
      "\n",
      "\n",
      "2025/03/13 13:01:01 INFO dspy.teleprompt.mipro_optimizer_v2: == Trial 10 / 28 - Minibatch ==\n"
     ]
    },
    {
     "name": "stdout",
     "output_type": "stream",
     "text": [
      "\n",
      "Average Metric: 24.00 / 25 (96.0%): 100%|██████████| 25/25 [00:15<00:00,  1.59it/s] "
     ]
    },
    {
     "name": "stderr",
     "output_type": "stream",
     "text": [
      "2025/03/13 13:01:17 INFO dspy.evaluate.evaluate: Average Metric: 24 / 25 (96.0%)\n",
      "2025/03/13 13:01:17 INFO dspy.teleprompt.mipro_optimizer_v2: Score: 96.0 on minibatch of size 25 with parameters ['Predictor 0: Instruction 5', 'Predictor 0: Few-Shot Set 4'].\n",
      "2025/03/13 13:01:17 INFO dspy.teleprompt.mipro_optimizer_v2: Minibatch scores so far: [84.0, 84.0, 84.0, 88.0, 100.0, 76.0, 76.0, 84.0, 96.0]\n",
      "2025/03/13 13:01:17 INFO dspy.teleprompt.mipro_optimizer_v2: Full eval scores so far: [68.57]\n",
      "2025/03/13 13:01:17 INFO dspy.teleprompt.mipro_optimizer_v2: Best full score so far: 68.57\n",
      "2025/03/13 13:01:17 INFO dspy.teleprompt.mipro_optimizer_v2: ==========================================\n",
      "\n",
      "\n",
      "2025/03/13 13:01:17 INFO dspy.teleprompt.mipro_optimizer_v2: ===== Trial 11 / 28 - Full Evaluation =====\n",
      "2025/03/13 13:01:17 INFO dspy.teleprompt.mipro_optimizer_v2: Doing full eval on next top averaging program (Avg Score: 100.0) from minibatch trials...\n"
     ]
    },
    {
     "name": "stdout",
     "output_type": "stream",
     "text": [
      "\n",
      "Average Metric: 237.00 / 280 (84.6%): 100%|██████████| 280/280 [01:31<00:00,  3.06it/s]"
     ]
    },
    {
     "name": "stderr",
     "output_type": "stream",
     "text": [
      "2025/03/13 13:02:49 INFO dspy.evaluate.evaluate: Average Metric: 237 / 280 (84.6%)\n",
      "2025/03/13 13:02:49 INFO dspy.teleprompt.mipro_optimizer_v2: \u001b[92mNew best full eval score!\u001b[0m Score: 84.64\n",
      "2025/03/13 13:02:49 INFO dspy.teleprompt.mipro_optimizer_v2: Full eval scores so far: [68.57, 84.64]\n",
      "2025/03/13 13:02:49 INFO dspy.teleprompt.mipro_optimizer_v2: Best full score so far: 84.64\n",
      "2025/03/13 13:02:49 INFO dspy.teleprompt.mipro_optimizer_v2: =======================\n",
      "2025/03/13 13:02:49 INFO dspy.teleprompt.mipro_optimizer_v2: \n",
      "\n",
      "2025/03/13 13:02:49 INFO dspy.teleprompt.mipro_optimizer_v2: == Trial 12 / 28 - Minibatch ==\n"
     ]
    },
    {
     "name": "stdout",
     "output_type": "stream",
     "text": [
      "\n",
      "Average Metric: 20.00 / 25 (80.0%): 100%|██████████| 25/25 [00:24<00:00,  1.00it/s]"
     ]
    },
    {
     "name": "stderr",
     "output_type": "stream",
     "text": [
      "2025/03/13 13:03:14 INFO dspy.evaluate.evaluate: Average Metric: 20 / 25 (80.0%)\n",
      "2025/03/13 13:03:14 INFO dspy.teleprompt.mipro_optimizer_v2: Score: 80.0 on minibatch of size 25 with parameters ['Predictor 0: Instruction 3', 'Predictor 0: Few-Shot Set 4'].\n",
      "2025/03/13 13:03:14 INFO dspy.teleprompt.mipro_optimizer_v2: Minibatch scores so far: [84.0, 84.0, 84.0, 88.0, 100.0, 76.0, 76.0, 84.0, 96.0, 80.0]\n",
      "2025/03/13 13:03:14 INFO dspy.teleprompt.mipro_optimizer_v2: Full eval scores so far: [68.57, 84.64]\n",
      "2025/03/13 13:03:14 INFO dspy.teleprompt.mipro_optimizer_v2: Best full score so far: 84.64\n",
      "2025/03/13 13:03:14 INFO dspy.teleprompt.mipro_optimizer_v2: ==========================================\n",
      "\n",
      "\n",
      "2025/03/13 13:03:14 INFO dspy.teleprompt.mipro_optimizer_v2: == Trial 13 / 28 - Minibatch ==\n"
     ]
    },
    {
     "name": "stdout",
     "output_type": "stream",
     "text": [
      "\n",
      "Average Metric: 21.00 / 25 (84.0%): 100%|██████████| 25/25 [00:12<00:00,  1.94it/s]"
     ]
    },
    {
     "name": "stderr",
     "output_type": "stream",
     "text": [
      "2025/03/13 13:03:27 INFO dspy.evaluate.evaluate: Average Metric: 21 / 25 (84.0%)\n",
      "2025/03/13 13:03:27 INFO dspy.teleprompt.mipro_optimizer_v2: Score: 84.0 on minibatch of size 25 with parameters ['Predictor 0: Instruction 6', 'Predictor 0: Few-Shot Set 18'].\n",
      "2025/03/13 13:03:27 INFO dspy.teleprompt.mipro_optimizer_v2: Minibatch scores so far: [84.0, 84.0, 84.0, 88.0, 100.0, 76.0, 76.0, 84.0, 96.0, 80.0, 84.0]\n",
      "2025/03/13 13:03:27 INFO dspy.teleprompt.mipro_optimizer_v2: Full eval scores so far: [68.57, 84.64]\n",
      "2025/03/13 13:03:27 INFO dspy.teleprompt.mipro_optimizer_v2: Best full score so far: 84.64\n",
      "2025/03/13 13:03:27 INFO dspy.teleprompt.mipro_optimizer_v2: ==========================================\n",
      "\n",
      "\n",
      "2025/03/13 13:03:27 INFO dspy.teleprompt.mipro_optimizer_v2: == Trial 14 / 28 - Minibatch ==\n"
     ]
    },
    {
     "name": "stdout",
     "output_type": "stream",
     "text": [
      "\n",
      "Average Metric: 22.00 / 25 (88.0%): 100%|██████████| 25/25 [00:11<00:00,  2.18it/s]"
     ]
    },
    {
     "name": "stderr",
     "output_type": "stream",
     "text": [
      "2025/03/13 13:03:38 INFO dspy.evaluate.evaluate: Average Metric: 22 / 25 (88.0%)\n",
      "2025/03/13 13:03:38 INFO dspy.teleprompt.mipro_optimizer_v2: Score: 88.0 on minibatch of size 25 with parameters ['Predictor 0: Instruction 5', 'Predictor 0: Few-Shot Set 4'].\n",
      "2025/03/13 13:03:38 INFO dspy.teleprompt.mipro_optimizer_v2: Minibatch scores so far: [84.0, 84.0, 84.0, 88.0, 100.0, 76.0, 76.0, 84.0, 96.0, 80.0, 84.0, 88.0]\n",
      "2025/03/13 13:03:38 INFO dspy.teleprompt.mipro_optimizer_v2: Full eval scores so far: [68.57, 84.64]\n",
      "2025/03/13 13:03:38 INFO dspy.teleprompt.mipro_optimizer_v2: Best full score so far: 84.64\n",
      "2025/03/13 13:03:38 INFO dspy.teleprompt.mipro_optimizer_v2: ==========================================\n",
      "\n",
      "\n",
      "2025/03/13 13:03:38 INFO dspy.teleprompt.mipro_optimizer_v2: == Trial 15 / 28 - Minibatch ==\n"
     ]
    },
    {
     "name": "stdout",
     "output_type": "stream",
     "text": [
      "\n",
      "Average Metric: 22.00 / 25 (88.0%): 100%|██████████| 25/25 [00:22<00:00,  1.10it/s]"
     ]
    },
    {
     "name": "stderr",
     "output_type": "stream",
     "text": [
      "2025/03/13 13:04:01 INFO dspy.evaluate.evaluate: Average Metric: 22 / 25 (88.0%)\n",
      "2025/03/13 13:04:01 INFO dspy.teleprompt.mipro_optimizer_v2: Score: 88.0 on minibatch of size 25 with parameters ['Predictor 0: Instruction 8', 'Predictor 0: Few-Shot Set 5'].\n",
      "2025/03/13 13:04:01 INFO dspy.teleprompt.mipro_optimizer_v2: Minibatch scores so far: [84.0, 84.0, 84.0, 88.0, 100.0, 76.0, 76.0, 84.0, 96.0, 80.0, 84.0, 88.0, 88.0]\n",
      "2025/03/13 13:04:01 INFO dspy.teleprompt.mipro_optimizer_v2: Full eval scores so far: [68.57, 84.64]\n",
      "2025/03/13 13:04:01 INFO dspy.teleprompt.mipro_optimizer_v2: Best full score so far: 84.64\n",
      "2025/03/13 13:04:01 INFO dspy.teleprompt.mipro_optimizer_v2: ==========================================\n",
      "\n",
      "\n",
      "2025/03/13 13:04:01 INFO dspy.teleprompt.mipro_optimizer_v2: == Trial 16 / 28 - Minibatch ==\n"
     ]
    },
    {
     "name": "stdout",
     "output_type": "stream",
     "text": [
      "\n",
      "Average Metric: 22.00 / 25 (88.0%): 100%|██████████| 25/25 [00:27<00:00,  1.10s/it]"
     ]
    },
    {
     "name": "stderr",
     "output_type": "stream",
     "text": [
      "2025/03/13 13:04:29 INFO dspy.evaluate.evaluate: Average Metric: 22 / 25 (88.0%)\n",
      "2025/03/13 13:04:29 INFO dspy.teleprompt.mipro_optimizer_v2: Score: 88.0 on minibatch of size 25 with parameters ['Predictor 0: Instruction 5', 'Predictor 0: Few-Shot Set 15'].\n",
      "2025/03/13 13:04:29 INFO dspy.teleprompt.mipro_optimizer_v2: Minibatch scores so far: [84.0, 84.0, 84.0, 88.0, 100.0, 76.0, 76.0, 84.0, 96.0, 80.0, 84.0, 88.0, 88.0, 88.0]\n",
      "2025/03/13 13:04:29 INFO dspy.teleprompt.mipro_optimizer_v2: Full eval scores so far: [68.57, 84.64]\n",
      "2025/03/13 13:04:29 INFO dspy.teleprompt.mipro_optimizer_v2: Best full score so far: 84.64\n",
      "2025/03/13 13:04:29 INFO dspy.teleprompt.mipro_optimizer_v2: ==========================================\n",
      "\n",
      "\n",
      "2025/03/13 13:04:29 INFO dspy.teleprompt.mipro_optimizer_v2: == Trial 17 / 28 - Minibatch ==\n"
     ]
    },
    {
     "name": "stdout",
     "output_type": "stream",
     "text": [
      "\n",
      "Average Metric: 20.00 / 25 (80.0%): 100%|██████████| 25/25 [00:00<00:00, 5041.23it/s]"
     ]
    },
    {
     "name": "stderr",
     "output_type": "stream",
     "text": [
      "2025/03/13 13:04:29 INFO dspy.evaluate.evaluate: Average Metric: 20 / 25 (80.0%)\n",
      "2025/03/13 13:04:29 INFO dspy.teleprompt.mipro_optimizer_v2: Score: 80.0 on minibatch of size 25 with parameters ['Predictor 0: Instruction 8', 'Predictor 0: Few-Shot Set 18'].\n",
      "2025/03/13 13:04:29 INFO dspy.teleprompt.mipro_optimizer_v2: Minibatch scores so far: [84.0, 84.0, 84.0, 88.0, 100.0, 76.0, 76.0, 84.0, 96.0, 80.0, 84.0, 88.0, 88.0, 88.0, 80.0]\n",
      "2025/03/13 13:04:29 INFO dspy.teleprompt.mipro_optimizer_v2: Full eval scores so far: [68.57, 84.64]\n",
      "2025/03/13 13:04:29 INFO dspy.teleprompt.mipro_optimizer_v2: Best full score so far: 84.64\n",
      "2025/03/13 13:04:29 INFO dspy.teleprompt.mipro_optimizer_v2: ==========================================\n",
      "\n",
      "\n",
      "2025/03/13 13:04:29 INFO dspy.teleprompt.mipro_optimizer_v2: == Trial 18 / 28 - Minibatch ==\n"
     ]
    },
    {
     "name": "stdout",
     "output_type": "stream",
     "text": [
      "\n",
      "Average Metric: 22.00 / 25 (88.0%): 100%|██████████| 25/25 [00:23<00:00,  1.06it/s]"
     ]
    },
    {
     "name": "stderr",
     "output_type": "stream",
     "text": [
      "2025/03/13 13:04:52 INFO dspy.evaluate.evaluate: Average Metric: 22 / 25 (88.0%)\n",
      "2025/03/13 13:04:52 INFO dspy.teleprompt.mipro_optimizer_v2: Score: 88.0 on minibatch of size 25 with parameters ['Predictor 0: Instruction 16', 'Predictor 0: Few-Shot Set 6'].\n",
      "2025/03/13 13:04:52 INFO dspy.teleprompt.mipro_optimizer_v2: Minibatch scores so far: [84.0, 84.0, 84.0, 88.0, 100.0, 76.0, 76.0, 84.0, 96.0, 80.0, 84.0, 88.0, 88.0, 88.0, 80.0, 88.0]\n",
      "2025/03/13 13:04:52 INFO dspy.teleprompt.mipro_optimizer_v2: Full eval scores so far: [68.57, 84.64]\n",
      "2025/03/13 13:04:52 INFO dspy.teleprompt.mipro_optimizer_v2: Best full score so far: 84.64\n",
      "2025/03/13 13:04:52 INFO dspy.teleprompt.mipro_optimizer_v2: ==========================================\n",
      "\n",
      "\n",
      "2025/03/13 13:04:52 INFO dspy.teleprompt.mipro_optimizer_v2: == Trial 19 / 28 - Minibatch ==\n"
     ]
    },
    {
     "name": "stdout",
     "output_type": "stream",
     "text": [
      "\n",
      "Average Metric: 24.00 / 25 (96.0%): 100%|██████████| 25/25 [00:17<00:00,  1.46it/s] "
     ]
    },
    {
     "name": "stderr",
     "output_type": "stream",
     "text": [
      "2025/03/13 13:05:09 INFO dspy.evaluate.evaluate: Average Metric: 24 / 25 (96.0%)\n",
      "2025/03/13 13:05:09 INFO dspy.teleprompt.mipro_optimizer_v2: Score: 96.0 on minibatch of size 25 with parameters ['Predictor 0: Instruction 14', 'Predictor 0: Few-Shot Set 3'].\n",
      "2025/03/13 13:05:09 INFO dspy.teleprompt.mipro_optimizer_v2: Minibatch scores so far: [84.0, 84.0, 84.0, 88.0, 100.0, 76.0, 76.0, 84.0, 96.0, 80.0, 84.0, 88.0, 88.0, 88.0, 80.0, 88.0, 96.0]\n",
      "2025/03/13 13:05:09 INFO dspy.teleprompt.mipro_optimizer_v2: Full eval scores so far: [68.57, 84.64]\n",
      "2025/03/13 13:05:09 INFO dspy.teleprompt.mipro_optimizer_v2: Best full score so far: 84.64\n",
      "2025/03/13 13:05:09 INFO dspy.teleprompt.mipro_optimizer_v2: ==========================================\n",
      "\n",
      "\n",
      "2025/03/13 13:05:09 INFO dspy.teleprompt.mipro_optimizer_v2: == Trial 20 / 28 - Minibatch ==\n"
     ]
    },
    {
     "name": "stdout",
     "output_type": "stream",
     "text": [
      "\n",
      "Average Metric: 18.00 / 25 (72.0%): 100%|██████████| 25/25 [00:26<00:00,  1.06s/it]"
     ]
    },
    {
     "name": "stderr",
     "output_type": "stream",
     "text": [
      "2025/03/13 13:05:36 INFO dspy.evaluate.evaluate: Average Metric: 18 / 25 (72.0%)\n",
      "2025/03/13 13:05:36 INFO dspy.teleprompt.mipro_optimizer_v2: Score: 72.0 on minibatch of size 25 with parameters ['Predictor 0: Instruction 13', 'Predictor 0: Few-Shot Set 14'].\n",
      "2025/03/13 13:05:36 INFO dspy.teleprompt.mipro_optimizer_v2: Minibatch scores so far: [84.0, 84.0, 84.0, 88.0, 100.0, 76.0, 76.0, 84.0, 96.0, 80.0, 84.0, 88.0, 88.0, 88.0, 80.0, 88.0, 96.0, 72.0]\n",
      "2025/03/13 13:05:36 INFO dspy.teleprompt.mipro_optimizer_v2: Full eval scores so far: [68.57, 84.64]\n",
      "2025/03/13 13:05:36 INFO dspy.teleprompt.mipro_optimizer_v2: Best full score so far: 84.64\n",
      "2025/03/13 13:05:36 INFO dspy.teleprompt.mipro_optimizer_v2: ==========================================\n",
      "\n",
      "\n",
      "2025/03/13 13:05:36 INFO dspy.teleprompt.mipro_optimizer_v2: ===== Trial 21 / 28 - Full Evaluation =====\n",
      "2025/03/13 13:05:36 INFO dspy.teleprompt.mipro_optimizer_v2: Doing full eval on next top averaging program (Avg Score: 96.0) from minibatch trials...\n"
     ]
    },
    {
     "name": "stdout",
     "output_type": "stream",
     "text": [
      "\n",
      "Average Metric: 237.00 / 280 (84.6%): 100%|██████████| 280/280 [01:17<00:00,  3.62it/s]"
     ]
    },
    {
     "name": "stderr",
     "output_type": "stream",
     "text": [
      "2025/03/13 13:06:53 INFO dspy.evaluate.evaluate: Average Metric: 237 / 280 (84.6%)\n",
      "2025/03/13 13:06:53 INFO dspy.teleprompt.mipro_optimizer_v2: Full eval scores so far: [68.57, 84.64, 84.64]\n",
      "2025/03/13 13:06:53 INFO dspy.teleprompt.mipro_optimizer_v2: Best full score so far: 84.64\n",
      "2025/03/13 13:06:53 INFO dspy.teleprompt.mipro_optimizer_v2: =======================\n",
      "2025/03/13 13:06:53 INFO dspy.teleprompt.mipro_optimizer_v2: \n",
      "\n",
      "2025/03/13 13:06:53 INFO dspy.teleprompt.mipro_optimizer_v2: == Trial 22 / 28 - Minibatch ==\n"
     ]
    },
    {
     "name": "stdout",
     "output_type": "stream",
     "text": [
      "\n",
      "Average Metric: 20.00 / 25 (80.0%): 100%|██████████| 25/25 [00:00<00:00, 3953.91it/s] "
     ]
    },
    {
     "name": "stderr",
     "output_type": "stream",
     "text": [
      "2025/03/13 13:06:53 INFO dspy.evaluate.evaluate: Average Metric: 20 / 25 (80.0%)\n",
      "2025/03/13 13:06:53 INFO dspy.teleprompt.mipro_optimizer_v2: Score: 80.0 on minibatch of size 25 with parameters ['Predictor 0: Instruction 14', 'Predictor 0: Few-Shot Set 3'].\n",
      "2025/03/13 13:06:53 INFO dspy.teleprompt.mipro_optimizer_v2: Minibatch scores so far: [84.0, 84.0, 84.0, 88.0, 100.0, 76.0, 76.0, 84.0, 96.0, 80.0, 84.0, 88.0, 88.0, 88.0, 80.0, 88.0, 96.0, 72.0, 80.0]\n",
      "2025/03/13 13:06:53 INFO dspy.teleprompt.mipro_optimizer_v2: Full eval scores so far: [68.57, 84.64, 84.64]\n",
      "2025/03/13 13:06:53 INFO dspy.teleprompt.mipro_optimizer_v2: Best full score so far: 84.64\n",
      "2025/03/13 13:06:53 INFO dspy.teleprompt.mipro_optimizer_v2: ==========================================\n",
      "\n",
      "\n",
      "2025/03/13 13:06:53 INFO dspy.teleprompt.mipro_optimizer_v2: == Trial 23 / 28 - Minibatch ==\n"
     ]
    },
    {
     "name": "stdout",
     "output_type": "stream",
     "text": [
      "\n",
      "Average Metric: 21.00 / 25 (84.0%): 100%|██████████| 25/25 [00:14<00:00,  1.78it/s] "
     ]
    },
    {
     "name": "stderr",
     "output_type": "stream",
     "text": [
      "2025/03/13 13:07:08 INFO dspy.evaluate.evaluate: Average Metric: 21 / 25 (84.0%)\n",
      "2025/03/13 13:07:08 INFO dspy.teleprompt.mipro_optimizer_v2: Score: 84.0 on minibatch of size 25 with parameters ['Predictor 0: Instruction 9', 'Predictor 0: Few-Shot Set 9'].\n",
      "2025/03/13 13:07:08 INFO dspy.teleprompt.mipro_optimizer_v2: Minibatch scores so far: [84.0, 84.0, 84.0, 88.0, 100.0, 76.0, 76.0, 84.0, 96.0, 80.0, 84.0, 88.0, 88.0, 88.0, 80.0, 88.0, 96.0, 72.0, 80.0, 84.0]\n",
      "2025/03/13 13:07:08 INFO dspy.teleprompt.mipro_optimizer_v2: Full eval scores so far: [68.57, 84.64, 84.64]\n",
      "2025/03/13 13:07:08 INFO dspy.teleprompt.mipro_optimizer_v2: Best full score so far: 84.64\n",
      "2025/03/13 13:07:08 INFO dspy.teleprompt.mipro_optimizer_v2: ==========================================\n",
      "\n",
      "\n",
      "2025/03/13 13:07:08 INFO dspy.teleprompt.mipro_optimizer_v2: == Trial 24 / 28 - Minibatch ==\n"
     ]
    },
    {
     "name": "stdout",
     "output_type": "stream",
     "text": [
      "\n",
      "Average Metric: 22.00 / 25 (88.0%): 100%|██████████| 25/25 [00:12<00:00,  1.94it/s] "
     ]
    },
    {
     "name": "stderr",
     "output_type": "stream",
     "text": [
      "2025/03/13 13:07:21 INFO dspy.evaluate.evaluate: Average Metric: 22 / 25 (88.0%)\n",
      "2025/03/13 13:07:21 INFO dspy.teleprompt.mipro_optimizer_v2: Score: 88.0 on minibatch of size 25 with parameters ['Predictor 0: Instruction 17', 'Predictor 0: Few-Shot Set 3'].\n",
      "2025/03/13 13:07:21 INFO dspy.teleprompt.mipro_optimizer_v2: Minibatch scores so far: [84.0, 84.0, 84.0, 88.0, 100.0, 76.0, 76.0, 84.0, 96.0, 80.0, 84.0, 88.0, 88.0, 88.0, 80.0, 88.0, 96.0, 72.0, 80.0, 84.0, 88.0]\n",
      "2025/03/13 13:07:21 INFO dspy.teleprompt.mipro_optimizer_v2: Full eval scores so far: [68.57, 84.64, 84.64]\n",
      "2025/03/13 13:07:21 INFO dspy.teleprompt.mipro_optimizer_v2: Best full score so far: 84.64\n",
      "2025/03/13 13:07:21 INFO dspy.teleprompt.mipro_optimizer_v2: ==========================================\n",
      "\n",
      "\n",
      "2025/03/13 13:07:21 INFO dspy.teleprompt.mipro_optimizer_v2: == Trial 25 / 28 - Minibatch ==\n"
     ]
    },
    {
     "name": "stdout",
     "output_type": "stream",
     "text": [
      "\n",
      "Average Metric: 23.00 / 25 (92.0%): 100%|██████████| 25/25 [00:11<00:00,  2.10it/s] "
     ]
    },
    {
     "name": "stderr",
     "output_type": "stream",
     "text": [
      "2025/03/13 13:07:33 INFO dspy.evaluate.evaluate: Average Metric: 23 / 25 (92.0%)\n",
      "2025/03/13 13:07:33 INFO dspy.teleprompt.mipro_optimizer_v2: Score: 92.0 on minibatch of size 25 with parameters ['Predictor 0: Instruction 4', 'Predictor 0: Few-Shot Set 16'].\n",
      "2025/03/13 13:07:33 INFO dspy.teleprompt.mipro_optimizer_v2: Minibatch scores so far: [84.0, 84.0, 84.0, 88.0, 100.0, 76.0, 76.0, 84.0, 96.0, 80.0, 84.0, 88.0, 88.0, 88.0, 80.0, 88.0, 96.0, 72.0, 80.0, 84.0, 88.0, 92.0]\n",
      "2025/03/13 13:07:33 INFO dspy.teleprompt.mipro_optimizer_v2: Full eval scores so far: [68.57, 84.64, 84.64]\n",
      "2025/03/13 13:07:33 INFO dspy.teleprompt.mipro_optimizer_v2: Best full score so far: 84.64\n",
      "2025/03/13 13:07:33 INFO dspy.teleprompt.mipro_optimizer_v2: ==========================================\n",
      "\n",
      "\n",
      "2025/03/13 13:07:33 INFO dspy.teleprompt.mipro_optimizer_v2: == Trial 26 / 28 - Minibatch ==\n"
     ]
    },
    {
     "name": "stdout",
     "output_type": "stream",
     "text": [
      "\n",
      "Average Metric: 22.00 / 25 (88.0%): 100%|██████████| 25/25 [00:26<00:00,  1.07s/it] "
     ]
    },
    {
     "name": "stderr",
     "output_type": "stream",
     "text": [
      "2025/03/13 13:07:59 INFO dspy.evaluate.evaluate: Average Metric: 22 / 25 (88.0%)\n",
      "2025/03/13 13:07:59 INFO dspy.teleprompt.mipro_optimizer_v2: Score: 88.0 on minibatch of size 25 with parameters ['Predictor 0: Instruction 1', 'Predictor 0: Few-Shot Set 16'].\n",
      "2025/03/13 13:07:59 INFO dspy.teleprompt.mipro_optimizer_v2: Minibatch scores so far: [84.0, 84.0, 84.0, 88.0, 100.0, 76.0, 76.0, 84.0, 96.0, 80.0, 84.0, 88.0, 88.0, 88.0, 80.0, 88.0, 96.0, 72.0, 80.0, 84.0, 88.0, 92.0, 88.0]\n",
      "2025/03/13 13:07:59 INFO dspy.teleprompt.mipro_optimizer_v2: Full eval scores so far: [68.57, 84.64, 84.64]\n",
      "2025/03/13 13:07:59 INFO dspy.teleprompt.mipro_optimizer_v2: Best full score so far: 84.64\n",
      "2025/03/13 13:07:59 INFO dspy.teleprompt.mipro_optimizer_v2: ==========================================\n",
      "\n",
      "\n",
      "2025/03/13 13:07:59 INFO dspy.teleprompt.mipro_optimizer_v2: == Trial 27 / 28 - Minibatch ==\n"
     ]
    },
    {
     "name": "stdout",
     "output_type": "stream",
     "text": [
      "\n",
      "Average Metric: 18.00 / 25 (72.0%): 100%|██████████| 25/25 [00:17<00:00,  1.46it/s]"
     ]
    },
    {
     "name": "stderr",
     "output_type": "stream",
     "text": [
      "2025/03/13 13:08:17 INFO dspy.evaluate.evaluate: Average Metric: 18 / 25 (72.0%)\n",
      "2025/03/13 13:08:17 INFO dspy.teleprompt.mipro_optimizer_v2: Score: 72.0 on minibatch of size 25 with parameters ['Predictor 0: Instruction 2', 'Predictor 0: Few-Shot Set 11'].\n",
      "2025/03/13 13:08:17 INFO dspy.teleprompt.mipro_optimizer_v2: Minibatch scores so far: [84.0, 84.0, 84.0, 88.0, 100.0, 76.0, 76.0, 84.0, 96.0, 80.0, 84.0, 88.0, 88.0, 88.0, 80.0, 88.0, 96.0, 72.0, 80.0, 84.0, 88.0, 92.0, 88.0, 72.0]\n",
      "2025/03/13 13:08:17 INFO dspy.teleprompt.mipro_optimizer_v2: Full eval scores so far: [68.57, 84.64, 84.64]\n",
      "2025/03/13 13:08:17 INFO dspy.teleprompt.mipro_optimizer_v2: Best full score so far: 84.64\n",
      "2025/03/13 13:08:17 INFO dspy.teleprompt.mipro_optimizer_v2: ==========================================\n",
      "\n",
      "\n",
      "2025/03/13 13:08:17 INFO dspy.teleprompt.mipro_optimizer_v2: ===== Trial 28 / 28 - Full Evaluation =====\n",
      "2025/03/13 13:08:17 INFO dspy.teleprompt.mipro_optimizer_v2: Doing full eval on next top averaging program (Avg Score: 92.0) from minibatch trials...\n"
     ]
    },
    {
     "name": "stdout",
     "output_type": "stream",
     "text": [
      "\n",
      "Average Metric: 226.00 / 279 (81.0%): 100%|█████████▉| 279/280 [01:52<00:09,  9.84s/it]"
     ]
    },
    {
     "name": "stderr",
     "output_type": "stream",
     "text": [
      "2025/03/13 13:10:11 ERROR dspy.utils.parallelizer: Error for Example({'question': 'If $x$, $y$, and $z$ are positive integers such that $6xyz+30xy+21xz+2yz+105x+10y+7z=812$, find $x+y+z$.', 'reasoning': \"Usually when we apply Simon's Favorite Factoring Trick, we have two variables. Maybe we can find an adaptation for three variables. We notice that four of the terms on the left hand side have a factor of $z$ in them, so we can factor it out as: $$z(6xy+21x+2y+7)+30xy+105x+10y=812.$$This looks promising! Add $35$ to each side and continue factoring: \\\\begin{align*}\\nz(6xy+21x+2y+7)+30xy+105x+10y+35&=812+35 \\\\quad \\\\Rightarrow \\\\\\\\\\nz(6xy+21x+2y+7)+5(6xy+21x+2y+7)&=812+35 \\\\quad \\\\Rightarrow \\\\\\\\\\n(z+5)(6xy+21x+2y+7)&=847.\\n\\\\end{align*}Now we can proceed with the two-variable version of Simon's Favorite Factoring Trick on the remaining four-term factor: \\\\begin{align*}\\n(z+5)(3x(2y+7)+2y+7)&=847 \\\\quad \\\\Rightarrow \\\\\\\\\\n(z+5)(3x+1)(2y+7)&=847.\\n\\\\end{align*}The prime factorization of $847$ is $7\\\\cdot 11^2$. We must find $3$ numbers which multiply to $847$ and assign them to $z+5$, $3x+1$, and $2y+7$. We know none of the factors can be negative, since then we would have a negative solution for $x$, $y$ or $z$, which must be positive numbers. Similarly, no factor can be $1$ because that would give either $z=-4$, $x=0$, or $y=-3$, none of which is allowable. There are only $3$ non-one factors which multiply to $847$, so in some order our three factors must be $7$, $11$, and $11$.\\n\\nWe examine the $3x+1$ term. If this factor is equal to $11$, then $x=\\\\frac{10}{3}$, which is not an integer. So $3x+1=7$ and $x=2$. The remaining factors must equal $11$. Setting $2y+7=11$ gives $y=2$, and setting $z+5=11$ gives $z=6$. Thus $x+y+z=2+2+6=\\\\boxed{10}$.\", 'answer': '10'}) (input_keys={'question'}): Expected dict_keys(['reasoning', 'answer']) but got dict_keys(['reasoning']). Set `provide_traceback=True` for traceback.\n"
     ]
    },
    {
     "name": "stdout",
     "output_type": "stream",
     "text": [
      "Average Metric: 226.00 / 279 (81.0%): 100%|██████████| 280/280 [01:54<00:00,  2.44it/s]"
     ]
    },
    {
     "name": "stderr",
     "output_type": "stream",
     "text": [
      "2025/03/13 13:10:11 INFO dspy.evaluate.evaluate: Average Metric: 226.0 / 280 (80.7%)\n",
      "2025/03/13 13:10:11 INFO dspy.teleprompt.mipro_optimizer_v2: Full eval scores so far: [68.57, 84.64, 84.64, 80.71]\n",
      "2025/03/13 13:10:11 INFO dspy.teleprompt.mipro_optimizer_v2: Best full score so far: 84.64\n",
      "2025/03/13 13:10:11 INFO dspy.teleprompt.mipro_optimizer_v2: =======================\n",
      "2025/03/13 13:10:11 INFO dspy.teleprompt.mipro_optimizer_v2: \n",
      "\n",
      "2025/03/13 13:10:11 INFO dspy.teleprompt.mipro_optimizer_v2: Returning best identified program with score 84.64!\n"
     ]
    },
    {
     "name": "stdout",
     "output_type": "stream",
     "text": [
      "\n"
     ]
    }
   ],
   "source": [
    "kwargs = dict(num_threads=THREADS, teacher_settings=dict(lm=gpt4o), prompt_model=gpt4o_mini)\n",
    "optimizer = dspy.MIPROv2(metric=dataset.metric, auto=\"medium\", **kwargs)\n",
    "\n",
    "kwargs = dict(requires_permission_to_run=False, max_bootstrapped_demos=4, max_labeled_demos=4)\n",
    "optimized_module = optimizer.compile(module, trainset=dataset.train, **kwargs)"
   ]
  },
  {
   "cell_type": "code",
   "execution_count": 13,
   "metadata": {},
   "outputs": [
    {
     "name": "stdout",
     "output_type": "stream",
     "text": [
      "\n",
      "\n",
      "\n",
      "\n",
      "\u001b[34m[2025-03-13T13:10:11.771663]\u001b[0m\n",
      "\n",
      "\u001b[31mSystem message:\u001b[0m\n",
      "\n",
      "Your input fields are:\n",
      "1. `question` (str)\n",
      "\n",
      "Your output fields are:\n",
      "1. `reasoning` (str)\n",
      "2. `answer` (str)\n",
      "\n",
      "All interactions will be structured in the following way, with the appropriate values filled in.\n",
      "\n",
      "Inputs will have the following structure:\n",
      "\n",
      "[[ ## question ## ]]\n",
      "{question}\n",
      "\n",
      "Outputs will be a JSON object with the following fields.\n",
      "\n",
      "{\n",
      "  \"reasoning\": \"{reasoning}\",\n",
      "  \"answer\": \"{answer}\"\n",
      "}\n",
      "\n",
      "In adhering to this structure, your objective is: \n",
      "        Given the mathematical `question`, provide a detailed `reasoning` process step-by-step, followed by the final `answer` to the problem.\n",
      "\n",
      "\n",
      "\u001b[31mUser message:\u001b[0m\n",
      "\n",
      "[[ ## question ## ]]\n",
      "The sum of 27 consecutive positive integers is $3^7$. What is their median?\n",
      "\n",
      "Respond with a JSON object in the following order of fields: `reasoning`, then `answer`.\n",
      "\n",
      "\n",
      "\u001b[31mAssistant message:\u001b[0m\n",
      "\n",
      "{\n",
      "  \"reasoning\": \"Let the 27 consecutive integers be $x, x+1, x+2, \\\\ldots, x+26$. The sum of these integers is given by the formula for the sum of an arithmetic sequence: \\\\[ \\\\text{Sum} = \\\\frac{\\\\text{Number of terms}}{2} \\\\times (\\\\text{First term} + \\\\text{Last term}) = \\\\frac{27}{2} \\\\times (x + (x+26)) = \\\\frac{27}{2} \\\\times (2x + 26). \\\\]\\n\\nWe know this sum is equal to $3^7$. Therefore, we have: \\\\[ \\\\frac{27}{2} \\\\times (2x + 26) = 3^7. \\\\]\\n\\nSimplifying, we get: \\\\[ 27(x + 13) = 3^7. \\\\]\\n\\nSince $27 = 3^3$, we can rewrite the equation as: \\\\[ 3^3(x + 13) = 3^7. \\\\]\\n\\nDividing both sides by $3^3$, we find: \\\\[ x + 13 = 3^4. \\\\]\\n\\nCalculating $3^4$, we have $3^4 = 81$. Thus, \\\\[ x + 13 = 81. \\\\]\\n\\nSolving for $x$, we get: \\\\[ x = 81 - 13 = 68. \\\\]\\n\\nThe median of 27 consecutive integers is the 14th term (since 27 is odd), which is $x + 13$. We already found $x + 13 = 81$. Therefore, the median is $\\\\boxed{81}$.\",\n",
      "  \"answer\": \"81\"\n",
      "}\n",
      "\n",
      "\n",
      "\u001b[31mUser message:\u001b[0m\n",
      "\n",
      "[[ ## question ## ]]\n",
      "The quadratic equation $ax^2+32x+c=0$ has exactly one solution. If $a+c=130$, and $a>c$, find the ordered pair $(a,c)$.\n",
      "\n",
      "Respond with a JSON object in the following order of fields: `reasoning`, then `answer`.\n",
      "\n",
      "\n",
      "\u001b[31mAssistant message:\u001b[0m\n",
      "\n",
      "{\n",
      "  \"reasoning\": \"A quadratic equation has exactly one solution when its discriminant is zero. The discriminant of the quadratic equation $ax^2 + 32x + c = 0$ is given by $\\\\Delta = b^2 - 4ac$, where $b = 32$. For the equation to have exactly one solution, we need $\\\\Delta = 0$.\\n\\nThus, we have:\\n\\\\[ 32^2 - 4ac = 0 \\\\]\\n\\\\[ 1024 = 4ac \\\\]\\n\\\\[ ac = 256 \\\\]\\n\\nWe are also given that $a + c = 130$. We now have the system of equations:\\n1. $ac = 256$\\n2. $a + c = 130$\\n\\nWe can solve this system by expressing $c$ in terms of $a$ from the second equation: $c = 130 - a$. Substituting this into the first equation gives:\\n\\\\[ a(130 - a) = 256 \\\\]\\n\\\\[ 130a - a^2 = 256 \\\\]\\n\\\\[ a^2 - 130a + 256 = 0 \\\\]\\n\\nThis is a quadratic equation in $a$. We can solve it using the quadratic formula $a = \\\\frac{-b \\\\pm \\\\sqrt{b^2 - 4ac}}{2a}$, where $b = -130$, $a = 1$, and $c = 256$:\\n\\\\[ a = \\\\frac{130 \\\\pm \\\\sqrt{130^2 - 4 \\\\cdot 1 \\\\cdot 256}}{2} \\\\]\\n\\\\[ a = \\\\frac{130 \\\\pm \\\\sqrt{16900 - 1024}}{2} \\\\]\\n\\\\[ a = \\\\frac{130 \\\\pm \\\\sqrt{15876}}{2} \\\\]\\n\\nCalculating the square root:\\n\\\\[ \\\\sqrt{15876} = 126 \\\\]\\n\\nThus:\\n\\\\[ a = \\\\frac{130 \\\\pm 126}{2} \\\\]\\n\\nThis gives two possible solutions for $a$:\\n1. $a = \\\\frac{130 + 126}{2} = 128$\\n2. $a = \\\\frac{130 - 126}{2} = 2$\\n\\nSince $a > c$, we choose $a = 128$. Substituting back to find $c$:\\n\\\\[ c = 130 - 128 = 2 \\\\]\\n\\nThus, the ordered pair $(a, c)$ is $(128, 2)$.\",\n",
      "  \"answer\": \"(128, 2)\"\n",
      "}\n",
      "\n",
      "\n",
      "\u001b[31mUser message:\u001b[0m\n",
      "\n",
      "[[ ## question ## ]]\n",
      "Because of redistricting, Liberty Middle School's enrollment increased to 598 students. This is an increase of $4\\%$ over last year's enrollment. What was last year's enrollment?\n",
      "\n",
      "Respond with a JSON object in the following order of fields: `reasoning`, then `answer`.\n",
      "\n",
      "\n",
      "\u001b[31mAssistant message:\u001b[0m\n",
      "\n",
      "{\n",
      "  \"reasoning\": \"Let $x$ be last year's enrollment. The enrollment increased by $4\\\\%$, so this year's enrollment is $x + 0.04x = 1.04x$. We know that this year's enrollment is 598 students, so we have the equation:\\n\\n\\\\[ 1.04x = 598 \\\\]\\n\\nTo find $x$, we divide both sides of the equation by 1.04:\\n\\n\\\\[ x = \\\\frac{598}{1.04} \\\\]\\n\\nCalculating this gives:\\n\\n\\\\[ x = 575 \\\\]\\n\\nTherefore, last year's enrollment was 575 students.\",\n",
      "  \"answer\": \"575\"\n",
      "}\n",
      "\n",
      "\n",
      "\u001b[31mUser message:\u001b[0m\n",
      "\n",
      "[[ ## question ## ]]\n",
      "The quadratic $x^2-4x-14=3x+16$ has two solutions.  What is the positive difference between these solutions?\n",
      "\n",
      "Respond with a JSON object in the following order of fields: `reasoning`, then `answer`.\n",
      "\n",
      "\n",
      "\u001b[31mAssistant message:\u001b[0m\n",
      "\n",
      "{\n",
      "  \"reasoning\": \"First we bring $3x$ to the left side to get  \\\\[x^2-7x-14=16.\\\\]Moving the 14 to the right side gives \\\\[x^2-7x=30.\\\\]We notice that the left side is almost the square $\\\\left(x-\\\\frac72\\\\right)^2=x^2-7x+\\\\frac{49}4$. Adding $\\\\frac{49}4$ to both sides lets us complete the square on the left-hand side, \\\\[x^2-7x+\\\\frac{49}4=30+\\\\frac{49}4=\\\\frac{169}4,\\\\]so  \\\\[\\\\left(x-\\\\frac72\\\\right)^2=\\\\left(\\\\frac{13}2\\\\right)^2.\\\\]Therefore $x=\\\\frac72\\\\pm\\\\frac{13}2$.  The positive difference between these solutions is  \\\\[\\\\frac{7+13}2-\\\\frac{7-13}2=\\\\frac{26}2=\\\\boxed{13}.\\\\]\",\n",
      "  \"answer\": \"13\"\n",
      "}\n",
      "\n",
      "\n",
      "\u001b[31mUser message:\u001b[0m\n",
      "\n",
      "[[ ## question ## ]]\n",
      "If $x$, $y$, and $z$ are positive integers such that $6xyz+30xy+21xz+2yz+105x+10y+7z=812$, find $x+y+z$.\n",
      "\n",
      "Respond with a JSON object in the following order of fields: `reasoning`, then `answer`.\n",
      "\n",
      "\n",
      "\u001b[31mResponse:\u001b[0m\n",
      "\n",
      "\u001b[32m{\"reasoning\":\"We start with the equation given:\\n\\\\[ 6xyz + 30xy + 21xz + 2yz + 105x + 10y + 7z = 812. \\\\]\\n\\nTo simplify this, we can try to factor or group the terms. Notice that the coefficients suggest a possible factorization. Let's rewrite the equation:\\n\\\\[ 6xyz + 30xy + 21xz + 2yz + 105x + 10y + 7z - 812 = 0. \\\\]\\n\\nWe can group the terms based on the variables:\\n\\\\[ 6xyz + (30xy + 21xz + 2yz) + (105x + 10y + 7z) = 812. \\\\]\\n\\nNext, we can try to find integer values for $x$, $y$, and $z$. Let's test small positive integer values for $x$, $y$, and $z$ to see if we can find a solution.\\n\\nStarting with $x = 1$:\\n\\\\[ 6(1)yz + 30(1)y + 21(1)z + 2yz + 105(1) + 10y + 7z = 812. \\\\]\\n\\\\[ 6yz + 30y + 21z + 2yz + 105 + 10y + 7z = 812. \\\\]\\n\\\\[ (6yz + 2yz) + (30y + 10y) + (21z + 7z) + 105 = 812. \\\\]\\n\\\\[ 8yz + 40y + 28z + 105 = 812. \\\\]\\n\\\\[ 8yz + 40y + 28z = 707. \\\\]\\n\\nNow, let's simplify this equation:\\n\\\\[ 8yz + 40y + 28z = 707. \\\\]\\n\\\\[ 4yz + 20y + 14z = 353. \\\\]\\n\\nNext, we can try different values for $y$ and $z$. Let's try $y = 1$:\\n\\\\[ 4(1)z + 20(1) + 14z = 353. \\\\]\\n\\\\[ 4z + 20 + 14z = 353. \\\\]\\n\\\\[ 18z + 20 = 353. \\\\]\\n\\\\[ 18z = 333. \\\\]\\n\\\\[ z = 18.5 \\\\] (not an integer)\\n\\nNext, let's try $y = 2$:\\n\\\\[ 4(2)z + 20(2) + 14z = 353. \\\\]\\n\\\\[ 8z + 40 + 14z = 353. \\\\]\\n\\\\[ 22z + 40 = 353. \\\\]\\n\\\\[ 22z = 313. \\\\]\\n\\\\[ z = 14.227 \\\\] (not an integer)\\n\\nNext, let's try $y = 3$:\\n\\\\[ 4(3)z + 20(3) + 14z = 353. \\\\]\\n\\\\[ 12z + 60 + 14z = 353. \\\\]\\n\\\\[ 26z + 60 = 353. \\\\]\\n\\\\[ 26z = 293. \\\\]\\n\\\\[ z = 11.269 \\\\] (not an integer)\\n\\nNext, let's try $y = 4$:\\n\\\\[ 4(4)z + 20(4) + 14z = 353. \\\\]\\n\\\\[ 16z + 80 + 14z = 353. \\\\]\\n\\\\[ 30z + 80 = 353. \\\\]\\n\\\\[ 30z = 273. \\\\]\\n\\\\[ z = 9.1 \\\\] (not an integer)\\n\\nNext, let's try $y = 5$:\\n\\\\[ 4(5)z + 20(5) + 14z = 353. \\\\]\\n\\\\[ 20z + 100 + 14z = 353. \\\\]\\n\\\\[ 34z + 100 = 353. \\\\]\\n\\\\[ 34z = 253. \\\\]\\n\\\\[ z = 7.441 \\\\] (not an integer)\\n\\nNext, let's try $y = 6$:\\n\\\\[ 4(6)z + 20(6) + 14z = 353. \\\\]\\n\\\\[ 24z + 120 + 14z = 353. \\\\]\\n\\\\[ 38z + 120 = 353. \\\\]\\n\\\\[ 38z = 233. \\\\]\\n\\\\[ z = 6.132 \\\\] (not an integer)\\n\\nNext, let's try $y = 7$:\\n\\\\[ 4(7)z + 20(7) + 14z = 353. \\\\]\\n\\\\[ 28z + 140 + 14z = 353. \\\\]\\n\\\\[ 42z + 140 = 353. \\\\]\\n\\\\[ 42z = 213. \\\\]\\n\\\\[ z = 5.071 \\\\] (not an integer)\\n\\nNext, let's try $y = 8$:\\n\\\\[ 4(8)z + 20(8) + 14z = 353. \\\\]\\n\\\\[ 32z + 160 + 14z = 353. \\\\]\\n\\\\[ 46z + 160 = 353. \\\\]\\n\\\\[ 46z = 193. \\\\]\\n\\\\[ z = 4.195 \\\\] (not an integer)\\n\\nNext, let's try $y = 9$:\\n\\\\[ 4(9)z + 20(9) + 14z = 353. \\\\]\\n\\\\[ 36z + 180 + 14z = 353. \\\\]\\n\\\\[ 50z + 180 = 353. \\\\]\\n\\\\[ 50z = 173. \\\\]\\n\\\\[ z = 3.46 \\\\] (not an integer)\\n\\nNext, let's try $y = 10$:\\n\\\\[ 4(10)z + 20(10) + 14z = 353. \\\\]\\n\\\\[ 40z + 200 + 14z = 353. \\\\]\\n\\\\[ 54z + 200 = 353. \\\\]\\n\\\\[ 54z = 153. \\\\]\\n\\\\[ z = 2.833 \\\\] (not an integer)\\n\\nNext, let's try $y = 11$:\\n\\\\[ 4(11)z + 20(11) + 14z = 353. \\\\]\\n\\\\[ 44z + 220 + 14z = 353. \\\\]\\n\\\\[ 58z + 220 = 353. \\\\]\\n\\\\[ 58z = 133. \\\\]\\n\\\\[ z = 2.293 \\\\] (not an integer)\\n\\nNext, let's try $y = 12$:\\n\\\\[ 4(12)z + 20(12) + 14z = 353. \\\\]\\n\\\\[ 48z + 240 + 14z = 353. \\\\]\\n\\\\[ 62z + 240 = 353. \\\\]\\n\\\\[ 62z = 113. \\\\]\\n\\\\[ z = 1.822 \\\\] (not an integer)\\n\\nNext, let's try $y = 13$:\\n\\\\[ 4(13)z + 20(13) + 14z = 353. \\\\]\\n\\\\[ 52z + 260 + 14z = 353. \\\\]\\n\\\\[ 66z + 260 = 353. \\\\]\\n\\\\[ 66z = 93. \\\\]\\n\\\\[ z = 1.409 \\\\] (not an integer)\\n\\nNext, let's try $y = 14$:\\n\\\\[ 4(14)z + 20(14) + 14z = 353. \\\\]\\n\\\\[ 56z + 280 + 14z = 353. \\\\]\\n\\\\[ 70z + 280 = 353. \\\\]\\n\\\\[ 70z = 73. \\\\]\\n\\\\[ z = 1.043 \\\\] (not an integer)\\n\\nNext, let's try $y = 15$:\\n\\\\[ 4(15)z + 20(15) + 14z = 353. \\\\]\\n\\\\[ 60z + 300 + 14z = 353. \\\\]\\n\\\\[ 74z + 300 = 353. \\\\]\\n\\\\[ 74z = 53. \\\\]\\n\\\\[ z = 0.716 \\\\] (not an integer)\\n\\nNext, let's try $y = 16$:\\n\\\\[ 4(16)z + 20(16) + 14z = 353. \\\\]\\n\\\\[ 64z + 320 + 14\u001b[0m\n",
      "\n",
      "\n",
      "\n",
      "\n",
      "\n"
     ]
    }
   ],
   "source": [
    "dspy.inspect_history()"
   ]
  }
 ],
 "metadata": {
  "kernelspec": {
   "display_name": "Python 3",
   "language": "python",
   "name": "python3"
  },
  "language_info": {
   "codemirror_mode": {
    "name": "ipython",
    "version": 3
   },
   "file_extension": ".py",
   "mimetype": "text/x-python",
   "name": "python",
   "nbconvert_exporter": "python",
   "pygments_lexer": "ipython3",
   "version": "3.10.16"
  }
 },
 "nbformat": 4,
 "nbformat_minor": 2
}
