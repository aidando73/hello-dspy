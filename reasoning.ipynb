{
 "cells": [
  {
   "cell_type": "code",
   "execution_count": 8,
   "metadata": {},
   "outputs": [
    {
     "data": {
      "text/plain": [
       "<Experiment: artifact_location='mlflow-artifacts:/374362034103955121', creation_time=1741686562632, experiment_id='374362034103955121', last_update_time=1741686562632, lifecycle_stage='active', name='DSPy', tags={}>"
      ]
     },
     "execution_count": 8,
     "metadata": {},
     "output_type": "execute_result"
    }
   ],
   "source": [
    "import mlflow\n",
    "\n",
    "mlflow.set_tracking_uri(\"http://localhost:5000\")\n",
    "mlflow.set_experiment(\"DSPy\")"
   ]
  },
  {
   "cell_type": "code",
   "execution_count": 9,
   "metadata": {},
   "outputs": [],
   "source": [
    "mlflow.dspy.autolog()"
   ]
  },
  {
   "cell_type": "code",
   "execution_count": 1,
   "metadata": {},
   "outputs": [
    {
     "name": "stderr",
     "output_type": "stream",
     "text": [
      "/Users/aidand/dev/hello-dspy/env/lib/python3.10/site-packages/tqdm/auto.py:21: TqdmWarning: IProgress not found. Please update jupyter and ipywidgets. See https://ipywidgets.readthedocs.io/en/stable/user_install.html\n",
      "  from .autonotebook import tqdm as notebook_tqdm\n"
     ]
    }
   ],
   "source": [
    "import dspy\n",
    "\n",
    "gpt4o_mini = dspy.LM('openai/gpt-4o-mini', max_tokens=2000)\n",
    "gpt4o = dspy.LM('openai/gpt-4o', max_tokens=2000)\n",
    "dspy.configure(lm=gpt4o_mini)  # we'll use gpt-4o-mini as the default LM, unless otherwise specified"
   ]
  },
  {
   "cell_type": "code",
   "execution_count": 2,
   "metadata": {},
   "outputs": [
    {
     "name": "stderr",
     "output_type": "stream",
     "text": [
      "Downloading readme: 100%|██████████| 8.41k/8.41k [00:00<00:00, 39.2kB/s]\n",
      "Downloading data: 100%|██████████| 505k/505k [00:00<00:00, 647kB/s]\n",
      "Downloading data: 100%|██████████| 353k/353k [00:00<00:00, 547kB/s]\n",
      "Generating train split: 100%|██████████| 1744/1744 [00:00<00:00, 243107.65 examples/s]\n",
      "Generating test split: 100%|██████████| 1187/1187 [00:00<00:00, 414024.02 examples/s]"
     ]
    },
    {
     "name": "stdout",
     "output_type": "stream",
     "text": [
      "350 350\n"
     ]
    },
    {
     "name": "stderr",
     "output_type": "stream",
     "text": [
      "\n"
     ]
    }
   ],
   "source": [
    "from dspy.datasets import MATH\n",
    "\n",
    "dataset = MATH(subset='algebra')\n",
    "print(len(dataset.train), len(dataset.dev))"
   ]
  },
  {
   "cell_type": "code",
   "execution_count": 3,
   "metadata": {},
   "outputs": [
    {
     "name": "stdout",
     "output_type": "stream",
     "text": [
      "Question: The doctor has told Cal O'Ree that during his ten weeks of working out at the gym, he can expect each week's weight loss to be $1\\%$ of his weight at the end of the previous week. His weight at the beginning of the workouts is $244$ pounds. How many pounds does he expect to weigh at the end of the ten weeks? Express your answer to the nearest whole number.\n",
      "Answer: 221\n"
     ]
    }
   ],
   "source": [
    "example = dataset.train[0]\n",
    "print(\"Question:\", example.question)\n",
    "print(\"Answer:\", example.answer)"
   ]
  },
  {
   "cell_type": "code",
   "execution_count": 10,
   "metadata": {},
   "outputs": [
    {
     "data": {
      "text/plain": [
       "Prediction(\n",
       "    reasoning=\"Cal O'Ree's weight loss each week is $1\\\\%$ of his weight at the end of the previous week. This means that at the end of each week, he will weigh $99\\\\%$ of his weight from the previous week. \\n\\nWe can express this mathematically. If his initial weight is $W_0 = 244$ pounds, then his weight at the end of week $n$ can be calculated using the formula:\\n\\n\\\\[\\nW_n = W_{n-1} \\\\times 0.99\\n\\\\]\\n\\nThis can be simplified to:\\n\\n\\\\[\\nW_n = W_0 \\\\times (0.99)^n\\n\\\\]\\n\\nFor $n = 10$ weeks, we have:\\n\\n\\\\[\\nW_{10} = 244 \\\\times (0.99)^{10}\\n\\\\]\\n\\nNow we calculate $(0.99)^{10}$:\\n\\n\\\\[\\n(0.99)^{10} \\\\approx 0.904382\\n\\\\]\\n\\nNow we can calculate Cal O'Ree's weight after 10 weeks:\\n\\n\\\\[\\nW_{10} \\\\approx 244 \\\\times 0.904382 \\\\approx 220.5\\n\\\\]\\n\\nRounding to the nearest whole number, Cal O'Ree can expect to weigh approximately $221$ pounds at the end of the ten weeks.\",\n",
       "    answer='221'\n",
       ")"
      ]
     },
     "execution_count": 10,
     "metadata": {},
     "output_type": "execute_result"
    },
    {
     "data": {
      "text/html": [
       "\n",
       "<div>\n",
       "  <style scoped>\n",
       "  button {\n",
       "    border: none;\n",
       "    border-radius: 4px;\n",
       "    background-color: rgb(34, 114, 180);\n",
       "    font-family: -apple-system, \"system-ui\", \"Segoe UI\", Roboto, \"Helvetica Neue\", Arial;\n",
       "    font-size: 13px;\n",
       "    color: white;\n",
       "    margin-top: 8px;\n",
       "    margin-bottom: 8px;\n",
       "    padding: 8px 16px;\n",
       "    cursor: pointer;\n",
       "  }\n",
       "  button:hover {\n",
       "    background-color: rgb(66, 153, 224);\n",
       "  }\n",
       "  </style>\n",
       "  <button\n",
       "    onclick=\"\n",
       "        const display = this.nextElementSibling.style.display;\n",
       "        const isCollapsed = display === 'none';\n",
       "        this.nextElementSibling.style.display = isCollapsed ? null : 'none';\n",
       "\n",
       "        const verb = isCollapsed ? 'Collapse' : 'Expand';\n",
       "        this.innerText = `${verb} MLflow Trace`;\n",
       "    \"\n",
       "  >Collapse MLflow Trace</button>\n",
       "  <iframe\n",
       "    id=\"trace-renderer\"\n",
       "    style=\"width: 100%; height: 500px; border: none; resize: vertical;\"\n",
       "    src=\"http://localhost:5000/static-files/lib/notebook-trace-renderer/index.html?trace_id=fe47f1f8059e4ee7888525bf0322b6a2&amp;experiment_id=374362034103955121&amp;version=2.20.3\"\n",
       "  />\n",
       "</div>\n"
      ],
      "text/plain": [
       "Trace(request_id=fe47f1f8059e4ee7888525bf0322b6a2)"
      ]
     },
     "metadata": {},
     "output_type": "display_data"
    }
   ],
   "source": [
    "module = dspy.ChainOfThought(\"question -> answer\")\n",
    "module(question=example.question)"
   ]
  },
  {
   "cell_type": "code",
   "execution_count": 7,
   "metadata": {},
   "outputs": [
    {
     "name": "stdout",
     "output_type": "stream",
     "text": [
      "\n",
      "\n",
      "\n",
      "\n",
      "\u001b[34m[2025-03-13T12:44:05.583790]\u001b[0m\n",
      "\n",
      "\u001b[31mSystem message:\u001b[0m\n",
      "\n",
      "Your input fields are:\n",
      "1. `question` (str)\n",
      "\n",
      "Your output fields are:\n",
      "1. `reasoning` (str)\n",
      "2. `answer` (str)\n",
      "\n",
      "All interactions will be structured in the following way, with the appropriate values filled in.\n",
      "\n",
      "[[ ## question ## ]]\n",
      "{question}\n",
      "\n",
      "[[ ## reasoning ## ]]\n",
      "{reasoning}\n",
      "\n",
      "[[ ## answer ## ]]\n",
      "{answer}\n",
      "\n",
      "[[ ## completed ## ]]\n",
      "\n",
      "In adhering to this structure, your objective is: \n",
      "        Given the fields `question`, produce the fields `answer`.\n",
      "\n",
      "\n",
      "\u001b[31mUser message:\u001b[0m\n",
      "\n",
      "[[ ## question ## ]]\n",
      "The doctor has told Cal O'Ree that during his ten weeks of working out at the gym, he can expect each week's weight loss to be $1\\%$ of his weight at the end of the previous week. His weight at the beginning of the workouts is $244$ pounds. How many pounds does he expect to weigh at the end of the ten weeks? Express your answer to the nearest whole number.\n",
      "\n",
      "Respond with the corresponding output fields, starting with the field `[[ ## reasoning ## ]]`, then `[[ ## answer ## ]]`, and then ending with the marker for `[[ ## completed ## ]]`.\n",
      "\n",
      "\n",
      "\u001b[31mResponse:\u001b[0m\n",
      "\n",
      "\u001b[32m[[ ## reasoning ## ]]\n",
      "Cal O'Ree's weight loss each week is $1\\%$ of his weight at the end of the previous week. This means that at the end of each week, he will weigh $99\\%$ of his weight from the previous week. \n",
      "\n",
      "We can express this mathematically. If his initial weight is $W_0 = 244$ pounds, then his weight at the end of week $n$ can be calculated using the formula:\n",
      "\n",
      "\\[\n",
      "W_n = W_{n-1} \\times 0.99\n",
      "\\]\n",
      "\n",
      "This can be simplified to:\n",
      "\n",
      "\\[\n",
      "W_n = W_0 \\times (0.99)^n\n",
      "\\]\n",
      "\n",
      "For $n = 10$ weeks, we have:\n",
      "\n",
      "\\[\n",
      "W_{10} = 244 \\times (0.99)^{10}\n",
      "\\]\n",
      "\n",
      "Now we calculate $(0.99)^{10}$:\n",
      "\n",
      "\\[\n",
      "(0.99)^{10} \\approx 0.904382\n",
      "\\]\n",
      "\n",
      "Now we can calculate Cal O'Ree's weight after 10 weeks:\n",
      "\n",
      "\\[\n",
      "W_{10} \\approx 244 \\times 0.904382 \\approx 220.5\n",
      "\\]\n",
      "\n",
      "Rounding to the nearest whole number, Cal O'Ree can expect to weigh approximately $221$ pounds at the end of the ten weeks.\n",
      "\n",
      "[[ ## answer ## ]]\n",
      "221\n",
      "\n",
      "[[ ## completed ## ]]\u001b[0m\n",
      "\n",
      "\n",
      "\n",
      "\n",
      "\n"
     ]
    }
   ],
   "source": [
    "dspy.inspect_history(n=1)"
   ]
  },
  {
   "cell_type": "code",
   "execution_count": 11,
   "metadata": {},
   "outputs": [
    {
     "name": "stdout",
     "output_type": "stream",
     "text": [
      "  0%|          | 0/350 [00:00<?, ?it/s]"
     ]
    },
    {
     "name": "stdout",
     "output_type": "stream",
     "text": [
      "Average Metric: 261.00 / 350 (74.6%): 100%|██████████| 350/350 [02:12<00:00,  2.64it/s]"
     ]
    },
    {
     "name": "stderr",
     "output_type": "stream",
     "text": [
      "2025/03/13 12:47:12 INFO dspy.evaluate.evaluate: Average Metric: 261 / 350 (74.6%)\n"
     ]
    },
    {
     "name": "stdout",
     "output_type": "stream",
     "text": [
      "\n"
     ]
    },
    {
     "data": {
      "text/html": [
       "<div>\n",
       "<style scoped>\n",
       "    .dataframe tbody tr th:only-of-type {\n",
       "        vertical-align: middle;\n",
       "    }\n",
       "\n",
       "    .dataframe tbody tr th {\n",
       "        vertical-align: top;\n",
       "    }\n",
       "\n",
       "    .dataframe thead th {\n",
       "        text-align: right;\n",
       "    }\n",
       "</style>\n",
       "<table border=\"1\" class=\"dataframe\">\n",
       "  <thead>\n",
       "    <tr style=\"text-align: right;\">\n",
       "      <th></th>\n",
       "      <th>question</th>\n",
       "      <th>example_reasoning</th>\n",
       "      <th>example_answer</th>\n",
       "      <th>pred_reasoning</th>\n",
       "      <th>pred_answer</th>\n",
       "      <th>method</th>\n",
       "    </tr>\n",
       "  </thead>\n",
       "  <tbody>\n",
       "    <tr>\n",
       "      <th>0</th>\n",
       "      <td>What is the smallest integer value of $c$ such that the function $...</td>\n",
       "      <td>The given function has a domain of all real numbers if and only if...</td>\n",
       "      <td>1</td>\n",
       "      <td>To determine the smallest integer value of \\( c \\) such that the f...</td>\n",
       "      <td>1</td>\n",
       "      <td>✔️ [True]</td>\n",
       "    </tr>\n",
       "    <tr>\n",
       "      <th>1</th>\n",
       "      <td>What is the least value of $x$ that is a solution of $|{-x+3}|=7$?</td>\n",
       "      <td>In order to have $|{-x+3}| = 7$, we must have $-x + 3 = 7$ or $-x ...</td>\n",
       "      <td>-4</td>\n",
       "      <td>To solve the equation \\( |{-x+3}|=7 \\), we need to consider the de...</td>\n",
       "      <td>-4</td>\n",
       "      <td>✔️ [True]</td>\n",
       "    </tr>\n",
       "    <tr>\n",
       "      <th>2</th>\n",
       "      <td>Evaluate $\\left\\lceil -\\frac{7}{4}\\right\\rceil$.</td>\n",
       "      <td>$-\\frac{7}{4}$ is between $-1$ and $-2$, so $\\left\\lceil -\\frac{7}...</td>\n",
       "      <td>-1</td>\n",
       "      <td>To evaluate \\(\\left\\lceil -\\frac{7}{4}\\right\\rceil\\), we first nee...</td>\n",
       "      <td>-1</td>\n",
       "      <td>✔️ [True]</td>\n",
       "    </tr>\n",
       "    <tr>\n",
       "      <th>3</th>\n",
       "      <td>A triangle has vertices at coordinates $(11,1)$, $(2,3)$ and $(3,7...</td>\n",
       "      <td>We must find the distance between each pair of points by using the...</td>\n",
       "      <td>10</td>\n",
       "      <td>To find the length of the longest side of the triangle with vertic...</td>\n",
       "      <td>10</td>\n",
       "      <td>✔️ [True]</td>\n",
       "    </tr>\n",
       "    <tr>\n",
       "      <th>4</th>\n",
       "      <td>Let $f(x) = x + 2$ and $g(x) = 1/f(x)$. What is $g(f(-3))$?</td>\n",
       "      <td>First, we find that $f(-3) = (-3) + 2 = -1$. Then, $$g(f(-3)) = g(...</td>\n",
       "      <td>1</td>\n",
       "      <td>To find \\( g(f(-3)) \\), we first need to evaluate \\( f(-3) \\). The...</td>\n",
       "      <td>1</td>\n",
       "      <td>✔️ [True]</td>\n",
       "    </tr>\n",
       "  </tbody>\n",
       "</table>\n",
       "</div>"
      ],
      "text/plain": [
       "                                                                question  \\\n",
       "0  What is the smallest integer value of $c$ such that the function $...   \n",
       "1     What is the least value of $x$ that is a solution of $|{-x+3}|=7$?   \n",
       "2                       Evaluate $\\left\\lceil -\\frac{7}{4}\\right\\rceil$.   \n",
       "3  A triangle has vertices at coordinates $(11,1)$, $(2,3)$ and $(3,7...   \n",
       "4            Let $f(x) = x + 2$ and $g(x) = 1/f(x)$. What is $g(f(-3))$?   \n",
       "\n",
       "                                                       example_reasoning  \\\n",
       "0  The given function has a domain of all real numbers if and only if...   \n",
       "1  In order to have $|{-x+3}| = 7$, we must have $-x + 3 = 7$ or $-x ...   \n",
       "2  $-\\frac{7}{4}$ is between $-1$ and $-2$, so $\\left\\lceil -\\frac{7}...   \n",
       "3  We must find the distance between each pair of points by using the...   \n",
       "4  First, we find that $f(-3) = (-3) + 2 = -1$. Then, $$g(f(-3)) = g(...   \n",
       "\n",
       "  example_answer  \\\n",
       "0              1   \n",
       "1             -4   \n",
       "2             -1   \n",
       "3             10   \n",
       "4              1   \n",
       "\n",
       "                                                          pred_reasoning  \\\n",
       "0  To determine the smallest integer value of \\( c \\) such that the f...   \n",
       "1  To solve the equation \\( |{-x+3}|=7 \\), we need to consider the de...   \n",
       "2  To evaluate \\(\\left\\lceil -\\frac{7}{4}\\right\\rceil\\), we first nee...   \n",
       "3  To find the length of the longest side of the triangle with vertic...   \n",
       "4  To find \\( g(f(-3)) \\), we first need to evaluate \\( f(-3) \\). The...   \n",
       "\n",
       "  pred_answer     method  \n",
       "0           1  ✔️ [True]  \n",
       "1          -4  ✔️ [True]  \n",
       "2          -1  ✔️ [True]  \n",
       "3          10  ✔️ [True]  \n",
       "4           1  ✔️ [True]  "
      ]
     },
     "metadata": {},
     "output_type": "display_data"
    },
    {
     "data": {
      "text/html": [
       "\n",
       "                <div style='\n",
       "                    text-align: center;\n",
       "                    font-size: 16px;\n",
       "                    font-weight: bold;\n",
       "                    color: #555;\n",
       "                    margin: 10px 0;'>\n",
       "                    ... 345 more rows not displayed ...\n",
       "                </div>\n",
       "                "
      ],
      "text/plain": [
       "<IPython.core.display.HTML object>"
      ]
     },
     "metadata": {},
     "output_type": "display_data"
    },
    {
     "data": {
      "text/plain": [
       "74.57"
      ]
     },
     "execution_count": 11,
     "metadata": {},
     "output_type": "execute_result"
    },
    {
     "data": {
      "text/html": [
       "\n",
       "<div>\n",
       "  <style scoped>\n",
       "  button {\n",
       "    border: none;\n",
       "    border-radius: 4px;\n",
       "    background-color: rgb(34, 114, 180);\n",
       "    font-family: -apple-system, \"system-ui\", \"Segoe UI\", Roboto, \"Helvetica Neue\", Arial;\n",
       "    font-size: 13px;\n",
       "    color: white;\n",
       "    margin-top: 8px;\n",
       "    margin-bottom: 8px;\n",
       "    padding: 8px 16px;\n",
       "    cursor: pointer;\n",
       "  }\n",
       "  button:hover {\n",
       "    background-color: rgb(66, 153, 224);\n",
       "  }\n",
       "  </style>\n",
       "  <button\n",
       "    onclick=\"\n",
       "        const display = this.nextElementSibling.style.display;\n",
       "        const isCollapsed = display === 'none';\n",
       "        this.nextElementSibling.style.display = isCollapsed ? null : 'none';\n",
       "\n",
       "        const verb = isCollapsed ? 'Collapse' : 'Expand';\n",
       "        this.innerText = `${verb} MLflow Trace`;\n",
       "    \"\n",
       "  >Collapse MLflow Trace</button>\n",
       "  <iframe\n",
       "    id=\"trace-renderer\"\n",
       "    style=\"width: 100%; height: 500px; border: none; resize: vertical;\"\n",
       "    src=\"http://localhost:5000/static-files/lib/notebook-trace-renderer/index.html?trace_id=280fe9fba2124f67a5144faaee55ca90&amp;experiment_id=374362034103955121&amp;trace_id=ed5ca26a028841a984314a79aaec3da6&amp;experiment_id=374362034103955121&amp;trace_id=ce9fc3f4520449ebad29a4aa85df76ae&amp;experiment_id=374362034103955121&amp;trace_id=0f55e531d255460ba9c6b27f5fae16be&amp;experiment_id=374362034103955121&amp;trace_id=7d2e458993174dca969782d086d75a69&amp;experiment_id=374362034103955121&amp;trace_id=9acdc44b72b644a398756af3860660c8&amp;experiment_id=374362034103955121&amp;trace_id=460e9381c47d4de9b796cc6dc2d781e3&amp;experiment_id=374362034103955121&amp;trace_id=423cdf11401540b886ebdebf59dc1b55&amp;experiment_id=374362034103955121&amp;trace_id=94b9795590cb42ebbc02ac3b9b27c97d&amp;experiment_id=374362034103955121&amp;trace_id=83aab480f2f142c3ba5e4a00a0df5386&amp;experiment_id=374362034103955121&amp;version=2.20.3\"\n",
       "  />\n",
       "</div>\n"
      ],
      "text/plain": [
       "[Trace(request_id=280fe9fba2124f67a5144faaee55ca90), Trace(request_id=ed5ca26a028841a984314a79aaec3da6), Trace(request_id=ce9fc3f4520449ebad29a4aa85df76ae), Trace(request_id=0f55e531d255460ba9c6b27f5fae16be), Trace(request_id=7d2e458993174dca969782d086d75a69), Trace(request_id=9acdc44b72b644a398756af3860660c8), Trace(request_id=460e9381c47d4de9b796cc6dc2d781e3), Trace(request_id=423cdf11401540b886ebdebf59dc1b55), Trace(request_id=94b9795590cb42ebbc02ac3b9b27c97d), Trace(request_id=83aab480f2f142c3ba5e4a00a0df5386)]"
      ]
     },
     "metadata": {},
     "output_type": "display_data"
    }
   ],
   "source": [
    "THREADS = 24\n",
    "kwargs = dict(num_threads=THREADS, display_progress=True, display_table=5)\n",
    "evaluate = dspy.Evaluate(devset=dataset.dev, metric=dataset.metric, **kwargs)\n",
    "\n",
    "evaluate(module)"
   ]
  },
  {
   "cell_type": "code",
   "execution_count": null,
   "metadata": {},
   "outputs": [
    {
     "name": "stderr",
     "output_type": "stream",
     "text": [
      "2025/03/13 12:49:28 INFO dspy.teleprompt.mipro_optimizer_v2: \n",
      "RUNNING WITH THE FOLLOWING MEDIUM AUTO RUN SETTINGS:\n",
      "num_trials: 25\n",
      "minibatch: True\n",
      "num_candidates: 19\n",
      "valset size: 280\n",
      "\n",
      "2025/03/13 12:49:28 INFO dspy.teleprompt.mipro_optimizer_v2: \n",
      "==> STEP 1: BOOTSTRAP FEWSHOT EXAMPLES <==\n",
      "2025/03/13 12:49:28 INFO dspy.teleprompt.mipro_optimizer_v2: These will be used as few-shot example candidates for our program and for creating instructions.\n",
      "\n",
      "2025/03/13 12:49:28 INFO dspy.teleprompt.mipro_optimizer_v2: Bootstrapping N=19 sets of demonstrations...\n"
     ]
    },
    {
     "name": "stdout",
     "output_type": "stream",
     "text": [
      "Bootstrapping set 1/19\n",
      "Bootstrapping set 2/19\n",
      "Bootstrapping set 3/19\n"
     ]
    },
    {
     "name": "stderr",
     "output_type": "stream",
     "text": [
      "  0%|          | 0/70 [00:00<?, ?it/s]"
     ]
    }
   ],
   "source": [
    "kwargs = dict(num_threads=THREADS, teacher_settings=dict(lm=gpt4o), prompt_model=gpt4o_mini)\n",
    "optimizer = dspy.MIPROv2(metric=dataset.metric, auto=\"medium\", **kwargs)\n",
    "\n",
    "kwargs = dict(requires_permission_to_run=False, max_bootstrapped_demos=4, max_labeled_demos=4)\n",
    "optimized_module = optimizer.compile(module, trainset=dataset.train, **kwargs)"
   ]
  }
 ],
 "metadata": {
  "kernelspec": {
   "display_name": "Python 3",
   "language": "python",
   "name": "python3"
  },
  "language_info": {
   "codemirror_mode": {
    "name": "ipython",
    "version": 3
   },
   "file_extension": ".py",
   "mimetype": "text/x-python",
   "name": "python",
   "nbconvert_exporter": "python",
   "pygments_lexer": "ipython3",
   "version": "3.10.16"
  }
 },
 "nbformat": 4,
 "nbformat_minor": 2
}
